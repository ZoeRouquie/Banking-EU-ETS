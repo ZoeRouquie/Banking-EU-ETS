{
 "cells": [
  {
   "cell_type": "code",
   "execution_count": 3,
   "metadata": {},
   "outputs": [],
   "source": [
    "import pandas as pd\n",
    "from pyeutl.orm import Transaction,DataAccessLayer,Installation,Account,AccountHolder,AccountType\n",
    "from sqlalchemy import select,func\n",
    "\n",
    "connectionSettings = dict(\n",
    "    user=\"postgres\", \n",
    "    host=\"localhost\", \n",
    "    db=\"eutl2024\", \n",
    "    passw=\"password\",\n",
    "    port=5432\n",
    ")\n",
    "\n",
    "dal = DataAccessLayer(**connectionSettings)\n",
    "session = dal.session\n",
    "session.rollback()  \n",
    "\n"
   ]
  },
  {
   "cell_type": "code",
   "execution_count": 12,
   "metadata": {},
   "outputs": [
    {
     "data": {
      "text/plain": [
       "[('ROHRDORFER ZEMENT GmbH',),\n",
       " ('Cogeneration-Kraftwerke Management Oberösterreich GmbH',),\n",
       " ('GA Immobilien GmbH',),\n",
       " ('Breitenfeld Edelstahl AG',),\n",
       " ('Borealis Polyolefine GmbH',),\n",
       " ('AMAG Service GmbH',),\n",
       " ('Calmit GmbH',),\n",
       " ('LAT Nitrogen Linz GmbH',),\n",
       " ('AGRANA Zucker GmbH',),\n",
       " ('AGRANA Stärke GmbH',)]"
      ]
     },
     "execution_count": 12,
     "metadata": {},
     "output_type": "execute_result"
    }
   ],
   "source": [
    "session.execute(select(AccountHolder.name).limit(10)).fetchall()"
   ]
  },
  {
   "cell_type": "code",
   "execution_count": 23,
   "metadata": {},
   "outputs": [
    {
     "name": "stdout",
     "output_type": "stream",
     "text": [
      "   account_id               Account Type Nace Code\n",
      "0       90705  Aircraft Operator Account      51.0\n",
      "1       90730  Aircraft Operator Account      51.0\n",
      "2       90423  Aircraft Operator Account      51.0\n",
      "3       90728  Aircraft Operator Account      51.0\n",
      "4       90727  Aircraft Operator Account      51.0\n"
     ]
    }
   ],
   "source": [
    "#Etape 1: Je récupère les comptes:\n",
    "\n",
    "from collections import defaultdict\n",
    "\n",
    "# Liste pour collecter toutes les lignes de données\n",
    "accounts = []\n",
    "\n",
    "stmt = select(Installation.id, Installation.nace_id)\n",
    "installation_ids_by_nace = session.execute(stmt).fetchall()\n",
    "\n",
    "installations_dict = defaultdict(list)\n",
    "\n",
    "for installation_id, nace_id in installation_ids_by_nace:\n",
    "    installations_dict[nace_id].append(installation_id)\n",
    "    \n",
    "for nace_id, installation_ids in installations_dict.items():\n",
    "    # Comptes liés aux installations avec le type de compte via une jointure\n",
    "    stmt = select(\n",
    "        Account.accountHolder_id ,\n",
    "        AccountType.description.label('account_type'),\n",
    "        Installation.nace_id\n",
    "    ).select_from(\n",
    "        Account\n",
    "    ).join(\n",
    "        AccountType, Account.accountType_id == AccountType.id\n",
    "    ).join(\n",
    "        Installation, Account.installation_id == Installation.id\n",
    "    ).where(\n",
    "        Installation.id.in_(installation_ids)  # Filtre les comptes par installation_id\n",
    "    )\n",
    "    account_info = session.execute(stmt).fetchall()\n",
    "  \n",
    "    for holder, type,code in account_info:\n",
    "        accounts.append({\n",
    "            \"account_id\":holder,\n",
    "            \"Account Type\": type,\n",
    "            \"Nace Code\": code\n",
    "        \n",
    "     })\n",
    "# Créer le DataFrame à partir de la liste de données\n",
    "accounts = pd.DataFrame(accounts)\n",
    "\n",
    "# # Afficher les premières lignes du DataFrame pour vérifier\n",
    "print(accounts.head())\n"
   ]
  },
  {
   "cell_type": "code",
   "execution_count": 29,
   "metadata": {},
   "outputs": [],
   "source": [
    "#Institutions \n",
    "institution_names = [\n",
    "    \"UK Auction Trust Account - DECC\",\n",
    "    \"ECC AG Handel\",\n",
    "    \"ECC AG Handel Backup\",\n",
    "    \"ECC Luxemburg Sarl Primärhandel\"\n",
    "]\n",
    "\n",
    "# Requête pour récupérer les account_id correspondants\n",
    "stmt = select(Account.id).where(Account.name.in_(institution_names))\n",
    "institution_accounts_ids = session.scalars(stmt).all()"
   ]
  },
  {
   "cell_type": "code",
   "execution_count": 33,
   "metadata": {},
   "outputs": [
    {
     "ename": "TypeError",
     "evalue": "merge() got multiple values for argument 'on'",
     "output_type": "error",
     "traceback": [
      "\u001b[1;31m---------------------------------------------------------------------------\u001b[0m",
      "\u001b[1;31mTypeError\u001b[0m                                 Traceback (most recent call last)",
      "Cell \u001b[1;32mIn[33], line 54\u001b[0m\n\u001b[0;32m     48\u001b[0m df_auctions \u001b[38;5;241m=\u001b[39m pd\u001b[38;5;241m.\u001b[39mread_sql(stmt_auctions, session\u001b[38;5;241m.\u001b[39mbind)\n\u001b[0;32m     53\u001b[0m \u001b[38;5;66;03m# Fusion des DataFrames pour chaque compte par mois\u001b[39;00m\n\u001b[1;32m---> 54\u001b[0m df_merged \u001b[38;5;241m=\u001b[39m \u001b[43mpd\u001b[49m\u001b[38;5;241;43m.\u001b[39;49m\u001b[43mmerge\u001b[49m\u001b[43m(\u001b[49m\u001b[43mdf_acquired\u001b[49m\u001b[43m,\u001b[49m\u001b[43m \u001b[49m\u001b[43mdf_transferred\u001b[49m\u001b[43m,\u001b[49m\u001b[43mdf_auctions\u001b[49m\u001b[43m,\u001b[49m\u001b[43mdf_emissions\u001b[49m\u001b[43m,\u001b[49m\u001b[43m \u001b[49m\u001b[43mon\u001b[49m\u001b[38;5;241;43m=\u001b[39;49m\u001b[38;5;124;43m'\u001b[39;49m\u001b[38;5;124;43mmonth\u001b[39;49m\u001b[38;5;124;43m'\u001b[39;49m\u001b[43m,\u001b[49m\u001b[43m \u001b[49m\u001b[43mhow\u001b[49m\u001b[38;5;241;43m=\u001b[39;49m\u001b[38;5;124;43m'\u001b[39;49m\u001b[38;5;124;43mouter\u001b[39;49m\u001b[38;5;124;43m'\u001b[39;49m\u001b[43m)\u001b[49m\n\u001b[0;32m     55\u001b[0m \u001b[38;5;66;03m# Répéter la fusion pour les autres DataFrames comme df_auctions, df_compliances, etc., en utilisant pd.merge\u001b[39;00m\n\u001b[0;32m     56\u001b[0m \n\u001b[0;32m     57\u001b[0m \u001b[38;5;66;03m# Ajouter une colonne pour l'account_id\u001b[39;00m\n\u001b[0;32m     58\u001b[0m df_merged[\u001b[38;5;124m'\u001b[39m\u001b[38;5;124maccount_id\u001b[39m\u001b[38;5;124m'\u001b[39m] \u001b[38;5;241m=\u001b[39m account_id\n",
      "\u001b[1;31mTypeError\u001b[0m: merge() got multiple values for argument 'on'"
     ]
    }
   ],
   "source": [
    "#Etape 2: Je récupère les transactions\n",
    "final_df = pd.DataFrame()\n",
    "\n",
    "for account_id in accounts['account_id']:\n",
    "    # Requête pour les montants acquis\n",
    "    stmt_acquired = select(\n",
    "        func.to_char(Transaction.date, 'YYYY-MM').label('month'),\n",
    "        func.sum(Transaction.amount).label('acquired_amount')\n",
    "    ).where(\n",
    "        Transaction.acquiringAccount_id == account_id\n",
    "    ).group_by(\n",
    "        func.to_char(Transaction.date, 'YYYY-MM')\n",
    "    )\n",
    "    df_acquired = pd.read_sql(stmt_acquired, session.bind)\n",
    "\n",
    "    # Requête pour les montants transférés\n",
    "    stmt_transferred = select(\n",
    "        func.to_char(Transaction.date, 'YYYY-MM').label('month'),\n",
    "        func.sum(Transaction.amount).label('transferred_amount')\n",
    "    ).where(\n",
    "        Transaction.transferringAccount_id == account_id\n",
    "    ).group_by(\n",
    "        func.to_char(Transaction.date, 'YYYY-MM')\n",
    "    )\n",
    "    df_transferred = pd.read_sql(stmt_transferred, session.bind)\n",
    "    \n",
    "    \n",
    "    stmt_emissions= select(\n",
    "        func.to_char(Transaction.date, 'YYYY-MM').label('month'),\n",
    "        func.sum(Transaction.amount).label('emissions_amount')\n",
    "    ).where(\n",
    "        (Transaction.transferringAccount_id == account_id)&\n",
    "        (Transaction.acquiringAccount_id.in_(institution_accounts_ids))\n",
    "    ).group_by(\n",
    "        func.to_char(Transaction.date, 'YYYY-MM')\n",
    "    )\n",
    "    df_emissions = pd.read_sql(stmt_emissions, session.bind)\n",
    "    \n",
    "    stmt_auctions= select(\n",
    "        func.to_char(Transaction.date, 'YYYY-MM').label('month'),\n",
    "        func.sum(Transaction.amount).label('auctions_amount')\n",
    "    ).where(\n",
    "        (Transaction.transferringAccount_id.in_(institution_accounts_ids) )&\n",
    "        (Transaction.acquiringAccount_id == account_id)\n",
    "    ).group_by(\n",
    "        func.to_char(Transaction.date, 'YYYY-MM')\n",
    "    )\n",
    "    df_auctions = pd.read_sql(stmt_auctions, session.bind)\n",
    "\n",
    "\n",
    "    \n",
    "\n",
    "    # Fusion des DataFrames pour chaque compte par mois\n",
    "    df_merged = pd.merge(df_acquired, df_transferred,df_auctions,df_emissions, on='month', how='outer')\n",
    "    # Répéter la fusion pour les autres DataFrames comme df_auctions, df_compliances, etc., en utilisant pd.merge\n",
    "\n",
    "    # Ajouter une colonne pour l'account_id\n",
    "    df_merged['account_id'] = account_id\n",
    "\n",
    "    # Concaténer avec le DataFrame final\n",
    "    final_df = pd.concat([final_df, df_merged], ignore_index=True)\n",
    "\n",
    "# Ajuster les index et trier les données si nécessaire\n",
    "final_df.sort_values(by=['account_id', 'month'], inplace=True)\n",
    "final_df.reset_index(drop=True, inplace=True)\n",
    "\n",
    "# Afficher ou sauvegarder les résultats\n",
    "print(final_df)\n",
    "\n",
    "# Fermer la session\n",
    "session.close()"
   ]
  },
  {
   "cell_type": "markdown",
   "metadata": {},
   "source": [
    "variables dont j'ai besoin:\n",
    "AccountType.description\n",
    "Installation.nace_id"
   ]
  },
  {
   "cell_type": "code",
   "execution_count": 27,
   "metadata": {},
   "outputs": [
    {
     "ename": "KeyError",
     "evalue": "'account_id'",
     "output_type": "error",
     "traceback": [
      "\u001b[1;31m---------------------------------------------------------------------------\u001b[0m",
      "\u001b[1;31mKeyError\u001b[0m                                  Traceback (most recent call last)",
      "\u001b[1;32m~\\AppData\\Local\\Temp\\ipykernel_24304\\2410146710.py\u001b[0m in \u001b[0;36m?\u001b[1;34m()\u001b[0m\n\u001b[1;32m----> 1\u001b[1;33m \u001b[0mdf\u001b[0m \u001b[1;33m=\u001b[0m \u001b[0mpd\u001b[0m\u001b[1;33m.\u001b[0m\u001b[0mmerge\u001b[0m\u001b[1;33m(\u001b[0m\u001b[0mfinal_df\u001b[0m\u001b[1;33m,\u001b[0m \u001b[0maccounts\u001b[0m\u001b[1;33m,\u001b[0m \u001b[0mon\u001b[0m\u001b[1;33m=\u001b[0m\u001b[1;34m'account_id'\u001b[0m\u001b[1;33m,\u001b[0m \u001b[0mhow\u001b[0m\u001b[1;33m=\u001b[0m\u001b[1;34m'outer'\u001b[0m\u001b[1;33m)\u001b[0m\u001b[1;33m\u001b[0m\u001b[1;33m\u001b[0m\u001b[0m\n\u001b[0m",
      "\u001b[1;32mc:\\Users\\zoero\\OneDrive\\Bureau\\M2\\S1\\projet tutoré\\code projet tuteuré\\Banking-EU-ETS\\.venv\\Lib\\site-packages\\pandas\\core\\reshape\\merge.py\u001b[0m in \u001b[0;36m?\u001b[1;34m(left, right, how, on, left_on, right_on, left_index, right_index, sort, suffixes, copy, indicator, validate)\u001b[0m\n\u001b[0;32m    166\u001b[0m             \u001b[0mvalidate\u001b[0m\u001b[1;33m=\u001b[0m\u001b[0mvalidate\u001b[0m\u001b[1;33m,\u001b[0m\u001b[1;33m\u001b[0m\u001b[1;33m\u001b[0m\u001b[0m\n\u001b[0;32m    167\u001b[0m             \u001b[0mcopy\u001b[0m\u001b[1;33m=\u001b[0m\u001b[0mcopy\u001b[0m\u001b[1;33m,\u001b[0m\u001b[1;33m\u001b[0m\u001b[1;33m\u001b[0m\u001b[0m\n\u001b[0;32m    168\u001b[0m         )\n\u001b[0;32m    169\u001b[0m     \u001b[1;32melse\u001b[0m\u001b[1;33m:\u001b[0m\u001b[1;33m\u001b[0m\u001b[1;33m\u001b[0m\u001b[0m\n\u001b[1;32m--> 170\u001b[1;33m         op = _MergeOperation(\n\u001b[0m\u001b[0;32m    171\u001b[0m             \u001b[0mleft_df\u001b[0m\u001b[1;33m,\u001b[0m\u001b[1;33m\u001b[0m\u001b[1;33m\u001b[0m\u001b[0m\n\u001b[0;32m    172\u001b[0m             \u001b[0mright_df\u001b[0m\u001b[1;33m,\u001b[0m\u001b[1;33m\u001b[0m\u001b[1;33m\u001b[0m\u001b[0m\n\u001b[0;32m    173\u001b[0m             \u001b[0mhow\u001b[0m\u001b[1;33m=\u001b[0m\u001b[0mhow\u001b[0m\u001b[1;33m,\u001b[0m\u001b[1;33m\u001b[0m\u001b[1;33m\u001b[0m\u001b[0m\n",
      "\u001b[1;32mc:\\Users\\zoero\\OneDrive\\Bureau\\M2\\S1\\projet tutoré\\code projet tuteuré\\Banking-EU-ETS\\.venv\\Lib\\site-packages\\pandas\\core\\reshape\\merge.py\u001b[0m in \u001b[0;36m?\u001b[1;34m(self, left, right, how, on, left_on, right_on, left_index, right_index, sort, suffixes, indicator, validate)\u001b[0m\n\u001b[0;32m    790\u001b[0m             \u001b[0mself\u001b[0m\u001b[1;33m.\u001b[0m\u001b[0mright_join_keys\u001b[0m\u001b[1;33m,\u001b[0m\u001b[1;33m\u001b[0m\u001b[1;33m\u001b[0m\u001b[0m\n\u001b[0;32m    791\u001b[0m             \u001b[0mself\u001b[0m\u001b[1;33m.\u001b[0m\u001b[0mjoin_names\u001b[0m\u001b[1;33m,\u001b[0m\u001b[1;33m\u001b[0m\u001b[1;33m\u001b[0m\u001b[0m\n\u001b[0;32m    792\u001b[0m             \u001b[0mleft_drop\u001b[0m\u001b[1;33m,\u001b[0m\u001b[1;33m\u001b[0m\u001b[1;33m\u001b[0m\u001b[0m\n\u001b[0;32m    793\u001b[0m             \u001b[0mright_drop\u001b[0m\u001b[1;33m,\u001b[0m\u001b[1;33m\u001b[0m\u001b[1;33m\u001b[0m\u001b[0m\n\u001b[1;32m--> 794\u001b[1;33m         ) = self._get_merge_keys()\n\u001b[0m\u001b[0;32m    795\u001b[0m \u001b[1;33m\u001b[0m\u001b[0m\n\u001b[0;32m    796\u001b[0m         \u001b[1;32mif\u001b[0m \u001b[0mleft_drop\u001b[0m\u001b[1;33m:\u001b[0m\u001b[1;33m\u001b[0m\u001b[1;33m\u001b[0m\u001b[0m\n\u001b[0;32m    797\u001b[0m             \u001b[0mself\u001b[0m\u001b[1;33m.\u001b[0m\u001b[0mleft\u001b[0m \u001b[1;33m=\u001b[0m \u001b[0mself\u001b[0m\u001b[1;33m.\u001b[0m\u001b[0mleft\u001b[0m\u001b[1;33m.\u001b[0m\u001b[0m_drop_labels_or_levels\u001b[0m\u001b[1;33m(\u001b[0m\u001b[0mleft_drop\u001b[0m\u001b[1;33m)\u001b[0m\u001b[1;33m\u001b[0m\u001b[1;33m\u001b[0m\u001b[0m\n",
      "\u001b[1;32mc:\\Users\\zoero\\OneDrive\\Bureau\\M2\\S1\\projet tutoré\\code projet tuteuré\\Banking-EU-ETS\\.venv\\Lib\\site-packages\\pandas\\core\\reshape\\merge.py\u001b[0m in \u001b[0;36m?\u001b[1;34m(self)\u001b[0m\n\u001b[0;32m   1306\u001b[0m                     \u001b[1;32mif\u001b[0m \u001b[0mlk\u001b[0m \u001b[1;32mis\u001b[0m \u001b[1;32mnot\u001b[0m \u001b[1;32mNone\u001b[0m\u001b[1;33m:\u001b[0m\u001b[1;33m\u001b[0m\u001b[1;33m\u001b[0m\u001b[0m\n\u001b[0;32m   1307\u001b[0m                         \u001b[1;31m# Then we're either Hashable or a wrong-length arraylike,\u001b[0m\u001b[1;33m\u001b[0m\u001b[1;33m\u001b[0m\u001b[0m\n\u001b[0;32m   1308\u001b[0m                         \u001b[1;31m#  the latter of which will raise\u001b[0m\u001b[1;33m\u001b[0m\u001b[1;33m\u001b[0m\u001b[0m\n\u001b[0;32m   1309\u001b[0m                         \u001b[0mlk\u001b[0m \u001b[1;33m=\u001b[0m \u001b[0mcast\u001b[0m\u001b[1;33m(\u001b[0m\u001b[0mHashable\u001b[0m\u001b[1;33m,\u001b[0m \u001b[0mlk\u001b[0m\u001b[1;33m)\u001b[0m\u001b[1;33m\u001b[0m\u001b[1;33m\u001b[0m\u001b[0m\n\u001b[1;32m-> 1310\u001b[1;33m                         \u001b[0mleft_keys\u001b[0m\u001b[1;33m.\u001b[0m\u001b[0mappend\u001b[0m\u001b[1;33m(\u001b[0m\u001b[0mleft\u001b[0m\u001b[1;33m.\u001b[0m\u001b[0m_get_label_or_level_values\u001b[0m\u001b[1;33m(\u001b[0m\u001b[0mlk\u001b[0m\u001b[1;33m)\u001b[0m\u001b[1;33m)\u001b[0m\u001b[1;33m\u001b[0m\u001b[1;33m\u001b[0m\u001b[0m\n\u001b[0m\u001b[0;32m   1311\u001b[0m                         \u001b[0mjoin_names\u001b[0m\u001b[1;33m.\u001b[0m\u001b[0mappend\u001b[0m\u001b[1;33m(\u001b[0m\u001b[0mlk\u001b[0m\u001b[1;33m)\u001b[0m\u001b[1;33m\u001b[0m\u001b[1;33m\u001b[0m\u001b[0m\n\u001b[0;32m   1312\u001b[0m                     \u001b[1;32melse\u001b[0m\u001b[1;33m:\u001b[0m\u001b[1;33m\u001b[0m\u001b[1;33m\u001b[0m\u001b[0m\n\u001b[0;32m   1313\u001b[0m                         \u001b[1;31m# work-around for merge_asof(left_index=True)\u001b[0m\u001b[1;33m\u001b[0m\u001b[1;33m\u001b[0m\u001b[0m\n",
      "\u001b[1;32mc:\\Users\\zoero\\OneDrive\\Bureau\\M2\\S1\\projet tutoré\\code projet tuteuré\\Banking-EU-ETS\\.venv\\Lib\\site-packages\\pandas\\core\\generic.py\u001b[0m in \u001b[0;36m?\u001b[1;34m(self, key, axis)\u001b[0m\n\u001b[0;32m   1907\u001b[0m             \u001b[0mvalues\u001b[0m \u001b[1;33m=\u001b[0m \u001b[0mself\u001b[0m\u001b[1;33m.\u001b[0m\u001b[0mxs\u001b[0m\u001b[1;33m(\u001b[0m\u001b[0mkey\u001b[0m\u001b[1;33m,\u001b[0m \u001b[0maxis\u001b[0m\u001b[1;33m=\u001b[0m\u001b[0mother_axes\u001b[0m\u001b[1;33m[\u001b[0m\u001b[1;36m0\u001b[0m\u001b[1;33m]\u001b[0m\u001b[1;33m)\u001b[0m\u001b[1;33m.\u001b[0m\u001b[0m_values\u001b[0m\u001b[1;33m\u001b[0m\u001b[1;33m\u001b[0m\u001b[0m\n\u001b[0;32m   1908\u001b[0m         \u001b[1;32melif\u001b[0m \u001b[0mself\u001b[0m\u001b[1;33m.\u001b[0m\u001b[0m_is_level_reference\u001b[0m\u001b[1;33m(\u001b[0m\u001b[0mkey\u001b[0m\u001b[1;33m,\u001b[0m \u001b[0maxis\u001b[0m\u001b[1;33m=\u001b[0m\u001b[0maxis\u001b[0m\u001b[1;33m)\u001b[0m\u001b[1;33m:\u001b[0m\u001b[1;33m\u001b[0m\u001b[1;33m\u001b[0m\u001b[0m\n\u001b[0;32m   1909\u001b[0m             \u001b[0mvalues\u001b[0m \u001b[1;33m=\u001b[0m \u001b[0mself\u001b[0m\u001b[1;33m.\u001b[0m\u001b[0maxes\u001b[0m\u001b[1;33m[\u001b[0m\u001b[0maxis\u001b[0m\u001b[1;33m]\u001b[0m\u001b[1;33m.\u001b[0m\u001b[0mget_level_values\u001b[0m\u001b[1;33m(\u001b[0m\u001b[0mkey\u001b[0m\u001b[1;33m)\u001b[0m\u001b[1;33m.\u001b[0m\u001b[0m_values\u001b[0m\u001b[1;33m\u001b[0m\u001b[1;33m\u001b[0m\u001b[0m\n\u001b[0;32m   1910\u001b[0m         \u001b[1;32melse\u001b[0m\u001b[1;33m:\u001b[0m\u001b[1;33m\u001b[0m\u001b[1;33m\u001b[0m\u001b[0m\n\u001b[1;32m-> 1911\u001b[1;33m             \u001b[1;32mraise\u001b[0m \u001b[0mKeyError\u001b[0m\u001b[1;33m(\u001b[0m\u001b[0mkey\u001b[0m\u001b[1;33m)\u001b[0m\u001b[1;33m\u001b[0m\u001b[1;33m\u001b[0m\u001b[0m\n\u001b[0m\u001b[0;32m   1912\u001b[0m \u001b[1;33m\u001b[0m\u001b[0m\n\u001b[0;32m   1913\u001b[0m         \u001b[1;31m# Check for duplicates\u001b[0m\u001b[1;33m\u001b[0m\u001b[1;33m\u001b[0m\u001b[0m\n\u001b[0;32m   1914\u001b[0m         \u001b[1;32mif\u001b[0m \u001b[0mvalues\u001b[0m\u001b[1;33m.\u001b[0m\u001b[0mndim\u001b[0m \u001b[1;33m>\u001b[0m \u001b[1;36m1\u001b[0m\u001b[1;33m:\u001b[0m\u001b[1;33m\u001b[0m\u001b[1;33m\u001b[0m\u001b[0m\n",
      "\u001b[1;31mKeyError\u001b[0m: 'account_id'"
     ]
    }
   ],
   "source": [
    "df = pd.merge(final_df, accounts, on='account_id', how='outer')\n"
   ]
  },
  {
   "cell_type": "code",
   "execution_count": 25,
   "metadata": {},
   "outputs": [
    {
     "data": {
      "text/html": [
       "<div>\n",
       "<style scoped>\n",
       "    .dataframe tbody tr th:only-of-type {\n",
       "        vertical-align: middle;\n",
       "    }\n",
       "\n",
       "    .dataframe tbody tr th {\n",
       "        vertical-align: top;\n",
       "    }\n",
       "\n",
       "    .dataframe thead th {\n",
       "        text-align: right;\n",
       "    }\n",
       "</style>\n",
       "<table border=\"1\" class=\"dataframe\">\n",
       "  <thead>\n",
       "    <tr style=\"text-align: right;\">\n",
       "      <th></th>\n",
       "      <th>month</th>\n",
       "      <th>acquired_amount</th>\n",
       "      <th>transferred_amount</th>\n",
       "      <th>account_id</th>\n",
       "      <th>Account Type</th>\n",
       "      <th>Nace Code</th>\n",
       "    </tr>\n",
       "  </thead>\n",
       "  <tbody>\n",
       "    <tr>\n",
       "      <th>0</th>\n",
       "      <td>2005-02</td>\n",
       "      <td>3058.0</td>\n",
       "      <td>NaN</td>\n",
       "      <td>500</td>\n",
       "      <td>Former Operator Holding Account</td>\n",
       "      <td>35.30</td>\n",
       "    </tr>\n",
       "    <tr>\n",
       "      <th>1</th>\n",
       "      <td>2005-02</td>\n",
       "      <td>3058.0</td>\n",
       "      <td>NaN</td>\n",
       "      <td>500</td>\n",
       "      <td>Former Operator Holding Account</td>\n",
       "      <td>35.30</td>\n",
       "    </tr>\n",
       "    <tr>\n",
       "      <th>2</th>\n",
       "      <td>2005-02</td>\n",
       "      <td>3058.0</td>\n",
       "      <td>NaN</td>\n",
       "      <td>500</td>\n",
       "      <td>Former Operator Holding Account</td>\n",
       "      <td>35.30</td>\n",
       "    </tr>\n",
       "    <tr>\n",
       "      <th>3</th>\n",
       "      <td>2005-02</td>\n",
       "      <td>3058.0</td>\n",
       "      <td>NaN</td>\n",
       "      <td>500</td>\n",
       "      <td>Former Operator Holding Account</td>\n",
       "      <td>35.30</td>\n",
       "    </tr>\n",
       "    <tr>\n",
       "      <th>4</th>\n",
       "      <td>2006-02</td>\n",
       "      <td>2294.0</td>\n",
       "      <td>NaN</td>\n",
       "      <td>500</td>\n",
       "      <td>Former Operator Holding Account</td>\n",
       "      <td>35.30</td>\n",
       "    </tr>\n",
       "  </tbody>\n",
       "</table>\n",
       "</div>"
      ],
      "text/plain": [
       "     month  acquired_amount  transferred_amount  account_id  \\\n",
       "0  2005-02           3058.0                 NaN         500   \n",
       "1  2005-02           3058.0                 NaN         500   \n",
       "2  2005-02           3058.0                 NaN         500   \n",
       "3  2005-02           3058.0                 NaN         500   \n",
       "4  2006-02           2294.0                 NaN         500   \n",
       "\n",
       "                      Account Type Nace Code  \n",
       "0  Former Operator Holding Account     35.30  \n",
       "1  Former Operator Holding Account     35.30  \n",
       "2  Former Operator Holding Account     35.30  \n",
       "3  Former Operator Holding Account     35.30  \n",
       "4  Former Operator Holding Account     35.30  "
      ]
     },
     "execution_count": 25,
     "metadata": {},
     "output_type": "execute_result"
    }
   ],
   "source": [
    "df.head()"
   ]
  }
 ],
 "metadata": {
  "kernelspec": {
   "display_name": ".venv",
   "language": "python",
   "name": "python3"
  },
  "language_info": {
   "codemirror_mode": {
    "name": "ipython",
    "version": 3
   },
   "file_extension": ".py",
   "mimetype": "text/x-python",
   "name": "python",
   "nbconvert_exporter": "python",
   "pygments_lexer": "ipython3",
   "version": "3.11.0"
  }
 },
 "nbformat": 4,
 "nbformat_minor": 2
}
