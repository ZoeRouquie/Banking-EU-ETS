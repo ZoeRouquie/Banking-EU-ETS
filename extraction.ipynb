{
 "cells": [
  {
   "cell_type": "code",
   "execution_count": 2,
   "metadata": {},
   "outputs": [],
   "source": [
    "import pandas as pd\n",
    "from pyeutl.orm import Transaction,DataAccessLayer,Installation,Account,AccountHolder,AccountType\n",
    "from sqlalchemy import select,func\n",
    "\n",
    "connectionSettings = dict(\n",
    "    user=\"postgres\", \n",
    "    host=\"localhost\", \n",
    "    db=\"eutl2024\", \n",
    "    passw=\"password\",\n",
    "    port=5432\n",
    ")\n",
    "\n",
    "dal = DataAccessLayer(**connectionSettings)\n",
    "session = dal.session\n",
    "session.rollback()  \n",
    "\n"
   ]
  },
  {
   "cell_type": "markdown",
   "metadata": {},
   "source": [
    "Extraire les transactions de chaque compte"
   ]
  },
  {
   "cell_type": "code",
   "execution_count": 3,
   "metadata": {},
   "outputs": [
    {
     "name": "stdout",
     "output_type": "stream",
     "text": [
      "account_id          0.000000\n",
      "accountHolder_id    0.000092\n",
      "account_type        0.000000\n",
      "dtype: float64\n"
     ]
    }
   ],
   "source": [
    "from pyeutl.orm import AccountType\n",
    "from sqlalchemy.orm import Session, joinedload\n",
    "\n",
    "#Etape 1: Je récupère les comptes et le type des comptes:\n",
    "\n",
    "accounts = []\n",
    "#en utilisant les tables Account et AccountType\n",
    "stmt = select(\n",
    "Account.id.label('account_id') ,\n",
    "Account.accountHolder_id,\n",
    "AccountType.description.label('account_type')).join(\n",
    "    AccountType, Account.accountType_id == AccountType.id\n",
    ")\n",
    "\n",
    "account_info = session.execute(stmt).fetchall()\n",
    "\n",
    "accounts_df = pd.DataFrame(account_info)\n",
    " #je regarde si il y a des NA\n",
    "print(accounts_df.isna().sum()/len(accounts_df))"
   ]
  },
  {
   "cell_type": "code",
   "execution_count": 4,
   "metadata": {},
   "outputs": [
    {
     "name": "stdout",
     "output_type": "stream",
     "text": [
      "account_id         0.000159\n",
      "month              0.000000\n",
      "acquired_amount    0.000000\n",
      "dtype: float64\n"
     ]
    }
   ],
   "source": [
    "\n",
    "#Etape 2: Je récupère les transactions\n",
    "final_df = pd.DataFrame()\n",
    "#les transactions acquired\n",
    "stmt_acquired = select(\n",
    "    Transaction.acquiringAccount_id.label('account_id'),\n",
    "    func.to_char(Transaction.date, 'MM-YYYY').label('month'),\n",
    "    func.sum(Transaction.amount).label('acquired_amount')\n",
    ").group_by(\n",
    "    Transaction.acquiringAccount_id,\n",
    "    func.to_char(Transaction.date, 'MM-YYYY')\n",
    ")\n",
    "df_acquired = pd.read_sql(stmt_acquired, session.bind)\n",
    "\n",
    "#je regarde si il y a des NA\n",
    "print(df_acquired.isna().sum()/len(df_acquired))"
   ]
  },
  {
   "cell_type": "code",
   "execution_count": 5,
   "metadata": {},
   "outputs": [
    {
     "name": "stdout",
     "output_type": "stream",
     "text": [
      "account_id            0.000216\n",
      "month                 0.000000\n",
      "transferred_amount    0.000000\n",
      "dtype: float64\n"
     ]
    }
   ],
   "source": [
    "#les transactions transferred\n",
    "stmt_transferred = select(\n",
    "    Transaction.transferringAccount_id.label('account_id'),\n",
    "    func.to_char(Transaction.date, 'MM-YYYY').label('month'),\n",
    "    func.sum(Transaction.amount).label('transferred_amount')\n",
    ").group_by(\n",
    "    Transaction.transferringAccount_id,\n",
    "    func.to_char(Transaction.date, 'MM-YYYY')\n",
    ")\n",
    "df_transferred = pd.read_sql(stmt_transferred, session.bind)\n",
    "print(df_transferred.isna().sum()/len(df_transferred))"
   ]
  },
  {
   "cell_type": "code",
   "execution_count": 6,
   "metadata": {},
   "outputs": [],
   "source": [
    "#Merger les bases\n",
    "df = pd.merge(df_transferred,df_acquired,on=['account_id', 'month'],how='outer' )\n",
    "df.sort_values(by=['account_id', 'month'], inplace=True)\n",
    "df.reset_index(drop=True, inplace=True)\n",
    "df = pd.merge(df,accounts_df, on='account_id', how='outer')"
   ]
  },
  {
   "cell_type": "markdown",
   "metadata": {},
   "source": [
    "Ajouter le nace code "
   ]
  },
  {
   "cell_type": "code",
   "execution_count": 7,
   "metadata": {},
   "outputs": [],
   "source": [
    "df['month'] = pd.to_datetime(df['month'], format='%m-%Y')\n",
    "\n",
    "# Filtrer les données pour inclure uniquement les entrées à partir de janvier 2008\n",
    "df = df[df['month'] < '2021-01-01']"
   ]
  },
  {
   "cell_type": "code",
   "execution_count": 8,
   "metadata": {},
   "outputs": [
    {
     "data": {
      "text/plain": [
       "account_id    0.00000\n",
       "nace_id       0.05788\n",
       "dtype: float64"
      ]
     },
     "execution_count": 8,
     "metadata": {},
     "output_type": "execute_result"
    }
   ],
   "source": [
    "stmt =select(\n",
    "    Account.id.label('account_id'),\n",
    "    Installation.nace_id\n",
    ").join(Installation, Account.installation_id == Installation.id)\n",
    "nace_code  = session.execute(stmt).fetchall()\n",
    "df_nace  = pd.DataFrame(nace_code)\n",
    "df_nace.isna().sum()/len(df_nace)"
   ]
  },
  {
   "cell_type": "code",
   "execution_count": 9,
   "metadata": {},
   "outputs": [],
   "source": [
    "dnace_subset = df_nace.drop_duplicates()\n",
    "df = pd.merge(df,dnace_subset, on='account_id',how='left')"
   ]
  },
  {
   "cell_type": "code",
   "execution_count": 10,
   "metadata": {},
   "outputs": [
    {
     "data": {
      "text/plain": [
       "account_id            0.000143\n",
       "month                 0.000000\n",
       "transferred_amount    0.389193\n",
       "acquired_amount       0.338270\n",
       "accountHolder_id      0.016536\n",
       "account_type          0.015993\n",
       "nace_id               0.188504\n",
       "dtype: float64"
      ]
     },
     "execution_count": 10,
     "metadata": {},
     "output_type": "execute_result"
    }
   ],
   "source": [
    "df.isna().sum()/len(df)"
   ]
  },
  {
   "cell_type": "code",
   "execution_count": 11,
   "metadata": {},
   "outputs": [
    {
     "data": {
      "text/plain": [
       "504600"
      ]
     },
     "execution_count": 11,
     "metadata": {},
     "output_type": "execute_result"
    }
   ],
   "source": [
    "#avant suppression NA\n",
    "len(df)"
   ]
  },
  {
   "cell_type": "markdown",
   "metadata": {},
   "source": [
    "Supprimer les NA des accountHolder_id, account_type et account_id"
   ]
  },
  {
   "cell_type": "code",
   "execution_count": 12,
   "metadata": {},
   "outputs": [
    {
     "data": {
      "text/plain": [
       "496256"
      ]
     },
     "execution_count": 12,
     "metadata": {},
     "output_type": "execute_result"
    }
   ],
   "source": [
    "df_cleaned = df.dropna(subset=['account_id', 'account_type', 'accountHolder_id'])\n",
    "len(df_cleaned)"
   ]
  },
  {
   "cell_type": "markdown",
   "metadata": {},
   "source": [
    "Définir les types de comptes financiers et régularisés comme dans l'article"
   ]
  },
  {
   "cell_type": "code",
   "execution_count": 13,
   "metadata": {},
   "outputs": [
    {
     "ename": "KeyError",
     "evalue": "'Type'",
     "output_type": "error",
     "traceback": [
      "\u001b[1;31m---------------------------------------------------------------------------\u001b[0m",
      "\u001b[1;31mKeyError\u001b[0m                                  Traceback (most recent call last)",
      "File \u001b[1;32mc:\\Users\\zoero\\AppData\\Local\\Programs\\Python\\Python313\\Lib\\site-packages\\pandas\\core\\indexes\\base.py:3805\u001b[0m, in \u001b[0;36mIndex.get_loc\u001b[1;34m(self, key)\u001b[0m\n\u001b[0;32m   3804\u001b[0m \u001b[38;5;28;01mtry\u001b[39;00m:\n\u001b[1;32m-> 3805\u001b[0m     \u001b[38;5;28;01mreturn\u001b[39;00m \u001b[38;5;28;43mself\u001b[39;49m\u001b[38;5;241;43m.\u001b[39;49m\u001b[43m_engine\u001b[49m\u001b[38;5;241;43m.\u001b[39;49m\u001b[43mget_loc\u001b[49m\u001b[43m(\u001b[49m\u001b[43mcasted_key\u001b[49m\u001b[43m)\u001b[49m\n\u001b[0;32m   3806\u001b[0m \u001b[38;5;28;01mexcept\u001b[39;00m \u001b[38;5;167;01mKeyError\u001b[39;00m \u001b[38;5;28;01mas\u001b[39;00m err:\n",
      "File \u001b[1;32mindex.pyx:167\u001b[0m, in \u001b[0;36mpandas._libs.index.IndexEngine.get_loc\u001b[1;34m()\u001b[0m\n",
      "File \u001b[1;32mindex.pyx:196\u001b[0m, in \u001b[0;36mpandas._libs.index.IndexEngine.get_loc\u001b[1;34m()\u001b[0m\n",
      "File \u001b[1;32mpandas\\\\_libs\\\\hashtable_class_helper.pxi:7081\u001b[0m, in \u001b[0;36mpandas._libs.hashtable.PyObjectHashTable.get_item\u001b[1;34m()\u001b[0m\n",
      "File \u001b[1;32mpandas\\\\_libs\\\\hashtable_class_helper.pxi:7089\u001b[0m, in \u001b[0;36mpandas._libs.hashtable.PyObjectHashTable.get_item\u001b[1;34m()\u001b[0m\n",
      "\u001b[1;31mKeyError\u001b[0m: 'Type'",
      "\nThe above exception was the direct cause of the following exception:\n",
      "\u001b[1;31mKeyError\u001b[0m                                  Traceback (most recent call last)",
      "Cell \u001b[1;32mIn[13], line 1\u001b[0m\n\u001b[1;32m----> 1\u001b[0m \u001b[38;5;28mlen\u001b[39m(df_cleaned[\u001b[43mdf_cleaned\u001b[49m\u001b[43m[\u001b[49m\u001b[38;5;124;43m'\u001b[39;49m\u001b[38;5;124;43mType\u001b[39;49m\u001b[38;5;124;43m'\u001b[39;49m\u001b[43m]\u001b[49m\u001b[38;5;241m==\u001b[39m\u001b[38;5;124m'\u001b[39m\u001b[38;5;124mother\u001b[39m\u001b[38;5;124m'\u001b[39m])\u001b[38;5;241m/\u001b[39m\u001b[38;5;28mlen\u001b[39m(df_cleaned)\n",
      "File \u001b[1;32mc:\\Users\\zoero\\AppData\\Local\\Programs\\Python\\Python313\\Lib\\site-packages\\pandas\\core\\frame.py:4102\u001b[0m, in \u001b[0;36mDataFrame.__getitem__\u001b[1;34m(self, key)\u001b[0m\n\u001b[0;32m   4100\u001b[0m \u001b[38;5;28;01mif\u001b[39;00m \u001b[38;5;28mself\u001b[39m\u001b[38;5;241m.\u001b[39mcolumns\u001b[38;5;241m.\u001b[39mnlevels \u001b[38;5;241m>\u001b[39m \u001b[38;5;241m1\u001b[39m:\n\u001b[0;32m   4101\u001b[0m     \u001b[38;5;28;01mreturn\u001b[39;00m \u001b[38;5;28mself\u001b[39m\u001b[38;5;241m.\u001b[39m_getitem_multilevel(key)\n\u001b[1;32m-> 4102\u001b[0m indexer \u001b[38;5;241m=\u001b[39m \u001b[38;5;28;43mself\u001b[39;49m\u001b[38;5;241;43m.\u001b[39;49m\u001b[43mcolumns\u001b[49m\u001b[38;5;241;43m.\u001b[39;49m\u001b[43mget_loc\u001b[49m\u001b[43m(\u001b[49m\u001b[43mkey\u001b[49m\u001b[43m)\u001b[49m\n\u001b[0;32m   4103\u001b[0m \u001b[38;5;28;01mif\u001b[39;00m is_integer(indexer):\n\u001b[0;32m   4104\u001b[0m     indexer \u001b[38;5;241m=\u001b[39m [indexer]\n",
      "File \u001b[1;32mc:\\Users\\zoero\\AppData\\Local\\Programs\\Python\\Python313\\Lib\\site-packages\\pandas\\core\\indexes\\base.py:3812\u001b[0m, in \u001b[0;36mIndex.get_loc\u001b[1;34m(self, key)\u001b[0m\n\u001b[0;32m   3807\u001b[0m     \u001b[38;5;28;01mif\u001b[39;00m \u001b[38;5;28misinstance\u001b[39m(casted_key, \u001b[38;5;28mslice\u001b[39m) \u001b[38;5;129;01mor\u001b[39;00m (\n\u001b[0;32m   3808\u001b[0m         \u001b[38;5;28misinstance\u001b[39m(casted_key, abc\u001b[38;5;241m.\u001b[39mIterable)\n\u001b[0;32m   3809\u001b[0m         \u001b[38;5;129;01mand\u001b[39;00m \u001b[38;5;28many\u001b[39m(\u001b[38;5;28misinstance\u001b[39m(x, \u001b[38;5;28mslice\u001b[39m) \u001b[38;5;28;01mfor\u001b[39;00m x \u001b[38;5;129;01min\u001b[39;00m casted_key)\n\u001b[0;32m   3810\u001b[0m     ):\n\u001b[0;32m   3811\u001b[0m         \u001b[38;5;28;01mraise\u001b[39;00m InvalidIndexError(key)\n\u001b[1;32m-> 3812\u001b[0m     \u001b[38;5;28;01mraise\u001b[39;00m \u001b[38;5;167;01mKeyError\u001b[39;00m(key) \u001b[38;5;28;01mfrom\u001b[39;00m\u001b[38;5;250m \u001b[39m\u001b[38;5;21;01merr\u001b[39;00m\n\u001b[0;32m   3813\u001b[0m \u001b[38;5;28;01mexcept\u001b[39;00m \u001b[38;5;167;01mTypeError\u001b[39;00m:\n\u001b[0;32m   3814\u001b[0m     \u001b[38;5;66;03m# If we have a listlike key, _check_indexing_error will raise\u001b[39;00m\n\u001b[0;32m   3815\u001b[0m     \u001b[38;5;66;03m#  InvalidIndexError. Otherwise we fall through and re-raise\u001b[39;00m\n\u001b[0;32m   3816\u001b[0m     \u001b[38;5;66;03m#  the TypeError.\u001b[39;00m\n\u001b[0;32m   3817\u001b[0m     \u001b[38;5;28mself\u001b[39m\u001b[38;5;241m.\u001b[39m_check_indexing_error(key)\n",
      "\u001b[1;31mKeyError\u001b[0m: 'Type'"
     ]
    }
   ],
   "source": [
    "len(df_cleaned[df_cleaned['Type']=='other'])/len(df_cleaned)"
   ]
  },
  {
   "cell_type": "code",
   "execution_count": null,
   "metadata": {},
   "outputs": [
    {
     "data": {
      "text/plain": [
       "array(['Voluntary Cancellation Account (Type 3)', 'Party Holding Account',\n",
       "       'Retirement Account', 'Former Operator Holding Account',\n",
       "       'Person Account in National Registry', 'AAU Deposit Account',\n",
       "       'Net Source Cancellation Account (Type 1)',\n",
       "       'Mandatory (Cancellation Account (Type 5)',\n",
       "       'Person Holding Account', 'Trading Account',\n",
       "       'National Allowance Holding Account', 'Gateway Deposit Account',\n",
       "       'Aircraft Operator Account', 'Operator Holding Account',\n",
       "       'Central Clearing Account', 'Union Allowance Deletion Account',\n",
       "       'Auction Delivery Account', 'Auction Account',\n",
       "       'Aviation Auction Account', 'Aviation Surrender Set-Aside Account',\n",
       "       'Allocation Account', 'Aviation Allocation Account',\n",
       "       'tCER Replacement Account for Expiry (Type 1)',\n",
       "       'EU Effort Sharing Account'], dtype=object)"
      ]
     },
     "execution_count": 957,
     "metadata": {},
     "output_type": "execute_result"
    }
   ],
   "source": [
    "df_cleaned['account_type'].unique()"
   ]
  },
  {
   "cell_type": "code",
   "execution_count": null,
   "metadata": {},
   "outputs": [
    {
     "name": "stderr",
     "output_type": "stream",
     "text": [
      "C:\\Users\\zoero\\AppData\\Local\\Temp\\ipykernel_20544\\433450459.py:2: SettingWithCopyWarning: \n",
      "A value is trying to be set on a copy of a slice from a DataFrame.\n",
      "Try using .loc[row_indexer,col_indexer] = value instead\n",
      "\n",
      "See the caveats in the documentation: https://pandas.pydata.org/pandas-docs/stable/user_guide/indexing.html#returning-a-view-versus-a-copy\n",
      "  df_cleaned['Type']='other'\n"
     ]
    }
   ],
   "source": [
    "regulate_ids = df_cleaned[df_cleaned['account_type'].isin(['Operator Holding Account', 'Aircraft Operator Account'])]['accountHolder_id'].unique().tolist()\n",
    "df_cleaned['Type']='other'\n",
    "df_cleaned.loc[df_cleaned['accountHolder_id'].isin(regulate_ids),'Type'] = 'regulating'"
   ]
  },
  {
   "cell_type": "code",
   "execution_count": null,
   "metadata": {},
   "outputs": [],
   "source": [
    "government_ids = df_cleaned[\n",
    "    (df_cleaned[\"account_type\"].isin([\n",
    "        'Person Account in National Registry', \n",
    "        'Verifier Account',\n",
    "        'Party Holding Account',\n",
    "        'ESD Compliance Account',\n",
    "        'National Allowance Holding Account',\n",
    "        'Voluntary Cancellation Account (Type 3)',\n",
    "        'Voluntary Cancellation Account',\n",
    "        'Retirement Account'\n",
    "    ])) & (df_cleaned['Type'] == 'other')\n",
    "]['accountHolder_id'].unique().tolist()\n",
    "\n",
    "df_cleaned.loc[df_cleaned['accountHolder_id'].isin(government_ids),'Type'] = 'governmental'\n"
   ]
  },
  {
   "cell_type": "code",
   "execution_count": null,
   "metadata": {},
   "outputs": [],
   "source": [
    "financial_ids = df_cleaned[\n",
    "    (df_cleaned[\"account_type\"].isin([\n",
    "        'Trading Account',\n",
    " 'Person Holding Account' \n",
    "    ])) & (df_cleaned['Type'] == 'other')\n",
    "]['accountHolder_id'].unique().tolist()\n",
    "\n",
    "df_cleaned.loc[df_cleaned['accountHolder_id'].isin(financial_ids),'Type'] = 'financial'"
   ]
  },
  {
   "cell_type": "code",
   "execution_count": null,
   "metadata": {},
   "outputs": [
    {
     "name": "stdout",
     "output_type": "stream",
     "text": [
      "other : 0\n",
      "regulating : 0\n",
      "governmental : 0\n",
      "financial : 0\n"
     ]
    }
   ],
   "source": [
    "for account in accounts:\n",
    "    print(account,':',len(df_cleaned[df_cleaned['account_type']==account][\"account_id\"].unique()))"
   ]
  },
  {
   "cell_type": "markdown",
   "metadata": {},
   "source": [
    "Il reste 4% de comptes non classifiés que nous décidons pour le moment de laisser de côté"
   ]
  },
  {
   "cell_type": "code",
   "execution_count": null,
   "metadata": {},
   "outputs": [],
   "source": [
    "session.rollback()\n",
    "\n",
    "former_account_ids = df_cleaned[df_cleaned['account_type']=='Former Operator Holding Account'][\"account_id\"].unique().tolist()\n",
    "\n",
    "stmt = select(Account.isOpen).where(Account.id.in_((former_account_ids)))\n",
    "isopen = pd.DataFrame(session.execute(stmt).fetchall())\n"
   ]
  },
  {
   "cell_type": "code",
   "execution_count": null,
   "metadata": {},
   "outputs": [
    {
     "data": {
      "text/plain": [
       "0.12501955875449852"
      ]
     },
     "execution_count": 963,
     "metadata": {},
     "output_type": "execute_result"
    }
   ],
   "source": [
    "sum(isopen['isOpen'])/len(isopen)"
   ]
  },
  {
   "cell_type": "code",
   "execution_count": null,
   "metadata": {},
   "outputs": [
    {
     "name": "stdout",
     "output_type": "stream",
     "text": [
      "account_id            0.000000\n",
      "month                 0.000000\n",
      "transferred_amount    0.388453\n",
      "acquired_amount       0.335331\n",
      "accountHolder_id      0.000000\n",
      "account_type          0.000000\n",
      "nace_id               0.174859\n",
      "Type                  0.000000\n",
      "dtype: float64\n"
     ]
    }
   ],
   "source": [
    "print(df_cleaned.isnull().sum()/len(df_cleaned))"
   ]
  },
  {
   "cell_type": "code",
   "execution_count": null,
   "metadata": {},
   "outputs": [
    {
     "name": "stderr",
     "output_type": "stream",
     "text": [
      "C:\\Users\\zoero\\AppData\\Local\\Temp\\ipykernel_20544\\2945322722.py:1: FutureWarning: A value is trying to be set on a copy of a DataFrame or Series through chained assignment using an inplace method.\n",
      "The behavior will change in pandas 3.0. This inplace method will never work because the intermediate object on which we are setting values always behaves as a copy.\n",
      "\n",
      "For example, when doing 'df[col].method(value, inplace=True)', try using 'df.method({col: value}, inplace=True)' or df[col] = df[col].method(value) instead, to perform the operation inplace on the original object.\n",
      "\n",
      "\n",
      "  df_cleaned['transferred_amount'].fillna(0, inplace=True)\n",
      "C:\\Users\\zoero\\AppData\\Local\\Temp\\ipykernel_20544\\2945322722.py:1: SettingWithCopyWarning: \n",
      "A value is trying to be set on a copy of a slice from a DataFrame\n",
      "\n",
      "See the caveats in the documentation: https://pandas.pydata.org/pandas-docs/stable/user_guide/indexing.html#returning-a-view-versus-a-copy\n",
      "  df_cleaned['transferred_amount'].fillna(0, inplace=True)\n",
      "C:\\Users\\zoero\\AppData\\Local\\Temp\\ipykernel_20544\\2945322722.py:2: FutureWarning: A value is trying to be set on a copy of a DataFrame or Series through chained assignment using an inplace method.\n",
      "The behavior will change in pandas 3.0. This inplace method will never work because the intermediate object on which we are setting values always behaves as a copy.\n",
      "\n",
      "For example, when doing 'df[col].method(value, inplace=True)', try using 'df.method({col: value}, inplace=True)' or df[col] = df[col].method(value) instead, to perform the operation inplace on the original object.\n",
      "\n",
      "\n",
      "  df_cleaned['acquired_amount'].fillna(0, inplace=True)\n",
      "C:\\Users\\zoero\\AppData\\Local\\Temp\\ipykernel_20544\\2945322722.py:2: SettingWithCopyWarning: \n",
      "A value is trying to be set on a copy of a slice from a DataFrame\n",
      "\n",
      "See the caveats in the documentation: https://pandas.pydata.org/pandas-docs/stable/user_guide/indexing.html#returning-a-view-versus-a-copy\n",
      "  df_cleaned['acquired_amount'].fillna(0, inplace=True)\n"
     ]
    }
   ],
   "source": [
    "df_cleaned['transferred_amount'].fillna(0, inplace=True)\n",
    "df_cleaned['acquired_amount'].fillna(0, inplace=True)"
   ]
  },
  {
   "cell_type": "code",
   "execution_count": null,
   "metadata": {},
   "outputs": [
    {
     "data": {
      "text/plain": [
       "0.05938110683562665"
      ]
     },
     "execution_count": 1003,
     "metadata": {},
     "output_type": "execute_result"
    }
   ],
   "source": [
    "len(df_cleaned[df_cleaned['Type']=='other'])/len(df_cleaned)"
   ]
  },
  {
   "cell_type": "code",
   "execution_count": null,
   "metadata": {},
   "outputs": [
    {
     "name": "stderr",
     "output_type": "stream",
     "text": [
      "C:\\Users\\zoero\\AppData\\Local\\Temp\\ipykernel_20544\\3942686549.py:14: SettingWithCopyWarning: \n",
      "A value is trying to be set on a copy of a slice from a DataFrame.\n",
      "Try using .loc[row_indexer,col_indexer] = value instead\n",
      "\n",
      "See the caveats in the documentation: https://pandas.pydata.org/pandas-docs/stable/user_guide/indexing.html#returning-a-view-versus-a-copy\n",
      "  regulating_df['total_acquired'] = regulating_df['acquired_amount'] + regulating_df['allocatedTotal']\n",
      "C:\\Users\\zoero\\AppData\\Local\\Temp\\ipykernel_20544\\3942686549.py:25: FutureWarning: A value is trying to be set on a copy of a DataFrame or Series through chained assignment using an inplace method.\n",
      "The behavior will change in pandas 3.0. This inplace method will never work because the intermediate object on which we are setting values always behaves as a copy.\n",
      "\n",
      "For example, when doing 'df[col].method(value, inplace=True)', try using 'df.method({col: value}, inplace=True)' or df[col] = df[col].method(value) instead, to perform the operation inplace on the original object.\n",
      "\n",
      "\n",
      "  df2['InVolReg'].fillna(0, inplace=True)\n",
      "C:\\Users\\zoero\\AppData\\Local\\Temp\\ipykernel_20544\\3942686549.py:26: FutureWarning: A value is trying to be set on a copy of a DataFrame or Series through chained assignment using an inplace method.\n",
      "The behavior will change in pandas 3.0. This inplace method will never work because the intermediate object on which we are setting values always behaves as a copy.\n",
      "\n",
      "For example, when doing 'df[col].method(value, inplace=True)', try using 'df.method({col: value}, inplace=True)' or df[col] = df[col].method(value) instead, to perform the operation inplace on the original object.\n",
      "\n",
      "\n",
      "  df2['OutVolReg'].fillna(0, inplace=True)\n",
      "C:\\Users\\zoero\\AppData\\Local\\Temp\\ipykernel_20544\\3942686549.py:27: FutureWarning: A value is trying to be set on a copy of a DataFrame or Series through chained assignment using an inplace method.\n",
      "The behavior will change in pandas 3.0. This inplace method will never work because the intermediate object on which we are setting values always behaves as a copy.\n",
      "\n",
      "For example, when doing 'df[col].method(value, inplace=True)', try using 'df.method({col: value}, inplace=True)' or df[col] = df[col].method(value) instead, to perform the operation inplace on the original object.\n",
      "\n",
      "\n",
      "  df2['InVolFin'].fillna(0, inplace=True)\n",
      "C:\\Users\\zoero\\AppData\\Local\\Temp\\ipykernel_20544\\3942686549.py:28: FutureWarning: A value is trying to be set on a copy of a DataFrame or Series through chained assignment using an inplace method.\n",
      "The behavior will change in pandas 3.0. This inplace method will never work because the intermediate object on which we are setting values always behaves as a copy.\n",
      "\n",
      "For example, when doing 'df[col].method(value, inplace=True)', try using 'df.method({col: value}, inplace=True)' or df[col] = df[col].method(value) instead, to perform the operation inplace on the original object.\n",
      "\n",
      "\n",
      "  df2['OutVolFin'].fillna(0, inplace=True)\n"
     ]
    }
   ],
   "source": [
    "import pandas as pd\n",
    "\n",
    "\n",
    "regulating_df = df_cleaned[df_cleaned['Type'] == 'regulating']\n",
    "financial_df = df_cleaned[df_cleaned['Type'] == 'financial']\n",
    "\n",
    "\n",
    "df2 = pd.DataFrame(df_cleaned['month'].unique(), columns=['month'])\n",
    "\n",
    "# Setting 'month' as the index for easy merging\n",
    "df2.set_index('month', inplace=True)\n",
    "\n",
    "# Grouping and summing 'acquired_amount' and 'transferred_amount' by 'month' for both types\n",
    "\n",
    "invol_reg = regulating_df.groupby('month')['acquired_amount'].sum()\n",
    "outvol_reg = regulating_df.groupby('month')['transferred_amount'].sum()\n",
    "invol_fin = financial_df.groupby('month')['acquired_amount'].sum()\n",
    "outvol_fin = financial_df.groupby('month')['transferred_amount'].sum()\n",
    "\n",
    "# Merging these sums into df2\n",
    "df2['InVolReg'] = invol_reg\n",
    "df2['OutVolReg'] = outvol_reg\n",
    "df2['InVolFin'] = invol_fin\n",
    "df2['OutVolFin'] = outvol_fin\n",
    "df2['InVolReg'].fillna(0, inplace=True)\n",
    "df2['OutVolReg'].fillna(0, inplace=True)\n",
    "df2['InVolFin'].fillna(0, inplace=True)\n",
    "df2['OutVolFin'].fillna(0, inplace=True)\n",
    "\n",
    "# # Calculating total volumes\n",
    "df2['TVolFin'] = df2['InVolFin'] + df2['OutVolFin']\n",
    "df2['TVolReg'] = df2['InVolReg'] + df2['OutVolReg']\n",
    "\n",
    "# Resetting index if necessary\n",
    "df2.reset_index(inplace=True)\n"
   ]
  },
  {
   "cell_type": "code",
   "execution_count": null,
   "metadata": {},
   "outputs": [
    {
     "name": "stdout",
     "output_type": "stream",
     "text": [
      "month        0\n",
      "InVolReg     0\n",
      "OutVolReg    0\n",
      "InVolFin     0\n",
      "OutVolFin    0\n",
      "TVolFin      0\n",
      "TVolReg      0\n",
      "dtype: int64\n"
     ]
    }
   ],
   "source": [
    "print(df2.isna().sum())"
   ]
  },
  {
   "cell_type": "code",
   "execution_count": null,
   "metadata": {},
   "outputs": [
    {
     "data": {
      "text/html": [
       "<div>\n",
       "<style scoped>\n",
       "    .dataframe tbody tr th:only-of-type {\n",
       "        vertical-align: middle;\n",
       "    }\n",
       "\n",
       "    .dataframe tbody tr th {\n",
       "        vertical-align: top;\n",
       "    }\n",
       "\n",
       "    .dataframe thead th {\n",
       "        text-align: right;\n",
       "    }\n",
       "</style>\n",
       "<table border=\"1\" class=\"dataframe\">\n",
       "  <thead>\n",
       "    <tr style=\"text-align: right;\">\n",
       "      <th></th>\n",
       "      <th>month</th>\n",
       "      <th>InVolReg</th>\n",
       "      <th>OutVolReg</th>\n",
       "      <th>InVolFin</th>\n",
       "      <th>OutVolFin</th>\n",
       "      <th>TVolFin</th>\n",
       "      <th>TVolReg</th>\n",
       "    </tr>\n",
       "  </thead>\n",
       "  <tbody>\n",
       "    <tr>\n",
       "      <th>5</th>\n",
       "      <td>2005-01-01</td>\n",
       "      <td>0.0</td>\n",
       "      <td>0.0</td>\n",
       "      <td>0.0</td>\n",
       "      <td>0.0</td>\n",
       "      <td>0.0</td>\n",
       "      <td>0.0</td>\n",
       "    </tr>\n",
       "    <tr>\n",
       "      <th>11</th>\n",
       "      <td>2005-02-01</td>\n",
       "      <td>119152454.0</td>\n",
       "      <td>552263.0</td>\n",
       "      <td>40471.0</td>\n",
       "      <td>0.0</td>\n",
       "      <td>40471.0</td>\n",
       "      <td>119704717.0</td>\n",
       "    </tr>\n",
       "    <tr>\n",
       "      <th>74</th>\n",
       "      <td>2005-03-01</td>\n",
       "      <td>17104027.0</td>\n",
       "      <td>12048109.0</td>\n",
       "      <td>5537.0</td>\n",
       "      <td>0.0</td>\n",
       "      <td>5537.0</td>\n",
       "      <td>29152136.0</td>\n",
       "    </tr>\n",
       "    <tr>\n",
       "      <th>23</th>\n",
       "      <td>2005-04-01</td>\n",
       "      <td>259944621.0</td>\n",
       "      <td>952292.0</td>\n",
       "      <td>107522.0</td>\n",
       "      <td>0.0</td>\n",
       "      <td>107522.0</td>\n",
       "      <td>260896913.0</td>\n",
       "    </tr>\n",
       "    <tr>\n",
       "      <th>29</th>\n",
       "      <td>2005-05-01</td>\n",
       "      <td>335131242.0</td>\n",
       "      <td>5441993.0</td>\n",
       "      <td>2452864.0</td>\n",
       "      <td>0.0</td>\n",
       "      <td>2452864.0</td>\n",
       "      <td>340573235.0</td>\n",
       "    </tr>\n",
       "  </tbody>\n",
       "</table>\n",
       "</div>"
      ],
      "text/plain": [
       "        month     InVolReg   OutVolReg   InVolFin  OutVolFin    TVolFin  \\\n",
       "5  2005-01-01          0.0         0.0        0.0        0.0        0.0   \n",
       "11 2005-02-01  119152454.0    552263.0    40471.0        0.0    40471.0   \n",
       "74 2005-03-01   17104027.0  12048109.0     5537.0        0.0     5537.0   \n",
       "23 2005-04-01  259944621.0    952292.0   107522.0        0.0   107522.0   \n",
       "29 2005-05-01  335131242.0   5441993.0  2452864.0        0.0  2452864.0   \n",
       "\n",
       "        TVolReg  \n",
       "5           0.0  \n",
       "11  119704717.0  \n",
       "74   29152136.0  \n",
       "23  260896913.0  \n",
       "29  340573235.0  "
      ]
     },
     "execution_count": 972,
     "metadata": {},
     "output_type": "execute_result"
    }
   ],
   "source": [
    "df2.sort_values(by=['month'], inplace=True)\n",
    "df2.head()"
   ]
  },
  {
   "cell_type": "code",
   "execution_count": null,
   "metadata": {},
   "outputs": [
    {
     "name": "stderr",
     "output_type": "stream",
     "text": [
      "C:\\Users\\zoero\\AppData\\Local\\Temp\\ipykernel_20544\\1447758493.py:1: SettingWithCopyWarning: \n",
      "A value is trying to be set on a copy of a slice from a DataFrame.\n",
      "Try using .loc[row_indexer,col_indexer] = value instead\n",
      "\n",
      "See the caveats in the documentation: https://pandas.pydata.org/pandas-docs/stable/user_guide/indexing.html#returning-a-view-versus-a-copy\n",
      "  regulating_df['NetAmountReg'] = regulating_df['acquired_amount'] - regulating_df['transferred_amount']\n",
      "C:\\Users\\zoero\\AppData\\Local\\Temp\\ipykernel_20544\\1447758493.py:6: FutureWarning: A value is trying to be set on a copy of a DataFrame or Series through chained assignment using an inplace method.\n",
      "The behavior will change in pandas 3.0. This inplace method will never work because the intermediate object on which we are setting values always behaves as a copy.\n",
      "\n",
      "For example, when doing 'df[col].method(value, inplace=True)', try using 'df.method({col: value}, inplace=True)' or df[col] = df[col].method(value) instead, to perform the operation inplace on the original object.\n",
      "\n",
      "\n",
      "  df2['NetAmountReg'].fillna(0,inplace=True)\n"
     ]
    },
    {
     "data": {
      "text/html": [
       "<div>\n",
       "<style scoped>\n",
       "    .dataframe tbody tr th:only-of-type {\n",
       "        vertical-align: middle;\n",
       "    }\n",
       "\n",
       "    .dataframe tbody tr th {\n",
       "        vertical-align: top;\n",
       "    }\n",
       "\n",
       "    .dataframe thead th {\n",
       "        text-align: right;\n",
       "    }\n",
       "</style>\n",
       "<table border=\"1\" class=\"dataframe\">\n",
       "  <thead>\n",
       "    <tr style=\"text-align: right;\">\n",
       "      <th></th>\n",
       "      <th>month</th>\n",
       "      <th>InVolReg</th>\n",
       "      <th>OutVolReg</th>\n",
       "      <th>InVolFin</th>\n",
       "      <th>OutVolFin</th>\n",
       "      <th>TVolFin</th>\n",
       "      <th>TVolReg</th>\n",
       "      <th>NetAmountReg</th>\n",
       "      <th>WalletReg</th>\n",
       "    </tr>\n",
       "  </thead>\n",
       "  <tbody>\n",
       "    <tr>\n",
       "      <th>0</th>\n",
       "      <td>2005-01-01</td>\n",
       "      <td>0.0</td>\n",
       "      <td>0.0</td>\n",
       "      <td>0.0</td>\n",
       "      <td>0.0</td>\n",
       "      <td>0.0</td>\n",
       "      <td>0.0</td>\n",
       "      <td>0.0</td>\n",
       "      <td>0.0</td>\n",
       "    </tr>\n",
       "    <tr>\n",
       "      <th>1</th>\n",
       "      <td>2005-02-01</td>\n",
       "      <td>119152454.0</td>\n",
       "      <td>552263.0</td>\n",
       "      <td>40471.0</td>\n",
       "      <td>0.0</td>\n",
       "      <td>40471.0</td>\n",
       "      <td>119704717.0</td>\n",
       "      <td>118600191.0</td>\n",
       "      <td>118600191.0</td>\n",
       "    </tr>\n",
       "    <tr>\n",
       "      <th>2</th>\n",
       "      <td>2005-03-01</td>\n",
       "      <td>17104027.0</td>\n",
       "      <td>12048109.0</td>\n",
       "      <td>5537.0</td>\n",
       "      <td>0.0</td>\n",
       "      <td>5537.0</td>\n",
       "      <td>29152136.0</td>\n",
       "      <td>5055918.0</td>\n",
       "      <td>123656109.0</td>\n",
       "    </tr>\n",
       "    <tr>\n",
       "      <th>3</th>\n",
       "      <td>2005-04-01</td>\n",
       "      <td>259944621.0</td>\n",
       "      <td>952292.0</td>\n",
       "      <td>107522.0</td>\n",
       "      <td>0.0</td>\n",
       "      <td>107522.0</td>\n",
       "      <td>260896913.0</td>\n",
       "      <td>258992329.0</td>\n",
       "      <td>382648438.0</td>\n",
       "    </tr>\n",
       "    <tr>\n",
       "      <th>4</th>\n",
       "      <td>2005-05-01</td>\n",
       "      <td>335131242.0</td>\n",
       "      <td>5441993.0</td>\n",
       "      <td>2452864.0</td>\n",
       "      <td>0.0</td>\n",
       "      <td>2452864.0</td>\n",
       "      <td>340573235.0</td>\n",
       "      <td>329689249.0</td>\n",
       "      <td>712337687.0</td>\n",
       "    </tr>\n",
       "  </tbody>\n",
       "</table>\n",
       "</div>"
      ],
      "text/plain": [
       "       month     InVolReg   OutVolReg   InVolFin  OutVolFin    TVolFin  \\\n",
       "0 2005-01-01          0.0         0.0        0.0        0.0        0.0   \n",
       "1 2005-02-01  119152454.0    552263.0    40471.0        0.0    40471.0   \n",
       "2 2005-03-01   17104027.0  12048109.0     5537.0        0.0     5537.0   \n",
       "3 2005-04-01  259944621.0    952292.0   107522.0        0.0   107522.0   \n",
       "4 2005-05-01  335131242.0   5441993.0  2452864.0        0.0  2452864.0   \n",
       "\n",
       "       TVolReg  NetAmountReg    WalletReg  \n",
       "0          0.0           0.0          0.0  \n",
       "1  119704717.0   118600191.0  118600191.0  \n",
       "2   29152136.0     5055918.0  123656109.0  \n",
       "3  260896913.0   258992329.0  382648438.0  \n",
       "4  340573235.0   329689249.0  712337687.0  "
      ]
     },
     "execution_count": 973,
     "metadata": {},
     "output_type": "execute_result"
    }
   ],
   "source": [
    "regulating_df['NetAmountReg'] = regulating_df['acquired_amount'] - regulating_df['transferred_amount']\n",
    "\n",
    "monthly_net = regulating_df.groupby('month')['NetAmountReg'].sum()\n",
    "\n",
    "df2 = pd.merge(df2,monthly_net,how='left',on='month')\n",
    "df2['NetAmountReg'].fillna(0,inplace=True)\n",
    "df2['WalletReg'] = df2['NetAmountReg'].cumsum()\n",
    "\n",
    "\n",
    "df2.head()"
   ]
  },
  {
   "cell_type": "code",
   "execution_count": null,
   "metadata": {},
   "outputs": [
    {
     "name": "stderr",
     "output_type": "stream",
     "text": [
      "C:\\Users\\zoero\\AppData\\Local\\Temp\\ipykernel_20544\\2191015914.py:1: SettingWithCopyWarning: \n",
      "A value is trying to be set on a copy of a slice from a DataFrame.\n",
      "Try using .loc[row_indexer,col_indexer] = value instead\n",
      "\n",
      "See the caveats in the documentation: https://pandas.pydata.org/pandas-docs/stable/user_guide/indexing.html#returning-a-view-versus-a-copy\n",
      "  financial_df['NetAmountFin'] = financial_df['acquired_amount'] - financial_df['transferred_amount']\n",
      "C:\\Users\\zoero\\AppData\\Local\\Temp\\ipykernel_20544\\2191015914.py:6: FutureWarning: A value is trying to be set on a copy of a DataFrame or Series through chained assignment using an inplace method.\n",
      "The behavior will change in pandas 3.0. This inplace method will never work because the intermediate object on which we are setting values always behaves as a copy.\n",
      "\n",
      "For example, when doing 'df[col].method(value, inplace=True)', try using 'df.method({col: value}, inplace=True)' or df[col] = df[col].method(value) instead, to perform the operation inplace on the original object.\n",
      "\n",
      "\n",
      "  df2['NetAmountFin'].fillna(0,inplace=True)\n"
     ]
    },
    {
     "data": {
      "text/html": [
       "<div>\n",
       "<style scoped>\n",
       "    .dataframe tbody tr th:only-of-type {\n",
       "        vertical-align: middle;\n",
       "    }\n",
       "\n",
       "    .dataframe tbody tr th {\n",
       "        vertical-align: top;\n",
       "    }\n",
       "\n",
       "    .dataframe thead th {\n",
       "        text-align: right;\n",
       "    }\n",
       "</style>\n",
       "<table border=\"1\" class=\"dataframe\">\n",
       "  <thead>\n",
       "    <tr style=\"text-align: right;\">\n",
       "      <th></th>\n",
       "      <th>month</th>\n",
       "      <th>InVolReg</th>\n",
       "      <th>OutVolReg</th>\n",
       "      <th>InVolFin</th>\n",
       "      <th>OutVolFin</th>\n",
       "      <th>TVolFin</th>\n",
       "      <th>TVolReg</th>\n",
       "      <th>NetAmountReg</th>\n",
       "      <th>WalletReg</th>\n",
       "      <th>NetAmountFin</th>\n",
       "      <th>WalletFin</th>\n",
       "    </tr>\n",
       "  </thead>\n",
       "  <tbody>\n",
       "    <tr>\n",
       "      <th>0</th>\n",
       "      <td>2005-01-01</td>\n",
       "      <td>0.000000e+00</td>\n",
       "      <td>0.000000e+00</td>\n",
       "      <td>0.0</td>\n",
       "      <td>0.0</td>\n",
       "      <td>0.0</td>\n",
       "      <td>0.000000e+00</td>\n",
       "      <td>0.000000e+00</td>\n",
       "      <td>0.000000e+00</td>\n",
       "      <td>0.0</td>\n",
       "      <td>0.0</td>\n",
       "    </tr>\n",
       "    <tr>\n",
       "      <th>1</th>\n",
       "      <td>2005-02-01</td>\n",
       "      <td>1.191525e+08</td>\n",
       "      <td>5.522630e+05</td>\n",
       "      <td>40471.0</td>\n",
       "      <td>0.0</td>\n",
       "      <td>40471.0</td>\n",
       "      <td>1.197047e+08</td>\n",
       "      <td>1.186002e+08</td>\n",
       "      <td>1.186002e+08</td>\n",
       "      <td>40471.0</td>\n",
       "      <td>40471.0</td>\n",
       "    </tr>\n",
       "    <tr>\n",
       "      <th>2</th>\n",
       "      <td>2005-03-01</td>\n",
       "      <td>1.710403e+07</td>\n",
       "      <td>1.204811e+07</td>\n",
       "      <td>5537.0</td>\n",
       "      <td>0.0</td>\n",
       "      <td>5537.0</td>\n",
       "      <td>2.915214e+07</td>\n",
       "      <td>5.055918e+06</td>\n",
       "      <td>1.236561e+08</td>\n",
       "      <td>5537.0</td>\n",
       "      <td>46008.0</td>\n",
       "    </tr>\n",
       "    <tr>\n",
       "      <th>3</th>\n",
       "      <td>2005-04-01</td>\n",
       "      <td>2.599446e+08</td>\n",
       "      <td>9.522920e+05</td>\n",
       "      <td>107522.0</td>\n",
       "      <td>0.0</td>\n",
       "      <td>107522.0</td>\n",
       "      <td>2.608969e+08</td>\n",
       "      <td>2.589923e+08</td>\n",
       "      <td>3.826484e+08</td>\n",
       "      <td>107522.0</td>\n",
       "      <td>153530.0</td>\n",
       "    </tr>\n",
       "    <tr>\n",
       "      <th>4</th>\n",
       "      <td>2005-05-01</td>\n",
       "      <td>3.351312e+08</td>\n",
       "      <td>5.441993e+06</td>\n",
       "      <td>2452864.0</td>\n",
       "      <td>0.0</td>\n",
       "      <td>2452864.0</td>\n",
       "      <td>3.405732e+08</td>\n",
       "      <td>3.296892e+08</td>\n",
       "      <td>7.123377e+08</td>\n",
       "      <td>2452864.0</td>\n",
       "      <td>2606394.0</td>\n",
       "    </tr>\n",
       "    <tr>\n",
       "      <th>5</th>\n",
       "      <td>2005-06-01</td>\n",
       "      <td>1.078357e+08</td>\n",
       "      <td>1.229222e+07</td>\n",
       "      <td>64069.0</td>\n",
       "      <td>0.0</td>\n",
       "      <td>64069.0</td>\n",
       "      <td>1.201279e+08</td>\n",
       "      <td>9.554351e+07</td>\n",
       "      <td>8.078812e+08</td>\n",
       "      <td>64069.0</td>\n",
       "      <td>2670463.0</td>\n",
       "    </tr>\n",
       "    <tr>\n",
       "      <th>6</th>\n",
       "      <td>2005-07-01</td>\n",
       "      <td>2.638106e+07</td>\n",
       "      <td>2.067926e+07</td>\n",
       "      <td>900.0</td>\n",
       "      <td>0.0</td>\n",
       "      <td>900.0</td>\n",
       "      <td>4.706031e+07</td>\n",
       "      <td>5.701798e+06</td>\n",
       "      <td>8.135830e+08</td>\n",
       "      <td>900.0</td>\n",
       "      <td>2671363.0</td>\n",
       "    </tr>\n",
       "    <tr>\n",
       "      <th>7</th>\n",
       "      <td>2005-08-01</td>\n",
       "      <td>1.963210e+07</td>\n",
       "      <td>3.152715e+06</td>\n",
       "      <td>10.0</td>\n",
       "      <td>10.0</td>\n",
       "      <td>20.0</td>\n",
       "      <td>2.278481e+07</td>\n",
       "      <td>1.647938e+07</td>\n",
       "      <td>8.300624e+08</td>\n",
       "      <td>0.0</td>\n",
       "      <td>2671363.0</td>\n",
       "    </tr>\n",
       "    <tr>\n",
       "      <th>8</th>\n",
       "      <td>2005-09-01</td>\n",
       "      <td>4.910146e+07</td>\n",
       "      <td>4.313983e+06</td>\n",
       "      <td>0.0</td>\n",
       "      <td>0.0</td>\n",
       "      <td>0.0</td>\n",
       "      <td>5.341544e+07</td>\n",
       "      <td>4.478748e+07</td>\n",
       "      <td>8.748499e+08</td>\n",
       "      <td>0.0</td>\n",
       "      <td>2671363.0</td>\n",
       "    </tr>\n",
       "    <tr>\n",
       "      <th>9</th>\n",
       "      <td>2005-10-01</td>\n",
       "      <td>1.030646e+08</td>\n",
       "      <td>1.206742e+07</td>\n",
       "      <td>20.0</td>\n",
       "      <td>0.0</td>\n",
       "      <td>20.0</td>\n",
       "      <td>1.151320e+08</td>\n",
       "      <td>9.099721e+07</td>\n",
       "      <td>9.658471e+08</td>\n",
       "      <td>20.0</td>\n",
       "      <td>2671383.0</td>\n",
       "    </tr>\n",
       "    <tr>\n",
       "      <th>10</th>\n",
       "      <td>2005-11-01</td>\n",
       "      <td>1.193659e+08</td>\n",
       "      <td>6.140599e+07</td>\n",
       "      <td>862729.0</td>\n",
       "      <td>0.0</td>\n",
       "      <td>862729.0</td>\n",
       "      <td>1.807719e+08</td>\n",
       "      <td>5.795995e+07</td>\n",
       "      <td>1.023807e+09</td>\n",
       "      <td>862729.0</td>\n",
       "      <td>3534112.0</td>\n",
       "    </tr>\n",
       "    <tr>\n",
       "      <th>11</th>\n",
       "      <td>2005-12-01</td>\n",
       "      <td>1.474404e+08</td>\n",
       "      <td>2.350190e+07</td>\n",
       "      <td>0.0</td>\n",
       "      <td>0.0</td>\n",
       "      <td>0.0</td>\n",
       "      <td>1.709423e+08</td>\n",
       "      <td>1.239385e+08</td>\n",
       "      <td>1.147746e+09</td>\n",
       "      <td>0.0</td>\n",
       "      <td>3534112.0</td>\n",
       "    </tr>\n",
       "    <tr>\n",
       "      <th>12</th>\n",
       "      <td>2006-01-01</td>\n",
       "      <td>7.966963e+07</td>\n",
       "      <td>1.882198e+07</td>\n",
       "      <td>20000.0</td>\n",
       "      <td>48000.0</td>\n",
       "      <td>68000.0</td>\n",
       "      <td>9.849161e+07</td>\n",
       "      <td>6.084765e+07</td>\n",
       "      <td>1.208593e+09</td>\n",
       "      <td>-28000.0</td>\n",
       "      <td>3506112.0</td>\n",
       "    </tr>\n",
       "    <tr>\n",
       "      <th>13</th>\n",
       "      <td>2006-02-01</td>\n",
       "      <td>1.274741e+09</td>\n",
       "      <td>2.275288e+07</td>\n",
       "      <td>3531466.0</td>\n",
       "      <td>32010.0</td>\n",
       "      <td>3563476.0</td>\n",
       "      <td>1.297494e+09</td>\n",
       "      <td>1.251988e+09</td>\n",
       "      <td>2.460582e+09</td>\n",
       "      <td>3499456.0</td>\n",
       "      <td>7005568.0</td>\n",
       "    </tr>\n",
       "    <tr>\n",
       "      <th>14</th>\n",
       "      <td>2006-03-01</td>\n",
       "      <td>1.062639e+08</td>\n",
       "      <td>1.015769e+08</td>\n",
       "      <td>45791.0</td>\n",
       "      <td>846.0</td>\n",
       "      <td>46637.0</td>\n",
       "      <td>2.078408e+08</td>\n",
       "      <td>4.686993e+06</td>\n",
       "      <td>2.465269e+09</td>\n",
       "      <td>44945.0</td>\n",
       "      <td>7050513.0</td>\n",
       "    </tr>\n",
       "    <tr>\n",
       "      <th>15</th>\n",
       "      <td>2006-04-01</td>\n",
       "      <td>4.977563e+08</td>\n",
       "      <td>1.522731e+09</td>\n",
       "      <td>2668610.0</td>\n",
       "      <td>3082105.0</td>\n",
       "      <td>5750715.0</td>\n",
       "      <td>2.020488e+09</td>\n",
       "      <td>-1.024975e+09</td>\n",
       "      <td>1.440294e+09</td>\n",
       "      <td>-413495.0</td>\n",
       "      <td>6637018.0</td>\n",
       "    </tr>\n",
       "    <tr>\n",
       "      <th>16</th>\n",
       "      <td>2006-05-01</td>\n",
       "      <td>1.012853e+08</td>\n",
       "      <td>6.164906e+07</td>\n",
       "      <td>4864829.0</td>\n",
       "      <td>5808944.0</td>\n",
       "      <td>10673773.0</td>\n",
       "      <td>1.629343e+08</td>\n",
       "      <td>3.963620e+07</td>\n",
       "      <td>1.479930e+09</td>\n",
       "      <td>-944115.0</td>\n",
       "      <td>5692903.0</td>\n",
       "    </tr>\n",
       "    <tr>\n",
       "      <th>17</th>\n",
       "      <td>2006-06-01</td>\n",
       "      <td>1.608422e+07</td>\n",
       "      <td>1.788988e+07</td>\n",
       "      <td>20000.0</td>\n",
       "      <td>0.0</td>\n",
       "      <td>20000.0</td>\n",
       "      <td>3.397410e+07</td>\n",
       "      <td>-1.805653e+06</td>\n",
       "      <td>1.478124e+09</td>\n",
       "      <td>20000.0</td>\n",
       "      <td>5712903.0</td>\n",
       "    </tr>\n",
       "    <tr>\n",
       "      <th>18</th>\n",
       "      <td>2006-07-01</td>\n",
       "      <td>6.284324e+07</td>\n",
       "      <td>2.689201e+07</td>\n",
       "      <td>0.0</td>\n",
       "      <td>37000.0</td>\n",
       "      <td>37000.0</td>\n",
       "      <td>8.973525e+07</td>\n",
       "      <td>3.595123e+07</td>\n",
       "      <td>1.514075e+09</td>\n",
       "      <td>-37000.0</td>\n",
       "      <td>5675903.0</td>\n",
       "    </tr>\n",
       "    <tr>\n",
       "      <th>19</th>\n",
       "      <td>2006-08-01</td>\n",
       "      <td>2.398474e+08</td>\n",
       "      <td>9.372185e+07</td>\n",
       "      <td>2226031.0</td>\n",
       "      <td>6735.0</td>\n",
       "      <td>2232766.0</td>\n",
       "      <td>3.335693e+08</td>\n",
       "      <td>1.461256e+08</td>\n",
       "      <td>1.660201e+09</td>\n",
       "      <td>2219296.0</td>\n",
       "      <td>7895199.0</td>\n",
       "    </tr>\n",
       "  </tbody>\n",
       "</table>\n",
       "</div>"
      ],
      "text/plain": [
       "        month      InVolReg     OutVolReg   InVolFin  OutVolFin     TVolFin  \\\n",
       "0  2005-01-01  0.000000e+00  0.000000e+00        0.0        0.0         0.0   \n",
       "1  2005-02-01  1.191525e+08  5.522630e+05    40471.0        0.0     40471.0   \n",
       "2  2005-03-01  1.710403e+07  1.204811e+07     5537.0        0.0      5537.0   \n",
       "3  2005-04-01  2.599446e+08  9.522920e+05   107522.0        0.0    107522.0   \n",
       "4  2005-05-01  3.351312e+08  5.441993e+06  2452864.0        0.0   2452864.0   \n",
       "5  2005-06-01  1.078357e+08  1.229222e+07    64069.0        0.0     64069.0   \n",
       "6  2005-07-01  2.638106e+07  2.067926e+07      900.0        0.0       900.0   \n",
       "7  2005-08-01  1.963210e+07  3.152715e+06       10.0       10.0        20.0   \n",
       "8  2005-09-01  4.910146e+07  4.313983e+06        0.0        0.0         0.0   \n",
       "9  2005-10-01  1.030646e+08  1.206742e+07       20.0        0.0        20.0   \n",
       "10 2005-11-01  1.193659e+08  6.140599e+07   862729.0        0.0    862729.0   \n",
       "11 2005-12-01  1.474404e+08  2.350190e+07        0.0        0.0         0.0   \n",
       "12 2006-01-01  7.966963e+07  1.882198e+07    20000.0    48000.0     68000.0   \n",
       "13 2006-02-01  1.274741e+09  2.275288e+07  3531466.0    32010.0   3563476.0   \n",
       "14 2006-03-01  1.062639e+08  1.015769e+08    45791.0      846.0     46637.0   \n",
       "15 2006-04-01  4.977563e+08  1.522731e+09  2668610.0  3082105.0   5750715.0   \n",
       "16 2006-05-01  1.012853e+08  6.164906e+07  4864829.0  5808944.0  10673773.0   \n",
       "17 2006-06-01  1.608422e+07  1.788988e+07    20000.0        0.0     20000.0   \n",
       "18 2006-07-01  6.284324e+07  2.689201e+07        0.0    37000.0     37000.0   \n",
       "19 2006-08-01  2.398474e+08  9.372185e+07  2226031.0     6735.0   2232766.0   \n",
       "\n",
       "         TVolReg  NetAmountReg     WalletReg  NetAmountFin  WalletFin  \n",
       "0   0.000000e+00  0.000000e+00  0.000000e+00           0.0        0.0  \n",
       "1   1.197047e+08  1.186002e+08  1.186002e+08       40471.0    40471.0  \n",
       "2   2.915214e+07  5.055918e+06  1.236561e+08        5537.0    46008.0  \n",
       "3   2.608969e+08  2.589923e+08  3.826484e+08      107522.0   153530.0  \n",
       "4   3.405732e+08  3.296892e+08  7.123377e+08     2452864.0  2606394.0  \n",
       "5   1.201279e+08  9.554351e+07  8.078812e+08       64069.0  2670463.0  \n",
       "6   4.706031e+07  5.701798e+06  8.135830e+08         900.0  2671363.0  \n",
       "7   2.278481e+07  1.647938e+07  8.300624e+08           0.0  2671363.0  \n",
       "8   5.341544e+07  4.478748e+07  8.748499e+08           0.0  2671363.0  \n",
       "9   1.151320e+08  9.099721e+07  9.658471e+08          20.0  2671383.0  \n",
       "10  1.807719e+08  5.795995e+07  1.023807e+09      862729.0  3534112.0  \n",
       "11  1.709423e+08  1.239385e+08  1.147746e+09           0.0  3534112.0  \n",
       "12  9.849161e+07  6.084765e+07  1.208593e+09      -28000.0  3506112.0  \n",
       "13  1.297494e+09  1.251988e+09  2.460582e+09     3499456.0  7005568.0  \n",
       "14  2.078408e+08  4.686993e+06  2.465269e+09       44945.0  7050513.0  \n",
       "15  2.020488e+09 -1.024975e+09  1.440294e+09     -413495.0  6637018.0  \n",
       "16  1.629343e+08  3.963620e+07  1.479930e+09     -944115.0  5692903.0  \n",
       "17  3.397410e+07 -1.805653e+06  1.478124e+09       20000.0  5712903.0  \n",
       "18  8.973525e+07  3.595123e+07  1.514075e+09      -37000.0  5675903.0  \n",
       "19  3.335693e+08  1.461256e+08  1.660201e+09     2219296.0  7895199.0  "
      ]
     },
     "execution_count": 974,
     "metadata": {},
     "output_type": "execute_result"
    }
   ],
   "source": [
    "financial_df['NetAmountFin'] = financial_df['acquired_amount'] - financial_df['transferred_amount']\n",
    "\n",
    "monthly_net = financial_df.groupby('month')['NetAmountFin'].sum()\n",
    "\n",
    "df2 = pd.merge(df2,monthly_net,how='left',on='month')\n",
    "df2['NetAmountFin'].fillna(0,inplace=True)\n",
    "df2['WalletFin'] = df2['NetAmountFin'].cumsum()\n",
    "\n",
    "df2.head()"
   ]
  },
  {
   "cell_type": "code",
   "execution_count": null,
   "metadata": {},
   "outputs": [
    {
     "name": "stderr",
     "output_type": "stream",
     "text": [
      "C:\\Users\\zoero\\AppData\\Local\\Temp\\ipykernel_20544\\1363284525.py:2: SettingWithCopyWarning: \n",
      "A value is trying to be set on a copy of a slice from a DataFrame.\n",
      "Try using .loc[row_indexer,col_indexer] = value instead\n",
      "\n",
      "See the caveats in the documentation: https://pandas.pydata.org/pandas-docs/stable/user_guide/indexing.html#returning-a-view-versus-a-copy\n",
      "  series['month'] = pd.to_datetime(series['month'], format='%Y-%m-%d')\n"
     ]
    }
   ],
   "source": [
    "def reset_cumsum(series, reset_date):\n",
    "    series['month'] = pd.to_datetime(series['month'], format='%Y-%m-%d')\n",
    "    reset_date = pd.to_datetime(reset_date)\n",
    "    \n",
    "    # Cumulative sum with reset.\n",
    "    cumsum = []\n",
    "    current_sum = 0\n",
    "    for index, row in series.iterrows():\n",
    "        if row['month'] >= reset_date:\n",
    "            current_sum = 0  # Reset the cumulative sum from this date forward.\n",
    "        current_sum += row['NetAmountReg']\n",
    "        cumsum.append(current_sum)\n",
    "    return cumsum\n",
    "\n",
    "# Apply the custom cumulative sum with a reset starting January 2012.\n",
    "df2['WalletReg2'] = reset_cumsum(df2[['month', 'NetAmountReg']], '2012-01-01')"
   ]
  },
  {
   "cell_type": "code",
   "execution_count": null,
   "metadata": {},
   "outputs": [
    {
     "data": {
      "image/png": "[encoded data removed]",
      "text/plain": [
       "<Figure size 1000x500 with 1 Axes>"
      ]
     },
     "metadata": {},
     "output_type": "display_data"
    }
   ],
   "source": [
    "import matplotlib.pyplot as plt\n",
    "import matplotlib.dates as mdates\n",
    "\n",
    "# Tracer la courbe\n",
    "plt.figure(figsize=(10, 5))  # Définir la taille de la figure\n",
    "plt.plot(df2['month'], df2['WalletReg'], marker='o', linestyle='-')  # Tracer la ligne avec des points\n",
    "\n",
    "plt.gca().xaxis.set_major_formatter(mdates.DateFormatter('%Y-%m'))\n",
    "plt.gca().xaxis.set_major_locator(mdates.AutoDateLocator())\n",
    "# Ajouter des titres et des étiquettes\n",
    "plt.title('Wallet of Regulated Entities')\n",
    "plt.xlabel('Month')\n",
    "plt.ylabel('Wallet')\n",
    "\n",
    "plt.xticks(rotation=45)  # Rotation des étiquettes de mois pour une meilleure lisibilité\n",
    "\n",
    "# Afficher le graphique\n",
    "plt.grid(True)  # Ajouter une grille\n",
    "plt.tight_layout()  # Ajuster automatiquement les paramètres de la subpot pour donner un padding qui rend tout visible\n",
    "plt.show()\n"
   ]
  },
  {
   "cell_type": "code",
   "execution_count": null,
   "metadata": {},
   "outputs": [
    {
     "ename": "NameError",
     "evalue": "name 'df2' is not defined",
     "output_type": "error",
     "traceback": [
      "\u001b[1;31m---------------------------------------------------------------------------\u001b[0m",
      "\u001b[1;31mNameError\u001b[0m                                 Traceback (most recent call last)",
      "Cell \u001b[1;32mIn[1], line 6\u001b[0m\n\u001b[0;32m      4\u001b[0m \u001b[38;5;66;03m# Tracer la courbe\u001b[39;00m\n\u001b[0;32m      5\u001b[0m plt\u001b[38;5;241m.\u001b[39mfigure(figsize\u001b[38;5;241m=\u001b[39m(\u001b[38;5;241m10\u001b[39m, \u001b[38;5;241m5\u001b[39m))  \u001b[38;5;66;03m# Définir la taille de la figure\u001b[39;00m\n\u001b[1;32m----> 6\u001b[0m plt\u001b[38;5;241m.\u001b[39mplot(\u001b[43mdf2\u001b[49m[\u001b[38;5;124m'\u001b[39m\u001b[38;5;124mmonth\u001b[39m\u001b[38;5;124m'\u001b[39m], df2[\u001b[38;5;124m'\u001b[39m\u001b[38;5;124mWalletFin\u001b[39m\u001b[38;5;124m'\u001b[39m], marker\u001b[38;5;241m=\u001b[39m\u001b[38;5;124m'\u001b[39m\u001b[38;5;124mo\u001b[39m\u001b[38;5;124m'\u001b[39m, linestyle\u001b[38;5;241m=\u001b[39m\u001b[38;5;124m'\u001b[39m\u001b[38;5;124m-\u001b[39m\u001b[38;5;124m'\u001b[39m)  \u001b[38;5;66;03m# Tracer la ligne avec des points\u001b[39;00m\n\u001b[0;32m      8\u001b[0m plt\u001b[38;5;241m.\u001b[39mgca()\u001b[38;5;241m.\u001b[39mxaxis\u001b[38;5;241m.\u001b[39mset_major_formatter(mdates\u001b[38;5;241m.\u001b[39mDateFormatter(\u001b[38;5;124m'\u001b[39m\u001b[38;5;124m%\u001b[39m\u001b[38;5;124mY-\u001b[39m\u001b[38;5;124m%\u001b[39m\u001b[38;5;124mm\u001b[39m\u001b[38;5;124m'\u001b[39m))\n\u001b[0;32m      9\u001b[0m plt\u001b[38;5;241m.\u001b[39mgca()\u001b[38;5;241m.\u001b[39mxaxis\u001b[38;5;241m.\u001b[39mset_major_locator(mdates\u001b[38;5;241m.\u001b[39mAutoDateLocator())\n",
      "\u001b[1;31mNameError\u001b[0m: name 'df2' is not defined"
     ]
    },
    {
     "data": {
      "text/plain": [
       "<Figure size 1000x500 with 0 Axes>"
      ]
     },
     "metadata": {},
     "output_type": "display_data"
    }
   ],
   "source": [
    "import matplotlib.pyplot as plt\n",
    "import matplotlib.dates as mdates\n",
    "\n",
    "# Tracer la courbe\n",
    "plt.figure(figsize=(10, 5))  # Définir la taille de la figure\n",
    "plt.plot(df2['month'], df2['WalletFin'], marker='o', linestyle='-')  # Tracer la ligne avec des points\n",
    "\n",
    "plt.gca().xaxis.set_major_formatter(mdates.DateFormatter('%Y-%m'))\n",
    "plt.gca().xaxis.set_major_locator(mdates.AutoDateLocator())\n",
    "# Ajouter des titres et des étiquettes\n",
    "plt.title('Wallet of Financial Entities')\n",
    "plt.xlabel('Month')\n",
    "plt.ylabel('Wallet')\n",
    "\n",
    "# Améliorer la mise en forme de l'axe des abscisses si nécessaire\n",
    "plt.xticks(rotation=45)  # Rotation des étiquettes de mois pour une meilleure lisibilité\n",
    "\n",
    "# Afficher le graphique\n",
    "plt.grid(True)  # Ajouter une grille\n",
    "plt.tight_layout()  # Ajuster automatiquement les paramètres de la subpot pour donner un padding qui rend tout visible\n",
    "plt.show()\n"
   ]
  },
  {
   "cell_type": "markdown",
   "metadata": {},
   "source": [
    "Regrouper les nace code a l'aide de Cluster"
   ]
  },
  {
   "cell_type": "code",
   "execution_count": null,
   "metadata": {},
   "outputs": [
    {
     "data": {
      "image/png": "[encoded data removed]",
      "text/plain": [
       "<Figure size 1000x600 with 1 Axes>"
      ]
     },
     "metadata": {},
     "output_type": "display_data"
    }
   ],
   "source": [
    "import pandas as pd\n",
    "from sklearn.preprocessing import StandardScaler\n",
    "from sklearn.cluster import KMeans\n",
    "import matplotlib.pyplot as plt\n",
    "\n",
    "\n",
    "df_aggregated = df_cleaned.groupby('nace_id').agg({\n",
    "    'transferred_amount': 'mean',  # ou 'mean' selon la pertinence pour l'analyse\n",
    "    'acquired_amount': 'mean'      # idem\n",
    "}).reset_index()\n",
    "\n",
    "# Sélection des colonnes numériques pour le clustering\n",
    "features = df_aggregated[['transferred_amount', 'acquired_amount']]\n",
    "\n",
    "# Standardisation des données\n",
    "scaler = StandardScaler()\n",
    "features_scaled = scaler.fit_transform(features)\n",
    "\n",
    "# Choix du nombre de clusters avec la méthode du coude\n",
    "inertia = []\n",
    "for i in range(1, 10):\n",
    "    kmeans = KMeans(n_clusters=i, random_state=42)\n",
    "    kmeans.fit(features_scaled)\n",
    "    inertia.append(kmeans.inertia_)\n",
    "\n",
    "plt.figure(figsize=(10, 6))\n",
    "plt.plot(range(1, 10), inertia, marker='o')\n",
    "plt.title('Méthode du coude pour déterminer le nombre optimal de clusters')\n",
    "plt.xlabel('Nombre de clusters')\n",
    "plt.ylabel('Inertia')\n",
    "plt.show()\n"
   ]
  },
  {
   "cell_type": "code",
   "execution_count": null,
   "metadata": {},
   "outputs": [
    {
     "name": "stdout",
     "output_type": "stream",
     "text": [
      "    nace_id  transferred_amount  acquired_amount  cluster\n",
      "0     01.11         1527.800000      1721.457143        0\n",
      "1     01.13         9277.779946      9001.462331        0\n",
      "2     01.19         6364.784512      6117.373737        0\n",
      "3     01.21         6227.271429      6636.064286        0\n",
      "4     01.22         5894.775281      5893.797753        0\n",
      "..      ...                 ...              ...      ...\n",
      "274   85.41         8209.194030      8232.179104        0\n",
      "275   85.42         4825.198507      4920.252239        0\n",
      "276   86.10         5335.619327      5296.432909        0\n",
      "277   86.21         1522.714286      1536.714286        0\n",
      "278   86.90         3571.333333      3571.333333        0\n",
      "\n",
      "[279 rows x 4 columns]\n"
     ]
    },
    {
     "data": {
      "image/png": "[encoded data removed]",
      "text/plain": [
       "<Figure size 558.875x500 with 6 Axes>"
      ]
     },
     "metadata": {},
     "output_type": "display_data"
    }
   ],
   "source": [
    "\n",
    "kmeans = KMeans(n_clusters=2, random_state=42)\n",
    "df_aggregated['cluster'] = kmeans.fit_predict(features_scaled)\n",
    "\n",
    "# Affichage des résultats\n",
    "print(df_aggregated)\n",
    "\n",
    "# Analyse des clusters\n",
    "import seaborn as sns\n",
    "sns.pairplot(df_aggregated, hue='cluster', vars=['transferred_amount', 'acquired_amount'])\n",
    "plt.show()"
   ]
  },
  {
   "cell_type": "markdown",
   "metadata": {},
   "source": [
    "Cluster1 = l'industrie lourde, l'énergie et la production de matériaux\n",
    "\n",
    "07.10 - Extraction de minerais de fer\n",
    "19.10 - Cokéfaction\n",
    "19.20 - Raffinage du pétrole\n",
    "23.51 - Fabrication de ciment\n",
    "24.10 - Sidérurgie\n",
    "35.1 - Production, transport et distribution d'électricité\n",
    "35.11 - Production d'électricité"
   ]
  },
  {
   "cell_type": "code",
   "execution_count": null,
   "metadata": {},
   "outputs": [],
   "source": [
    "cluster1 = df_aggregated[df_aggregated['cluster']==1]['nace_id'].unique()\n",
    "df_cluster1 = df_cleaned[df_cleaned['nace_id'].isin(cluster1)]\n",
    "cluster0 = df_aggregated[df_aggregated['cluster']==0]['nace_id'].unique()\n",
    "df_cluster0 = df_cleaned[df_cleaned['nace_id'].isin(cluster0)]\n"
   ]
  },
  {
   "cell_type": "code",
   "execution_count": null,
   "metadata": {},
   "outputs": [
    {
     "data": {
      "text/plain": [
       "array(['07.10', '19.10', '19.20', '23.51', '24.10', '35.1', '35.11'],\n",
       "      dtype=object)"
      ]
     },
     "execution_count": 997,
     "metadata": {},
     "output_type": "execute_result"
    }
   ],
   "source": [
    "cluster1"
   ]
  },
  {
   "cell_type": "code",
   "execution_count": null,
   "metadata": {},
   "outputs": [
    {
     "name": "stderr",
     "output_type": "stream",
     "text": [
      "C:\\Users\\zoero\\AppData\\Local\\Temp\\ipykernel_20544\\2237196104.py:24: FutureWarning: A value is trying to be set on a copy of a DataFrame or Series through chained assignment using an inplace method.\n",
      "The behavior will change in pandas 3.0. This inplace method will never work because the intermediate object on which we are setting values always behaves as a copy.\n",
      "\n",
      "For example, when doing 'df[col].method(value, inplace=True)', try using 'df.method({col: value}, inplace=True)' or df[col] = df[col].method(value) instead, to perform the operation inplace on the original object.\n",
      "\n",
      "\n",
      "  df2_cluster1['InVolReg'].fillna(0, inplace=True)\n",
      "C:\\Users\\zoero\\AppData\\Local\\Temp\\ipykernel_20544\\2237196104.py:25: FutureWarning: A value is trying to be set on a copy of a DataFrame or Series through chained assignment using an inplace method.\n",
      "The behavior will change in pandas 3.0. This inplace method will never work because the intermediate object on which we are setting values always behaves as a copy.\n",
      "\n",
      "For example, when doing 'df[col].method(value, inplace=True)', try using 'df.method({col: value}, inplace=True)' or df[col] = df[col].method(value) instead, to perform the operation inplace on the original object.\n",
      "\n",
      "\n",
      "  df2_cluster1['OutVolReg'].fillna(0, inplace=True)\n",
      "C:\\Users\\zoero\\AppData\\Local\\Temp\\ipykernel_20544\\2237196104.py:26: FutureWarning: A value is trying to be set on a copy of a DataFrame or Series through chained assignment using an inplace method.\n",
      "The behavior will change in pandas 3.0. This inplace method will never work because the intermediate object on which we are setting values always behaves as a copy.\n",
      "\n",
      "For example, when doing 'df[col].method(value, inplace=True)', try using 'df.method({col: value}, inplace=True)' or df[col] = df[col].method(value) instead, to perform the operation inplace on the original object.\n",
      "\n",
      "\n",
      "  df2_cluster1['InVolFin'].fillna(0, inplace=True)\n",
      "C:\\Users\\zoero\\AppData\\Local\\Temp\\ipykernel_20544\\2237196104.py:27: FutureWarning: A value is trying to be set on a copy of a DataFrame or Series through chained assignment using an inplace method.\n",
      "The behavior will change in pandas 3.0. This inplace method will never work because the intermediate object on which we are setting values always behaves as a copy.\n",
      "\n",
      "For example, when doing 'df[col].method(value, inplace=True)', try using 'df.method({col: value}, inplace=True)' or df[col] = df[col].method(value) instead, to perform the operation inplace on the original object.\n",
      "\n",
      "\n",
      "  df2_cluster1['OutVolFin'].fillna(0, inplace=True)\n"
     ]
    }
   ],
   "source": [
    "import pandas as pd\n",
    "\n",
    "\n",
    "regulating_df1 = df_cluster1[df_cluster1['Type'] == 'regulating']\n",
    "financial_df1 = df_cluster1[df_cluster1['Type'] == 'financial']\n",
    "\n",
    "\n",
    "df2_cluster1 = pd.DataFrame(df_cluster1['month'].unique(), columns=['month'])\n",
    "\n",
    "# Setting 'month' as the index for easy merging\n",
    "df2_cluster1.set_index('month', inplace=True)\n",
    "\n",
    "# Grouping and summing 'acquired_amount' and 'transferred_amount' by 'month' for both types\n",
    "invol_reg = regulating_df1.groupby('month')['acquired_amount'].sum()\n",
    "outvol_reg = regulating_df1.groupby('month')['transferred_amount'].sum()\n",
    "invol_fin = financial_df1.groupby('month')['acquired_amount'].sum()\n",
    "outvol_fin = financial_df1.groupby('month')['transferred_amount'].sum()\n",
    "\n",
    "# Merging these sums into df2\n",
    "df2_cluster1['InVolReg'] = invol_reg\n",
    "df2_cluster1['OutVolReg'] = outvol_reg\n",
    "df2_cluster1['InVolFin'] = invol_fin\n",
    "df2_cluster1['OutVolFin'] = outvol_fin\n",
    "df2_cluster1['InVolReg'].fillna(0, inplace=True)\n",
    "df2_cluster1['OutVolReg'].fillna(0, inplace=True)\n",
    "df2_cluster1['InVolFin'].fillna(0, inplace=True)\n",
    "df2_cluster1['OutVolFin'].fillna(0, inplace=True)\n",
    "\n",
    "# # Calculating total volumes\n",
    "df2_cluster1['TVolFin'] = df2_cluster1['InVolFin'] + df2_cluster1['OutVolFin']\n",
    "df2_cluster1['TVolReg'] = df2_cluster1['InVolReg'] + df2_cluster1['OutVolReg']\n",
    "\n",
    "# Resetting index if necessary\n",
    "df2_cluster1.reset_index(inplace=True)\n"
   ]
  },
  {
   "cell_type": "code",
   "execution_count": null,
   "metadata": {},
   "outputs": [
    {
     "name": "stdout",
     "output_type": "stream",
     "text": [
      "month        0\n",
      "InVolReg     0\n",
      "OutVolReg    0\n",
      "InVolFin     0\n",
      "OutVolFin    0\n",
      "TVolFin      0\n",
      "TVolReg      0\n",
      "dtype: int64\n"
     ]
    }
   ],
   "source": [
    "print(df2_cluster1.isna().sum())"
   ]
  },
  {
   "cell_type": "code",
   "execution_count": null,
   "metadata": {},
   "outputs": [
    {
     "data": {
      "text/html": [
       "<div>\n",
       "<style scoped>\n",
       "    .dataframe tbody tr th:only-of-type {\n",
       "        vertical-align: middle;\n",
       "    }\n",
       "\n",
       "    .dataframe tbody tr th {\n",
       "        vertical-align: top;\n",
       "    }\n",
       "\n",
       "    .dataframe thead th {\n",
       "        text-align: right;\n",
       "    }\n",
       "</style>\n",
       "<table border=\"1\" class=\"dataframe\">\n",
       "  <thead>\n",
       "    <tr style=\"text-align: right;\">\n",
       "      <th></th>\n",
       "      <th>month</th>\n",
       "      <th>InVolReg</th>\n",
       "      <th>OutVolReg</th>\n",
       "      <th>InVolFin</th>\n",
       "      <th>OutVolFin</th>\n",
       "      <th>TVolFin</th>\n",
       "      <th>TVolReg</th>\n",
       "    </tr>\n",
       "  </thead>\n",
       "  <tbody>\n",
       "    <tr>\n",
       "      <th>0</th>\n",
       "      <td>2005-02-01</td>\n",
       "      <td>67448612.0</td>\n",
       "      <td>546263.0</td>\n",
       "      <td>0.0</td>\n",
       "      <td>0.0</td>\n",
       "      <td>0.0</td>\n",
       "      <td>67994875.0</td>\n",
       "    </tr>\n",
       "    <tr>\n",
       "      <th>34</th>\n",
       "      <td>2005-03-01</td>\n",
       "      <td>10450883.0</td>\n",
       "      <td>5296649.0</td>\n",
       "      <td>0.0</td>\n",
       "      <td>0.0</td>\n",
       "      <td>0.0</td>\n",
       "      <td>15747532.0</td>\n",
       "    </tr>\n",
       "    <tr>\n",
       "      <th>37</th>\n",
       "      <td>2005-04-01</td>\n",
       "      <td>236029815.0</td>\n",
       "      <td>734801.0</td>\n",
       "      <td>0.0</td>\n",
       "      <td>0.0</td>\n",
       "      <td>0.0</td>\n",
       "      <td>236764616.0</td>\n",
       "    </tr>\n",
       "    <tr>\n",
       "      <th>38</th>\n",
       "      <td>2005-05-01</td>\n",
       "      <td>259778381.0</td>\n",
       "      <td>3620525.0</td>\n",
       "      <td>2400501.0</td>\n",
       "      <td>0.0</td>\n",
       "      <td>2400501.0</td>\n",
       "      <td>263398906.0</td>\n",
       "    </tr>\n",
       "    <tr>\n",
       "      <th>58</th>\n",
       "      <td>2005-06-01</td>\n",
       "      <td>76699308.0</td>\n",
       "      <td>8074718.0</td>\n",
       "      <td>0.0</td>\n",
       "      <td>0.0</td>\n",
       "      <td>0.0</td>\n",
       "      <td>84774026.0</td>\n",
       "    </tr>\n",
       "  </tbody>\n",
       "</table>\n",
       "</div>"
      ],
      "text/plain": [
       "        month     InVolReg  OutVolReg   InVolFin  OutVolFin    TVolFin  \\\n",
       "0  2005-02-01   67448612.0   546263.0        0.0        0.0        0.0   \n",
       "34 2005-03-01   10450883.0  5296649.0        0.0        0.0        0.0   \n",
       "37 2005-04-01  236029815.0   734801.0        0.0        0.0        0.0   \n",
       "38 2005-05-01  259778381.0  3620525.0  2400501.0        0.0  2400501.0   \n",
       "58 2005-06-01   76699308.0  8074718.0        0.0        0.0        0.0   \n",
       "\n",
       "        TVolReg  \n",
       "0    67994875.0  \n",
       "34   15747532.0  \n",
       "37  236764616.0  \n",
       "38  263398906.0  \n",
       "58   84774026.0  "
      ]
     },
     "execution_count": 983,
     "metadata": {},
     "output_type": "execute_result"
    }
   ],
   "source": [
    "df2_cluster1.sort_values(by=['month'], inplace=True)\n",
    "df2_cluster1.head()"
   ]
  },
  {
   "cell_type": "code",
   "execution_count": null,
   "metadata": {},
   "outputs": [
    {
     "name": "stderr",
     "output_type": "stream",
     "text": [
      "C:\\Users\\zoero\\AppData\\Local\\Temp\\ipykernel_20544\\3629092739.py:1: SettingWithCopyWarning: \n",
      "A value is trying to be set on a copy of a slice from a DataFrame.\n",
      "Try using .loc[row_indexer,col_indexer] = value instead\n",
      "\n",
      "See the caveats in the documentation: https://pandas.pydata.org/pandas-docs/stable/user_guide/indexing.html#returning-a-view-versus-a-copy\n",
      "  regulating_df1['NetAmountReg'] = regulating_df1['acquired_amount'] - regulating_df1['transferred_amount']\n",
      "C:\\Users\\zoero\\AppData\\Local\\Temp\\ipykernel_20544\\3629092739.py:6: FutureWarning: A value is trying to be set on a copy of a DataFrame or Series through chained assignment using an inplace method.\n",
      "The behavior will change in pandas 3.0. This inplace method will never work because the intermediate object on which we are setting values always behaves as a copy.\n",
      "\n",
      "For example, when doing 'df[col].method(value, inplace=True)', try using 'df.method({col: value}, inplace=True)' or df[col] = df[col].method(value) instead, to perform the operation inplace on the original object.\n",
      "\n",
      "\n",
      "  df2_cluster1['NetAmountReg'].fillna(0,inplace=True)\n"
     ]
    },
    {
     "data": {
      "text/html": [
       "<div>\n",
       "<style scoped>\n",
       "    .dataframe tbody tr th:only-of-type {\n",
       "        vertical-align: middle;\n",
       "    }\n",
       "\n",
       "    .dataframe tbody tr th {\n",
       "        vertical-align: top;\n",
       "    }\n",
       "\n",
       "    .dataframe thead th {\n",
       "        text-align: right;\n",
       "    }\n",
       "</style>\n",
       "<table border=\"1\" class=\"dataframe\">\n",
       "  <thead>\n",
       "    <tr style=\"text-align: right;\">\n",
       "      <th></th>\n",
       "      <th>month</th>\n",
       "      <th>InVolReg</th>\n",
       "      <th>OutVolReg</th>\n",
       "      <th>InVolFin</th>\n",
       "      <th>OutVolFin</th>\n",
       "      <th>TVolFin</th>\n",
       "      <th>TVolReg</th>\n",
       "      <th>NetAmountReg</th>\n",
       "      <th>WalletReg</th>\n",
       "    </tr>\n",
       "  </thead>\n",
       "  <tbody>\n",
       "    <tr>\n",
       "      <th>0</th>\n",
       "      <td>2005-02-01</td>\n",
       "      <td>67448612.0</td>\n",
       "      <td>546263.0</td>\n",
       "      <td>0.0</td>\n",
       "      <td>0.0</td>\n",
       "      <td>0.0</td>\n",
       "      <td>67994875.0</td>\n",
       "      <td>66902349.0</td>\n",
       "      <td>66902349.0</td>\n",
       "    </tr>\n",
       "    <tr>\n",
       "      <th>1</th>\n",
       "      <td>2005-03-01</td>\n",
       "      <td>10450883.0</td>\n",
       "      <td>5296649.0</td>\n",
       "      <td>0.0</td>\n",
       "      <td>0.0</td>\n",
       "      <td>0.0</td>\n",
       "      <td>15747532.0</td>\n",
       "      <td>5154234.0</td>\n",
       "      <td>72056583.0</td>\n",
       "    </tr>\n",
       "    <tr>\n",
       "      <th>2</th>\n",
       "      <td>2005-04-01</td>\n",
       "      <td>236029815.0</td>\n",
       "      <td>734801.0</td>\n",
       "      <td>0.0</td>\n",
       "      <td>0.0</td>\n",
       "      <td>0.0</td>\n",
       "      <td>236764616.0</td>\n",
       "      <td>235295014.0</td>\n",
       "      <td>307351597.0</td>\n",
       "    </tr>\n",
       "    <tr>\n",
       "      <th>3</th>\n",
       "      <td>2005-05-01</td>\n",
       "      <td>259778381.0</td>\n",
       "      <td>3620525.0</td>\n",
       "      <td>2400501.0</td>\n",
       "      <td>0.0</td>\n",
       "      <td>2400501.0</td>\n",
       "      <td>263398906.0</td>\n",
       "      <td>256157856.0</td>\n",
       "      <td>563509453.0</td>\n",
       "    </tr>\n",
       "    <tr>\n",
       "      <th>4</th>\n",
       "      <td>2005-06-01</td>\n",
       "      <td>76699308.0</td>\n",
       "      <td>8074718.0</td>\n",
       "      <td>0.0</td>\n",
       "      <td>0.0</td>\n",
       "      <td>0.0</td>\n",
       "      <td>84774026.0</td>\n",
       "      <td>68624590.0</td>\n",
       "      <td>632134043.0</td>\n",
       "    </tr>\n",
       "  </tbody>\n",
       "</table>\n",
       "</div>"
      ],
      "text/plain": [
       "       month     InVolReg  OutVolReg   InVolFin  OutVolFin    TVolFin  \\\n",
       "0 2005-02-01   67448612.0   546263.0        0.0        0.0        0.0   \n",
       "1 2005-03-01   10450883.0  5296649.0        0.0        0.0        0.0   \n",
       "2 2005-04-01  236029815.0   734801.0        0.0        0.0        0.0   \n",
       "3 2005-05-01  259778381.0  3620525.0  2400501.0        0.0  2400501.0   \n",
       "4 2005-06-01   76699308.0  8074718.0        0.0        0.0        0.0   \n",
       "\n",
       "       TVolReg  NetAmountReg    WalletReg  \n",
       "0   67994875.0    66902349.0   66902349.0  \n",
       "1   15747532.0     5154234.0   72056583.0  \n",
       "2  236764616.0   235295014.0  307351597.0  \n",
       "3  263398906.0   256157856.0  563509453.0  \n",
       "4   84774026.0    68624590.0  632134043.0  "
      ]
     },
     "execution_count": 984,
     "metadata": {},
     "output_type": "execute_result"
    }
   ],
   "source": [
    "regulating_df1['NetAmountReg'] = regulating_df1['acquired_amount'] - regulating_df1['transferred_amount']\n",
    "\n",
    "monthly_net1 = regulating_df1.groupby('month')['NetAmountReg'].sum()\n",
    "\n",
    "df2_cluster1 = pd.merge(df2_cluster1,monthly_net1,how='left',on='month')\n",
    "df2_cluster1['NetAmountReg'].fillna(0,inplace=True)\n",
    "df2_cluster1['WalletReg'] = df2_cluster1['NetAmountReg'].cumsum()\n",
    "\n",
    "\n",
    "df2_cluster1.head()"
   ]
  },
  {
   "cell_type": "code",
   "execution_count": null,
   "metadata": {},
   "outputs": [
    {
     "name": "stderr",
     "output_type": "stream",
     "text": [
      "C:\\Users\\zoero\\AppData\\Local\\Temp\\ipykernel_20544\\3667385454.py:1: SettingWithCopyWarning: \n",
      "A value is trying to be set on a copy of a slice from a DataFrame.\n",
      "Try using .loc[row_indexer,col_indexer] = value instead\n",
      "\n",
      "See the caveats in the documentation: https://pandas.pydata.org/pandas-docs/stable/user_guide/indexing.html#returning-a-view-versus-a-copy\n",
      "  financial_df1['NetAmountFin'] = financial_df1['acquired_amount'] - financial_df1['transferred_amount']\n",
      "C:\\Users\\zoero\\AppData\\Local\\Temp\\ipykernel_20544\\3667385454.py:6: FutureWarning: A value is trying to be set on a copy of a DataFrame or Series through chained assignment using an inplace method.\n",
      "The behavior will change in pandas 3.0. This inplace method will never work because the intermediate object on which we are setting values always behaves as a copy.\n",
      "\n",
      "For example, when doing 'df[col].method(value, inplace=True)', try using 'df.method({col: value}, inplace=True)' or df[col] = df[col].method(value) instead, to perform the operation inplace on the original object.\n",
      "\n",
      "\n",
      "  df2_cluster1['NetAmountFin'].fillna(0,inplace=True)\n"
     ]
    }
   ],
   "source": [
    "financial_df1['NetAmountFin'] = financial_df1['acquired_amount'] - financial_df1['transferred_amount']\n",
    "\n",
    "monthly_net1 = financial_df1.groupby('month')['NetAmountFin'].sum()\n",
    "\n",
    "df2_cluster1 = pd.merge(df2_cluster1,monthly_net1,how='left',on='month')\n",
    "df2_cluster1['NetAmountFin'].fillna(0,inplace=True)\n",
    "df2_cluster1['WalletFin'] = df2_cluster1['NetAmountFin'].cumsum()\n"
   ]
  },
  {
   "cell_type": "code",
   "execution_count": null,
   "metadata": {},
   "outputs": [
    {
     "data": {
      "image/png": "[encoded data removed]",
      "text/plain": [
       "<Figure size 1000x500 with 1 Axes>"
      ]
     },
     "metadata": {},
     "output_type": "display_data"
    }
   ],
   "source": [
    "import matplotlib.pyplot as plt\n",
    "import matplotlib.dates as mdates\n",
    "\n",
    "# Tracer la courbe\n",
    "plt.figure(figsize=(10, 5))  # Définir la taille de la figure\n",
    "plt.plot(df2_cluster1['month'], df2_cluster1['WalletReg'], marker='o', linestyle='-')  # Tracer la ligne avec des points\n",
    "\n",
    "plt.gca().xaxis.set_major_formatter(mdates.DateFormatter('%Y-%m'))\n",
    "plt.gca().xaxis.set_major_locator(mdates.AutoDateLocator())\n",
    "# Ajouter des titres et des étiquettes\n",
    "plt.title('Wallet of Regulated Entities of Cluster 1')\n",
    "plt.xlabel('Month')\n",
    "plt.ylabel('Wallet')\n",
    "\n",
    "# Améliorer la mise en forme de l'axe des abscisses si nécessaire\n",
    "plt.xticks(rotation=45)  # Rotation des étiquettes de mois pour une meilleure lisibilité\n",
    "\n",
    "# Afficher le graphique\n",
    "plt.grid(True)  # Ajouter une grille\n",
    "plt.tight_layout()  # Ajuster automatiquement les paramètres de la subpot pour donner un padding qui rend tout visible\n",
    "plt.show()\n"
   ]
  },
  {
   "cell_type": "code",
   "execution_count": null,
   "metadata": {},
   "outputs": [
    {
     "data": {
      "image/png": "[encoded data removed]",
      "text/plain": [
       "<Figure size 1000x500 with 1 Axes>"
      ]
     },
     "metadata": {},
     "output_type": "display_data"
    }
   ],
   "source": [
    "import matplotlib.pyplot as plt\n",
    "import matplotlib.dates as mdates\n",
    "\n",
    "\n",
    "# Tracer la courbe\n",
    "plt.figure(figsize=(10, 5))  # Définir la taille de la figure\n",
    "plt.plot(df2_cluster1['month'], df2_cluster1['WalletFin'], marker='o', linestyle='-')  # Tracer la ligne avec des points\n",
    "\n",
    "plt.gca().xaxis.set_major_formatter(mdates.DateFormatter('%Y-%m'))\n",
    "plt.gca().xaxis.set_major_locator(mdates.AutoDateLocator())\n",
    "# Ajouter des titres et des étiquettes\n",
    "plt.title('Wallet of Financial Entities of Cluster 1')\n",
    "plt.xlabel('Month')\n",
    "plt.ylabel('Wallet')\n",
    "\n",
    "# Améliorer la mise en forme de l'axe des abscisses si nécessaire\n",
    "plt.xticks(rotation=45)  # Rotation des étiquettes de mois pour une meilleure lisibilité\n",
    "\n",
    "# Afficher le graphique\n",
    "plt.grid(True)  # Ajouter une grille\n",
    "plt.tight_layout()  # Ajuster automatiquement les paramètres de la subpot pour donner un padding qui rend tout visible\n",
    "plt.show()\n"
   ]
  },
  {
   "cell_type": "markdown",
   "metadata": {},
   "source": [
    "CLUSTER 0"
   ]
  },
  {
   "cell_type": "code",
   "execution_count": null,
   "metadata": {},
   "outputs": [
    {
     "name": "stderr",
     "output_type": "stream",
     "text": [
      "C:\\Users\\zoero\\AppData\\Local\\Temp\\ipykernel_20544\\888777680.py:24: FutureWarning: A value is trying to be set on a copy of a DataFrame or Series through chained assignment using an inplace method.\n",
      "The behavior will change in pandas 3.0. This inplace method will never work because the intermediate object on which we are setting values always behaves as a copy.\n",
      "\n",
      "For example, when doing 'df[col].method(value, inplace=True)', try using 'df.method({col: value}, inplace=True)' or df[col] = df[col].method(value) instead, to perform the operation inplace on the original object.\n",
      "\n",
      "\n",
      "  df2_cluster0['InVolReg'].fillna(0, inplace=True)\n",
      "C:\\Users\\zoero\\AppData\\Local\\Temp\\ipykernel_20544\\888777680.py:25: FutureWarning: A value is trying to be set on a copy of a DataFrame or Series through chained assignment using an inplace method.\n",
      "The behavior will change in pandas 3.0. This inplace method will never work because the intermediate object on which we are setting values always behaves as a copy.\n",
      "\n",
      "For example, when doing 'df[col].method(value, inplace=True)', try using 'df.method({col: value}, inplace=True)' or df[col] = df[col].method(value) instead, to perform the operation inplace on the original object.\n",
      "\n",
      "\n",
      "  df2_cluster0['OutVolReg'].fillna(0, inplace=True)\n",
      "C:\\Users\\zoero\\AppData\\Local\\Temp\\ipykernel_20544\\888777680.py:26: FutureWarning: A value is trying to be set on a copy of a DataFrame or Series through chained assignment using an inplace method.\n",
      "The behavior will change in pandas 3.0. This inplace method will never work because the intermediate object on which we are setting values always behaves as a copy.\n",
      "\n",
      "For example, when doing 'df[col].method(value, inplace=True)', try using 'df.method({col: value}, inplace=True)' or df[col] = df[col].method(value) instead, to perform the operation inplace on the original object.\n",
      "\n",
      "\n",
      "  df2_cluster0['InVolFin'].fillna(0, inplace=True)\n",
      "C:\\Users\\zoero\\AppData\\Local\\Temp\\ipykernel_20544\\888777680.py:27: FutureWarning: A value is trying to be set on a copy of a DataFrame or Series through chained assignment using an inplace method.\n",
      "The behavior will change in pandas 3.0. This inplace method will never work because the intermediate object on which we are setting values always behaves as a copy.\n",
      "\n",
      "For example, when doing 'df[col].method(value, inplace=True)', try using 'df.method({col: value}, inplace=True)' or df[col] = df[col].method(value) instead, to perform the operation inplace on the original object.\n",
      "\n",
      "\n",
      "  df2_cluster0['OutVolFin'].fillna(0, inplace=True)\n"
     ]
    }
   ],
   "source": [
    "import pandas as pd\n",
    "\n",
    "\n",
    "regulating_df0 = df_cluster0[df_cluster0['Type'] == 'regulating']\n",
    "financial_df0 = df_cluster0[df_cluster0['Type'] == 'financial']\n",
    "\n",
    "\n",
    "df2_cluster0 = pd.DataFrame(df_cluster0['month'].unique(), columns=['month'])\n",
    "\n",
    "# Setting 'month' as the index for easy merging\n",
    "df2_cluster0.set_index('month', inplace=True)\n",
    "\n",
    "# Grouping and summing 'acquired_amount' and 'transferred_amount' by 'month' for both types\n",
    "invol_reg = regulating_df0.groupby('month')['acquired_amount'].sum()\n",
    "outvol_reg = regulating_df0.groupby('month')['transferred_amount'].sum()\n",
    "invol_fin = financial_df0.groupby('month')['acquired_amount'].sum()\n",
    "outvol_fin = financial_df0.groupby('month')['transferred_amount'].sum()\n",
    "\n",
    "# Merging these sums into df2\n",
    "df2_cluster0['InVolReg'] = invol_reg\n",
    "df2_cluster0['OutVolReg'] = outvol_reg\n",
    "df2_cluster0['InVolFin'] = invol_fin\n",
    "df2_cluster0['OutVolFin'] = outvol_fin\n",
    "df2_cluster0['InVolReg'].fillna(0, inplace=True)\n",
    "df2_cluster0['OutVolReg'].fillna(0, inplace=True)\n",
    "df2_cluster0['InVolFin'].fillna(0, inplace=True)\n",
    "df2_cluster0['OutVolFin'].fillna(0, inplace=True)\n",
    "\n",
    "# # Calculating total volumes\n",
    "df2_cluster0['TVolFin'] = df2_cluster0['InVolFin'] + df2_cluster0['OutVolFin']\n",
    "df2_cluster0['TVolReg'] = df2_cluster0['InVolReg'] + df2_cluster0['OutVolReg']\n",
    "\n",
    "# Resetting index if necessary\n",
    "df2_cluster0.reset_index(inplace=True)\n"
   ]
  },
  {
   "cell_type": "code",
   "execution_count": null,
   "metadata": {},
   "outputs": [
    {
     "name": "stdout",
     "output_type": "stream",
     "text": [
      "month        0\n",
      "InVolReg     0\n",
      "OutVolReg    0\n",
      "InVolFin     0\n",
      "OutVolFin    0\n",
      "TVolFin      0\n",
      "TVolReg      0\n",
      "dtype: int64\n"
     ]
    }
   ],
   "source": [
    "print(df2_cluster0.isna().sum())"
   ]
  },
  {
   "cell_type": "code",
   "execution_count": null,
   "metadata": {},
   "outputs": [
    {
     "data": {
      "text/html": [
       "<div>\n",
       "<style scoped>\n",
       "    .dataframe tbody tr th:only-of-type {\n",
       "        vertical-align: middle;\n",
       "    }\n",
       "\n",
       "    .dataframe tbody tr th {\n",
       "        vertical-align: top;\n",
       "    }\n",
       "\n",
       "    .dataframe thead th {\n",
       "        text-align: right;\n",
       "    }\n",
       "</style>\n",
       "<table border=\"1\" class=\"dataframe\">\n",
       "  <thead>\n",
       "    <tr style=\"text-align: right;\">\n",
       "      <th></th>\n",
       "      <th>month</th>\n",
       "      <th>InVolReg</th>\n",
       "      <th>OutVolReg</th>\n",
       "      <th>InVolFin</th>\n",
       "      <th>OutVolFin</th>\n",
       "      <th>TVolFin</th>\n",
       "      <th>TVolReg</th>\n",
       "    </tr>\n",
       "  </thead>\n",
       "  <tbody>\n",
       "    <tr>\n",
       "      <th>0</th>\n",
       "      <td>2005-02-01</td>\n",
       "      <td>50530990.0</td>\n",
       "      <td>5000.0</td>\n",
       "      <td>40465.0</td>\n",
       "      <td>0.0</td>\n",
       "      <td>40465.0</td>\n",
       "      <td>50535990.0</td>\n",
       "    </tr>\n",
       "    <tr>\n",
       "      <th>115</th>\n",
       "      <td>2005-03-01</td>\n",
       "      <td>6637242.0</td>\n",
       "      <td>6751460.0</td>\n",
       "      <td>5537.0</td>\n",
       "      <td>0.0</td>\n",
       "      <td>5537.0</td>\n",
       "      <td>13388702.0</td>\n",
       "    </tr>\n",
       "    <tr>\n",
       "      <th>114</th>\n",
       "      <td>2005-04-01</td>\n",
       "      <td>23901206.0</td>\n",
       "      <td>217491.0</td>\n",
       "      <td>107522.0</td>\n",
       "      <td>0.0</td>\n",
       "      <td>107522.0</td>\n",
       "      <td>24118697.0</td>\n",
       "    </tr>\n",
       "    <tr>\n",
       "      <th>127</th>\n",
       "      <td>2005-05-01</td>\n",
       "      <td>73669628.0</td>\n",
       "      <td>1781368.0</td>\n",
       "      <td>52363.0</td>\n",
       "      <td>0.0</td>\n",
       "      <td>52363.0</td>\n",
       "      <td>75450996.0</td>\n",
       "    </tr>\n",
       "    <tr>\n",
       "      <th>21</th>\n",
       "      <td>2005-06-01</td>\n",
       "      <td>29172398.0</td>\n",
       "      <td>3766717.0</td>\n",
       "      <td>64069.0</td>\n",
       "      <td>0.0</td>\n",
       "      <td>64069.0</td>\n",
       "      <td>32939115.0</td>\n",
       "    </tr>\n",
       "  </tbody>\n",
       "</table>\n",
       "</div>"
      ],
      "text/plain": [
       "         month    InVolReg  OutVolReg  InVolFin  OutVolFin   TVolFin  \\\n",
       "0   2005-02-01  50530990.0     5000.0   40465.0        0.0   40465.0   \n",
       "115 2005-03-01   6637242.0  6751460.0    5537.0        0.0    5537.0   \n",
       "114 2005-04-01  23901206.0   217491.0  107522.0        0.0  107522.0   \n",
       "127 2005-05-01  73669628.0  1781368.0   52363.0        0.0   52363.0   \n",
       "21  2005-06-01  29172398.0  3766717.0   64069.0        0.0   64069.0   \n",
       "\n",
       "        TVolReg  \n",
       "0    50535990.0  \n",
       "115  13388702.0  \n",
       "114  24118697.0  \n",
       "127  75450996.0  \n",
       "21   32939115.0  "
      ]
     },
     "execution_count": 990,
     "metadata": {},
     "output_type": "execute_result"
    }
   ],
   "source": [
    "df2_cluster0.sort_values(by=['month'], inplace=True)\n",
    "df2_cluster0.head()"
   ]
  },
  {
   "cell_type": "code",
   "execution_count": null,
   "metadata": {},
   "outputs": [
    {
     "name": "stderr",
     "output_type": "stream",
     "text": [
      "C:\\Users\\zoero\\AppData\\Local\\Temp\\ipykernel_20544\\142022089.py:1: SettingWithCopyWarning: \n",
      "A value is trying to be set on a copy of a slice from a DataFrame.\n",
      "Try using .loc[row_indexer,col_indexer] = value instead\n",
      "\n",
      "See the caveats in the documentation: https://pandas.pydata.org/pandas-docs/stable/user_guide/indexing.html#returning-a-view-versus-a-copy\n",
      "  regulating_df0['NetAmountReg'] = regulating_df0['acquired_amount'] - regulating_df0['transferred_amount']\n",
      "C:\\Users\\zoero\\AppData\\Local\\Temp\\ipykernel_20544\\142022089.py:6: FutureWarning: A value is trying to be set on a copy of a DataFrame or Series through chained assignment using an inplace method.\n",
      "The behavior will change in pandas 3.0. This inplace method will never work because the intermediate object on which we are setting values always behaves as a copy.\n",
      "\n",
      "For example, when doing 'df[col].method(value, inplace=True)', try using 'df.method({col: value}, inplace=True)' or df[col] = df[col].method(value) instead, to perform the operation inplace on the original object.\n",
      "\n",
      "\n",
      "  df2_cluster0['NetAmountReg'].fillna(0,inplace=True)\n"
     ]
    },
    {
     "data": {
      "text/html": [
       "<div>\n",
       "<style scoped>\n",
       "    .dataframe tbody tr th:only-of-type {\n",
       "        vertical-align: middle;\n",
       "    }\n",
       "\n",
       "    .dataframe tbody tr th {\n",
       "        vertical-align: top;\n",
       "    }\n",
       "\n",
       "    .dataframe thead th {\n",
       "        text-align: right;\n",
       "    }\n",
       "</style>\n",
       "<table border=\"1\" class=\"dataframe\">\n",
       "  <thead>\n",
       "    <tr style=\"text-align: right;\">\n",
       "      <th></th>\n",
       "      <th>month</th>\n",
       "      <th>InVolReg</th>\n",
       "      <th>OutVolReg</th>\n",
       "      <th>InVolFin</th>\n",
       "      <th>OutVolFin</th>\n",
       "      <th>TVolFin</th>\n",
       "      <th>TVolReg</th>\n",
       "      <th>NetAmountReg</th>\n",
       "      <th>WalletReg</th>\n",
       "    </tr>\n",
       "  </thead>\n",
       "  <tbody>\n",
       "    <tr>\n",
       "      <th>0</th>\n",
       "      <td>2005-02-01</td>\n",
       "      <td>50530990.0</td>\n",
       "      <td>5000.0</td>\n",
       "      <td>40465.0</td>\n",
       "      <td>0.0</td>\n",
       "      <td>40465.0</td>\n",
       "      <td>50535990.0</td>\n",
       "      <td>50525990.0</td>\n",
       "      <td>50525990.0</td>\n",
       "    </tr>\n",
       "    <tr>\n",
       "      <th>1</th>\n",
       "      <td>2005-03-01</td>\n",
       "      <td>6637242.0</td>\n",
       "      <td>6751460.0</td>\n",
       "      <td>5537.0</td>\n",
       "      <td>0.0</td>\n",
       "      <td>5537.0</td>\n",
       "      <td>13388702.0</td>\n",
       "      <td>-114218.0</td>\n",
       "      <td>50411772.0</td>\n",
       "    </tr>\n",
       "    <tr>\n",
       "      <th>2</th>\n",
       "      <td>2005-04-01</td>\n",
       "      <td>23901206.0</td>\n",
       "      <td>217491.0</td>\n",
       "      <td>107522.0</td>\n",
       "      <td>0.0</td>\n",
       "      <td>107522.0</td>\n",
       "      <td>24118697.0</td>\n",
       "      <td>23683715.0</td>\n",
       "      <td>74095487.0</td>\n",
       "    </tr>\n",
       "    <tr>\n",
       "      <th>3</th>\n",
       "      <td>2005-05-01</td>\n",
       "      <td>73669628.0</td>\n",
       "      <td>1781368.0</td>\n",
       "      <td>52363.0</td>\n",
       "      <td>0.0</td>\n",
       "      <td>52363.0</td>\n",
       "      <td>75450996.0</td>\n",
       "      <td>71888260.0</td>\n",
       "      <td>145983747.0</td>\n",
       "    </tr>\n",
       "    <tr>\n",
       "      <th>4</th>\n",
       "      <td>2005-06-01</td>\n",
       "      <td>29172398.0</td>\n",
       "      <td>3766717.0</td>\n",
       "      <td>64069.0</td>\n",
       "      <td>0.0</td>\n",
       "      <td>64069.0</td>\n",
       "      <td>32939115.0</td>\n",
       "      <td>25405681.0</td>\n",
       "      <td>171389428.0</td>\n",
       "    </tr>\n",
       "  </tbody>\n",
       "</table>\n",
       "</div>"
      ],
      "text/plain": [
       "       month    InVolReg  OutVolReg  InVolFin  OutVolFin   TVolFin  \\\n",
       "0 2005-02-01  50530990.0     5000.0   40465.0        0.0   40465.0   \n",
       "1 2005-03-01   6637242.0  6751460.0    5537.0        0.0    5537.0   \n",
       "2 2005-04-01  23901206.0   217491.0  107522.0        0.0  107522.0   \n",
       "3 2005-05-01  73669628.0  1781368.0   52363.0        0.0   52363.0   \n",
       "4 2005-06-01  29172398.0  3766717.0   64069.0        0.0   64069.0   \n",
       "\n",
       "      TVolReg  NetAmountReg    WalletReg  \n",
       "0  50535990.0    50525990.0   50525990.0  \n",
       "1  13388702.0     -114218.0   50411772.0  \n",
       "2  24118697.0    23683715.0   74095487.0  \n",
       "3  75450996.0    71888260.0  145983747.0  \n",
       "4  32939115.0    25405681.0  171389428.0  "
      ]
     },
     "execution_count": 991,
     "metadata": {},
     "output_type": "execute_result"
    }
   ],
   "source": [
    "regulating_df0['NetAmountReg'] = regulating_df0['acquired_amount'] - regulating_df0['transferred_amount']\n",
    "\n",
    "monthly_net0 = regulating_df0.groupby('month')['NetAmountReg'].sum()\n",
    "\n",
    "df2_cluster0 = pd.merge(df2_cluster0,monthly_net0,how='left',on='month')\n",
    "df2_cluster0['NetAmountReg'].fillna(0,inplace=True)\n",
    "df2_cluster0['WalletReg'] = df2_cluster0['NetAmountReg'].cumsum()\n",
    "\n",
    "\n",
    "df2_cluster0.head()"
   ]
  },
  {
   "cell_type": "code",
   "execution_count": null,
   "metadata": {},
   "outputs": [
    {
     "name": "stderr",
     "output_type": "stream",
     "text": [
      "C:\\Users\\zoero\\AppData\\Local\\Temp\\ipykernel_20544\\3903962793.py:1: SettingWithCopyWarning: \n",
      "A value is trying to be set on a copy of a slice from a DataFrame.\n",
      "Try using .loc[row_indexer,col_indexer] = value instead\n",
      "\n",
      "See the caveats in the documentation: https://pandas.pydata.org/pandas-docs/stable/user_guide/indexing.html#returning-a-view-versus-a-copy\n",
      "  financial_df0['NetAmountFin'] = financial_df0['acquired_amount'] - financial_df0['transferred_amount']\n",
      "C:\\Users\\zoero\\AppData\\Local\\Temp\\ipykernel_20544\\3903962793.py:6: FutureWarning: A value is trying to be set on a copy of a DataFrame or Series through chained assignment using an inplace method.\n",
      "The behavior will change in pandas 3.0. This inplace method will never work because the intermediate object on which we are setting values always behaves as a copy.\n",
      "\n",
      "For example, when doing 'df[col].method(value, inplace=True)', try using 'df.method({col: value}, inplace=True)' or df[col] = df[col].method(value) instead, to perform the operation inplace on the original object.\n",
      "\n",
      "\n",
      "  df2_cluster0['NetAmountFin'].fillna(0,inplace=True)\n"
     ]
    }
   ],
   "source": [
    "financial_df0['NetAmountFin'] = financial_df0['acquired_amount'] - financial_df0['transferred_amount']\n",
    "\n",
    "monthly_net0 = financial_df0.groupby('month')['NetAmountFin'].sum()\n",
    "\n",
    "df2_cluster0 = pd.merge(df2_cluster0,monthly_net0,how='left',on='month')\n",
    "df2_cluster0['NetAmountFin'].fillna(0,inplace=True)\n",
    "df2_cluster0['WalletFin'] = df2_cluster0['NetAmountFin'].cumsum()\n"
   ]
  },
  {
   "cell_type": "code",
   "execution_count": null,
   "metadata": {},
   "outputs": [
    {
     "data": {
      "image/png": "[encoded data removed]",
      "text/plain": [
       "<Figure size 1000x500 with 1 Axes>"
      ]
     },
     "metadata": {},
     "output_type": "display_data"
    }
   ],
   "source": [
    "import matplotlib.pyplot as plt\n",
    "import matplotlib.dates as mdates\n",
    "\n",
    "# Tracer la courbe\n",
    "plt.figure(figsize=(10, 5))  # Définir la taille de la figure\n",
    "plt.plot(df2_cluster0['month'], df2_cluster0['WalletReg'], marker='o', linestyle='-')  # Tracer la ligne avec des points\n",
    "\n",
    "plt.gca().xaxis.set_major_formatter(mdates.DateFormatter('%Y-%m'))\n",
    "plt.gca().xaxis.set_major_locator(mdates.AutoDateLocator())\n",
    "# Ajouter des titres et des étiquettes\n",
    "plt.title('Wallet of Regulated Entities of cluster 0')\n",
    "plt.xlabel('Month')\n",
    "plt.ylabel('Wallet')\n",
    "\n",
    "# Améliorer la mise en forme de l'axe des abscisses si nécessaire\n",
    "plt.xticks(rotation=45)  # Rotation des étiquettes de mois pour une meilleure lisibilité\n",
    "\n",
    "# Afficher le graphique\n",
    "plt.grid(True)  # Ajouter une grille\n",
    "plt.tight_layout()  # Ajuster automatiquement les paramètres de la subpot pour donner un padding qui rend tout visible\n",
    "plt.show()\n"
   ]
  },
  {
   "cell_type": "code",
   "execution_count": null,
   "metadata": {},
   "outputs": [
    {
     "data": {
      "image/png": "[encoded data removed]",
      "text/plain": [
       "<Figure size 1000x500 with 1 Axes>"
      ]
     },
     "metadata": {},
     "output_type": "display_data"
    }
   ],
   "source": [
    "import matplotlib.pyplot as plt\n",
    "import matplotlib.dates as mdates\n",
    "\n",
    "\n",
    "# Tracer la courbe\n",
    "plt.figure(figsize=(10, 5))  # Définir la taille de la figure\n",
    "plt.plot(df2_cluster1['month'], df2_cluster1['WalletFin'], marker='o', linestyle='-')  # Tracer la ligne avec des points\n",
    "\n",
    "plt.gca().xaxis.set_major_formatter(mdates.DateFormatter('%Y-%m'))\n",
    "plt.gca().xaxis.set_major_locator(mdates.AutoDateLocator())\n",
    "# Ajouter des titres et des étiquettes\n",
    "plt.title('Wallet of Financial Entities of Cluster 0')\n",
    "plt.xlabel('Month')\n",
    "plt.ylabel('Wallet')\n",
    "\n",
    "# Améliorer la mise en forme de l'axe des abscisses si nécessaire\n",
    "plt.xticks(rotation=45)  # Rotation des étiquettes de mois pour une meilleure lisibilité\n",
    "\n",
    "# Afficher le graphique\n",
    "plt.grid(True)  # Ajouter une grille\n",
    "plt.tight_layout()  # Ajuster automatiquement les paramètres de la subpot pour donner un padding qui rend tout visible\n",
    "plt.show()\n"
   ]
  },
  {
   "cell_type": "code",
   "execution_count": null,
   "metadata": {},
   "outputs": [],
   "source": [
    "df2_cluster1.drop(columns=[\"NetAmountReg\",\"NetAmountFin\"],inplace=True)\n",
    "df2_cluster0.drop(columns=[\"NetAmountReg\",\"NetAmountFin\"],inplace=True)\n",
    "df2.drop(columns=[\"NetAmountReg\",\"NetAmountFin\"],inplace=True)\n",
    "\n",
    "df2_cluster1.to_csv('wallet_data_cluster1.csv')\n",
    "df2_cluster0.to_csv('wallet_data_cluster0.csv')\n",
    "df2.to_csv('wallet_data.csv')"
   ]
  },
  {
   "cell_type": "code",
   "execution_count": null,
   "metadata": {},
   "outputs": [
    {
     "name": "stdout",
     "output_type": "stream",
     "text": [
      "Voluntary Cancellation Account (Type 3) : 68\n",
      "Party Holding Account : 267\n",
      "Retirement Account : 53\n",
      "Former Operator Holding Account : 12782\n",
      "Person Account in National Registry : 3097\n",
      "AAU Deposit Account : 27\n",
      "Net Source Cancellation Account (Type 1) : 29\n",
      "Mandatory (Cancellation Account (Type 5) : 2\n",
      "Person Holding Account : 720\n",
      "Trading Account : 1564\n",
      "National Allowance Holding Account : 135\n",
      "Gateway Deposit Account : 1\n",
      "Aircraft Operator Account : 1318\n",
      "Operator Holding Account : 13610\n",
      "Central Clearing Account : 1\n",
      "Union Allowance Deletion Account : 1\n",
      "Auction Delivery Account : 4\n",
      "Auction Account : 1\n",
      "Aviation Auction Account : 1\n",
      "Aviation Surrender Set-Aside Account : 1\n",
      "Allocation Account : 1\n",
      "Aviation Allocation Account : 1\n",
      "tCER Replacement Account for Expiry (Type 1) : 1\n",
      "EU Effort Sharing Account : 226\n"
     ]
    }
   ],
   "source": [
    "types  = df_cleaned['account_type'].unique()\n",
    "for t in types:\n",
    "   nb_account= len(df_cleaned[df_cleaned['account_type']==t]['account_id'].unique())\n",
    "   print(t,':',nb_account)\n",
    "   "
   ]
  }
 ],
 "metadata": {
  "kernelspec": {
   "display_name": "Python 3",
   "language": "python",
   "name": "python3"
  },
  "language_info": {
   "codemirror_mode": {
    "name": "ipython",
    "version": 3
   },
   "file_extension": ".py",
   "mimetype": "text/x-python",
   "name": "python",
   "nbconvert_exporter": "python",
   "pygments_lexer": "ipython3",
   "version": "3.13.0"
  }
 },
 "nbformat": 4,
 "nbformat_minor": 2
}
