{
 "cells": [
  {
   "cell_type": "markdown",
   "metadata": {},
   "source": [
    "Chow test for Cluster 0"
   ]
  },
  {
   "cell_type": "code",
   "execution_count": 49,
   "metadata": {},
   "outputs": [],
   "source": [
    "import pandas as pd"
   ]
  },
  {
   "cell_type": "code",
   "execution_count": 50,
   "metadata": {},
   "outputs": [],
   "source": [
    "cluster0 = pd.read_csv(\"data_stationnaires\\Cluster0_Phase_II.csv\")\n",
    "cluster1 = pd.read_csv(\"data_stationnaires\\Cluster1_Phase_II.csv\")"
   ]
  },
  {
   "cell_type": "code",
   "execution_count": 51,
   "metadata": {},
   "outputs": [],
   "source": [
    "cluster0.drop(columns=['Unnamed: 0'],inplace=True)\n",
    "cluster1.drop(columns=['Unnamed: 0'],inplace=True)\n",
    "\n",
    "cluster0.dropna(inplace=True)\n",
    "cluster1.dropna(inplace=True)"
   ]
  },
  {
   "cell_type": "code",
   "execution_count": 52,
   "metadata": {},
   "outputs": [],
   "source": [
    "cluster0['Date'] = pd.to_datetime(cluster0['Date'])\n",
    "\n",
    "# Split the data\n",
    "breakpoint = pd.Timestamp('2011-12-01')\n",
    "df_pre = pd.DataFrame(cluster0[cluster0['Date'] < breakpoint])\n",
    "df_post = pd.DataFrame(cluster0[cluster0['Date'] >= breakpoint])"
   ]
  },
  {
   "cell_type": "code",
   "execution_count": 53,
   "metadata": {},
   "outputs": [],
   "source": [
    "import statsmodels.api as sm\n",
    "import numpy as np\n",
    "\n",
    "#model\n",
    "def model(y,X):\n",
    "    T = len(y)\n",
    "    maxlags = int(4 * (T / 100)**(2/9)) \n",
    "    model = sm.OLS(y, X).fit()\n",
    "    robust_se_model = model.get_robustcov_results(cov_type='HAC', maxlags=maxlags)\n",
    "\n",
    "    while True:\n",
    "        current_aic = robust_se_model.aic\n",
    "        current_bic = robust_se_model.bic\n",
    "        current_adj_r_squared = robust_se_model.rsquared_adj\n",
    "        if max(robust_se_model.pvalues) > 0.05:\n",
    "            # Remove the least significant variable\n",
    "            worst_feature = int(np.argmax(robust_se_model.pvalues))\n",
    "            worst_feature = X.columns[worst_feature]\n",
    "            X_temp = X.drop(columns=[worst_feature])\n",
    "            model_temp = sm.OLS(y, X_temp).fit()\n",
    "            model_temp = model_temp.get_robustcov_results(cov_type='HAC', maxlags=maxlags)\n",
    "            \n",
    "            # Check if removing worsens AIC, BIC, or adjusted R^2\n",
    "            if model_temp.aic < current_aic and model_temp.bic < current_bic and model_temp.rsquared_adj > current_adj_r_squared:\n",
    "                X = X_temp\n",
    "                robust_se_model = model_temp\n",
    "            else:\n",
    "                break  \n",
    "        else:\n",
    "            break\n",
    "    return robust_se_model"
   ]
  },
  {
   "cell_type": "code",
   "execution_count": 54,
   "metadata": {},
   "outputs": [
    {
     "name": "stderr",
     "output_type": "stream",
     "text": [
      "c:\\Users\\zoero\\OneDrive\\Bureau\\M2\\S1\\projet tutoré\\code projet tuteuré\\Banking-EU-ETS\\.venv\\Lib\\site-packages\\statsmodels\\regression\\linear_model.py:1717: RuntimeWarning: divide by zero encountered in scalar divide\n",
      "  return np.dot(wresid, wresid) / self.df_resid\n",
      "c:\\Users\\zoero\\OneDrive\\Bureau\\M2\\S1\\projet tutoré\\code projet tuteuré\\Banking-EU-ETS\\.venv\\Lib\\site-packages\\statsmodels\\regression\\linear_model.py:1795: RuntimeWarning: divide by zero encountered in divide\n",
      "  return 1 - (np.divide(self.nobs - self.k_constant, self.df_resid)\n",
      "c:\\Users\\zoero\\OneDrive\\Bureau\\M2\\S1\\projet tutoré\\code projet tuteuré\\Banking-EU-ETS\\.venv\\Lib\\site-packages\\statsmodels\\regression\\linear_model.py:1795: RuntimeWarning: invalid value encountered in scalar multiply\n",
      "  return 1 - (np.divide(self.nobs - self.k_constant, self.df_resid)\n",
      "c:\\Users\\zoero\\OneDrive\\Bureau\\M2\\S1\\projet tutoré\\code projet tuteuré\\Banking-EU-ETS\\.venv\\Lib\\site-packages\\statsmodels\\regression\\linear_model.py:1717: RuntimeWarning: divide by zero encountered in scalar divide\n",
      "  return np.dot(wresid, wresid) / self.df_resid\n",
      "c:\\Users\\zoero\\OneDrive\\Bureau\\M2\\S1\\projet tutoré\\code projet tuteuré\\Banking-EU-ETS\\.venv\\Lib\\site-packages\\statsmodels\\regression\\linear_model.py:1795: RuntimeWarning: divide by zero encountered in divide\n",
      "  return 1 - (np.divide(self.nobs - self.k_constant, self.df_resid)\n",
      "c:\\Users\\zoero\\OneDrive\\Bureau\\M2\\S1\\projet tutoré\\code projet tuteuré\\Banking-EU-ETS\\.venv\\Lib\\site-packages\\statsmodels\\regression\\linear_model.py:1795: RuntimeWarning: invalid value encountered in scalar multiply\n",
      "  return 1 - (np.divide(self.nobs - self.k_constant, self.df_resid)\n"
     ]
    }
   ],
   "source": [
    "import statsmodels.api as sm\n",
    "\n",
    "\n",
    "X_pre = df_pre.drop(columns=['Date','Price'])\n",
    "X_pre = sm.add_constant(X_pre)  # Using index as a regressor for simplicity\n",
    "Y_pre = df_pre['Price']\n",
    "model_pre = model(Y_pre, X_pre)\n",
    "\n",
    "X_post = df_post.drop(columns=['Date','Price'])\n",
    "X_post = sm.add_constant(X_post)  # Reset index for post model\n",
    "Y_post = df_post['Price']\n",
    "model_post = model(Y_post, X_post)"
   ]
  },
  {
   "cell_type": "code",
   "execution_count": 55,
   "metadata": {},
   "outputs": [
    {
     "ename": "ValueError",
     "evalue": "shapes (43,2) and (48,) not aligned: 2 (dim 1) != 48 (dim 0)",
     "output_type": "error",
     "traceback": [
      "\u001b[1;31m---------------------------------------------------------------------------\u001b[0m",
      "\u001b[1;31mValueError\u001b[0m                                Traceback (most recent call last)",
      "Cell \u001b[1;32mIn[55], line 16\u001b[0m\n\u001b[0;32m     13\u001b[0m model_total \u001b[38;5;241m=\u001b[39m sm\u001b[38;5;241m.\u001b[39mOLS(Y_total, X_total)\u001b[38;5;241m.\u001b[39mfit()\n\u001b[0;32m     15\u001b[0m \u001b[38;5;66;03m# Perform Chow Test\u001b[39;00m\n\u001b[1;32m---> 16\u001b[0m F_statistic \u001b[38;5;241m=\u001b[39m \u001b[43mchow_test\u001b[49m\u001b[43m(\u001b[49m\u001b[43mmodel_pre\u001b[49m\u001b[43m,\u001b[49m\u001b[43m \u001b[49m\u001b[43mmodel_post\u001b[49m\u001b[43m,\u001b[49m\u001b[43m \u001b[49m\u001b[43mdf_pre\u001b[49m\u001b[43m,\u001b[49m\u001b[43m \u001b[49m\u001b[43mdf_post\u001b[49m\u001b[43m,\u001b[49m\u001b[43m \u001b[49m\u001b[43mcluster0\u001b[49m\u001b[43m)\u001b[49m\n\u001b[0;32m     17\u001b[0m \u001b[38;5;28mprint\u001b[39m(\u001b[38;5;124mf\u001b[39m\u001b[38;5;124m\"\u001b[39m\u001b[38;5;124mChow Test F-statistic: \u001b[39m\u001b[38;5;132;01m{\u001b[39;00mF_statistic\u001b[38;5;132;01m}\u001b[39;00m\u001b[38;5;124m\"\u001b[39m)\n",
      "Cell \u001b[1;32mIn[55], line 3\u001b[0m, in \u001b[0;36mchow_test\u001b[1;34m(model_pre, model_post, df_pre, df_post, total_df)\u001b[0m\n\u001b[0;32m      1\u001b[0m \u001b[38;5;28;01mdef\u001b[39;00m\u001b[38;5;250m \u001b[39m\u001b[38;5;21mchow_test\u001b[39m(model_pre, model_post, df_pre, df_post, total_df):\n\u001b[0;32m      2\u001b[0m     RSS0 \u001b[38;5;241m=\u001b[39m \u001b[38;5;28msum\u001b[39m((total_df[\u001b[38;5;124m'\u001b[39m\u001b[38;5;124mPrice\u001b[39m\u001b[38;5;124m'\u001b[39m] \u001b[38;5;241m-\u001b[39m total_df[\u001b[38;5;124m'\u001b[39m\u001b[38;5;124mPrice\u001b[39m\u001b[38;5;124m'\u001b[39m]\u001b[38;5;241m.\u001b[39mmean())\u001b[38;5;241m*\u001b[39m\u001b[38;5;241m*\u001b[39m\u001b[38;5;241m2\u001b[39m)\n\u001b[1;32m----> 3\u001b[0m     RSS1 \u001b[38;5;241m=\u001b[39m \u001b[38;5;28msum\u001b[39m((df_pre[\u001b[38;5;124m'\u001b[39m\u001b[38;5;124mPrice\u001b[39m\u001b[38;5;124m'\u001b[39m] \u001b[38;5;241m-\u001b[39m \u001b[43mmodel_pre\u001b[49m\u001b[38;5;241;43m.\u001b[39;49m\u001b[43mpredict\u001b[49m\u001b[43m(\u001b[49m\u001b[43msm\u001b[49m\u001b[38;5;241;43m.\u001b[39;49m\u001b[43madd_constant\u001b[49m\u001b[43m(\u001b[49m\u001b[43mdf_pre\u001b[49m\u001b[38;5;241;43m.\u001b[39;49m\u001b[43mindex\u001b[49m\u001b[43m)\u001b[49m\u001b[43m)\u001b[49m)\u001b[38;5;241m*\u001b[39m\u001b[38;5;241m*\u001b[39m\u001b[38;5;241m2\u001b[39m)\n\u001b[0;32m      4\u001b[0m     RSS2 \u001b[38;5;241m=\u001b[39m \u001b[38;5;28msum\u001b[39m((df_post[\u001b[38;5;124m'\u001b[39m\u001b[38;5;124mPrice\u001b[39m\u001b[38;5;124m'\u001b[39m] \u001b[38;5;241m-\u001b[39m model_post\u001b[38;5;241m.\u001b[39mpredict(sm\u001b[38;5;241m.\u001b[39madd_constant(df_post\u001b[38;5;241m.\u001b[39mindex \u001b[38;5;241m-\u001b[39m df_post\u001b[38;5;241m.\u001b[39mindex[\u001b[38;5;241m0\u001b[39m])))\u001b[38;5;241m*\u001b[39m\u001b[38;5;241m*\u001b[39m\u001b[38;5;241m2\u001b[39m)\n\u001b[0;32m      5\u001b[0m     n \u001b[38;5;241m=\u001b[39m \u001b[38;5;28mlen\u001b[39m(total_df)\n",
      "File \u001b[1;32mc:\\Users\\zoero\\OneDrive\\Bureau\\M2\\S1\\projet tutoré\\code projet tuteuré\\Banking-EU-ETS\\.venv\\Lib\\site-packages\\statsmodels\\base\\model.py:1174\u001b[0m, in \u001b[0;36mResults.predict\u001b[1;34m(self, exog, transform, *args, **kwargs)\u001b[0m\n\u001b[0;32m   1127\u001b[0m \u001b[38;5;250m\u001b[39m\u001b[38;5;124;03m\"\"\"\u001b[39;00m\n\u001b[0;32m   1128\u001b[0m \u001b[38;5;124;03mCall self.model.predict with self.params as the first argument.\u001b[39;00m\n\u001b[0;32m   1129\u001b[0m \n\u001b[1;32m   (...)\u001b[0m\n\u001b[0;32m   1169\u001b[0m \u001b[38;5;124;03mreturned prediction.\u001b[39;00m\n\u001b[0;32m   1170\u001b[0m \u001b[38;5;124;03m\"\"\"\u001b[39;00m\n\u001b[0;32m   1171\u001b[0m exog, exog_index \u001b[38;5;241m=\u001b[39m \u001b[38;5;28mself\u001b[39m\u001b[38;5;241m.\u001b[39m_transform_predict_exog(exog,\n\u001b[0;32m   1172\u001b[0m                                                 transform\u001b[38;5;241m=\u001b[39mtransform)\n\u001b[1;32m-> 1174\u001b[0m predict_results \u001b[38;5;241m=\u001b[39m \u001b[38;5;28;43mself\u001b[39;49m\u001b[38;5;241;43m.\u001b[39;49m\u001b[43mmodel\u001b[49m\u001b[38;5;241;43m.\u001b[39;49m\u001b[43mpredict\u001b[49m\u001b[43m(\u001b[49m\u001b[38;5;28;43mself\u001b[39;49m\u001b[38;5;241;43m.\u001b[39;49m\u001b[43mparams\u001b[49m\u001b[43m,\u001b[49m\u001b[43m \u001b[49m\u001b[43mexog\u001b[49m\u001b[43m,\u001b[49m\u001b[43m \u001b[49m\u001b[38;5;241;43m*\u001b[39;49m\u001b[43margs\u001b[49m\u001b[43m,\u001b[49m\n\u001b[0;32m   1175\u001b[0m \u001b[43m                                     \u001b[49m\u001b[38;5;241;43m*\u001b[39;49m\u001b[38;5;241;43m*\u001b[39;49m\u001b[43mkwargs\u001b[49m\u001b[43m)\u001b[49m\n\u001b[0;32m   1177\u001b[0m \u001b[38;5;28;01mif\u001b[39;00m exog_index \u001b[38;5;129;01mis\u001b[39;00m \u001b[38;5;129;01mnot\u001b[39;00m \u001b[38;5;28;01mNone\u001b[39;00m \u001b[38;5;129;01mand\u001b[39;00m \u001b[38;5;129;01mnot\u001b[39;00m \u001b[38;5;28mhasattr\u001b[39m(predict_results,\n\u001b[0;32m   1178\u001b[0m                                           \u001b[38;5;124m'\u001b[39m\u001b[38;5;124mpredicted_values\u001b[39m\u001b[38;5;124m'\u001b[39m):\n\u001b[0;32m   1179\u001b[0m     \u001b[38;5;28;01mif\u001b[39;00m predict_results\u001b[38;5;241m.\u001b[39mndim \u001b[38;5;241m==\u001b[39m \u001b[38;5;241m1\u001b[39m:\n",
      "File \u001b[1;32mc:\\Users\\zoero\\OneDrive\\Bureau\\M2\\S1\\projet tutoré\\code projet tuteuré\\Banking-EU-ETS\\.venv\\Lib\\site-packages\\statsmodels\\regression\\linear_model.py:409\u001b[0m, in \u001b[0;36mRegressionModel.predict\u001b[1;34m(self, params, exog)\u001b[0m\n\u001b[0;32m    406\u001b[0m \u001b[38;5;28;01mif\u001b[39;00m exog \u001b[38;5;129;01mis\u001b[39;00m \u001b[38;5;28;01mNone\u001b[39;00m:\n\u001b[0;32m    407\u001b[0m     exog \u001b[38;5;241m=\u001b[39m \u001b[38;5;28mself\u001b[39m\u001b[38;5;241m.\u001b[39mexog\n\u001b[1;32m--> 409\u001b[0m \u001b[38;5;28;01mreturn\u001b[39;00m \u001b[43mnp\u001b[49m\u001b[38;5;241;43m.\u001b[39;49m\u001b[43mdot\u001b[49m\u001b[43m(\u001b[49m\u001b[43mexog\u001b[49m\u001b[43m,\u001b[49m\u001b[43m \u001b[49m\u001b[43mparams\u001b[49m\u001b[43m)\u001b[49m\n",
      "\u001b[1;31mValueError\u001b[0m: shapes (43,2) and (48,) not aligned: 2 (dim 1) != 48 (dim 0)"
     ]
    }
   ],
   "source": [
    "def chow_test(model_pre, model_post, df_pre, df_post, total_df):\n",
    "    RSS0 = sum((total_df['Price'] - total_df['Price'].mean())**2)\n",
    "    RSS1 = sum((df_pre['Price'] - model_pre.predict(sm.add_constant(df_pre.index)))**2)\n",
    "    RSS2 = sum((df_post['Price'] - model_post.predict(sm.add_constant(df_post.index - df_post.index[0])))**2)\n",
    "    n = len(total_df)\n",
    "    k = model_pre.params.size  # Number of parameters estimated, typically includes the constant\n",
    "    F = ((RSS0 - RSS1 - RSS2) / k) / ((RSS1 + RSS2) / (n - 2 * k))\n",
    "    return F\n",
    "\n",
    "# Total data\n",
    "X_total = sm.add_constant(cluster0.index)\n",
    "Y_total = cluster0['Price']\n",
    "model_total = sm.OLS(Y_total, X_total).fit()\n",
    "\n",
    "# Perform Chow Test\n",
    "F_statistic = chow_test(model_pre, model_post, df_pre, df_post, cluster0)\n",
    "print(f\"Chow Test F-statistic: {F_statistic}\")\n"
   ]
  },
  {
   "cell_type": "code",
   "execution_count": null,
   "metadata": {},
   "outputs": [
    {
     "name": "stdout",
     "output_type": "stream",
     "text": [
      "Chow Test p-value: 0.9150000136408195\n"
     ]
    }
   ],
   "source": [
    "from scipy.stats import f\n",
    "\n",
    "n = len(cluster0)  # total number of observations\n",
    "k = model_pre.params.size  # number of parameters estimated in one model\n",
    "\n",
    "# Degrees of freedom\n",
    "dfn = k  # number of parameters estimated\n",
    "dfd = n - 2 * k  # total observations minus twice the number of estimated parameters\n",
    "\n",
    "# Calculating the p-value from the F-distribution\n",
    "p_value = 1 - f.cdf(F_statistic, dfn, dfd)\n",
    "print(f\"Chow Test p-value: {p_value}\")\n"
   ]
  }
 ],
 "metadata": {
  "kernelspec": {
   "display_name": ".venv",
   "language": "python",
   "name": "python3"
  },
  "language_info": {
   "codemirror_mode": {
    "name": "ipython",
    "version": 3
   },
   "file_extension": ".py",
   "mimetype": "text/x-python",
   "name": "python",
   "nbconvert_exporter": "python",
   "pygments_lexer": "ipython3",
   "version": "3.11.0"
  }
 },
 "nbformat": 4,
 "nbformat_minor": 2
}
