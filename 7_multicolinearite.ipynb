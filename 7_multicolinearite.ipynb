{
 "cells": [
  {
   "cell_type": "code",
   "execution_count": 1,
   "metadata": {},
   "outputs": [],
   "source": [
    "import pandas as pd\n",
    "import warnings\n",
    "from sklearn.exceptions import ConvergenceWarning\n",
    "warnings.filterwarnings(\"ignore\", category=ConvergenceWarning)"
   ]
  },
  {
   "cell_type": "code",
   "execution_count": 2,
   "metadata": {},
   "outputs": [],
   "source": [
    "\n",
    "cluster1_phase2 = pd.read_csv('data_stationnaires/Cluster1_Phase_II.csv')\n",
    "cluster1_phase3 = pd.read_csv('data_stationnaires/Cluster1_Phase_III.csv')\n",
    "cluster0_phase2 = pd.read_csv('data_stationnaires/Cluster0_Phase_II.csv')\n",
    "cluster0_phase3 = pd.read_csv('data_stationnaires/Cluster0_Phase_III.csv')\n",
    "cluster1_periode1 = pd.read_csv('data_stationnaires/Cluster1_periode1.csv')\n",
    "cluster1_periode2 = pd.read_csv('data_stationnaires/Cluster1_periode2.csv')\n",
    "cluster0_periode1 = pd.read_csv('data_stationnaires/Cluster0_periode1.csv')\n",
    "cluster0_periode2 = pd.read_csv('data_stationnaires/Cluster0_periode2.csv')"
   ]
  },
  {
   "cell_type": "code",
   "execution_count": 3,
   "metadata": {},
   "outputs": [],
   "source": [
    "from statsmodels.stats.outliers_influence import variance_inflation_factor\n",
    "import statsmodels.api as sm\n",
    "\n",
    "\n",
    "def calculate_vifs(dataframe):\n",
    "    vifs = pd.DataFrame()\n",
    "    vifs[\"Variable\"] = dataframe.columns\n",
    "    vifs[\"VIF\"] = [variance_inflation_factor(dataframe.values, i) for i in range(dataframe.shape[1])]\n",
    "    return vifs\n",
    "\n",
    "def clean_data(X):\n",
    "    removed_vars = []\n",
    "\n",
    "    # Boucle jusqu'à ce que toutes les variables aient un VIF inférieur à 10\n",
    "    while True:\n",
    "        VIFs = calculate_vifs(X)\n",
    "        # Trouve la variable avec le VIF maximum qui n'est pas const\n",
    "        max_vif = VIFs[VIFs[\"Variable\"] != 'const'].max()\n",
    "        if max_vif[\"VIF\"] < 10:\n",
    "            break  # Sort de la boucle si toutes les variables ont un VIF < 10\n",
    "        variable_to_remove = VIFs[VIFs[\"VIF\"] == max_vif[\"VIF\"]][\"Variable\"].values[0]\n",
    "        X.drop(columns=[variable_to_remove], inplace=True)\n",
    "        removed_vars.append(variable_to_remove)\n",
    "        \n",
    "    print(\"Variables removed:\", removed_vars)\n",
    "    print(VIFs)\n",
    "    return removed_vars\n",
    "\n"
   ]
  },
  {
   "cell_type": "code",
   "execution_count": 4,
   "metadata": {},
   "outputs": [
    {
     "name": "stdout",
     "output_type": "stream",
     "text": [
      "Variables removed: []\n",
      "              Variable           VIF\n",
      "0                const  9.900850e+10\n",
      "1         Unnamed: 0.1  1.611344e+00\n",
      "2             InVolReg  5.133495e+00\n",
      "3            OutVolReg  4.692022e+00\n",
      "4              TVolFin  5.430595e+00\n",
      "5            WalletReg  4.544030e+00\n",
      "6            WalletFin  2.994578e+00\n",
      "7        Coal_price_EU  2.222238e+00\n",
      "8        Ngas_price_EU  2.506534e+00\n",
      "9         Oil_price_EU  2.314259e+00\n",
      "10                 HDD  7.136893e+00\n",
      "11                 CDD  6.792028e+00\n",
      "12                 ESI  3.286293e+00\n",
      "13                 IPI  2.607870e+00\n",
      "14       InVolReg_lag2  7.416512e+00\n",
      "15      OutVolReg_lag1  2.637731e+00\n",
      "16      OutVolReg_lag2  5.845247e+00\n",
      "17       InVolFin_lag1  4.579894e+00\n",
      "18       InVolFin_lag2  6.474278e+00\n",
      "19      OutVolFin_lag2  4.455308e+00\n",
      "20        TVolFin_lag2  7.777200e+00\n",
      "21      WalletReg_lag1  3.667074e+00\n",
      "22      WalletReg_lag2  2.481071e+00\n",
      "23      WalletFin_lag1  4.538675e+00\n",
      "24      WalletFin_lag2  3.810731e+00\n",
      "25          Price_lag1  2.090020e+00\n",
      "26          Price_lag2  2.321292e+00\n",
      "27  Coal_price_EU_lag1  2.215728e+00\n",
      "28  Coal_price_EU_lag2  2.143153e+00\n",
      "29  Ngas_price_EU_lag1  2.512035e+00\n",
      "30  Ngas_price_EU_lag2  2.383103e+00\n",
      "31   Oil_price_EU_lag1  3.836121e+00\n",
      "32   Oil_price_EU_lag2  2.902822e+00\n",
      "33            HDD_lag2  8.904747e+00\n",
      "34            CDD_lag1  5.748494e+00\n",
      "35            CDD_lag2  6.726557e+00\n",
      "36            ESI_lag1  4.503510e+00\n",
      "37            IPI_lag1  2.201424e+00\n",
      "38            IPI_lag2  1.947772e+00\n"
     ]
    },
    {
     "data": {
      "text/plain": [
       "(94, 41)"
      ]
     },
     "execution_count": 4,
     "metadata": {},
     "output_type": "execute_result"
    }
   ],
   "source": [
    "X = cluster1_phase3.drop(columns=['Price', 'Date', 'Unnamed: 0'])\n",
    "X = sm.add_constant(X)\n",
    "X.dropna(inplace=True)\n",
    "removed_vars = clean_data(X)\n",
    "cluster1_phase3.drop(columns=removed_vars, inplace=True) \n",
    "cluster1_phase3.shape\n"
   ]
  },
  {
   "cell_type": "code",
   "execution_count": 5,
   "metadata": {},
   "outputs": [
    {
     "name": "stdout",
     "output_type": "stream",
     "text": [
      "Variables removed: ['WalletReg_lag1']\n",
      "              Variable           VIF\n",
      "0                const  25803.627557\n",
      "1         Unnamed: 0.1      2.089658\n",
      "2             InVolReg      4.767022\n",
      "3            OutVolReg      7.644123\n",
      "4             InVolFin      5.949276\n",
      "5            OutVolFin      3.763212\n",
      "6            WalletFin      3.426100\n",
      "7        Coal_price_EU      4.442996\n",
      "8        Ngas_price_EU      5.835166\n",
      "9         Oil_price_EU      5.687977\n",
      "10                 HDD      6.312386\n",
      "11                 IPI      3.026763\n",
      "12       InVolReg_lag2      7.784877\n",
      "13      OutVolReg_lag1      5.065151\n",
      "14      OutVolReg_lag2      6.178890\n",
      "15       InVolFin_lag1      3.639064\n",
      "16       InVolFin_lag2      4.832326\n",
      "17      OutVolFin_lag1      3.627764\n",
      "18      OutVolFin_lag2      3.607961\n",
      "19      WalletFin_lag1      5.450007\n",
      "20      WalletFin_lag2      7.669523\n",
      "21          Price_lag1      2.415097\n",
      "22          Price_lag2      2.457253\n",
      "23  Coal_price_EU_lag1      5.120313\n",
      "24  Coal_price_EU_lag2      3.555560\n",
      "25  Ngas_price_EU_lag1      4.769014\n",
      "26  Ngas_price_EU_lag2      4.809073\n",
      "27   Oil_price_EU_lag1      8.909595\n",
      "28   Oil_price_EU_lag2      4.986768\n",
      "29            HDD_lag1      4.948413\n",
      "30            CDD_lag2      3.653091\n",
      "31            ESI_lag2      4.041108\n",
      "32            IPI_lag1      3.452856\n",
      "33            IPI_lag2      2.714104\n"
     ]
    },
    {
     "data": {
      "text/plain": [
       "(59, 36)"
      ]
     },
     "execution_count": 5,
     "metadata": {},
     "output_type": "execute_result"
    }
   ],
   "source": [
    "X = cluster1_phase2.drop(columns=['Price', 'Date', 'Unnamed: 0'])\n",
    "X = sm.add_constant(X)\n",
    "X.dropna(inplace=True)\n",
    "removed_vars = clean_data(X)\n",
    "cluster1_phase2.drop(columns=removed_vars, inplace=True) \n",
    "cluster1_phase2.shape"
   ]
  },
  {
   "cell_type": "code",
   "execution_count": 6,
   "metadata": {},
   "outputs": [
    {
     "name": "stdout",
     "output_type": "stream",
     "text": [
      "Variables removed: []\n",
      "              Variable           VIF\n",
      "0                const  5.875482e+08\n",
      "1         Unnamed: 0.1  1.504614e+00\n",
      "2             InVolReg  4.191238e+00\n",
      "3            OutVolReg  5.203900e+00\n",
      "4              TVolFin  2.709047e+00\n",
      "5            WalletReg  3.723966e+00\n",
      "6            WalletFin  2.250881e+00\n",
      "7        Coal_price_EU  1.851158e+00\n",
      "8        Ngas_price_EU  2.376694e+00\n",
      "9         Oil_price_EU  2.291131e+00\n",
      "10                 HDD  8.270715e+00\n",
      "11                 CDD  7.668709e+00\n",
      "12                 ESI  2.957012e+00\n",
      "13                 IPI  2.566581e+00\n",
      "14       InVolReg_lag1  7.548327e+00\n",
      "15       InVolReg_lag2  9.526668e+00\n",
      "16      OutVolReg_lag1  7.329916e+00\n",
      "17      OutVolReg_lag2  8.854334e+00\n",
      "18      OutVolFin_lag2  3.396140e+00\n",
      "19        TVolFin_lag1  3.059906e+00\n",
      "20      WalletReg_lag1  4.434855e+00\n",
      "21      WalletReg_lag2  3.913244e+00\n",
      "22          Price_lag1  1.645574e+00\n",
      "23          Price_lag2  1.725262e+00\n",
      "24  Coal_price_EU_lag1  1.914656e+00\n",
      "25  Coal_price_EU_lag2  1.840214e+00\n",
      "26  Ngas_price_EU_lag1  2.409760e+00\n",
      "27  Ngas_price_EU_lag2  2.022111e+00\n",
      "28   Oil_price_EU_lag1  3.531669e+00\n",
      "29   Oil_price_EU_lag2  2.886508e+00\n",
      "30            HDD_lag2  8.894459e+00\n",
      "31            CDD_lag1  5.876309e+00\n",
      "32            CDD_lag2  6.969033e+00\n",
      "33            ESI_lag1  2.698399e+00\n",
      "34            ESI_lag2  2.812415e+00\n",
      "35            IPI_lag1  1.835474e+00\n",
      "36            IPI_lag2  1.897352e+00\n"
     ]
    },
    {
     "data": {
      "text/plain": [
       "(94, 39)"
      ]
     },
     "execution_count": 6,
     "metadata": {},
     "output_type": "execute_result"
    }
   ],
   "source": [
    "X = cluster0_phase3.drop(columns=['Price', 'Date', 'Unnamed: 0'])\n",
    "X = sm.add_constant(X)\n",
    "X.dropna(inplace=True)\n",
    "removed_vars = clean_data(X)\n",
    "cluster0_phase3.drop(columns=removed_vars, inplace=True) \n",
    "cluster0_phase3.shape"
   ]
  },
  {
   "cell_type": "code",
   "execution_count": 7,
   "metadata": {},
   "outputs": [
    {
     "name": "stdout",
     "output_type": "stream",
     "text": [
      "Variables removed: []\n",
      "              Variable           VIF\n",
      "0                const  29136.318408\n",
      "1         Unnamed: 0.1      6.527687\n",
      "2             InVolReg      5.370160\n",
      "3             InVolFin      3.880395\n",
      "4            OutVolFin      3.839961\n",
      "5            WalletReg      6.221025\n",
      "6            WalletFin      6.382337\n",
      "7        Coal_price_EU      4.796738\n",
      "8        Ngas_price_EU      3.779502\n",
      "9         Oil_price_EU      5.338519\n",
      "10                 HDD      6.307708\n",
      "11                 IPI      4.266049\n",
      "12       InVolReg_lag1      8.615176\n",
      "13       InVolReg_lag2      5.373570\n",
      "14      OutVolReg_lag1      6.660313\n",
      "15       InVolFin_lag1      6.793630\n",
      "16       InVolFin_lag2      4.582504\n",
      "17      OutVolFin_lag1      3.554270\n",
      "18      OutVolFin_lag2      4.938507\n",
      "19      WalletReg_lag2      4.452159\n",
      "20      WalletFin_lag2      6.255523\n",
      "21          Price_lag1      2.865827\n",
      "22          Price_lag2      2.368564\n",
      "23  Coal_price_EU_lag1      5.284723\n",
      "24  Coal_price_EU_lag2      4.307547\n",
      "25  Ngas_price_EU_lag1      5.693432\n",
      "26  Ngas_price_EU_lag2      5.067370\n",
      "27   Oil_price_EU_lag1      6.511742\n",
      "28   Oil_price_EU_lag2      3.661377\n",
      "29            HDD_lag1      4.505139\n",
      "30            CDD_lag2      3.806095\n",
      "31            ESI_lag2      3.715241\n",
      "32            IPI_lag1      2.313358\n",
      "33            IPI_lag2      2.284806\n"
     ]
    },
    {
     "data": {
      "text/plain": [
       "(58, 36)"
      ]
     },
     "execution_count": 7,
     "metadata": {},
     "output_type": "execute_result"
    }
   ],
   "source": [
    "X = cluster0_phase2.drop(columns=['Price', 'Date', 'Unnamed: 0'])\n",
    "X = sm.add_constant(X)\n",
    "X.dropna(inplace=True)\n",
    "removed_vars = clean_data(X)\n",
    "cluster0_phase2.drop(columns=removed_vars, inplace=True) \n",
    "cluster0_phase2.shape"
   ]
  },
  {
   "cell_type": "code",
   "execution_count": 8,
   "metadata": {},
   "outputs": [
    {
     "name": "stdout",
     "output_type": "stream",
     "text": [
      "Variables removed: ['Unnamed: 0.1']\n",
      "              Variable           VIF\n",
      "0                const  24550.472545\n",
      "1              TVolReg      5.223045\n",
      "2            WalletReg      7.891291\n",
      "3        Coal_price_EU      5.197935\n",
      "4        Ngas_price_EU      3.592454\n",
      "5         Oil_price_EU      4.272498\n",
      "6                  HDD      5.847825\n",
      "7                  IPI      3.480217\n",
      "8        InVolReg_lag1      7.908876\n",
      "9        InVolReg_lag2      7.423894\n",
      "10       InVolFin_lag2      7.315615\n",
      "11      OutVolFin_lag1      7.860903\n",
      "12      OutVolFin_lag2      7.539461\n",
      "13        TVolFin_lag1      6.977590\n",
      "14        TVolFin_lag2      9.828512\n",
      "15      WalletReg_lag1      7.591830\n",
      "16      WalletReg_lag2      7.513023\n",
      "17      WalletFin_lag2      3.155566\n",
      "18          Price_lag1      3.158702\n",
      "19          Price_lag2      3.187444\n",
      "20  Coal_price_EU_lag1      5.936047\n",
      "21  Coal_price_EU_lag2      4.474689\n",
      "22  Ngas_price_EU_lag1      4.885786\n",
      "23  Ngas_price_EU_lag2      5.526023\n",
      "24   Oil_price_EU_lag1      7.481553\n",
      "25   Oil_price_EU_lag2      4.614016\n",
      "26            HDD_lag1      6.954183\n",
      "27            CDD_lag2      3.592429\n",
      "28            ESI_lag2      5.200987\n",
      "29            IPI_lag1      2.646013\n",
      "30            IPI_lag2      2.182489\n"
     ]
    },
    {
     "data": {
      "text/plain": [
       "(43, 33)"
      ]
     },
     "execution_count": 8,
     "metadata": {},
     "output_type": "execute_result"
    }
   ],
   "source": [
    "X = cluster0_periode1.drop(columns=['Price', 'Date', 'Unnamed: 0'])\n",
    "X = sm.add_constant(X)\n",
    "X.dropna(inplace=True)\n",
    "removed_vars = clean_data(X)\n",
    "cluster0_periode1.drop(columns=removed_vars, inplace=True) \n",
    "cluster0_periode1.shape"
   ]
  },
  {
   "cell_type": "code",
   "execution_count": 9,
   "metadata": {},
   "outputs": [
    {
     "name": "stdout",
     "output_type": "stream",
     "text": [
      "Variables removed: []\n",
      "              Variable           VIF\n",
      "0                const  14911.123289\n",
      "1         Unnamed: 0.1      1.720764\n",
      "2             InVolReg      3.750571\n",
      "3            OutVolReg      3.816283\n",
      "4             InVolFin      2.177731\n",
      "5            OutVolFin      3.884938\n",
      "6            WalletFin      6.561803\n",
      "7        Coal_price_EU      1.729779\n",
      "8        Ngas_price_EU      2.110240\n",
      "9         Oil_price_EU      1.923210\n",
      "10                 HDD      5.963236\n",
      "11                 CDD      5.777186\n",
      "12                 IPI      1.782324\n",
      "13       InVolReg_lag1      6.829337\n",
      "14       InVolReg_lag2      7.017952\n",
      "15      OutVolReg_lag1      4.453847\n",
      "16      OutVolReg_lag2      4.916220\n",
      "17       InVolFin_lag1      2.286828\n",
      "18       InVolFin_lag2      1.627651\n",
      "19      OutVolFin_lag1      4.014247\n",
      "20      OutVolFin_lag2      4.283064\n",
      "21      WalletFin_lag2      6.049612\n",
      "22          Price_lag1      1.508094\n",
      "23          Price_lag2      1.547763\n",
      "24  Coal_price_EU_lag1      1.873017\n",
      "25  Coal_price_EU_lag2      1.672229\n",
      "26  Ngas_price_EU_lag1      2.002072\n",
      "27  Ngas_price_EU_lag2      1.733845\n",
      "28   Oil_price_EU_lag1      2.325133\n",
      "29   Oil_price_EU_lag2      1.942062\n",
      "30            HDD_lag2      9.177611\n",
      "31            CDD_lag1      4.144559\n",
      "32            CDD_lag2      7.064426\n",
      "33            IPI_lag1      1.536450\n",
      "34            IPI_lag2      1.537055\n"
     ]
    },
    {
     "data": {
      "text/plain": [
       "(105, 37)"
      ]
     },
     "execution_count": 9,
     "metadata": {},
     "output_type": "execute_result"
    }
   ],
   "source": [
    "X = cluster0_periode2.drop(columns=['Price', 'Date', 'Unnamed: 0'])\n",
    "X = sm.add_constant(X)\n",
    "X.dropna(inplace=True)\n",
    "removed_vars = clean_data(X)\n",
    "cluster0_periode2.drop(columns=removed_vars, inplace=True) \n",
    "cluster0_periode2.shape"
   ]
  },
  {
   "cell_type": "code",
   "execution_count": 10,
   "metadata": {},
   "outputs": [
    {
     "name": "stdout",
     "output_type": "stream",
     "text": [
      "Variables removed: []\n",
      "              Variable           VIF\n",
      "0                const  72200.047180\n",
      "1         Unnamed: 0.1      6.223127\n",
      "2              TVolFin      5.756368\n",
      "3              TVolReg      2.342383\n",
      "4            WalletReg      7.671663\n",
      "5            WalletFin      3.615533\n",
      "6        Coal_price_EU      2.993239\n",
      "7        Ngas_price_EU      4.353826\n",
      "8                  HDD      5.291645\n",
      "9                  IPI      3.762002\n",
      "10      OutVolReg_lag1      4.081088\n",
      "11      OutVolReg_lag2      3.273595\n",
      "12       InVolFin_lag1      3.562511\n",
      "13       InVolFin_lag2      3.892654\n",
      "14      OutVolFin_lag1      3.468488\n",
      "15      OutVolFin_lag2      5.168971\n",
      "16      WalletFin_lag1      3.755582\n",
      "17          Price_lag1      2.303000\n",
      "18          Price_lag2      2.948489\n",
      "19  Coal_price_EU_lag1      2.910734\n",
      "20  Coal_price_EU_lag2      3.224193\n",
      "21  Ngas_price_EU_lag1      3.595576\n",
      "22  Ngas_price_EU_lag2      3.729580\n",
      "23   Oil_price_EU_lag2      3.614132\n",
      "24            CDD_lag1      5.780149\n",
      "25            CDD_lag2      3.849308\n",
      "26            ESI_lag2      7.308646\n",
      "27            IPI_lag1      2.497790\n",
      "28            IPI_lag2      2.357583\n"
     ]
    },
    {
     "data": {
      "text/plain": [
       "(44, 31)"
      ]
     },
     "execution_count": 10,
     "metadata": {},
     "output_type": "execute_result"
    }
   ],
   "source": [
    "X = cluster1_periode1.drop(columns=['Price', 'Date', 'Unnamed: 0'])\n",
    "X = sm.add_constant(X)\n",
    "X.dropna(inplace=True)\n",
    "removed_vars = clean_data(X)\n",
    "cluster1_periode1.drop(columns=removed_vars, inplace=True) \n",
    "cluster1_periode1.shape"
   ]
  },
  {
   "cell_type": "code",
   "execution_count": 11,
   "metadata": {},
   "outputs": [
    {
     "name": "stdout",
     "output_type": "stream",
     "text": [
      "Variables removed: []\n",
      "              Variable       VIF\n",
      "0                const  9.826841\n",
      "1         Unnamed: 0.1  1.618376\n",
      "2             InVolReg  5.269466\n",
      "3            OutVolReg  4.463993\n",
      "4             InVolFin  3.116314\n",
      "5            OutVolFin  4.222565\n",
      "6        Coal_price_EU  1.838204\n",
      "7        Ngas_price_EU  2.137446\n",
      "8         Oil_price_EU  1.891737\n",
      "9                  HDD  5.981370\n",
      "10                 CDD  5.938100\n",
      "11                 IPI  1.954795\n",
      "12       InVolReg_lag1  8.606305\n",
      "13       InVolReg_lag2  6.921420\n",
      "14      OutVolReg_lag1  4.773585\n",
      "15      OutVolReg_lag2  5.451458\n",
      "16       InVolFin_lag1  3.627907\n",
      "17       InVolFin_lag2  3.835339\n",
      "18      OutVolFin_lag1  5.493400\n",
      "19      OutVolFin_lag2  3.445031\n",
      "20      WalletReg_lag1  8.833976\n",
      "21      WalletReg_lag2  8.175055\n",
      "22          Price_lag1  1.590164\n",
      "23          Price_lag2  1.490380\n",
      "24  Coal_price_EU_lag1  1.971622\n",
      "25  Coal_price_EU_lag2  1.669482\n",
      "26  Ngas_price_EU_lag1  2.060460\n",
      "27  Ngas_price_EU_lag2  1.849918\n",
      "28   Oil_price_EU_lag1  2.236936\n",
      "29   Oil_price_EU_lag2  1.955649\n",
      "30            HDD_lag2  9.245075\n",
      "31            CDD_lag1  4.106824\n",
      "32            CDD_lag2  6.684468\n",
      "33            IPI_lag1  1.445529\n",
      "34            IPI_lag2  1.495689\n"
     ]
    },
    {
     "data": {
      "text/plain": [
       "(105, 37)"
      ]
     },
     "execution_count": 11,
     "metadata": {},
     "output_type": "execute_result"
    }
   ],
   "source": [
    "X = cluster1_periode2.drop(columns=['Price', 'Date', 'Unnamed: 0'])\n",
    "X = sm.add_constant(X)\n",
    "X.dropna(inplace=True)\n",
    "removed_vars = clean_data(X)\n",
    "cluster1_periode2.drop(columns=removed_vars, inplace=True) \n",
    "cluster1_periode2.shape"
   ]
  },
  {
   "cell_type": "code",
   "execution_count": 12,
   "metadata": {},
   "outputs": [],
   "source": [
    "cluster1_phase2.to_csv('data_stationnaires/Cluster1_Phase_II.csv')\n",
    "cluster1_phase3.to_csv('data_stationnaires/Cluster1_Phase_III.csv')\n",
    "cluster0_phase2.to_csv('data_stationnaires/Cluster0_Phase_II.csv')\n",
    "cluster0_phase3.to_csv('data_stationnaires/Cluster0_Phase_III.csv')\n",
    "cluster1_periode1.to_csv('data_stationnaires/Cluster1_periode1.csv')\n",
    "cluster1_periode2.to_csv('data_stationnaires/Cluster1_periode2.csv')\n",
    "cluster0_periode1.to_csv('data_stationnaires/Cluster0_periode1.csv')\n",
    "cluster0_periode2.to_csv('data_stationnaires/Cluster0_periode2.csv')"
   ]
  }
 ],
 "metadata": {
  "kernelspec": {
   "display_name": ".venv",
   "language": "python",
   "name": "python3"
  },
  "language_info": {
   "codemirror_mode": {
    "name": "ipython",
    "version": 3
   },
   "file_extension": ".py",
   "mimetype": "text/x-python",
   "name": "python",
   "nbconvert_exporter": "python",
   "pygments_lexer": "ipython3",
   "version": "3.11.0"
  }
 },
 "nbformat": 4,
 "nbformat_minor": 2
}
