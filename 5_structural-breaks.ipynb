{
 "cells": [
  {
   "cell_type": "markdown",
   "metadata": {},
   "source": [
    "Chow test for Cluster 0"
   ]
  },
  {
   "cell_type": "code",
   "execution_count": 139,
   "metadata": {},
   "outputs": [],
   "source": [
    "import pandas as pd"
   ]
  },
  {
   "cell_type": "code",
   "execution_count": 140,
   "metadata": {},
   "outputs": [],
   "source": [
    "cluster0 = pd.read_csv(\"combined_data\\cluster0.csv\")\n",
    "cluster1 = pd.read_csv(\"combined_data\\cluster1.csv\")"
   ]
  },
  {
   "cell_type": "code",
   "execution_count": 141,
   "metadata": {},
   "outputs": [],
   "source": [
    "cluster0.drop(columns=['Unnamed: 0','Unnamed: 0.1','Time','month'],inplace=True)\n",
    "cluster1.drop(columns=['Unnamed: 0','Unnamed: 0.1','Time','month'],inplace=True)\n",
    "\n",
    "cluster0.dropna(inplace=True)\n",
    "cluster1.dropna(inplace=True)"
   ]
  },
  {
   "cell_type": "markdown",
   "metadata": {},
   "source": [
    "The models in each of the models (pooled, 1, 2) must have normally distributed error with mean 0, as well as independent and identically distributed errors, to satisfy the Gauss-Markov assumptions.\n",
    "\n",
    "\n",
    "= constant mean and variance without serial correlation in the residuals. "
   ]
  },
  {
   "cell_type": "code",
   "execution_count": 142,
   "metadata": {},
   "outputs": [],
   "source": [
    "cluster0['Date'] = pd.to_datetime(cluster0['Date'])\n",
    "X = cluster0.drop(columns =['Price',\"Date\"] )\n",
    "y = cluster0['Price']"
   ]
  },
  {
   "cell_type": "code",
   "execution_count": 143,
   "metadata": {},
   "outputs": [
    {
     "name": "stdout",
     "output_type": "stream",
     "text": [
      "F-statistic for the Breusch-Pagan Test the OLS model: 5.386733972075286\n",
      "p-value for the Breusch-Pagan F-Test the OLS model: 7.798736684213723e-08\n"
     ]
    }
   ],
   "source": [
    "import matplotlib.pyplot as plt\n",
    "import statsmodels.api as sm\n",
    "from statsmodels.stats.diagnostic import het_breuschpagan\n",
    "\n",
    "X = sm.add_constant(X)\n",
    "model = sm.OLS(y, X)\n",
    "\n",
    "results = model.fit()\n",
    "residuals = results.resid\n",
    "\n",
    "\n",
    "\n",
    "# tests for heteroskedasticity in the full-sample residuals\n",
    "print('F-statistic for the Breusch-Pagan Test the OLS model: ' + \n",
    "      str(het_breuschpagan(residuals, X)[2]))\n",
    "print('p-value for the Breusch-Pagan F-Test the OLS model: ' + \n",
    "      str(het_breuschpagan(residuals, X)[3]))\n"
   ]
  },
  {
   "cell_type": "markdown",
   "metadata": {},
   "source": [
    "les résidus ont de  l'hétéroskédaticité -> utiliser HAC"
   ]
  },
  {
   "cell_type": "code",
   "execution_count": 144,
   "metadata": {},
   "outputs": [
    {
     "name": "stdout",
     "output_type": "stream",
     "text": [
      "NormaltestResult(statistic=np.float64(0.851623701784599), pvalue=np.float64(0.6532392369385829))\n"
     ]
    }
   ],
   "source": [
    "from scipy.stats import normaltest\n",
    "\n",
    "# performs the normality test on the residuals from the non-differenced OLS model\n",
    "print(normaltest(residuals))"
   ]
  },
  {
   "cell_type": "markdown",
   "metadata": {},
   "source": [
    "et suit une loi normale"
   ]
  },
  {
   "cell_type": "code",
   "execution_count": 157,
   "metadata": {},
   "outputs": [],
   "source": [
    "\n",
    "# Split the data\n",
    "breakpoint = pd.Timestamp('2011-12-01')\n",
    "df_pre = pd.DataFrame(cluster0[cluster0['Date'] < breakpoint])\n",
    "df_post = pd.DataFrame(cluster0[cluster0['Date'] >= breakpoint])"
   ]
  },
  {
   "cell_type": "code",
   "execution_count": 146,
   "metadata": {},
   "outputs": [],
   "source": [
    "import statsmodels.api as sm\n",
    "\n",
    "\n",
    "X_pre = df_pre.drop(columns=['Date','Price'])\n",
    "X_pre = sm.add_constant(X_pre)  # Using index as a regressor for simplicity\n",
    "Y_pre = df_pre['Price']\n",
    "model_pre = sm.OLS(Y_pre, X_pre).fit()\n",
    "\n",
    "X_post = df_post.drop(columns=['Date','Price'])\n",
    "X_post = sm.add_constant(X_post)  # Reset index for post model\n",
    "Y_post = df_post['Price']\n",
    "model_post = sm.OLS(Y_post, X_post).fit()\n",
    "\n",
    "#gérer l''hétéroscédasticité \n",
    "T_pre = len(Y_pre)\n",
    "T_post = len(Y_post)\n",
    "maxlags_pre = int(4 * (T_pre / 100) ** (2 / 9))\n",
    "maxlags_post = int(4 * (T_post / 100) ** (2 / 9))\n",
    "\n",
    "robust_model_pre = model_pre.get_robustcov_results(cov_type='HAC', maxlags=maxlags_pre)\n",
    "robust_model_post = model_post.get_robustcov_results(cov_type='HAC', maxlags=maxlags_post)\n"
   ]
  },
  {
   "cell_type": "code",
   "execution_count": 147,
   "metadata": {},
   "outputs": [
    {
     "name": "stdout",
     "output_type": "stream",
     "text": [
      "Chow Test F-statistic: 26.304277824289944\n"
     ]
    }
   ],
   "source": [
    "def ChowTest(model_pre, model_post, df_pre, df_post, total_df):\n",
    "    RSS0 = sum((total_df['Price'] - total_df['Price'].mean())**2)\n",
    "    RSS1 = sum((df_pre['Price'] - model_pre.predict(X_pre))**2)\n",
    "    RSS2 = sum((df_post['Price'] - model_post.predict(X_post))**2)\n",
    "    n = len(total_df)\n",
    "    k = model_pre.params.size  # Number of parameters estimated, typically includes the constant\n",
    "    F = ((RSS0 - RSS1 - RSS2) / k) / ((RSS1 + RSS2) / (n - 2 * k))\n",
    "    return F\n",
    "\n",
    "# Perform Chow Test\n",
    "F_statistic= ChowTest(robust_model_pre,robust_model_post,df_pre,df_post,cluster0)\n",
    "print(f\"Chow Test F-statistic: {F_statistic}\")\n"
   ]
  },
  {
   "cell_type": "code",
   "execution_count": 148,
   "metadata": {},
   "outputs": [
    {
     "name": "stdout",
     "output_type": "stream",
     "text": [
      "Chow Test p-value: 1.1102230246251565e-16\n"
     ]
    }
   ],
   "source": [
    "from scipy.stats import f\n",
    "\n",
    "n = len(cluster0)  # total number of observations\n",
    "k =  X_pre.shape[1] + 1  # number of parameters estimated in one model\n",
    "\n",
    "# Degrees of freedom\n",
    "dfn = k  # number of parameters estimated\n",
    "dfd = n - 2 * k  # total observations minus twice the number of estimated parameters\n",
    "\n",
    "# Calculating the p-value from the F-distribution\n",
    "p_value = 1 - f.cdf(F_statistic, dfn, dfd)\n",
    "print(f\"Chow Test p-value: {p_value}\")\n"
   ]
  },
  {
   "cell_type": "markdown",
   "metadata": {},
   "source": [
    "Oui il y a un breakthrough en dec 2011"
   ]
  },
  {
   "cell_type": "markdown",
   "metadata": {},
   "source": [
    "REFAIRE POUR CLUSTER 1"
   ]
  },
  {
   "cell_type": "code",
   "execution_count": 149,
   "metadata": {},
   "outputs": [],
   "source": [
    "cluster1['Date'] = pd.to_datetime(cluster1['Date'])\n",
    "X = cluster1.drop(columns =['Price',\"Date\"] )\n",
    "y = cluster1['Price']"
   ]
  },
  {
   "cell_type": "code",
   "execution_count": 150,
   "metadata": {},
   "outputs": [
    {
     "name": "stdout",
     "output_type": "stream",
     "text": [
      "F-statistic for the Breusch-Pagan Test the OLS model: 5.093690010082673\n",
      "p-value for the Breusch-Pagan F-Test the OLS model: 2.3175660951247766e-07\n"
     ]
    }
   ],
   "source": [
    "import matplotlib.pyplot as plt\n",
    "import statsmodels.api as sm\n",
    "from statsmodels.stats.diagnostic import het_breuschpagan\n",
    "\n",
    "X = sm.add_constant(X)\n",
    "model = sm.OLS(y, X)\n",
    "\n",
    "results = model.fit()\n",
    "residuals = results.resid\n",
    "\n",
    "# tests for heteroskedasticity in the full-sample residuals\n",
    "print('F-statistic for the Breusch-Pagan Test the OLS model: ' + \n",
    "      str(het_breuschpagan(residuals, X)[2]))\n",
    "print('p-value for the Breusch-Pagan F-Test the OLS model: ' + \n",
    "      str(het_breuschpagan(residuals, X)[3]))\n"
   ]
  },
  {
   "cell_type": "markdown",
   "metadata": {},
   "source": [
    "les résidus ont de  l'hétéroskédaticité -> utiliser HAC"
   ]
  },
  {
   "cell_type": "code",
   "execution_count": 151,
   "metadata": {},
   "outputs": [
    {
     "name": "stdout",
     "output_type": "stream",
     "text": [
      "NormaltestResult(statistic=np.float64(1.4136116201345006), pvalue=np.float64(0.4932171131653922))\n"
     ]
    }
   ],
   "source": [
    "from scipy.stats import normaltest\n",
    "\n",
    "# performs the normality test on the residuals from the non-differenced OLS model\n",
    "print(normaltest(residuals))"
   ]
  },
  {
   "cell_type": "markdown",
   "metadata": {},
   "source": [
    "et suit une loi normale"
   ]
  },
  {
   "cell_type": "code",
   "execution_count": 152,
   "metadata": {},
   "outputs": [],
   "source": [
    "\n",
    "# Split the data\n",
    "breakpoint = pd.Timestamp('2011-12-01')\n",
    "df_pre = pd.DataFrame(cluster1[cluster1['Date'] < breakpoint])\n",
    "df_post = pd.DataFrame(cluster1[cluster1['Date'] >= breakpoint])"
   ]
  },
  {
   "cell_type": "code",
   "execution_count": 153,
   "metadata": {},
   "outputs": [],
   "source": [
    "import statsmodels.api as sm\n",
    "\n",
    "\n",
    "X_pre = df_pre.drop(columns=['Date','Price'])\n",
    "X_pre = sm.add_constant(X_pre)  # Using index as a regressor for simplicity\n",
    "Y_pre = df_pre['Price']\n",
    "model_pre = sm.OLS(Y_pre, X_pre).fit()\n",
    "\n",
    "X_post = df_post.drop(columns=['Date','Price'])\n",
    "X_post = sm.add_constant(X_post)  # Reset index for post model\n",
    "Y_post = df_post['Price']\n",
    "model_post = sm.OLS(Y_post, X_post).fit()\n",
    "\n",
    "#gérer l''hétéroscédasticité \n",
    "T_pre = len(Y_pre)\n",
    "T_post = len(Y_post)\n",
    "maxlags_pre = int(4 * (T_pre / 100) ** (2 / 9))\n",
    "maxlags_post = int(4 * (T_post / 100) ** (2 / 9))\n",
    "\n",
    "robust_model_pre = model_pre.get_robustcov_results(cov_type='HAC', maxlags=maxlags_pre)\n",
    "robust_model_post = model_post.get_robustcov_results(cov_type='HAC', maxlags=maxlags_post)\n"
   ]
  },
  {
   "cell_type": "code",
   "execution_count": 154,
   "metadata": {},
   "outputs": [],
   "source": [
    "F_statistic = ChowTest(model_pre,model_post,df_pre,df_post,cluster1)"
   ]
  },
  {
   "cell_type": "code",
   "execution_count": 155,
   "metadata": {},
   "outputs": [
    {
     "name": "stdout",
     "output_type": "stream",
     "text": [
      "Chow Test p-value: 1.1102230246251565e-16\n"
     ]
    }
   ],
   "source": [
    "from scipy.stats import f\n",
    "\n",
    "n = len(cluster1)  # total number of observations\n",
    "k =  X_pre.shape[1] + 1  # number of parameters estimated in one model\n",
    "\n",
    "# Degrees of freedom\n",
    "dfn = k  # number of parameters estimated\n",
    "dfd = n - 2 * k  # total observations minus twice the number of estimated parameters\n",
    "\n",
    "# Calculating the p-value from the F-distribution\n",
    "p_value = 1 - f.cdf(F_statistic, dfn, dfd)\n",
    "print(f\"Chow Test p-value: {p_value}\")\n"
   ]
  }
 ],
 "metadata": {
  "kernelspec": {
   "display_name": ".venv",
   "language": "python",
   "name": "python3"
  },
  "language_info": {
   "codemirror_mode": {
    "name": "ipython",
    "version": 3
   },
   "file_extension": ".py",
   "mimetype": "text/x-python",
   "name": "python",
   "nbconvert_exporter": "python",
   "pygments_lexer": "ipython3",
   "version": "3.11.0"
  }
 },
 "nbformat": 4,
 "nbformat_minor": 2
}
