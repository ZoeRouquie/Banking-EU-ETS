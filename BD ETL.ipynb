{
 "cells": [
  {
   "cell_type": "markdown",
   "metadata": {},
   "source": [
    "voir toutes les indications https://github.com/jabrell/pyeutl/tree/main"
   ]
  },
  {
   "cell_type": "markdown",
   "metadata": {},
   "source": [
    "Code à lancer:\n",
    "`i, n \n",
    "pip install git+https://github.com/jabrell/pyeutl.git`"
   ]
  },
  {
   "cell_type": "markdown",
   "metadata": {},
   "source": [
    "Installer postgresSQL version 16"
   ]
  },
  {
   "cell_type": "code",
   "execution_count": 2,
   "metadata": {},
   "outputs": [],
   "source": [
    "import pandas as pd"
   ]
  },
  {
   "cell_type": "markdown",
   "metadata": {},
   "source": [
    "2009 année 0\n",
    "banking 2009 = quotas alloués gratuitement - émissions vérifiées/ quotas restitués + quotas acquis aux enchères (marché primaire) + montants nets des actions sur le marchés secondaire \n",
    "\n",
    "Grouper par secteur\n",
    "\n",
    "Test 1 secteur du ciment, id = 23.51"
   ]
  },
  {
   "cell_type": "code",
   "execution_count": 1,
   "metadata": {},
   "outputs": [],
   "source": [
    "from pyeutl.orm import DataAccessLayer\n",
    "\n",
    "connectionSettings = dict(\n",
    "    user=\"postgres\", \n",
    "    host=\"localhost\", \n",
    "    db=\"eutl2024\", \n",
    "    passw=\"password\",\n",
    "    port=5432\n",
    ")\n",
    "\n"
   ]
  },
  {
   "cell_type": "markdown",
   "metadata": {},
   "source": [
    "- Rajouter dans PATH des variables système le lien vers POSTGRES:\n",
    "`C:\\Program Files\\PostgreSQL\\17\\bin`\n",
    "- Puis lancer cette commande dans le terminal pour s'assurer du bon fonctionnement des credentials donnés ci-dessus et de POSTGRES:\n",
    "`psql -h localhost -p 5432 -U postgres -W`\n",
    "\n",
    "- Si le code d'en dessous ne fonctionne toujours pas, créer une base de données appelée EU ETL\n",
    "en relançant:\n",
    "``psql -h localhost -p 5432 -U postgres -W``\n",
    "\n",
    "puis en entrant le mdp: password et puis en compilant:\n",
    "postgres=#`CREATE DATABASE eutl2024`;\n",
    "\n",
    "-> j'ai appuyé sur echap lors du pop up qui demande si il peut supprimer les tables existantes (mais peut etre inutile vue qu'il n'y a pas de tables dans eutl2024)\n",
    "\n"
   ]
  },
  {
   "cell_type": "code",
   "execution_count": 2,
   "metadata": {},
   "outputs": [],
   "source": [
    "#création de la base de données\n",
    "dal = DataAccessLayer(**connectionSettings)\n",
    "#creation de la base\n"
   ]
  },
  {
   "cell_type": "code",
   "execution_count": 3,
   "metadata": {},
   "outputs": [
    {
     "name": "stdout",
     "output_type": "stream",
     "text": [
      "No source file provided. Download data from euets.info\n",
      "#### Tables still in database ####\n",
      "---- Insert lookup tables\n",
      "---- Insert offset projects\n",
      "---- Insert installations\n",
      "---- Insert compliance data\n",
      "---- Insert surrendering data\n",
      "---- Insert account holders\n",
      "---- Insert accounts\n",
      "---- Insert transactions\n"
     ]
    }
   ],
   "source": [
    "dal.create_database()"
   ]
  }
 ],
 "metadata": {
  "kernelspec": {
   "display_name": ".venv",
   "language": "python",
   "name": "python3"
  },
  "language_info": {
   "codemirror_mode": {
    "name": "ipython",
    "version": 3
   },
   "file_extension": ".py",
   "mimetype": "text/x-python",
   "name": "python",
   "nbconvert_exporter": "python",
   "pygments_lexer": "ipython3",
   "version": "3.11.0"
  }
 },
 "nbformat": 4,
 "nbformat_minor": 2
}
