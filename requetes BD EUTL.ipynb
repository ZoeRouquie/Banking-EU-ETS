{
 "cells": [
  {
   "cell_type": "markdown",
   "metadata": {},
   "source": [
    "Je tente en utilisant les instructions dans oml2 et oml3 de faire des requetes sur les le secteur des cimentiers"
   ]
  },
  {
   "cell_type": "code",
   "execution_count": 1,
   "metadata": {},
   "outputs": [],
   "source": [
    "from pyeutl.orm import DataAccessLayer\n",
    "\n",
    "connectionSettings = dict(\n",
    "    user=\"postgres\", \n",
    "    host=\"localhost\", \n",
    "    db=\"eutl2024\", \n",
    "    passw=\"password\",\n",
    "    port=5432\n",
    ")\n",
    "\n"
   ]
  },
  {
   "cell_type": "markdown",
   "metadata": {},
   "source": [
    "- Rajouter dans PATH des variables système le lien vers POSTGRES:\n",
    "`C:\\Program Files\\PostgreSQL\\17\\bin`\n",
    "- Puis lancer cette commande dans le terminal pour s'assurer du bon fonctionnement des credentials donnés ci-dessus et de POSTGRES:\n",
    "`psql -h localhost -p 5432 -U postgres -W`\n",
    "\n",
    "- Si le code d'en dessous ne fonctionne toujours pas, créer une base de données appelée EU ETL\n",
    "en relançant:\n",
    "``psql -h localhost -p 5432 -U postgres -W``\n",
    "\n",
    "puis en entrant le mdp: password et puis en compilant:\n",
    "postgres=#`CREATE DATABASE eutl2024`;\n",
    "\n",
    "-> j'ai appuyé sur echap lors du pop up qui demande si il peut supprimer les tables existantes (mais peut etre inutile vue qu'il n'y a pas de tables dans eutl2024)\n",
    "\n"
   ]
  },
  {
   "cell_type": "code",
   "execution_count": 2,
   "metadata": {},
   "outputs": [],
   "source": [
    "#création de la base de données\n",
    "dal = DataAccessLayer(**connectionSettings)\n",
    "#creation de la base\n"
   ]
  },
  {
   "cell_type": "code",
   "execution_count": 3,
   "metadata": {},
   "outputs": [
    {
     "name": "stdout",
     "output_type": "stream",
     "text": [
      "No source file provided. Download data from euets.info\n",
      "#### Tables still in database ####\n",
      "---- Insert lookup tables\n",
      "Some entries not inserted into nace_code due to key duplication.\n",
      "Some entries not inserted into compliance_code due to key duplication.\n",
      "Some entries not inserted into country_code due to key duplication.\n",
      "Some entries not inserted into unit_type due to key duplication.\n",
      "Some entries not inserted into activity_type_code due to key duplication.\n",
      "Some entries not inserted into account_type_code due to key duplication.\n",
      "Some entries not inserted into transaction_type_supplementary_code due to key duplication.\n",
      "Some entries not inserted into transaction_type_main_code due to key duplication.\n",
      "Some entries not inserted into trading_system_code due to key duplication.\n",
      "---- Insert offset projects\n"
     ]
    },
    {
     "ename": "UniqueViolation",
     "evalue": "ERREUR:  la valeur d'une clé dupliquée rompt la contrainte unique « offset_project_pkey »\nDETAIL:  La clé « (id)=(164) » existe déjà.\nCONTEXT:  COPY offset_project, ligne 1\n",
     "output_type": "error",
     "traceback": [
      "\u001b[1;31m---------------------------------------------------------------------------\u001b[0m",
      "\u001b[1;31mUniqueViolation\u001b[0m                           Traceback (most recent call last)",
      "Cell \u001b[1;32mIn[3], line 1\u001b[0m\n\u001b[1;32m----> 1\u001b[0m \u001b[43mdal\u001b[49m\u001b[38;5;241;43m.\u001b[39;49m\u001b[43mcreate_database\u001b[49m\u001b[43m(\u001b[49m\u001b[43m)\u001b[49m\n",
      "File \u001b[1;32mc:\\Users\\zoero\\OneDrive\\Bureau\\M2\\S1\\projet tutoré\\code projet tuteuré\\Banking-EU-ETS\\.venv\\Lib\\site-packages\\pyeutl\\orm\\dataAccessLayer.py:403\u001b[0m, in \u001b[0;36mDataAccessLayer.create_database\u001b[1;34m(self, fn_source, askConfirmation)\u001b[0m\n\u001b[0;32m    401\u001b[0m \u001b[38;5;66;03m# projects\u001b[39;00m\n\u001b[0;32m    402\u001b[0m \u001b[38;5;28mprint\u001b[39m(\u001b[38;5;124m\"\u001b[39m\u001b[38;5;124m---- Insert offset projects\u001b[39m\u001b[38;5;124m\"\u001b[39m)\n\u001b[1;32m--> 403\u001b[0m \u001b[38;5;28;43mself\u001b[39;49m\u001b[38;5;241;43m.\u001b[39;49m\u001b[43minsert_df_large\u001b[49m\u001b[43m(\u001b[49m\n\u001b[0;32m    404\u001b[0m \u001b[43m    \u001b[49m\u001b[43mpd\u001b[49m\u001b[38;5;241;43m.\u001b[39;49m\u001b[43mread_csv\u001b[49m\u001b[43m(\u001b[49m\u001b[43mfzip\u001b[49m\u001b[38;5;241;43m.\u001b[39;49m\u001b[43mopen\u001b[49m\u001b[43m(\u001b[49m\u001b[38;5;124;43m\"\u001b[39;49m\u001b[38;5;124;43mproject.csv\u001b[39;49m\u001b[38;5;124;43m\"\u001b[39;49m\u001b[43m)\u001b[49m\u001b[43m)\u001b[49m\u001b[38;5;241;43m.\u001b[39;49m\u001b[43mdrop\u001b[49m\u001b[43m(\u001b[49m\n\u001b[0;32m    405\u001b[0m \u001b[43m        \u001b[49m\u001b[43m[\u001b[49m\u001b[38;5;124;43m\"\u001b[39;49m\u001b[38;5;124;43mcreated_on\u001b[39;49m\u001b[38;5;124;43m\"\u001b[39;49m\u001b[43m,\u001b[49m\u001b[43m \u001b[49m\u001b[38;5;124;43m\"\u001b[39;49m\u001b[38;5;124;43mupdated_on\u001b[39;49m\u001b[38;5;124;43m\"\u001b[39;49m\u001b[43m,\u001b[49m\u001b[43m \u001b[49m\u001b[38;5;124;43m\"\u001b[39;49m\u001b[38;5;124;43msource\u001b[39;49m\u001b[38;5;124;43m\"\u001b[39;49m\u001b[43m]\u001b[49m\u001b[43m,\u001b[49m\u001b[43m \u001b[49m\u001b[43maxis\u001b[49m\u001b[38;5;241;43m=\u001b[39;49m\u001b[38;5;241;43m1\u001b[39;49m\n\u001b[0;32m    406\u001b[0m \u001b[43m    \u001b[49m\u001b[43m)\u001b[49m\u001b[43m,\u001b[49m\n\u001b[0;32m    407\u001b[0m \u001b[43m    \u001b[49m\u001b[38;5;124;43m\"\u001b[39;49m\u001b[38;5;124;43moffset_project\u001b[39;49m\u001b[38;5;124;43m\"\u001b[39;49m\u001b[43m,\u001b[49m\n\u001b[0;32m    408\u001b[0m \u001b[43m    \u001b[49m\u001b[43mintegerColumns\u001b[49m\u001b[38;5;241;43m=\u001b[39;49m\u001b[43m[\u001b[49m\u001b[38;5;124;43m\"\u001b[39;49m\u001b[38;5;124;43mid\u001b[39;49m\u001b[38;5;124;43m\"\u001b[39;49m\u001b[43m,\u001b[49m\u001b[43m \u001b[49m\u001b[38;5;124;43m\"\u001b[39;49m\u001b[38;5;124;43mtrack\u001b[39;49m\u001b[38;5;124;43m\"\u001b[39;49m\u001b[43m]\u001b[49m\u001b[43m,\u001b[49m\n\u001b[0;32m    409\u001b[0m \u001b[43m    \u001b[49m\u001b[43mif_exists\u001b[49m\u001b[38;5;241;43m=\u001b[39;49m\u001b[38;5;124;43m\"\u001b[39;49m\u001b[38;5;124;43mappend\u001b[39;49m\u001b[38;5;124;43m\"\u001b[39;49m\u001b[43m,\u001b[49m\n\u001b[0;32m    410\u001b[0m \u001b[43m\u001b[49m\u001b[43m)\u001b[49m\n\u001b[0;32m    411\u001b[0m \u001b[38;5;66;03m# Installations\u001b[39;00m\n\u001b[0;32m    412\u001b[0m \u001b[38;5;28mprint\u001b[39m(\u001b[38;5;124m\"\u001b[39m\u001b[38;5;124m---- Insert installations\u001b[39m\u001b[38;5;124m\"\u001b[39m)\n",
      "File \u001b[1;32mc:\\Users\\zoero\\OneDrive\\Bureau\\M2\\S1\\projet tutoré\\code projet tuteuré\\Banking-EU-ETS\\.venv\\Lib\\site-packages\\pyeutl\\orm\\dataAccessLayer.py:306\u001b[0m, in \u001b[0;36mDataAccessLayer.insert_df_large\u001b[1;34m(self, df, name, integerColumns, schema, if_exists, index, index_label, chunksize, dtype)\u001b[0m\n\u001b[0;32m    304\u001b[0m         \u001b[38;5;28mprint\u001b[39m(\u001b[38;5;124m\"\u001b[39m\u001b[38;5;124m#### Commit chunck \u001b[39m\u001b[38;5;132;01m%d\u001b[39;00m\u001b[38;5;124m of \u001b[39m\u001b[38;5;132;01m%d\u001b[39;00m\u001b[38;5;124m\"\u001b[39m \u001b[38;5;241m%\u001b[39m ((i \u001b[38;5;241m+\u001b[39m \u001b[38;5;241m1\u001b[39m), \u001b[38;5;28mlen\u001b[39m(lst_df)))\n\u001b[0;32m    305\u001b[0m     \u001b[38;5;66;03m# insert data\u001b[39;00m\n\u001b[1;32m--> 306\u001b[0m     \u001b[43mdf_out\u001b[49m\u001b[38;5;241;43m.\u001b[39;49m\u001b[43mto_sql\u001b[49m\u001b[43m(\u001b[49m\n\u001b[0;32m    307\u001b[0m \u001b[43m        \u001b[49m\u001b[43mname\u001b[49m\u001b[38;5;241;43m=\u001b[39;49m\u001b[43mname\u001b[49m\u001b[43m,\u001b[49m\n\u001b[0;32m    308\u001b[0m \u001b[43m        \u001b[49m\u001b[43mcon\u001b[49m\u001b[38;5;241;43m=\u001b[39;49m\u001b[38;5;28;43mself\u001b[39;49m\u001b[38;5;241;43m.\u001b[39;49m\u001b[43mSession\u001b[49m\u001b[43m(\u001b[49m\u001b[43m)\u001b[49m\u001b[38;5;241;43m.\u001b[39;49m\u001b[43mget_bind\u001b[49m\u001b[43m(\u001b[49m\u001b[43m)\u001b[49m\u001b[43m,\u001b[49m\n\u001b[0;32m    309\u001b[0m \u001b[43m        \u001b[49m\u001b[43mif_exists\u001b[49m\u001b[38;5;241;43m=\u001b[39;49m\u001b[43mif_exists\u001b[49m\u001b[43m,\u001b[49m\n\u001b[0;32m    310\u001b[0m \u001b[43m        \u001b[49m\u001b[43mschema\u001b[49m\u001b[38;5;241;43m=\u001b[39;49m\u001b[43mschema\u001b[49m\u001b[43m,\u001b[49m\n\u001b[0;32m    311\u001b[0m \u001b[43m        \u001b[49m\u001b[43mindex\u001b[49m\u001b[38;5;241;43m=\u001b[39;49m\u001b[43mindex\u001b[49m\u001b[43m,\u001b[49m\n\u001b[0;32m    312\u001b[0m \u001b[43m        \u001b[49m\u001b[43mindex_label\u001b[49m\u001b[38;5;241;43m=\u001b[39;49m\u001b[43mindex_label\u001b[49m\u001b[43m,\u001b[49m\n\u001b[0;32m    313\u001b[0m \u001b[43m        \u001b[49m\u001b[43mdtype\u001b[49m\u001b[38;5;241;43m=\u001b[39;49m\u001b[43mdtype\u001b[49m\u001b[43m,\u001b[49m\n\u001b[0;32m    314\u001b[0m \u001b[43m        \u001b[49m\u001b[43mmethod\u001b[49m\u001b[38;5;241;43m=\u001b[39;49m\u001b[43mpsql_insert_copy\u001b[49m\u001b[43m,\u001b[49m\n\u001b[0;32m    315\u001b[0m \u001b[43m    \u001b[49m\u001b[43m)\u001b[49m\n\u001b[0;32m    316\u001b[0m \u001b[38;5;28;01mreturn\u001b[39;00m\n",
      "File \u001b[1;32mc:\\Users\\zoero\\OneDrive\\Bureau\\M2\\S1\\projet tutoré\\code projet tuteuré\\Banking-EU-ETS\\.venv\\Lib\\site-packages\\pandas\\util\\_decorators.py:333\u001b[0m, in \u001b[0;36mdeprecate_nonkeyword_arguments.<locals>.decorate.<locals>.wrapper\u001b[1;34m(*args, **kwargs)\u001b[0m\n\u001b[0;32m    327\u001b[0m \u001b[38;5;28;01mif\u001b[39;00m \u001b[38;5;28mlen\u001b[39m(args) \u001b[38;5;241m>\u001b[39m num_allow_args:\n\u001b[0;32m    328\u001b[0m     warnings\u001b[38;5;241m.\u001b[39mwarn(\n\u001b[0;32m    329\u001b[0m         msg\u001b[38;5;241m.\u001b[39mformat(arguments\u001b[38;5;241m=\u001b[39m_format_argument_list(allow_args)),\n\u001b[0;32m    330\u001b[0m         \u001b[38;5;167;01mFutureWarning\u001b[39;00m,\n\u001b[0;32m    331\u001b[0m         stacklevel\u001b[38;5;241m=\u001b[39mfind_stack_level(),\n\u001b[0;32m    332\u001b[0m     )\n\u001b[1;32m--> 333\u001b[0m \u001b[38;5;28;01mreturn\u001b[39;00m \u001b[43mfunc\u001b[49m\u001b[43m(\u001b[49m\u001b[38;5;241;43m*\u001b[39;49m\u001b[43margs\u001b[49m\u001b[43m,\u001b[49m\u001b[43m \u001b[49m\u001b[38;5;241;43m*\u001b[39;49m\u001b[38;5;241;43m*\u001b[39;49m\u001b[43mkwargs\u001b[49m\u001b[43m)\u001b[49m\n",
      "File \u001b[1;32mc:\\Users\\zoero\\OneDrive\\Bureau\\M2\\S1\\projet tutoré\\code projet tuteuré\\Banking-EU-ETS\\.venv\\Lib\\site-packages\\pandas\\core\\generic.py:3087\u001b[0m, in \u001b[0;36mNDFrame.to_sql\u001b[1;34m(self, name, con, schema, if_exists, index, index_label, chunksize, dtype, method)\u001b[0m\n\u001b[0;32m   2889\u001b[0m \u001b[38;5;250m\u001b[39m\u001b[38;5;124;03m\"\"\"\u001b[39;00m\n\u001b[0;32m   2890\u001b[0m \u001b[38;5;124;03mWrite records stored in a DataFrame to a SQL database.\u001b[39;00m\n\u001b[0;32m   2891\u001b[0m \n\u001b[1;32m   (...)\u001b[0m\n\u001b[0;32m   3083\u001b[0m \u001b[38;5;124;03m[(1,), (None,), (2,)]\u001b[39;00m\n\u001b[0;32m   3084\u001b[0m \u001b[38;5;124;03m\"\"\"\u001b[39;00m  \u001b[38;5;66;03m# noqa: E501\u001b[39;00m\n\u001b[0;32m   3085\u001b[0m \u001b[38;5;28;01mfrom\u001b[39;00m\u001b[38;5;250m \u001b[39m\u001b[38;5;21;01mpandas\u001b[39;00m\u001b[38;5;21;01m.\u001b[39;00m\u001b[38;5;21;01mio\u001b[39;00m\u001b[38;5;250m \u001b[39m\u001b[38;5;28;01mimport\u001b[39;00m sql\n\u001b[1;32m-> 3087\u001b[0m \u001b[38;5;28;01mreturn\u001b[39;00m \u001b[43msql\u001b[49m\u001b[38;5;241;43m.\u001b[39;49m\u001b[43mto_sql\u001b[49m\u001b[43m(\u001b[49m\n\u001b[0;32m   3088\u001b[0m \u001b[43m    \u001b[49m\u001b[38;5;28;43mself\u001b[39;49m\u001b[43m,\u001b[49m\n\u001b[0;32m   3089\u001b[0m \u001b[43m    \u001b[49m\u001b[43mname\u001b[49m\u001b[43m,\u001b[49m\n\u001b[0;32m   3090\u001b[0m \u001b[43m    \u001b[49m\u001b[43mcon\u001b[49m\u001b[43m,\u001b[49m\n\u001b[0;32m   3091\u001b[0m \u001b[43m    \u001b[49m\u001b[43mschema\u001b[49m\u001b[38;5;241;43m=\u001b[39;49m\u001b[43mschema\u001b[49m\u001b[43m,\u001b[49m\n\u001b[0;32m   3092\u001b[0m \u001b[43m    \u001b[49m\u001b[43mif_exists\u001b[49m\u001b[38;5;241;43m=\u001b[39;49m\u001b[43mif_exists\u001b[49m\u001b[43m,\u001b[49m\n\u001b[0;32m   3093\u001b[0m \u001b[43m    \u001b[49m\u001b[43mindex\u001b[49m\u001b[38;5;241;43m=\u001b[39;49m\u001b[43mindex\u001b[49m\u001b[43m,\u001b[49m\n\u001b[0;32m   3094\u001b[0m \u001b[43m    \u001b[49m\u001b[43mindex_label\u001b[49m\u001b[38;5;241;43m=\u001b[39;49m\u001b[43mindex_label\u001b[49m\u001b[43m,\u001b[49m\n\u001b[0;32m   3095\u001b[0m \u001b[43m    \u001b[49m\u001b[43mchunksize\u001b[49m\u001b[38;5;241;43m=\u001b[39;49m\u001b[43mchunksize\u001b[49m\u001b[43m,\u001b[49m\n\u001b[0;32m   3096\u001b[0m \u001b[43m    \u001b[49m\u001b[43mdtype\u001b[49m\u001b[38;5;241;43m=\u001b[39;49m\u001b[43mdtype\u001b[49m\u001b[43m,\u001b[49m\n\u001b[0;32m   3097\u001b[0m \u001b[43m    \u001b[49m\u001b[43mmethod\u001b[49m\u001b[38;5;241;43m=\u001b[39;49m\u001b[43mmethod\u001b[49m\u001b[43m,\u001b[49m\n\u001b[0;32m   3098\u001b[0m \u001b[43m\u001b[49m\u001b[43m)\u001b[49m\n",
      "File \u001b[1;32mc:\\Users\\zoero\\OneDrive\\Bureau\\M2\\S1\\projet tutoré\\code projet tuteuré\\Banking-EU-ETS\\.venv\\Lib\\site-packages\\pandas\\io\\sql.py:842\u001b[0m, in \u001b[0;36mto_sql\u001b[1;34m(frame, name, con, schema, if_exists, index, index_label, chunksize, dtype, method, engine, **engine_kwargs)\u001b[0m\n\u001b[0;32m    837\u001b[0m     \u001b[38;5;28;01mraise\u001b[39;00m \u001b[38;5;167;01mNotImplementedError\u001b[39;00m(\n\u001b[0;32m    838\u001b[0m         \u001b[38;5;124m\"\u001b[39m\u001b[38;5;124m'\u001b[39m\u001b[38;5;124mframe\u001b[39m\u001b[38;5;124m'\u001b[39m\u001b[38;5;124m argument should be either a Series or a DataFrame\u001b[39m\u001b[38;5;124m\"\u001b[39m\n\u001b[0;32m    839\u001b[0m     )\n\u001b[0;32m    841\u001b[0m \u001b[38;5;28;01mwith\u001b[39;00m pandasSQL_builder(con, schema\u001b[38;5;241m=\u001b[39mschema, need_transaction\u001b[38;5;241m=\u001b[39m\u001b[38;5;28;01mTrue\u001b[39;00m) \u001b[38;5;28;01mas\u001b[39;00m pandas_sql:\n\u001b[1;32m--> 842\u001b[0m     \u001b[38;5;28;01mreturn\u001b[39;00m \u001b[43mpandas_sql\u001b[49m\u001b[38;5;241;43m.\u001b[39;49m\u001b[43mto_sql\u001b[49m\u001b[43m(\u001b[49m\n\u001b[0;32m    843\u001b[0m \u001b[43m        \u001b[49m\u001b[43mframe\u001b[49m\u001b[43m,\u001b[49m\n\u001b[0;32m    844\u001b[0m \u001b[43m        \u001b[49m\u001b[43mname\u001b[49m\u001b[43m,\u001b[49m\n\u001b[0;32m    845\u001b[0m \u001b[43m        \u001b[49m\u001b[43mif_exists\u001b[49m\u001b[38;5;241;43m=\u001b[39;49m\u001b[43mif_exists\u001b[49m\u001b[43m,\u001b[49m\n\u001b[0;32m    846\u001b[0m \u001b[43m        \u001b[49m\u001b[43mindex\u001b[49m\u001b[38;5;241;43m=\u001b[39;49m\u001b[43mindex\u001b[49m\u001b[43m,\u001b[49m\n\u001b[0;32m    847\u001b[0m \u001b[43m        \u001b[49m\u001b[43mindex_label\u001b[49m\u001b[38;5;241;43m=\u001b[39;49m\u001b[43mindex_label\u001b[49m\u001b[43m,\u001b[49m\n\u001b[0;32m    848\u001b[0m \u001b[43m        \u001b[49m\u001b[43mschema\u001b[49m\u001b[38;5;241;43m=\u001b[39;49m\u001b[43mschema\u001b[49m\u001b[43m,\u001b[49m\n\u001b[0;32m    849\u001b[0m \u001b[43m        \u001b[49m\u001b[43mchunksize\u001b[49m\u001b[38;5;241;43m=\u001b[39;49m\u001b[43mchunksize\u001b[49m\u001b[43m,\u001b[49m\n\u001b[0;32m    850\u001b[0m \u001b[43m        \u001b[49m\u001b[43mdtype\u001b[49m\u001b[38;5;241;43m=\u001b[39;49m\u001b[43mdtype\u001b[49m\u001b[43m,\u001b[49m\n\u001b[0;32m    851\u001b[0m \u001b[43m        \u001b[49m\u001b[43mmethod\u001b[49m\u001b[38;5;241;43m=\u001b[39;49m\u001b[43mmethod\u001b[49m\u001b[43m,\u001b[49m\n\u001b[0;32m    852\u001b[0m \u001b[43m        \u001b[49m\u001b[43mengine\u001b[49m\u001b[38;5;241;43m=\u001b[39;49m\u001b[43mengine\u001b[49m\u001b[43m,\u001b[49m\n\u001b[0;32m    853\u001b[0m \u001b[43m        \u001b[49m\u001b[38;5;241;43m*\u001b[39;49m\u001b[38;5;241;43m*\u001b[39;49m\u001b[43mengine_kwargs\u001b[49m\u001b[43m,\u001b[49m\n\u001b[0;32m    854\u001b[0m \u001b[43m    \u001b[49m\u001b[43m)\u001b[49m\n",
      "File \u001b[1;32mc:\\Users\\zoero\\OneDrive\\Bureau\\M2\\S1\\projet tutoré\\code projet tuteuré\\Banking-EU-ETS\\.venv\\Lib\\site-packages\\pandas\\io\\sql.py:2018\u001b[0m, in \u001b[0;36mSQLDatabase.to_sql\u001b[1;34m(self, frame, name, if_exists, index, index_label, schema, chunksize, dtype, method, engine, **engine_kwargs)\u001b[0m\n\u001b[0;32m   2006\u001b[0m sql_engine \u001b[38;5;241m=\u001b[39m get_engine(engine)\n\u001b[0;32m   2008\u001b[0m table \u001b[38;5;241m=\u001b[39m \u001b[38;5;28mself\u001b[39m\u001b[38;5;241m.\u001b[39mprep_table(\n\u001b[0;32m   2009\u001b[0m     frame\u001b[38;5;241m=\u001b[39mframe,\n\u001b[0;32m   2010\u001b[0m     name\u001b[38;5;241m=\u001b[39mname,\n\u001b[1;32m   (...)\u001b[0m\n\u001b[0;32m   2015\u001b[0m     dtype\u001b[38;5;241m=\u001b[39mdtype,\n\u001b[0;32m   2016\u001b[0m )\n\u001b[1;32m-> 2018\u001b[0m total_inserted \u001b[38;5;241m=\u001b[39m \u001b[43msql_engine\u001b[49m\u001b[38;5;241;43m.\u001b[39;49m\u001b[43minsert_records\u001b[49m\u001b[43m(\u001b[49m\n\u001b[0;32m   2019\u001b[0m \u001b[43m    \u001b[49m\u001b[43mtable\u001b[49m\u001b[38;5;241;43m=\u001b[39;49m\u001b[43mtable\u001b[49m\u001b[43m,\u001b[49m\n\u001b[0;32m   2020\u001b[0m \u001b[43m    \u001b[49m\u001b[43mcon\u001b[49m\u001b[38;5;241;43m=\u001b[39;49m\u001b[38;5;28;43mself\u001b[39;49m\u001b[38;5;241;43m.\u001b[39;49m\u001b[43mcon\u001b[49m\u001b[43m,\u001b[49m\n\u001b[0;32m   2021\u001b[0m \u001b[43m    \u001b[49m\u001b[43mframe\u001b[49m\u001b[38;5;241;43m=\u001b[39;49m\u001b[43mframe\u001b[49m\u001b[43m,\u001b[49m\n\u001b[0;32m   2022\u001b[0m \u001b[43m    \u001b[49m\u001b[43mname\u001b[49m\u001b[38;5;241;43m=\u001b[39;49m\u001b[43mname\u001b[49m\u001b[43m,\u001b[49m\n\u001b[0;32m   2023\u001b[0m \u001b[43m    \u001b[49m\u001b[43mindex\u001b[49m\u001b[38;5;241;43m=\u001b[39;49m\u001b[43mindex\u001b[49m\u001b[43m,\u001b[49m\n\u001b[0;32m   2024\u001b[0m \u001b[43m    \u001b[49m\u001b[43mschema\u001b[49m\u001b[38;5;241;43m=\u001b[39;49m\u001b[43mschema\u001b[49m\u001b[43m,\u001b[49m\n\u001b[0;32m   2025\u001b[0m \u001b[43m    \u001b[49m\u001b[43mchunksize\u001b[49m\u001b[38;5;241;43m=\u001b[39;49m\u001b[43mchunksize\u001b[49m\u001b[43m,\u001b[49m\n\u001b[0;32m   2026\u001b[0m \u001b[43m    \u001b[49m\u001b[43mmethod\u001b[49m\u001b[38;5;241;43m=\u001b[39;49m\u001b[43mmethod\u001b[49m\u001b[43m,\u001b[49m\n\u001b[0;32m   2027\u001b[0m \u001b[43m    \u001b[49m\u001b[38;5;241;43m*\u001b[39;49m\u001b[38;5;241;43m*\u001b[39;49m\u001b[43mengine_kwargs\u001b[49m\u001b[43m,\u001b[49m\n\u001b[0;32m   2028\u001b[0m \u001b[43m\u001b[49m\u001b[43m)\u001b[49m\n\u001b[0;32m   2030\u001b[0m \u001b[38;5;28mself\u001b[39m\u001b[38;5;241m.\u001b[39mcheck_case_sensitive(name\u001b[38;5;241m=\u001b[39mname, schema\u001b[38;5;241m=\u001b[39mschema)\n\u001b[0;32m   2031\u001b[0m \u001b[38;5;28;01mreturn\u001b[39;00m total_inserted\n",
      "File \u001b[1;32mc:\\Users\\zoero\\OneDrive\\Bureau\\M2\\S1\\projet tutoré\\code projet tuteuré\\Banking-EU-ETS\\.venv\\Lib\\site-packages\\pandas\\io\\sql.py:1558\u001b[0m, in \u001b[0;36mSQLAlchemyEngine.insert_records\u001b[1;34m(self, table, con, frame, name, index, schema, chunksize, method, **engine_kwargs)\u001b[0m\n\u001b[0;32m   1555\u001b[0m \u001b[38;5;28;01mfrom\u001b[39;00m\u001b[38;5;250m \u001b[39m\u001b[38;5;21;01msqlalchemy\u001b[39;00m\u001b[38;5;250m \u001b[39m\u001b[38;5;28;01mimport\u001b[39;00m exc\n\u001b[0;32m   1557\u001b[0m \u001b[38;5;28;01mtry\u001b[39;00m:\n\u001b[1;32m-> 1558\u001b[0m     \u001b[38;5;28;01mreturn\u001b[39;00m \u001b[43mtable\u001b[49m\u001b[38;5;241;43m.\u001b[39;49m\u001b[43minsert\u001b[49m\u001b[43m(\u001b[49m\u001b[43mchunksize\u001b[49m\u001b[38;5;241;43m=\u001b[39;49m\u001b[43mchunksize\u001b[49m\u001b[43m,\u001b[49m\u001b[43m \u001b[49m\u001b[43mmethod\u001b[49m\u001b[38;5;241;43m=\u001b[39;49m\u001b[43mmethod\u001b[49m\u001b[43m)\u001b[49m\n\u001b[0;32m   1559\u001b[0m \u001b[38;5;28;01mexcept\u001b[39;00m exc\u001b[38;5;241m.\u001b[39mStatementError \u001b[38;5;28;01mas\u001b[39;00m err:\n\u001b[0;32m   1560\u001b[0m     \u001b[38;5;66;03m# GH34431\u001b[39;00m\n\u001b[0;32m   1561\u001b[0m     \u001b[38;5;66;03m# https://stackoverflow.com/a/67358288/6067848\u001b[39;00m\n\u001b[0;32m   1562\u001b[0m     msg \u001b[38;5;241m=\u001b[39m \u001b[38;5;124mr\u001b[39m\u001b[38;5;124m\"\"\"\u001b[39m\u001b[38;5;124m(\u001b[39m\u001b[38;5;124m\\\u001b[39m\u001b[38;5;124m(1054, \u001b[39m\u001b[38;5;124m\"\u001b[39m\u001b[38;5;124mUnknown column \u001b[39m\u001b[38;5;124m'\u001b[39m\u001b[38;5;124minf(e0)?\u001b[39m\u001b[38;5;124m'\u001b[39m\u001b[38;5;124m in \u001b[39m\u001b[38;5;124m'\u001b[39m\u001b[38;5;124mfield list\u001b[39m\u001b[38;5;124m'\u001b[39m\u001b[38;5;124m\"\u001b[39m\u001b[38;5;124m\\\u001b[39m\u001b[38;5;124m))(?#\u001b[39m\n\u001b[0;32m   1563\u001b[0m \u001b[38;5;124m    )|inf can not be used with MySQL\u001b[39m\u001b[38;5;124m\"\"\"\u001b[39m\n",
      "File \u001b[1;32mc:\\Users\\zoero\\OneDrive\\Bureau\\M2\\S1\\projet tutoré\\code projet tuteuré\\Banking-EU-ETS\\.venv\\Lib\\site-packages\\pandas\\io\\sql.py:1119\u001b[0m, in \u001b[0;36mSQLTable.insert\u001b[1;34m(self, chunksize, method)\u001b[0m\n\u001b[0;32m   1116\u001b[0m     \u001b[38;5;28;01mbreak\u001b[39;00m\n\u001b[0;32m   1118\u001b[0m chunk_iter \u001b[38;5;241m=\u001b[39m \u001b[38;5;28mzip\u001b[39m(\u001b[38;5;241m*\u001b[39m(arr[start_i:end_i] \u001b[38;5;28;01mfor\u001b[39;00m arr \u001b[38;5;129;01min\u001b[39;00m data_list))\n\u001b[1;32m-> 1119\u001b[0m num_inserted \u001b[38;5;241m=\u001b[39m \u001b[43mexec_insert\u001b[49m\u001b[43m(\u001b[49m\u001b[43mconn\u001b[49m\u001b[43m,\u001b[49m\u001b[43m \u001b[49m\u001b[43mkeys\u001b[49m\u001b[43m,\u001b[49m\u001b[43m \u001b[49m\u001b[43mchunk_iter\u001b[49m\u001b[43m)\u001b[49m\n\u001b[0;32m   1120\u001b[0m \u001b[38;5;66;03m# GH 46891\u001b[39;00m\n\u001b[0;32m   1121\u001b[0m \u001b[38;5;28;01mif\u001b[39;00m num_inserted \u001b[38;5;129;01mis\u001b[39;00m \u001b[38;5;129;01mnot\u001b[39;00m \u001b[38;5;28;01mNone\u001b[39;00m:\n",
      "File \u001b[1;32mc:\\Users\\zoero\\OneDrive\\Bureau\\M2\\S1\\projet tutoré\\code projet tuteuré\\Banking-EU-ETS\\.venv\\Lib\\site-packages\\pyeutl\\orm\\dataAccessLayer.py:270\u001b[0m, in \u001b[0;36mDataAccessLayer.insert_df_large.<locals>.psql_insert_copy\u001b[1;34m(table, con, keys, data_iter)\u001b[0m\n\u001b[0;32m    267\u001b[0m     table_name \u001b[38;5;241m=\u001b[39m table\u001b[38;5;241m.\u001b[39mname\n\u001b[0;32m    269\u001b[0m sql \u001b[38;5;241m=\u001b[39m \u001b[38;5;124m\"\u001b[39m\u001b[38;5;124mCOPY \u001b[39m\u001b[38;5;132;01m{}\u001b[39;00m\u001b[38;5;124m (\u001b[39m\u001b[38;5;132;01m{}\u001b[39;00m\u001b[38;5;124m) FROM STDIN WITH CSV\u001b[39m\u001b[38;5;124m\"\u001b[39m\u001b[38;5;241m.\u001b[39mformat(table_name, columns)\n\u001b[1;32m--> 270\u001b[0m \u001b[43mcur\u001b[49m\u001b[38;5;241;43m.\u001b[39;49m\u001b[43mcopy_expert\u001b[49m\u001b[43m(\u001b[49m\u001b[43msql\u001b[49m\u001b[38;5;241;43m=\u001b[39;49m\u001b[43msql\u001b[49m\u001b[43m,\u001b[49m\u001b[43m \u001b[49m\u001b[43mfile\u001b[49m\u001b[38;5;241;43m=\u001b[39;49m\u001b[43ms_buf\u001b[49m\u001b[43m)\u001b[49m\n",
      "\u001b[1;31mUniqueViolation\u001b[0m: ERREUR:  la valeur d'une clé dupliquée rompt la contrainte unique « offset_project_pkey »\nDETAIL:  La clé « (id)=(164) » existe déjà.\nCONTEXT:  COPY offset_project, ligne 1\n"
     ]
    }
   ],
   "source": [
    "dal.create_database()"
   ]
  },
  {
   "cell_type": "code",
   "execution_count": 4,
   "metadata": {},
   "outputs": [],
   "source": [
    "from pyeutl.orm import Installation       # EUETS Installation object\n",
    "import pandas as pd\n",
    "import matplotlib.pyplot as plt\n",
    "%matplotlib inline\n",
    "\n",
    "session = dal.session"
   ]
  },
  {
   "cell_type": "markdown",
   "metadata": {},
   "source": [
    "## Partie 1: Cimentiers"
   ]
  },
  {
   "cell_type": "code",
   "execution_count": 5,
   "metadata": {},
   "outputs": [],
   "source": [
    "from pyeutl.orm import NaceCode\n",
    "from sqlalchemy import select,func\n",
    "session.rollback()  # Annule la transaction en cours\n"
   ]
  },
  {
   "cell_type": "code",
   "execution_count": 6,
   "metadata": {},
   "outputs": [
    {
     "name": "stdout",
     "output_type": "stream",
     "text": [
      "Installations liées au NACE 23.51 : 306\n"
     ]
    }
   ],
   "source": [
    "from pyeutl.orm import Installation, Transaction,Account\n",
    "\n",
    "stmt = select(Installation.id).where(Installation.nace_id == \"23.51\")\n",
    "cement_installation_ids = session.scalars(stmt).all()\n",
    "\n",
    "print(f\"Installations liées au NACE 23.51 : {len(cement_installation_ids)}\")\n"
   ]
  },
  {
   "cell_type": "code",
   "execution_count": 7,
   "metadata": {},
   "outputs": [
    {
     "name": "stdout",
     "output_type": "stream",
     "text": [
      " Comptes liés aux installations cimentières : 585\n"
     ]
    }
   ],
   "source": [
    "stmt = select(Account.id).where(Account.installation_id.in_(cement_installation_ids))\n",
    "cement_account_ids = session.scalars(stmt).all()\n",
    "\n",
    "print(f\" Comptes liés aux installations cimentières : {len(cement_account_ids)}\")\n"
   ]
  },
  {
   "cell_type": "code",
   "execution_count": 8,
   "metadata": {},
   "outputs": [
    {
     "name": "stdout",
     "output_type": "stream",
     "text": [
      "Transactions aquisitions liées aux comptes de cimentiers : [(Decimal('2005'), Decimal('96549992')), (Decimal('2006'), Decimal('228448629')), (Decimal('2007'), Decimal('175344449')), (Decimal('2008'), Decimal('249789363')), (Decimal('2009'), Decimal('205596087')), (Decimal('2010'), Decimal('226149636')), (Decimal('2011'), Decimal('243529860')), (Decimal('2012'), Decimal('257476583')), (Decimal('2013'), Decimal('96342330')), (Decimal('2014'), Decimal('304091369')), (Decimal('2015'), Decimal('164973993')), (Decimal('2016'), Decimal('153008360')), (Decimal('2017'), Decimal('152221148')), (Decimal('2018'), Decimal('150270122')), (Decimal('2019'), Decimal('152682502')), (Decimal('2020'), Decimal('162552671')), (Decimal('2021'), Decimal('71120591'))]\n"
     ]
    }
   ],
   "source": [
    "stmt = select(\n",
    "    func.extract('year', Transaction.date), \n",
    "    func.sum(Transaction.amount)).where(\n",
    "    (Transaction.acquiringAccount_id.in_(cement_account_ids)) \n",
    ").group_by(func.extract('year', Transaction.date)).order_by(func.extract('year', Transaction.date))\n",
    "cement_acquiring_amounts = session.execute(stmt).fetchall()\n",
    "\n",
    "print(f\"Transactions aquisitions liées aux comptes de cimentiers : {cement_acquiring_amounts}\")\n"
   ]
  },
  {
   "cell_type": "code",
   "execution_count": 9,
   "metadata": {},
   "outputs": [
    {
     "name": "stdout",
     "output_type": "stream",
     "text": [
      "Transactions transfert liées aux comptes de cimentiers : [(Decimal('2005'), Decimal('3731703')), (Decimal('2006'), Decimal('177388117')), (Decimal('2007'), Decimal('168395349')), (Decimal('2008'), Decimal('284013233')), (Decimal('2009'), Decimal('209185354')), (Decimal('2010'), Decimal('229630091')), (Decimal('2011'), Decimal('248625118')), (Decimal('2012'), Decimal('239326358')), (Decimal('2013'), Decimal('191910252')), (Decimal('2014'), Decimal('217667449')), (Decimal('2015'), Decimal('163739439')), (Decimal('2016'), Decimal('162467114')), (Decimal('2017'), Decimal('143171833')), (Decimal('2018'), Decimal('153653519')), (Decimal('2019'), Decimal('158572721')), (Decimal('2020'), Decimal('159556744')), (Decimal('2021'), Decimal('143248735'))]\n"
     ]
    }
   ],
   "source": [
    "stmt = select(func.extract('year', Transaction.date), \n",
    "    func.sum(Transaction.amount)).where(\n",
    "    (Transaction.transferringAccount_id.in_(cement_account_ids)) \n",
    ").group_by(func.extract('year', Transaction.date)).order_by(func.extract('year', Transaction.date))\n",
    "cement_sending_amounts = session.execute(stmt).fetchall()\n",
    "\n",
    "print(f\"Transactions transfert liées aux comptes de cimentiers : {cement_sending_amounts}\")\n"
   ]
  },
  {
   "cell_type": "markdown",
   "metadata": {},
   "source": [
    "1) Les allocations du marché primaire, mise aux en enchères:\n",
    "amount avec transferringAccount dans cette liste:\n",
    "- ICE UK Auction Trust Account -DECC\n",
    "- ECC AG Handel\n",
    "- ECC AG Handel Backup\n",
    "- ECC Luxembourg SARL Primärhandel\n",
    "\n"
   ]
  },
  {
   "cell_type": "code",
   "execution_count": 10,
   "metadata": {},
   "outputs": [
    {
     "data": {
      "text/plain": [
       "[106390, 106468, 106346, 106347]"
      ]
     },
     "execution_count": 10,
     "metadata": {},
     "output_type": "execute_result"
    }
   ],
   "source": [
    "#recupérer les IDS des comptes institutionnels \n",
    "\n",
    "institution_names = [\n",
    "    \"UK Auction Trust Account - DECC\",\n",
    "    \"ECC AG Handel\",\n",
    "    \"ECC AG Handel Backup\",\n",
    "    \"ECC Luxemburg Sarl Primärhandel\"\n",
    "]\n",
    "\n",
    "# Requête pour récupérer les account_id correspondants\n",
    "stmt = select(Account.id).where(Account.name.in_(institution_names))\n",
    "institution_accounts_ids = session.scalars(stmt).all()\n",
    "institution_accounts_ids"
   ]
  },
  {
   "cell_type": "code",
   "execution_count": 11,
   "metadata": {},
   "outputs": [
    {
     "name": "stdout",
     "output_type": "stream",
     "text": [
      " Année: 2012 |  Nb de transferts: 249 |  Somme des transferts: 144789283\n",
      " Année: 2013 |  Nb de transferts: 2049 |  Somme des transferts: 879271586\n",
      " Année: 2014 |  Nb de transferts: 1633 |  Somme des transferts: 650569634\n",
      " Année: 2015 |  Nb de transferts: 1606 |  Somme des transferts: 687410667\n",
      " Année: 2016 |  Nb de transferts: 1983 |  Somme des transferts: 795655187\n",
      " Année: 2017 |  Nb de transferts: 1927 |  Somme des transferts: 1007313194\n",
      " Année: 2018 |  Nb de transferts: 2124 |  Somme des transferts: 1058901054\n",
      " Année: 2019 |  Nb de transferts: 2007 |  Somme des transferts: 734710610\n",
      " Année: 2020 |  Nb de transferts: 2183 |  Somme des transferts: 843192222\n",
      " Année: 2021 |  Nb de transferts: 1777 |  Somme des transferts: 467609193\n"
     ]
    }
   ],
   "source": [
    "# 🔹 Requête pour obtenir le nombre de transactions et la somme des montants par année\n",
    "stmt = select(\n",
    "    func.extract('year', Transaction.date).label(\"year\"),  # Extraction de l'année\n",
    "    func.count(Transaction.id).label(\"transaction_count\"),  # Nombre de transactions\n",
    "    func.sum(Transaction.amount).label(\"total_amount\")  # Somme des montants\n",
    ").where(\n",
    "    Transaction.transferringAccount_id.in_(institution_accounts_ids)  # Correction du champ\n",
    ").group_by(\n",
    "    func.extract('year', Transaction.date)  # Regrouper par année\n",
    ").order_by(\n",
    "    func.extract('year', Transaction.date)  # Trier par année\n",
    ")\n",
    "\n",
    "# 🔹 Exécution de la requête\n",
    "institutions_transactions = session.execute(stmt).fetchall()\n",
    "\n",
    "# 🔹 Affichage des résultats\n",
    "for inst in institutions_transactions:\n",
    "    print(f\" Année: {inst[0]} |  Nb de transferts: {inst[1]} |  Somme des transferts: {inst[2]}\")\n"
   ]
  },
  {
   "cell_type": "markdown",
   "metadata": {},
   "source": [
    "Remarque 1: Très peu de transaction en nombre de la part des institutions ...?\n",
    "\n",
    "Remarque 2: Ne commencent qu'en 2012?? \n"
   ]
  },
  {
   "cell_type": "code",
   "execution_count": 12,
   "metadata": {},
   "outputs": [
    {
     "data": {
      "text/plain": [
       "[]"
      ]
     },
     "execution_count": 12,
     "metadata": {},
     "output_type": "execute_result"
    }
   ],
   "source": [
    "#dans la liste des transactions de cimentier, recupérer les transactions avec\n",
    "# les transfering account = institutions\n",
    "stmt = select(Transaction.id).where(\n",
    "    (Transaction.acquiringAccount_id.in_(institution_accounts_ids)) \n",
    "    &(Transaction.acquiringAccount_id.in_(cement_account_ids))\n",
    ")\n",
    "#\n",
    "# Exécution de la requête\n",
    "cement_allocations_id = session.scalars(stmt).all()\n",
    "cement_allocations_id\n"
   ]
  },
  {
   "cell_type": "markdown",
   "metadata": {},
   "source": [
    "-> Pas d'achat sur le marché primaire pour les cimentiers ?"
   ]
  },
  {
   "cell_type": "markdown",
   "metadata": {},
   "source": [
    "Allocations gratuites:"
   ]
  },
  {
   "cell_type": "code",
   "execution_count": 13,
   "metadata": {},
   "outputs": [
    {
     "name": "stdout",
     "output_type": "stream",
     "text": [
      "[(2005, 154923557), (2006, 153998306), (2007, 164650197), (2008, 175593363), (2009, 176877004), (2010, 177577397), (2011, 177429573), (2012, 178920716), (2013, 140369930), (2014, 127346436), (2015, 126357518), (2016, 126269932), (2017, 122253151), (2018, 119133395), (2019, 118402668), (2020, 115867744), (2021, 95908534), (2022, 96324415), (2023, 96504330), (2024, 93930256), (2025, 93930256), (2026, 0), (2027, 0), (2028, 0), (2029, 0), (2030, 0)]\n"
     ]
    }
   ],
   "source": [
    "from pyeutl.orm import Compliance\n",
    "\n",
    "from sqlalchemy import func\n",
    "stmt = select(\n",
    "    Compliance.year,  # Group by year\n",
    "    func.sum(Compliance.allocatedTotal)  # Sum of allocatedTotal\n",
    ").where(Compliance.installation_id.in_(cement_installation_ids)).group_by(Compliance.year).order_by(Compliance.year)\n",
    "\n",
    "# Exécution de la requête\n",
    "cement_allocation_free_amount = session.execute(stmt).fetchall()\n",
    "print(cement_allocation_free_amount[:100])"
   ]
  },
  {
   "cell_type": "markdown",
   "metadata": {},
   "source": [
    "Emissions emises :"
   ]
  },
  {
   "cell_type": "code",
   "execution_count": 14,
   "metadata": {},
   "outputs": [
    {
     "name": "stdout",
     "output_type": "stream",
     "text": [
      "[(2005, 107721245), (2006, 188733096), (2007, 165435663), (2008, 155380174), (2009, 132275858), (2010, 123928165), (2011, 116785844), (2012, 97546288), (2013, 112086086), (2014, 117104328), (2015, 114805273), (2016, 115734815), (2017, 118196692), (2018, 119769616), (2019, 119765316), (2020, 112705566), (2021, 109923093), (2022, 101970934), (2023, 94427540), (2024, 187736)]\n"
     ]
    }
   ],
   "source": [
    "from pyeutl.orm import Surrender\n",
    "\n",
    "smt = select( Surrender.year ,func.sum(Surrender.amount)\n",
    "             ).where(\n",
    "                 Surrender.installation_id.in_(cement_installation_ids) \n",
    "             ).group_by(Surrender.year).order_by(Surrender.year)\n",
    "cement_emissions_amount = session.execute(smt).fetchall()\n",
    "print(cement_emissions_amount)\n"
   ]
  },
  {
   "cell_type": "markdown",
   "metadata": {},
   "source": [
    "Remarque 3: L'année devrait commencer le 1er mai en t en finir en 30 avril en t+1 mais Surrender, Compliance ne nous donnent qu'une année pas de mois, jours \n",
    "\n",
    "idée: aller relire Description EUTL pour voir si infos sur le \"calcul\" de l'année"
   ]
  },
  {
   "cell_type": "code",
   "execution_count": 23,
   "metadata": {},
   "outputs": [
    {
     "data": {
      "text/html": [
       "<div>\n",
       "<style scoped>\n",
       "    .dataframe tbody tr th:only-of-type {\n",
       "        vertical-align: middle;\n",
       "    }\n",
       "\n",
       "    .dataframe tbody tr th {\n",
       "        vertical-align: top;\n",
       "    }\n",
       "\n",
       "    .dataframe thead th {\n",
       "        text-align: right;\n",
       "    }\n",
       "</style>\n",
       "<table border=\"1\" class=\"dataframe\">\n",
       "  <thead>\n",
       "    <tr style=\"text-align: right;\">\n",
       "      <th></th>\n",
       "      <th>Year</th>\n",
       "      <th>Acquiring Amount</th>\n",
       "      <th>Sending Amount</th>\n",
       "      <th>Allocated Free Amount</th>\n",
       "      <th>Emissions Amount</th>\n",
       "      <th>Transactions Nettes</th>\n",
       "      <th>Montant total acquis</th>\n",
       "    </tr>\n",
       "  </thead>\n",
       "  <tbody>\n",
       "    <tr>\n",
       "      <th>0</th>\n",
       "      <td>2005</td>\n",
       "      <td>96549992</td>\n",
       "      <td>3731703</td>\n",
       "      <td>154923557</td>\n",
       "      <td>107721245.0</td>\n",
       "      <td>92818289</td>\n",
       "      <td>247741846</td>\n",
       "    </tr>\n",
       "    <tr>\n",
       "      <th>1</th>\n",
       "      <td>2006</td>\n",
       "      <td>228448629</td>\n",
       "      <td>177388117</td>\n",
       "      <td>153998306</td>\n",
       "      <td>188733096.0</td>\n",
       "      <td>51060512</td>\n",
       "      <td>205058818</td>\n",
       "    </tr>\n",
       "    <tr>\n",
       "      <th>2</th>\n",
       "      <td>2007</td>\n",
       "      <td>175344449</td>\n",
       "      <td>168395349</td>\n",
       "      <td>164650197</td>\n",
       "      <td>165435663.0</td>\n",
       "      <td>6949100</td>\n",
       "      <td>171599297</td>\n",
       "    </tr>\n",
       "    <tr>\n",
       "      <th>3</th>\n",
       "      <td>2008</td>\n",
       "      <td>249789363</td>\n",
       "      <td>284013233</td>\n",
       "      <td>175593363</td>\n",
       "      <td>155380174.0</td>\n",
       "      <td>-34223870</td>\n",
       "      <td>141369493</td>\n",
       "    </tr>\n",
       "    <tr>\n",
       "      <th>4</th>\n",
       "      <td>2009</td>\n",
       "      <td>205596087</td>\n",
       "      <td>209185354</td>\n",
       "      <td>176877004</td>\n",
       "      <td>132275858.0</td>\n",
       "      <td>-3589267</td>\n",
       "      <td>173287737</td>\n",
       "    </tr>\n",
       "    <tr>\n",
       "      <th>5</th>\n",
       "      <td>2010</td>\n",
       "      <td>226149636</td>\n",
       "      <td>229630091</td>\n",
       "      <td>177577397</td>\n",
       "      <td>123928165.0</td>\n",
       "      <td>-3480455</td>\n",
       "      <td>174096942</td>\n",
       "    </tr>\n",
       "    <tr>\n",
       "      <th>6</th>\n",
       "      <td>2011</td>\n",
       "      <td>243529860</td>\n",
       "      <td>248625118</td>\n",
       "      <td>177429573</td>\n",
       "      <td>116785844.0</td>\n",
       "      <td>-5095258</td>\n",
       "      <td>172334315</td>\n",
       "    </tr>\n",
       "    <tr>\n",
       "      <th>7</th>\n",
       "      <td>2012</td>\n",
       "      <td>257476583</td>\n",
       "      <td>239326358</td>\n",
       "      <td>178920716</td>\n",
       "      <td>97546288.0</td>\n",
       "      <td>18150225</td>\n",
       "      <td>197070941</td>\n",
       "    </tr>\n",
       "    <tr>\n",
       "      <th>8</th>\n",
       "      <td>2013</td>\n",
       "      <td>96342330</td>\n",
       "      <td>191910252</td>\n",
       "      <td>140369930</td>\n",
       "      <td>112086086.0</td>\n",
       "      <td>-95567922</td>\n",
       "      <td>44802008</td>\n",
       "    </tr>\n",
       "    <tr>\n",
       "      <th>9</th>\n",
       "      <td>2014</td>\n",
       "      <td>304091369</td>\n",
       "      <td>217667449</td>\n",
       "      <td>127346436</td>\n",
       "      <td>117104328.0</td>\n",
       "      <td>86423920</td>\n",
       "      <td>213770356</td>\n",
       "    </tr>\n",
       "    <tr>\n",
       "      <th>10</th>\n",
       "      <td>2015</td>\n",
       "      <td>164973993</td>\n",
       "      <td>163739439</td>\n",
       "      <td>126357518</td>\n",
       "      <td>114805273.0</td>\n",
       "      <td>1234554</td>\n",
       "      <td>127592072</td>\n",
       "    </tr>\n",
       "    <tr>\n",
       "      <th>11</th>\n",
       "      <td>2016</td>\n",
       "      <td>153008360</td>\n",
       "      <td>162467114</td>\n",
       "      <td>126269932</td>\n",
       "      <td>115734815.0</td>\n",
       "      <td>-9458754</td>\n",
       "      <td>116811178</td>\n",
       "    </tr>\n",
       "    <tr>\n",
       "      <th>12</th>\n",
       "      <td>2017</td>\n",
       "      <td>152221148</td>\n",
       "      <td>143171833</td>\n",
       "      <td>122253151</td>\n",
       "      <td>118196692.0</td>\n",
       "      <td>9049315</td>\n",
       "      <td>131302466</td>\n",
       "    </tr>\n",
       "    <tr>\n",
       "      <th>13</th>\n",
       "      <td>2018</td>\n",
       "      <td>150270122</td>\n",
       "      <td>153653519</td>\n",
       "      <td>119133395</td>\n",
       "      <td>119769616.0</td>\n",
       "      <td>-3383397</td>\n",
       "      <td>115749998</td>\n",
       "    </tr>\n",
       "    <tr>\n",
       "      <th>14</th>\n",
       "      <td>2019</td>\n",
       "      <td>152682502</td>\n",
       "      <td>158572721</td>\n",
       "      <td>118402668</td>\n",
       "      <td>119765316.0</td>\n",
       "      <td>-5890219</td>\n",
       "      <td>112512449</td>\n",
       "    </tr>\n",
       "    <tr>\n",
       "      <th>15</th>\n",
       "      <td>2020</td>\n",
       "      <td>162552671</td>\n",
       "      <td>159556744</td>\n",
       "      <td>115867744</td>\n",
       "      <td>112705566.0</td>\n",
       "      <td>2995927</td>\n",
       "      <td>118863671</td>\n",
       "    </tr>\n",
       "    <tr>\n",
       "      <th>16</th>\n",
       "      <td>2021</td>\n",
       "      <td>71120591</td>\n",
       "      <td>143248735</td>\n",
       "      <td>95908534</td>\n",
       "      <td>109923093.0</td>\n",
       "      <td>-72128144</td>\n",
       "      <td>23780390</td>\n",
       "    </tr>\n",
       "    <tr>\n",
       "      <th>17</th>\n",
       "      <td>2022</td>\n",
       "      <td>0</td>\n",
       "      <td>0</td>\n",
       "      <td>96324415</td>\n",
       "      <td>101970934.0</td>\n",
       "      <td>0</td>\n",
       "      <td>96324415</td>\n",
       "    </tr>\n",
       "    <tr>\n",
       "      <th>18</th>\n",
       "      <td>2023</td>\n",
       "      <td>0</td>\n",
       "      <td>0</td>\n",
       "      <td>96504330</td>\n",
       "      <td>94427540.0</td>\n",
       "      <td>0</td>\n",
       "      <td>96504330</td>\n",
       "    </tr>\n",
       "    <tr>\n",
       "      <th>19</th>\n",
       "      <td>2024</td>\n",
       "      <td>0</td>\n",
       "      <td>0</td>\n",
       "      <td>93930256</td>\n",
       "      <td>187736.0</td>\n",
       "      <td>0</td>\n",
       "      <td>93930256</td>\n",
       "    </tr>\n",
       "    <tr>\n",
       "      <th>20</th>\n",
       "      <td>2025</td>\n",
       "      <td>0</td>\n",
       "      <td>0</td>\n",
       "      <td>93930256</td>\n",
       "      <td>0.0</td>\n",
       "      <td>0</td>\n",
       "      <td>93930256</td>\n",
       "    </tr>\n",
       "    <tr>\n",
       "      <th>21</th>\n",
       "      <td>2026</td>\n",
       "      <td>0</td>\n",
       "      <td>0</td>\n",
       "      <td>0</td>\n",
       "      <td>0.0</td>\n",
       "      <td>0</td>\n",
       "      <td>0</td>\n",
       "    </tr>\n",
       "    <tr>\n",
       "      <th>22</th>\n",
       "      <td>2027</td>\n",
       "      <td>0</td>\n",
       "      <td>0</td>\n",
       "      <td>0</td>\n",
       "      <td>0.0</td>\n",
       "      <td>0</td>\n",
       "      <td>0</td>\n",
       "    </tr>\n",
       "    <tr>\n",
       "      <th>23</th>\n",
       "      <td>2028</td>\n",
       "      <td>0</td>\n",
       "      <td>0</td>\n",
       "      <td>0</td>\n",
       "      <td>0.0</td>\n",
       "      <td>0</td>\n",
       "      <td>0</td>\n",
       "    </tr>\n",
       "    <tr>\n",
       "      <th>24</th>\n",
       "      <td>2029</td>\n",
       "      <td>0</td>\n",
       "      <td>0</td>\n",
       "      <td>0</td>\n",
       "      <td>0.0</td>\n",
       "      <td>0</td>\n",
       "      <td>0</td>\n",
       "    </tr>\n",
       "    <tr>\n",
       "      <th>25</th>\n",
       "      <td>2030</td>\n",
       "      <td>0</td>\n",
       "      <td>0</td>\n",
       "      <td>0</td>\n",
       "      <td>0.0</td>\n",
       "      <td>0</td>\n",
       "      <td>0</td>\n",
       "    </tr>\n",
       "  </tbody>\n",
       "</table>\n",
       "</div>"
      ],
      "text/plain": [
       "    Year Acquiring Amount Sending Amount  Allocated Free Amount  \\\n",
       "0   2005         96549992        3731703              154923557   \n",
       "1   2006        228448629      177388117              153998306   \n",
       "2   2007        175344449      168395349              164650197   \n",
       "3   2008        249789363      284013233              175593363   \n",
       "4   2009        205596087      209185354              176877004   \n",
       "5   2010        226149636      229630091              177577397   \n",
       "6   2011        243529860      248625118              177429573   \n",
       "7   2012        257476583      239326358              178920716   \n",
       "8   2013         96342330      191910252              140369930   \n",
       "9   2014        304091369      217667449              127346436   \n",
       "10  2015        164973993      163739439              126357518   \n",
       "11  2016        153008360      162467114              126269932   \n",
       "12  2017        152221148      143171833              122253151   \n",
       "13  2018        150270122      153653519              119133395   \n",
       "14  2019        152682502      158572721              118402668   \n",
       "15  2020        162552671      159556744              115867744   \n",
       "16  2021         71120591      143248735               95908534   \n",
       "17  2022                0              0               96324415   \n",
       "18  2023                0              0               96504330   \n",
       "19  2024                0              0               93930256   \n",
       "20  2025                0              0               93930256   \n",
       "21  2026                0              0                      0   \n",
       "22  2027                0              0                      0   \n",
       "23  2028                0              0                      0   \n",
       "24  2029                0              0                      0   \n",
       "25  2030                0              0                      0   \n",
       "\n",
       "    Emissions Amount Transactions Nettes Montant total acquis  \n",
       "0        107721245.0            92818289            247741846  \n",
       "1        188733096.0            51060512            205058818  \n",
       "2        165435663.0             6949100            171599297  \n",
       "3        155380174.0           -34223870            141369493  \n",
       "4        132275858.0            -3589267            173287737  \n",
       "5        123928165.0            -3480455            174096942  \n",
       "6        116785844.0            -5095258            172334315  \n",
       "7         97546288.0            18150225            197070941  \n",
       "8        112086086.0           -95567922             44802008  \n",
       "9        117104328.0            86423920            213770356  \n",
       "10       114805273.0             1234554            127592072  \n",
       "11       115734815.0            -9458754            116811178  \n",
       "12       118196692.0             9049315            131302466  \n",
       "13       119769616.0            -3383397            115749998  \n",
       "14       119765316.0            -5890219            112512449  \n",
       "15       112705566.0             2995927            118863671  \n",
       "16       109923093.0           -72128144             23780390  \n",
       "17       101970934.0                   0             96324415  \n",
       "18        94427540.0                   0             96504330  \n",
       "19          187736.0                   0             93930256  \n",
       "20               0.0                   0             93930256  \n",
       "21               0.0                   0                    0  \n",
       "22               0.0                   0                    0  \n",
       "23               0.0                   0                    0  \n",
       "24               0.0                   0                    0  \n",
       "25               0.0                   0                    0  "
      ]
     },
     "execution_count": 23,
     "metadata": {},
     "output_type": "execute_result"
    }
   ],
   "source": [
    "import pandas as pd\n",
    "\n",
    "#  Transformer chaque liste de tuples en DataFrame\n",
    "df_acquiring = pd.DataFrame(cement_acquiring_amounts, columns=[\"Year\", \"Acquiring Amount\"])\n",
    "df_sending = pd.DataFrame(cement_sending_amounts, columns=[\"Year\", \"Sending Amount\"])\n",
    "df_allocation = pd.DataFrame(cement_allocation_free_amount, columns=[\"Year\", \"Allocated Free Amount\"])\n",
    "df_emissions = pd.DataFrame(cement_emissions_amount, columns=[\"Year\", \"Emissions Amount\"])\n",
    "\n",
    "#  Fusionner les DataFrames sur \"Year\"\n",
    "df_merged = df_acquiring \\\n",
    "    .merge(df_sending, on=\"Year\", how=\"outer\") \\\n",
    "    .merge(df_allocation, on=\"Year\", how=\"outer\") \\\n",
    "    .merge(df_emissions, on=\"Year\", how=\"outer\")\n",
    "\n",
    "#  Remplacer les NaN par 0 pour éviter les valeurs manquantes\n",
    "df_merged.fillna(0, inplace=True)\n",
    "df_merged[\"Transactions Nettes\"] = df_merged[\"Acquiring Amount\"] - df_merged[\"Sending Amount\"]\n",
    "df_merged[\"Montant total acquis\"] = df_merged[\"Transactions Nettes\"] + df_merged[\"Allocated Free Amount\"]\n",
    "\n",
    "#  Trier par année\n",
    "df_merged = df_merged.sort_values(by=\"Year\")\n",
    "df_merged\n"
   ]
  },
  {
   "cell_type": "code",
   "execution_count": 25,
   "metadata": {},
   "outputs": [
    {
     "data": {
      "image/png": "[encoded data removed]",
      "text/plain": [
       "<Figure size 1000x500 with 1 Axes>"
      ]
     },
     "metadata": {},
     "output_type": "display_data"
    }
   ],
   "source": [
    "import matplotlib.pyplot as plt\n",
    "\n",
    "plt.figure(figsize=(10, 5))\n",
    "\n",
    "# Tracer les courbes\n",
    "plt.plot(df_merged[\"Year\"], df_merged[\"Montant total acquis\"], label=\"Montant total acquis\", marker=\"o\")\n",
    "plt.plot(df_merged[\"Year\"], df_merged[\"Emissions Amount\"], label=\"Emissions Amount\", marker=\"d\")\n",
    "\n",
    "# Ajouter des légendes et titres\n",
    "plt.xlabel(\"Année\")\n",
    "plt.ylabel(\"Montants\")\n",
    "plt.title(\"Évolution Allocation et Émissions\")\n",
    "plt.legend()\n",
    "plt.grid(True)\n",
    "\n",
    "#  Affichage du graphique\n",
    "plt.show()"
   ]
  }
 ],
 "metadata": {
  "kernelspec": {
   "display_name": ".venv",
   "language": "python",
   "name": "python3"
  },
  "language_info": {
   "codemirror_mode": {
    "name": "ipython",
    "version": 3
   },
   "file_extension": ".py",
   "mimetype": "text/x-python",
   "name": "python",
   "nbconvert_exporter": "python",
   "pygments_lexer": "ipython3",
   "version": "3.11.0"
  }
 },
 "nbformat": 4,
 "nbformat_minor": 2
}
