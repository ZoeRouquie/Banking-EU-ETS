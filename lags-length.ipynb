{
 "cells": [
  {
   "cell_type": "code",
   "execution_count": 164,
   "metadata": {},
   "outputs": [],
   "source": [
    "import pandas as pd\n",
    "\n",
    "cluster1_phase2 = pd.read_csv('data_stationnaires/Cluster1_Phase_II.csv')\n",
    "cluster1_phase3 = pd.read_csv('data_stationnaires/Cluster1_Phase_III.csv')\n",
    "cluster0_phase2 = pd.read_csv('data_stationnaires/Cluster0_Phase_II.csv')\n",
    "cluster0_phase3 = pd.read_csv('data_stationnaires/Cluster0_Phase_III.csv')\n"
   ]
  },
  {
   "cell_type": "code",
   "execution_count": 165,
   "metadata": {},
   "outputs": [
    {
     "data": {
      "text/plain": [
       "18"
      ]
     },
     "execution_count": 165,
     "metadata": {},
     "output_type": "execute_result"
    }
   ],
   "source": [
    "len(cluster1_phase3.columns)"
   ]
  },
  {
   "cell_type": "code",
   "execution_count": 166,
   "metadata": {},
   "outputs": [],
   "source": [
    "cluster1_phase2.drop(columns=['Unnamed: 0'],inplace=True)\n",
    "cluster1_phase3.drop(columns=['Unnamed: 0'],inplace=True)\n",
    "cluster0_phase3.drop(columns=['Unnamed: 0'],inplace=True)\n",
    "cluster0_phase2.drop(columns=['Unnamed: 0'],inplace=True)\n",
    "cluster1_phase2.dropna(inplace=True)\n",
    "cluster1_phase3.dropna(inplace=True)\n",
    "cluster0_phase2.dropna(inplace=True)\n",
    "cluster0_phase3.dropna(inplace=True)"
   ]
  },
  {
   "cell_type": "code",
   "execution_count": null,
   "metadata": {},
   "outputs": [],
   "source": [
    "import numpy as np\n",
    "import statsmodels.api as sm\n",
    "\n",
    "from statsmodels.tsa.ar_model import AutoReg\n",
    "\n",
    "\n",
    "\n",
    "\n",
    "# Déterminer le nombre optimal de lags\n",
    "def determine_lags(data):\n",
    "    AIC = {}\n",
    "    BIC = {}\n",
    "    HQ = {}\n",
    "    T = len(data)\n",
    "    maxlags = int(4 * (T / 100)**(2/9)) \n",
    "    for lag in range(0, maxlags+1):  \n",
    "        model = AutoReg(data, lags=lag, old_names=False)\n",
    "        model_fitted = model.fit()\n",
    "        AIC[lag] = model_fitted.aic\n",
    "        BIC[lag] = model_fitted.bic\n",
    "        HQ[lag] = model_fitted.hqic\n",
    "        \n",
    "    print(AIC)\n",
    "    minAIC = min(AIC, key=AIC.get)\n",
    "    minBIC = min(BIC, key=BIC.get)\n",
    "    minHQ = min(HQ, key=HQ.get)\n",
    "    \n",
    "    return minAIC, minBIC, minHQ\n",
    "\n",
    "# Appliquer la fonction à vos données\n",
    "\n",
    "\n"
   ]
  },
  {
   "cell_type": "code",
   "execution_count": 172,
   "metadata": {},
   "outputs": [
    {
     "name": "stderr",
     "output_type": "stream",
     "text": [
      "c:\\Users\\zoero\\OneDrive\\Bureau\\M2\\S1\\projet tutoré\\code projet tuteuré\\Banking-EU-ETS\\.venv\\Lib\\site-packages\\statsmodels\\tsa\\base\\tsa_model.py:473: ValueWarning: An unsupported index was provided. As a result, forecasts cannot be generated. To use the model for forecasting, use one of the supported classes of index.\n",
      "  self._init_dates(dates, freq)\n",
      "c:\\Users\\zoero\\OneDrive\\Bureau\\M2\\S1\\projet tutoré\\code projet tuteuré\\Banking-EU-ETS\\.venv\\Lib\\site-packages\\statsmodels\\tsa\\base\\tsa_model.py:473: ValueWarning: An unsupported index was provided. As a result, forecasts cannot be generated. To use the model for forecasting, use one of the supported classes of index.\n",
      "  self._init_dates(dates, freq)\n",
      "c:\\Users\\zoero\\OneDrive\\Bureau\\M2\\S1\\projet tutoré\\code projet tuteuré\\Banking-EU-ETS\\.venv\\Lib\\site-packages\\statsmodels\\tsa\\base\\tsa_model.py:473: ValueWarning: An unsupported index was provided. As a result, forecasts cannot be generated. To use the model for forecasting, use one of the supported classes of index.\n",
      "  self._init_dates(dates, freq)\n",
      "c:\\Users\\zoero\\OneDrive\\Bureau\\M2\\S1\\projet tutoré\\code projet tuteuré\\Banking-EU-ETS\\.venv\\Lib\\site-packages\\statsmodels\\tsa\\base\\tsa_model.py:473: ValueWarning: An unsupported index was provided. As a result, forecasts cannot be generated. To use the model for forecasting, use one of the supported classes of index.\n",
      "  self._init_dates(dates, freq)\n",
      "c:\\Users\\zoero\\OneDrive\\Bureau\\M2\\S1\\projet tutoré\\code projet tuteuré\\Banking-EU-ETS\\.venv\\Lib\\site-packages\\statsmodels\\tsa\\base\\tsa_model.py:473: ValueWarning: An unsupported index was provided. As a result, forecasts cannot be generated. To use the model for forecasting, use one of the supported classes of index.\n",
      "  self._init_dates(dates, freq)\n",
      "c:\\Users\\zoero\\OneDrive\\Bureau\\M2\\S1\\projet tutoré\\code projet tuteuré\\Banking-EU-ETS\\.venv\\Lib\\site-packages\\statsmodels\\tsa\\base\\tsa_model.py:473: ValueWarning: An unsupported index was provided. As a result, forecasts cannot be generated. To use the model for forecasting, use one of the supported classes of index.\n",
      "  self._init_dates(dates, freq)\n",
      "c:\\Users\\zoero\\OneDrive\\Bureau\\M2\\S1\\projet tutoré\\code projet tuteuré\\Banking-EU-ETS\\.venv\\Lib\\site-packages\\statsmodels\\tsa\\base\\tsa_model.py:473: ValueWarning: An unsupported index was provided. As a result, forecasts cannot be generated. To use the model for forecasting, use one of the supported classes of index.\n",
      "  self._init_dates(dates, freq)\n",
      "c:\\Users\\zoero\\OneDrive\\Bureau\\M2\\S1\\projet tutoré\\code projet tuteuré\\Banking-EU-ETS\\.venv\\Lib\\site-packages\\statsmodels\\tsa\\base\\tsa_model.py:473: ValueWarning: An unsupported index was provided. As a result, forecasts cannot be generated. To use the model for forecasting, use one of the supported classes of index.\n",
      "  self._init_dates(dates, freq)\n",
      "c:\\Users\\zoero\\OneDrive\\Bureau\\M2\\S1\\projet tutoré\\code projet tuteuré\\Banking-EU-ETS\\.venv\\Lib\\site-packages\\statsmodels\\tsa\\base\\tsa_model.py:473: ValueWarning: An unsupported index was provided. As a result, forecasts cannot be generated. To use the model for forecasting, use one of the supported classes of index.\n",
      "  self._init_dates(dates, freq)\n",
      "c:\\Users\\zoero\\OneDrive\\Bureau\\M2\\S1\\projet tutoré\\code projet tuteuré\\Banking-EU-ETS\\.venv\\Lib\\site-packages\\statsmodels\\tsa\\base\\tsa_model.py:473: ValueWarning: An unsupported index was provided. As a result, forecasts cannot be generated. To use the model for forecasting, use one of the supported classes of index.\n",
      "  self._init_dates(dates, freq)\n",
      "c:\\Users\\zoero\\OneDrive\\Bureau\\M2\\S1\\projet tutoré\\code projet tuteuré\\Banking-EU-ETS\\.venv\\Lib\\site-packages\\statsmodels\\tsa\\base\\tsa_model.py:473: ValueWarning: An unsupported index was provided. As a result, forecasts cannot be generated. To use the model for forecasting, use one of the supported classes of index.\n",
      "  self._init_dates(dates, freq)\n",
      "c:\\Users\\zoero\\OneDrive\\Bureau\\M2\\S1\\projet tutoré\\code projet tuteuré\\Banking-EU-ETS\\.venv\\Lib\\site-packages\\statsmodels\\tsa\\base\\tsa_model.py:473: ValueWarning: An unsupported index was provided. As a result, forecasts cannot be generated. To use the model for forecasting, use one of the supported classes of index.\n",
      "  self._init_dates(dates, freq)\n",
      "c:\\Users\\zoero\\OneDrive\\Bureau\\M2\\S1\\projet tutoré\\code projet tuteuré\\Banking-EU-ETS\\.venv\\Lib\\site-packages\\statsmodels\\tsa\\base\\tsa_model.py:473: ValueWarning: An unsupported index was provided. As a result, forecasts cannot be generated. To use the model for forecasting, use one of the supported classes of index.\n",
      "  self._init_dates(dates, freq)\n",
      "c:\\Users\\zoero\\OneDrive\\Bureau\\M2\\S1\\projet tutoré\\code projet tuteuré\\Banking-EU-ETS\\.venv\\Lib\\site-packages\\statsmodels\\tsa\\base\\tsa_model.py:473: ValueWarning: An unsupported index was provided. As a result, forecasts cannot be generated. To use the model for forecasting, use one of the supported classes of index.\n",
      "  self._init_dates(dates, freq)\n",
      "c:\\Users\\zoero\\OneDrive\\Bureau\\M2\\S1\\projet tutoré\\code projet tuteuré\\Banking-EU-ETS\\.venv\\Lib\\site-packages\\statsmodels\\tsa\\base\\tsa_model.py:473: ValueWarning: An unsupported index was provided. As a result, forecasts cannot be generated. To use the model for forecasting, use one of the supported classes of index.\n",
      "  self._init_dates(dates, freq)\n",
      "c:\\Users\\zoero\\OneDrive\\Bureau\\M2\\S1\\projet tutoré\\code projet tuteuré\\Banking-EU-ETS\\.venv\\Lib\\site-packages\\statsmodels\\tsa\\base\\tsa_model.py:473: ValueWarning: An unsupported index was provided. As a result, forecasts cannot be generated. To use the model for forecasting, use one of the supported classes of index.\n",
      "  self._init_dates(dates, freq)\n",
      "c:\\Users\\zoero\\OneDrive\\Bureau\\M2\\S1\\projet tutoré\\code projet tuteuré\\Banking-EU-ETS\\.venv\\Lib\\site-packages\\statsmodels\\tsa\\base\\tsa_model.py:473: ValueWarning: An unsupported index was provided. As a result, forecasts cannot be generated. To use the model for forecasting, use one of the supported classes of index.\n",
      "  self._init_dates(dates, freq)\n",
      "c:\\Users\\zoero\\OneDrive\\Bureau\\M2\\S1\\projet tutoré\\code projet tuteuré\\Banking-EU-ETS\\.venv\\Lib\\site-packages\\statsmodels\\tsa\\base\\tsa_model.py:473: ValueWarning: An unsupported index was provided. As a result, forecasts cannot be generated. To use the model for forecasting, use one of the supported classes of index.\n",
      "  self._init_dates(dates, freq)\n",
      "c:\\Users\\zoero\\OneDrive\\Bureau\\M2\\S1\\projet tutoré\\code projet tuteuré\\Banking-EU-ETS\\.venv\\Lib\\site-packages\\statsmodels\\tsa\\base\\tsa_model.py:473: ValueWarning: An unsupported index was provided. As a result, forecasts cannot be generated. To use the model for forecasting, use one of the supported classes of index.\n",
      "  self._init_dates(dates, freq)\n",
      "c:\\Users\\zoero\\OneDrive\\Bureau\\M2\\S1\\projet tutoré\\code projet tuteuré\\Banking-EU-ETS\\.venv\\Lib\\site-packages\\statsmodels\\tsa\\base\\tsa_model.py:473: ValueWarning: An unsupported index was provided. As a result, forecasts cannot be generated. To use the model for forecasting, use one of the supported classes of index.\n",
      "  self._init_dates(dates, freq)\n",
      "c:\\Users\\zoero\\OneDrive\\Bureau\\M2\\S1\\projet tutoré\\code projet tuteuré\\Banking-EU-ETS\\.venv\\Lib\\site-packages\\statsmodels\\tsa\\base\\tsa_model.py:473: ValueWarning: An unsupported index was provided. As a result, forecasts cannot be generated. To use the model for forecasting, use one of the supported classes of index.\n",
      "  self._init_dates(dates, freq)\n",
      "c:\\Users\\zoero\\OneDrive\\Bureau\\M2\\S1\\projet tutoré\\code projet tuteuré\\Banking-EU-ETS\\.venv\\Lib\\site-packages\\statsmodels\\tsa\\base\\tsa_model.py:473: ValueWarning: An unsupported index was provided. As a result, forecasts cannot be generated. To use the model for forecasting, use one of the supported classes of index.\n",
      "  self._init_dates(dates, freq)\n",
      "c:\\Users\\zoero\\OneDrive\\Bureau\\M2\\S1\\projet tutoré\\code projet tuteuré\\Banking-EU-ETS\\.venv\\Lib\\site-packages\\statsmodels\\tsa\\base\\tsa_model.py:473: ValueWarning: An unsupported index was provided. As a result, forecasts cannot be generated. To use the model for forecasting, use one of the supported classes of index.\n",
      "  self._init_dates(dates, freq)\n",
      "c:\\Users\\zoero\\OneDrive\\Bureau\\M2\\S1\\projet tutoré\\code projet tuteuré\\Banking-EU-ETS\\.venv\\Lib\\site-packages\\statsmodels\\tsa\\base\\tsa_model.py:473: ValueWarning: An unsupported index was provided. As a result, forecasts cannot be generated. To use the model for forecasting, use one of the supported classes of index.\n",
      "  self._init_dates(dates, freq)\n",
      "c:\\Users\\zoero\\OneDrive\\Bureau\\M2\\S1\\projet tutoré\\code projet tuteuré\\Banking-EU-ETS\\.venv\\Lib\\site-packages\\statsmodels\\tsa\\base\\tsa_model.py:473: ValueWarning: An unsupported index was provided. As a result, forecasts cannot be generated. To use the model for forecasting, use one of the supported classes of index.\n",
      "  self._init_dates(dates, freq)\n",
      "c:\\Users\\zoero\\OneDrive\\Bureau\\M2\\S1\\projet tutoré\\code projet tuteuré\\Banking-EU-ETS\\.venv\\Lib\\site-packages\\statsmodels\\tsa\\base\\tsa_model.py:473: ValueWarning: An unsupported index was provided. As a result, forecasts cannot be generated. To use the model for forecasting, use one of the supported classes of index.\n",
      "  self._init_dates(dates, freq)\n",
      "c:\\Users\\zoero\\OneDrive\\Bureau\\M2\\S1\\projet tutoré\\code projet tuteuré\\Banking-EU-ETS\\.venv\\Lib\\site-packages\\statsmodels\\tsa\\base\\tsa_model.py:473: ValueWarning: An unsupported index was provided. As a result, forecasts cannot be generated. To use the model for forecasting, use one of the supported classes of index.\n",
      "  self._init_dates(dates, freq)\n",
      "c:\\Users\\zoero\\OneDrive\\Bureau\\M2\\S1\\projet tutoré\\code projet tuteuré\\Banking-EU-ETS\\.venv\\Lib\\site-packages\\statsmodels\\tsa\\base\\tsa_model.py:473: ValueWarning: An unsupported index was provided. As a result, forecasts cannot be generated. To use the model for forecasting, use one of the supported classes of index.\n",
      "  self._init_dates(dates, freq)\n",
      "c:\\Users\\zoero\\OneDrive\\Bureau\\M2\\S1\\projet tutoré\\code projet tuteuré\\Banking-EU-ETS\\.venv\\Lib\\site-packages\\statsmodels\\tsa\\base\\tsa_model.py:473: ValueWarning: An unsupported index was provided. As a result, forecasts cannot be generated. To use the model for forecasting, use one of the supported classes of index.\n",
      "  self._init_dates(dates, freq)\n",
      "c:\\Users\\zoero\\OneDrive\\Bureau\\M2\\S1\\projet tutoré\\code projet tuteuré\\Banking-EU-ETS\\.venv\\Lib\\site-packages\\statsmodels\\tsa\\base\\tsa_model.py:473: ValueWarning: An unsupported index was provided. As a result, forecasts cannot be generated. To use the model for forecasting, use one of the supported classes of index.\n",
      "  self._init_dates(dates, freq)\n",
      "c:\\Users\\zoero\\OneDrive\\Bureau\\M2\\S1\\projet tutoré\\code projet tuteuré\\Banking-EU-ETS\\.venv\\Lib\\site-packages\\statsmodels\\tsa\\base\\tsa_model.py:473: ValueWarning: An unsupported index was provided. As a result, forecasts cannot be generated. To use the model for forecasting, use one of the supported classes of index.\n",
      "  self._init_dates(dates, freq)\n",
      "c:\\Users\\zoero\\OneDrive\\Bureau\\M2\\S1\\projet tutoré\\code projet tuteuré\\Banking-EU-ETS\\.venv\\Lib\\site-packages\\statsmodels\\tsa\\base\\tsa_model.py:473: ValueWarning: An unsupported index was provided. As a result, forecasts cannot be generated. To use the model for forecasting, use one of the supported classes of index.\n",
      "  self._init_dates(dates, freq)\n",
      "c:\\Users\\zoero\\OneDrive\\Bureau\\M2\\S1\\projet tutoré\\code projet tuteuré\\Banking-EU-ETS\\.venv\\Lib\\site-packages\\statsmodels\\tsa\\base\\tsa_model.py:473: ValueWarning: An unsupported index was provided. As a result, forecasts cannot be generated. To use the model for forecasting, use one of the supported classes of index.\n",
      "  self._init_dates(dates, freq)\n",
      "c:\\Users\\zoero\\OneDrive\\Bureau\\M2\\S1\\projet tutoré\\code projet tuteuré\\Banking-EU-ETS\\.venv\\Lib\\site-packages\\statsmodels\\tsa\\base\\tsa_model.py:473: ValueWarning: An unsupported index was provided. As a result, forecasts cannot be generated. To use the model for forecasting, use one of the supported classes of index.\n",
      "  self._init_dates(dates, freq)\n",
      "c:\\Users\\zoero\\OneDrive\\Bureau\\M2\\S1\\projet tutoré\\code projet tuteuré\\Banking-EU-ETS\\.venv\\Lib\\site-packages\\statsmodels\\tsa\\base\\tsa_model.py:473: ValueWarning: An unsupported index was provided. As a result, forecasts cannot be generated. To use the model for forecasting, use one of the supported classes of index.\n",
      "  self._init_dates(dates, freq)\n",
      "c:\\Users\\zoero\\OneDrive\\Bureau\\M2\\S1\\projet tutoré\\code projet tuteuré\\Banking-EU-ETS\\.venv\\Lib\\site-packages\\statsmodels\\tsa\\base\\tsa_model.py:473: ValueWarning: An unsupported index was provided. As a result, forecasts cannot be generated. To use the model for forecasting, use one of the supported classes of index.\n",
      "  self._init_dates(dates, freq)\n",
      "c:\\Users\\zoero\\OneDrive\\Bureau\\M2\\S1\\projet tutoré\\code projet tuteuré\\Banking-EU-ETS\\.venv\\Lib\\site-packages\\statsmodels\\tsa\\base\\tsa_model.py:473: ValueWarning: An unsupported index was provided. As a result, forecasts cannot be generated. To use the model for forecasting, use one of the supported classes of index.\n",
      "  self._init_dates(dates, freq)\n",
      "c:\\Users\\zoero\\OneDrive\\Bureau\\M2\\S1\\projet tutoré\\code projet tuteuré\\Banking-EU-ETS\\.venv\\Lib\\site-packages\\statsmodels\\tsa\\base\\tsa_model.py:473: ValueWarning: An unsupported index was provided. As a result, forecasts cannot be generated. To use the model for forecasting, use one of the supported classes of index.\n",
      "  self._init_dates(dates, freq)\n",
      "c:\\Users\\zoero\\OneDrive\\Bureau\\M2\\S1\\projet tutoré\\code projet tuteuré\\Banking-EU-ETS\\.venv\\Lib\\site-packages\\statsmodels\\tsa\\base\\tsa_model.py:473: ValueWarning: An unsupported index was provided. As a result, forecasts cannot be generated. To use the model for forecasting, use one of the supported classes of index.\n",
      "  self._init_dates(dates, freq)\n",
      "c:\\Users\\zoero\\OneDrive\\Bureau\\M2\\S1\\projet tutoré\\code projet tuteuré\\Banking-EU-ETS\\.venv\\Lib\\site-packages\\statsmodels\\tsa\\base\\tsa_model.py:473: ValueWarning: An unsupported index was provided. As a result, forecasts cannot be generated. To use the model for forecasting, use one of the supported classes of index.\n",
      "  self._init_dates(dates, freq)\n",
      "c:\\Users\\zoero\\OneDrive\\Bureau\\M2\\S1\\projet tutoré\\code projet tuteuré\\Banking-EU-ETS\\.venv\\Lib\\site-packages\\statsmodels\\tsa\\base\\tsa_model.py:473: ValueWarning: An unsupported index was provided. As a result, forecasts cannot be generated. To use the model for forecasting, use one of the supported classes of index.\n",
      "  self._init_dates(dates, freq)\n",
      "c:\\Users\\zoero\\OneDrive\\Bureau\\M2\\S1\\projet tutoré\\code projet tuteuré\\Banking-EU-ETS\\.venv\\Lib\\site-packages\\statsmodels\\tsa\\base\\tsa_model.py:473: ValueWarning: An unsupported index was provided. As a result, forecasts cannot be generated. To use the model for forecasting, use one of the supported classes of index.\n",
      "  self._init_dates(dates, freq)\n",
      "c:\\Users\\zoero\\OneDrive\\Bureau\\M2\\S1\\projet tutoré\\code projet tuteuré\\Banking-EU-ETS\\.venv\\Lib\\site-packages\\statsmodels\\tsa\\base\\tsa_model.py:473: ValueWarning: An unsupported index was provided. As a result, forecasts cannot be generated. To use the model for forecasting, use one of the supported classes of index.\n",
      "  self._init_dates(dates, freq)\n",
      "c:\\Users\\zoero\\OneDrive\\Bureau\\M2\\S1\\projet tutoré\\code projet tuteuré\\Banking-EU-ETS\\.venv\\Lib\\site-packages\\statsmodels\\tsa\\base\\tsa_model.py:473: ValueWarning: An unsupported index was provided. As a result, forecasts cannot be generated. To use the model for forecasting, use one of the supported classes of index.\n",
      "  self._init_dates(dates, freq)\n",
      "c:\\Users\\zoero\\OneDrive\\Bureau\\M2\\S1\\projet tutoré\\code projet tuteuré\\Banking-EU-ETS\\.venv\\Lib\\site-packages\\statsmodels\\tsa\\base\\tsa_model.py:473: ValueWarning: An unsupported index was provided. As a result, forecasts cannot be generated. To use the model for forecasting, use one of the supported classes of index.\n",
      "  self._init_dates(dates, freq)\n",
      "c:\\Users\\zoero\\OneDrive\\Bureau\\M2\\S1\\projet tutoré\\code projet tuteuré\\Banking-EU-ETS\\.venv\\Lib\\site-packages\\statsmodels\\tsa\\base\\tsa_model.py:473: ValueWarning: An unsupported index was provided. As a result, forecasts cannot be generated. To use the model for forecasting, use one of the supported classes of index.\n",
      "  self._init_dates(dates, freq)\n",
      "c:\\Users\\zoero\\OneDrive\\Bureau\\M2\\S1\\projet tutoré\\code projet tuteuré\\Banking-EU-ETS\\.venv\\Lib\\site-packages\\statsmodels\\tsa\\base\\tsa_model.py:473: ValueWarning: An unsupported index was provided. As a result, forecasts cannot be generated. To use the model for forecasting, use one of the supported classes of index.\n",
      "  self._init_dates(dates, freq)\n",
      "c:\\Users\\zoero\\OneDrive\\Bureau\\M2\\S1\\projet tutoré\\code projet tuteuré\\Banking-EU-ETS\\.venv\\Lib\\site-packages\\statsmodels\\tsa\\base\\tsa_model.py:473: ValueWarning: An unsupported index was provided. As a result, forecasts cannot be generated. To use the model for forecasting, use one of the supported classes of index.\n",
      "  self._init_dates(dates, freq)\n",
      "c:\\Users\\zoero\\OneDrive\\Bureau\\M2\\S1\\projet tutoré\\code projet tuteuré\\Banking-EU-ETS\\.venv\\Lib\\site-packages\\statsmodels\\tsa\\base\\tsa_model.py:473: ValueWarning: An unsupported index was provided. As a result, forecasts cannot be generated. To use the model for forecasting, use one of the supported classes of index.\n",
      "  self._init_dates(dates, freq)\n",
      "c:\\Users\\zoero\\OneDrive\\Bureau\\M2\\S1\\projet tutoré\\code projet tuteuré\\Banking-EU-ETS\\.venv\\Lib\\site-packages\\statsmodels\\tsa\\base\\tsa_model.py:473: ValueWarning: An unsupported index was provided. As a result, forecasts cannot be generated. To use the model for forecasting, use one of the supported classes of index.\n",
      "  self._init_dates(dates, freq)\n",
      "c:\\Users\\zoero\\OneDrive\\Bureau\\M2\\S1\\projet tutoré\\code projet tuteuré\\Banking-EU-ETS\\.venv\\Lib\\site-packages\\statsmodels\\tsa\\base\\tsa_model.py:473: ValueWarning: An unsupported index was provided. As a result, forecasts cannot be generated. To use the model for forecasting, use one of the supported classes of index.\n",
      "  self._init_dates(dates, freq)\n",
      "c:\\Users\\zoero\\OneDrive\\Bureau\\M2\\S1\\projet tutoré\\code projet tuteuré\\Banking-EU-ETS\\.venv\\Lib\\site-packages\\statsmodels\\tsa\\base\\tsa_model.py:473: ValueWarning: An unsupported index was provided. As a result, forecasts cannot be generated. To use the model for forecasting, use one of the supported classes of index.\n",
      "  self._init_dates(dates, freq)\n",
      "c:\\Users\\zoero\\OneDrive\\Bureau\\M2\\S1\\projet tutoré\\code projet tuteuré\\Banking-EU-ETS\\.venv\\Lib\\site-packages\\statsmodels\\tsa\\base\\tsa_model.py:473: ValueWarning: An unsupported index was provided. As a result, forecasts cannot be generated. To use the model for forecasting, use one of the supported classes of index.\n",
      "  self._init_dates(dates, freq)\n",
      "c:\\Users\\zoero\\OneDrive\\Bureau\\M2\\S1\\projet tutoré\\code projet tuteuré\\Banking-EU-ETS\\.venv\\Lib\\site-packages\\statsmodels\\tsa\\base\\tsa_model.py:473: ValueWarning: An unsupported index was provided. As a result, forecasts cannot be generated. To use the model for forecasting, use one of the supported classes of index.\n",
      "  self._init_dates(dates, freq)\n"
     ]
    },
    {
     "name": "stdout",
     "output_type": "stream",
     "text": [
      "{0: np.float64(256.36504000072125), 1: np.float64(245.7606860581214), 2: np.float64(244.33375397751206), 3: np.float64(241.9658501415751)}\n",
      "{0: np.float64(239.05940184059818), 1: np.float64(236.11488509741486), 2: np.float64(231.56160274120296), 3: np.float64(223.20383964888862)}\n",
      "{0: np.float64(384.5412092371115), 1: np.float64(367.09212136016043), 2: np.float64(363.0244141525038), 3: np.float64(354.79481110390776)}\n",
      "{0: np.float64(377.1005710239475), 1: np.float64(372.52806789049805), 2: np.float64(367.49145684775357), 3: np.float64(362.1487040509371)}\n",
      "{0: np.float64(380.76877472176335), 1: np.float64(358.8605906436191), 2: np.float64(353.9091679568686), 3: np.float64(349.906123367269)}\n",
      "{0: np.float64(247.6207020288558), 1: np.float64(236.67111722376907), 2: np.float64(234.63429487719705), 3: np.float64(230.53154563211214)}\n",
      "{0: np.float64(61.471911274594966), 1: np.float64(11.694579547768228), 2: np.float64(12.851323314421256), 3: np.float64(-16.435337033578513)}\n",
      "{0: np.float64(149.0924553408276), 1: np.float64(145.9733622452979), 2: np.float64(146.49277938725456), 3: np.float64(143.01301619460475)}\n",
      "{0: np.float64(-132.41755800345584), 1: np.float64(-129.0145209503353), 2: np.float64(-124.69187694909675), 3: np.float64(-120.11977487205826)}\n",
      "{0: np.float64(-160.95837556684592), 1: np.float64(-171.88349861678614), 2: np.float64(-175.02353854600105), 3: np.float64(-170.23897788616412)}\n",
      "{0: np.float64(-209.72281386336732), 1: np.float64(-208.56132762258412), 2: np.float64(-205.49312612262779), 3: np.float64(-201.51667759136927)}\n",
      "{0: np.float64(-174.4727438453991), 1: np.float64(-180.65051648562851), 2: np.float64(-175.36409834614398), 3: np.float64(-170.94546578235204)}\n",
      "{0: np.float64(102.90044486742015), 1: np.float64(73.41997001976912), 2: np.float64(70.34052149904056), 3: np.float64(67.99500038737146)}\n",
      "{0: np.float64(143.88508046581097), 1: np.float64(125.40509474814657), 2: np.float64(108.19648230582638), 3: np.float64(107.66244089884302)}\n",
      "{0: np.float64(-156.61699999432582), 1: np.float64(-324.07868400609425), 2: np.float64(-354.0065311898186), 3: np.float64(-349.2631471916183)}\n",
      "{0: np.float64(-295.50712258456196), 1: np.float64(-289.9856725741714), 2: np.float64(-290.31201930203997), 3: np.float64(-288.6623748974375)}\n"
     ]
    },
    {
     "name": "stderr",
     "output_type": "stream",
     "text": [
      "c:\\Users\\zoero\\OneDrive\\Bureau\\M2\\S1\\projet tutoré\\code projet tuteuré\\Banking-EU-ETS\\.venv\\Lib\\site-packages\\statsmodels\\tsa\\base\\tsa_model.py:473: ValueWarning: An unsupported index was provided. As a result, forecasts cannot be generated. To use the model for forecasting, use one of the supported classes of index.\n",
      "  self._init_dates(dates, freq)\n",
      "c:\\Users\\zoero\\OneDrive\\Bureau\\M2\\S1\\projet tutoré\\code projet tuteuré\\Banking-EU-ETS\\.venv\\Lib\\site-packages\\statsmodels\\tsa\\base\\tsa_model.py:473: ValueWarning: An unsupported index was provided. As a result, forecasts cannot be generated. To use the model for forecasting, use one of the supported classes of index.\n",
      "  self._init_dates(dates, freq)\n",
      "c:\\Users\\zoero\\OneDrive\\Bureau\\M2\\S1\\projet tutoré\\code projet tuteuré\\Banking-EU-ETS\\.venv\\Lib\\site-packages\\statsmodels\\tsa\\base\\tsa_model.py:473: ValueWarning: An unsupported index was provided. As a result, forecasts cannot be generated. To use the model for forecasting, use one of the supported classes of index.\n",
      "  self._init_dates(dates, freq)\n",
      "c:\\Users\\zoero\\OneDrive\\Bureau\\M2\\S1\\projet tutoré\\code projet tuteuré\\Banking-EU-ETS\\.venv\\Lib\\site-packages\\statsmodels\\tsa\\base\\tsa_model.py:473: ValueWarning: An unsupported index was provided. As a result, forecasts cannot be generated. To use the model for forecasting, use one of the supported classes of index.\n",
      "  self._init_dates(dates, freq)\n",
      "c:\\Users\\zoero\\OneDrive\\Bureau\\M2\\S1\\projet tutoré\\code projet tuteuré\\Banking-EU-ETS\\.venv\\Lib\\site-packages\\statsmodels\\tsa\\base\\tsa_model.py:473: ValueWarning: An unsupported index was provided. As a result, forecasts cannot be generated. To use the model for forecasting, use one of the supported classes of index.\n",
      "  self._init_dates(dates, freq)\n",
      "c:\\Users\\zoero\\OneDrive\\Bureau\\M2\\S1\\projet tutoré\\code projet tuteuré\\Banking-EU-ETS\\.venv\\Lib\\site-packages\\statsmodels\\tsa\\base\\tsa_model.py:473: ValueWarning: An unsupported index was provided. As a result, forecasts cannot be generated. To use the model for forecasting, use one of the supported classes of index.\n",
      "  self._init_dates(dates, freq)\n",
      "c:\\Users\\zoero\\OneDrive\\Bureau\\M2\\S1\\projet tutoré\\code projet tuteuré\\Banking-EU-ETS\\.venv\\Lib\\site-packages\\statsmodels\\tsa\\base\\tsa_model.py:473: ValueWarning: An unsupported index was provided. As a result, forecasts cannot be generated. To use the model for forecasting, use one of the supported classes of index.\n",
      "  self._init_dates(dates, freq)\n",
      "c:\\Users\\zoero\\OneDrive\\Bureau\\M2\\S1\\projet tutoré\\code projet tuteuré\\Banking-EU-ETS\\.venv\\Lib\\site-packages\\statsmodels\\tsa\\base\\tsa_model.py:473: ValueWarning: An unsupported index was provided. As a result, forecasts cannot be generated. To use the model for forecasting, use one of the supported classes of index.\n",
      "  self._init_dates(dates, freq)\n",
      "c:\\Users\\zoero\\OneDrive\\Bureau\\M2\\S1\\projet tutoré\\code projet tuteuré\\Banking-EU-ETS\\.venv\\Lib\\site-packages\\statsmodels\\tsa\\base\\tsa_model.py:473: ValueWarning: An unsupported index was provided. As a result, forecasts cannot be generated. To use the model for forecasting, use one of the supported classes of index.\n",
      "  self._init_dates(dates, freq)\n",
      "c:\\Users\\zoero\\OneDrive\\Bureau\\M2\\S1\\projet tutoré\\code projet tuteuré\\Banking-EU-ETS\\.venv\\Lib\\site-packages\\statsmodels\\tsa\\base\\tsa_model.py:473: ValueWarning: An unsupported index was provided. As a result, forecasts cannot be generated. To use the model for forecasting, use one of the supported classes of index.\n",
      "  self._init_dates(dates, freq)\n"
     ]
    }
   ],
   "source": [
    "data = cluster1_phase2.copy()\n",
    "cluster1_2_lags = dict()\n",
    "for c in data.columns:\n",
    "    if c != 'Date':\n",
    "        min_aic_lag, min_bic_lag,min_hq_lag = determine_lags(data[c])\n",
    "        cluster1_2_lags[c]=np.mean([min_aic_lag, min_bic_lag,min_hq_lag])"
   ]
  },
  {
   "cell_type": "code",
   "execution_count": 173,
   "metadata": {},
   "outputs": [
    {
     "data": {
      "text/plain": [
       "{'InVolReg': np.float64(2.3333333333333335),\n",
       " 'OutVolReg': np.float64(3.0),\n",
       " 'InVolFin': np.float64(3.0),\n",
       " 'OutVolFin': np.float64(3.0),\n",
       " 'TVolFin': np.float64(3.0),\n",
       " 'TVolReg': np.float64(3.0),\n",
       " 'WalletReg': np.float64(3.0),\n",
       " 'WalletFin': np.float64(2.3333333333333335),\n",
       " 'Price': np.float64(0.0),\n",
       " 'Coal_price_EU': np.float64(2.0),\n",
       " 'Ngas_price_EU': np.float64(0.0),\n",
       " 'Oil_price_EU': np.float64(1.0),\n",
       " 'HDD': np.float64(3.0),\n",
       " 'CDD': np.float64(2.3333333333333335),\n",
       " 'ESI': np.float64(2.0),\n",
       " 'IPI': np.float64(0.0)}"
      ]
     },
     "execution_count": 173,
     "metadata": {},
     "output_type": "execute_result"
    }
   ],
   "source": [
    "cluster1_2_lags"
   ]
  },
  {
   "cell_type": "markdown",
   "metadata": {},
   "source": [
    "Ajout de 2 lags par variable"
   ]
  },
  {
   "cell_type": "markdown",
   "metadata": {},
   "source": [
    "Cluster 0 Phase 2"
   ]
  },
  {
   "cell_type": "code",
   "execution_count": 174,
   "metadata": {},
   "outputs": [],
   "source": [
    "lag_length = 2\n",
    "data = cluster0_phase2\n",
    "# Liste pour stocker les colonnes avec les lags\n",
    "lagged_data = []\n",
    "\n",
    "# Ajouter des lags sur les colonnes sélectionnées\n",
    "for col in data.columns:\n",
    "    if col != 'Date' :\n",
    "        # Ajouter des lags pour la colonne, avec shift\n",
    "        for lag in range(1, lag_length + 1):  # Ajouter plusieurs lags\n",
    "            lagged_col = data[col].shift(lag)\n",
    "            lagged_col.name = f\"{col}_lag{lag}\"  # Nommer la colonne laggée\n",
    "            lagged_data.append(lagged_col)\n",
    "\n",
    "# Concaténer les colonnes originales avec les nouvelles colonnes avec lags\n",
    "data = pd.concat([data] + lagged_data, axis=1)\n",
    "\n",
    "# Afficher le DataFrame avec les lags\n",
    "\n",
    "\n",
    "data.to_csv('data_stationnaires/Cluster0_Phase_II.csv')"
   ]
  },
  {
   "cell_type": "code",
   "execution_count": 175,
   "metadata": {},
   "outputs": [],
   "source": [
    "lag_length = 2\n",
    "data = cluster0_phase3\n",
    "# Liste pour stocker les colonnes avec les lags\n",
    "lagged_data = []\n",
    "\n",
    "# Ajouter des lags sur les colonnes sélectionnées\n",
    "for col in data.columns:\n",
    "    if col != 'Date' :\n",
    "        # Ajouter des lags pour la colonne, avec shift\n",
    "        for lag in range(1, lag_length + 1):  # Ajouter plusieurs lags\n",
    "            lagged_col = data[col].shift(lag)\n",
    "            lagged_col.name = f\"{col}_lag{lag}\"  # Nommer la colonne laggée\n",
    "            lagged_data.append(lagged_col)\n",
    "\n",
    "# Concaténer les colonnes originales avec les nouvelles colonnes avec lags\n",
    "data = pd.concat([data] + lagged_data, axis=1)\n",
    "\n",
    "# Afficher le DataFrame avec les lags\n",
    "\n",
    "\n",
    "data.to_csv('data_stationnaires/Cluster0_Phase_III.csv')"
   ]
  },
  {
   "cell_type": "code",
   "execution_count": 176,
   "metadata": {},
   "outputs": [],
   "source": [
    "lag_length = 2\n",
    "data = cluster1_phase2\n",
    "# Liste pour stocker les colonnes avec les lags\n",
    "lagged_data = []\n",
    "\n",
    "# Ajouter des lags sur les colonnes sélectionnées\n",
    "for col in data.columns:\n",
    "    if col != 'Date' :\n",
    "        # Ajouter des lags pour la colonne, avec shift\n",
    "        for lag in range(1, lag_length + 1):  # Ajouter plusieurs lags\n",
    "            lagged_col = data[col].shift(lag)\n",
    "            lagged_col.name = f\"{col}_lag{lag}\"  # Nommer la colonne laggée\n",
    "            lagged_data.append(lagged_col)\n",
    "\n",
    "# Concaténer les colonnes originales avec les nouvelles colonnes avec lags\n",
    "data = pd.concat([data] + lagged_data, axis=1)\n",
    "\n",
    "# Afficher le DataFrame avec les lags\n",
    "\n",
    "\n",
    "data.to_csv('data_stationnaires/Cluster1_Phase_II.csv')"
   ]
  },
  {
   "cell_type": "code",
   "execution_count": 177,
   "metadata": {},
   "outputs": [],
   "source": [
    "lag_length = 2\n",
    "data = cluster1_phase3\n",
    "# Liste pour stocker les colonnes avec les lags\n",
    "lagged_data = []\n",
    "\n",
    "# Ajouter des lags sur les colonnes sélectionnées\n",
    "for col in data.columns:\n",
    "    if col != 'Date' :\n",
    "        # Ajouter des lags pour la colonne, avec shift\n",
    "        for lag in range(1, lag_length + 1):  # Ajouter plusieurs lags\n",
    "            lagged_col = data[col].shift(lag)\n",
    "            lagged_col.name = f\"{col}_lag{lag}\"  # Nommer la colonne laggée\n",
    "            lagged_data.append(lagged_col)\n",
    "\n",
    "# Concaténer les colonnes originales avec les nouvelles colonnes avec lags\n",
    "data = pd.concat([data] + lagged_data, axis=1)\n",
    "\n",
    "# Afficher le DataFrame avec les lags\n",
    "\n",
    "\n",
    "data.to_csv('data_stationnaires/Cluster1_Phase_III.csv')"
   ]
  }
 ],
 "metadata": {
  "kernelspec": {
   "display_name": ".venv",
   "language": "python",
   "name": "python3"
  },
  "language_info": {
   "codemirror_mode": {
    "name": "ipython",
    "version": 3
   },
   "file_extension": ".py",
   "mimetype": "text/x-python",
   "name": "python",
   "nbconvert_exporter": "python",
   "pygments_lexer": "ipython3",
   "version": "3.11.0"
  }
 },
 "nbformat": 4,
 "nbformat_minor": 2
}
