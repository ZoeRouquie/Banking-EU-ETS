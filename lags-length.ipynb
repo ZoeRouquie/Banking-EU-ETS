{
 "cells": [
  {
   "cell_type": "code",
   "execution_count": 1,
   "metadata": {},
   "outputs": [],
   "source": [
    "import pandas as pd\n",
    "\n",
    "cluster1_phase2 = pd.read_csv('data_stationnaires/Cluster1_Phase_II.csv')\n",
    "cluster1_phase3 = pd.read_csv('data_stationnaires/Cluster1_Phase_III.csv')\n",
    "cluster0_phase2 = pd.read_csv('data_stationnaires/Cluster0_Phase_II.csv')\n",
    "cluster0_phase3 = pd.read_csv('data_stationnaires/Cluster0_Phase_III.csv')\n"
   ]
  },
  {
   "cell_type": "code",
   "execution_count": null,
   "metadata": {},
   "outputs": [],
   "source": []
  },
  {
   "cell_type": "code",
   "execution_count": null,
   "metadata": {},
   "outputs": [],
   "source": [
    "from scipy.stats import yeo_johnson\n",
    "\n",
    "def trans_yj(data):\n",
    "    new_data, fitted_lambda = yeo_johnson(data)\n",
    "    data=new_data\n",
    "    # Afficher le lambda ajusté\n",
    "    print(f\"Lambda utilisé pour la transformation y-j: {fitted_lambda}\")\n",
    "\n"
   ]
  },
  {
   "cell_type": "code",
   "execution_count": null,
   "metadata": {},
   "outputs": [
    {
     "name": "stdout",
     "output_type": "stream",
     "text": [
      "Checking stationarity for column: InVolReg\n",
      "ADF Statistic: -8.36696323720738\n",
      "p-value: 2.726486461445479e-13\n",
      "La série est stationnaire.\n",
      "\n",
      "Checking stationarity for column: OutVolReg\n",
      "ADF Statistic: -14.51957625095265\n",
      "p-value: 5.552659651042506e-27\n",
      "La série est stationnaire.\n",
      "\n",
      "Checking stationarity for column: InVolFin\n",
      "ADF Statistic: -5.7824031131021325\n",
      "p-value: 5.089915845223448e-07\n",
      "La série est stationnaire.\n",
      "\n",
      "Checking stationarity for column: OutVolFin\n",
      "ADF Statistic: -6.036483151720876\n",
      "p-value: 1.378155307337165e-07\n",
      "La série est stationnaire.\n",
      "\n",
      "Checking stationarity for column: TVolFin\n",
      "ADF Statistic: -5.460844738981303\n",
      "p-value: 2.520714713829752e-06\n",
      "La série est stationnaire.\n",
      "\n",
      "Checking stationarity for column: TVolReg\n",
      "ADF Statistic: -3.727285514853598\n",
      "p-value: 0.0037453236012958357\n",
      "La série est stationnaire.\n",
      "\n",
      "Checking stationarity for column: WalletReg\n",
      "ADF Statistic: -1.577925868360713\n",
      "p-value: 0.4946718572752335\n",
      "La série n'est pas stationnaire.\n",
      "\n",
      "Checking stationarity for column: WalletFin\n",
      "ADF Statistic: -2.1971679562346615\n",
      "p-value: 0.20727493063983304\n",
      "La série n'est pas stationnaire.\n",
      "\n"
     ]
    }
   ],
   "source": [
    "from statsmodels.tsa.stattools import adfuller\n",
    "\n",
    "\n",
    "def check_stationarity(data):\n",
    "    result = adfuller(data)\n",
    "    print('ADF Statistic:', result[0])\n",
    "    print('p-value:', result[1])\n",
    "    if result[1] > 0.05:\n",
    "        print(\"La série n'est pas stationnaire.\")\n",
    "        \n",
    "    else:\n",
    "        print(\"La série est stationnaire.\")\n",
    "columns = ['InVolReg','OutVolReg','InVolFin','OutVolFin','TVolFin','TVolReg','WalletReg','WalletFin']\n",
    "\n",
    "\n",
    "\n",
    "for c in columns:\n",
    "    print(f'Checking stationarity for column: {c}')\n",
    "    check_stationarity(cluster0_phase2[c])\n",
    "    print()  "
   ]
  },
  {
   "cell_type": "code",
   "execution_count": 3,
   "metadata": {},
   "outputs": [
    {
     "name": "stdout",
     "output_type": "stream",
     "text": [
      "Le nombre optimal de lags selon l'AIC est : 0\n",
      "Le nombre optimal de lags selon le BIC est : 0\n",
      "Le nombre optimal de lags selon le HQ est : 0\n"
     ]
    }
   ],
   "source": [
    "import numpy as np\n",
    "import statsmodels.api as sm\n",
    "\n",
    "from statsmodels.tsa.ar_model import AutoReg\n",
    "\n",
    "\n",
    "# Déterminer le nombre optimal de lags\n",
    "def determine_lags(data):\n",
    "    AIC = {}\n",
    "    BIC = {}\n",
    "    HQ = {}\n",
    "    for lag in range(0, 4):  \n",
    "        model = AutoReg(data, lags=lag, old_names=False)\n",
    "        model_fitted = model.fit()\n",
    "        AIC[lag] = model_fitted.aic\n",
    "        BIC[lag] = model_fitted.bic\n",
    "        HQ[lag] = model_fitted.hqic\n",
    "    \n",
    "    minAIC = min(AIC, key=AIC.get)\n",
    "    minBIC = min(BIC, key=BIC.get)\n",
    "    minHQ = min(HQ, key=HQ.get)\n",
    "    \n",
    "    return minAIC, minBIC, minHQ\n",
    "\n",
    "# Appliquer la fonction à vos données\n",
    "min_aic_lag, min_bic_lag,min_hq_lag = determine_lags(cluster1_phase2['Price'])\n",
    "print(\"Le nombre optimal de lags selon l'AIC est :\", min_aic_lag)\n",
    "print(\"Le nombre optimal de lags selon le BIC est :\", min_bic_lag)\n",
    "print(\"Le nombre optimal de lags selon le HQ est :\", min_hq_lag)\n"
   ]
  },
  {
   "cell_type": "code",
   "execution_count": 5,
   "metadata": {},
   "outputs": [
    {
     "name": "stdout",
     "output_type": "stream",
     "text": [
      "Le nombre optimal de lags selon l'AIC est : 0\n",
      "Le nombre optimal de lags selon le BIC est : 0\n",
      "Le nombre optimal de lags selon le HQ est : 0\n"
     ]
    }
   ],
   "source": [
    "min_aic_lag, min_bic_lag,min_hq_lag = determine_lags(cluster1_phase3['Price'])\n",
    "print(\"Le nombre optimal de lags selon l'AIC est :\", min_aic_lag)\n",
    "print(\"Le nombre optimal de lags selon le BIC est :\", min_bic_lag)\n",
    "print(\"Le nombre optimal de lags selon le HQ est :\", min_hq_lag)"
   ]
  },
  {
   "cell_type": "markdown",
   "metadata": {},
   "source": [
    "Si votre priorité est la parcimonie du modèle et l'inférence statistique, vous pourriez préférer le BIC, ce qui donnerait 2 lags."
   ]
  },
  {
   "cell_type": "code",
   "execution_count": 6,
   "metadata": {},
   "outputs": [
    {
     "name": "stdout",
     "output_type": "stream",
     "text": [
      "Le nombre optimal de lags selon l'AIC est : 0\n",
      "Le nombre optimal de lags selon le BIC est : 0\n",
      "Le nombre optimal de lags selon le HQ est : 0\n"
     ]
    }
   ],
   "source": [
    "min_aic_lag, min_bic_lag,min_hq_lag = determine_lags(cluster0_phase3['Price'])\n",
    "print(\"Le nombre optimal de lags selon l'AIC est :\", min_aic_lag)\n",
    "print(\"Le nombre optimal de lags selon le BIC est :\", min_bic_lag)\n",
    "print(\"Le nombre optimal de lags selon le HQ est :\", min_hq_lag)"
   ]
  },
  {
   "cell_type": "code",
   "execution_count": 7,
   "metadata": {},
   "outputs": [
    {
     "name": "stdout",
     "output_type": "stream",
     "text": [
      "Le nombre optimal de lags selon l'AIC est : 0\n",
      "Le nombre optimal de lags selon le BIC est : 0\n",
      "Le nombre optimal de lags selon le HQ est : 0\n"
     ]
    }
   ],
   "source": [
    "min_aic_lag, min_bic_lag,min_hq_lag = determine_lags(cluster0_phase2['Price'])\n",
    "print(\"Le nombre optimal de lags selon l'AIC est :\", min_aic_lag)\n",
    "print(\"Le nombre optimal de lags selon le BIC est :\", min_bic_lag)\n",
    "print(\"Le nombre optimal de lags selon le HQ est :\", min_hq_lag)"
   ]
  }
 ],
 "metadata": {
  "kernelspec": {
   "display_name": ".venv",
   "language": "python",
   "name": "python3"
  },
  "language_info": {
   "codemirror_mode": {
    "name": "ipython",
    "version": 3
   },
   "file_extension": ".py",
   "mimetype": "text/x-python",
   "name": "python",
   "nbconvert_exporter": "python",
   "pygments_lexer": "ipython3",
   "version": "3.11.0"
  }
 },
 "nbformat": 4,
 "nbformat_minor": 2
}
