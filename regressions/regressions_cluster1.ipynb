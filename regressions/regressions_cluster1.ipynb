{
 "cells": [
  {
   "cell_type": "code",
   "execution_count": 1,
   "metadata": {},
   "outputs": [],
   "source": [
    "import pandas as pd\n",
    "import statsmodels.api as sm\n",
    "from regressions_methods import stepwise_model,lasso_variables \n",
    "import warnings\n",
    "from sklearn.exceptions import ConvergenceWarning"
   ]
  },
  {
   "cell_type": "code",
   "execution_count": 2,
   "metadata": {},
   "outputs": [],
   "source": [
    "cluster1_phase2 = pd.read_csv('../data_stationnaires/Cluster1_Phase_II.csv')\n",
    "cluster1_phase3 = pd.read_csv('../data_stationnaires/Cluster1_Phase_III.csv')\n",
    "\n",
    "\n",
    "cluster1_phase2.drop(columns=['Date','Unnamed: 0'], inplace=True)\n",
    "cluster1_phase3.drop(columns=['Date','Unnamed: 0'], inplace=True)\n",
    "\n",
    "\n",
    "cluster1_phase2.dropna(inplace=True)\n",
    "cluster1_phase3.dropna(inplace=True)\n",
    "\n"
   ]
  },
  {
   "cell_type": "markdown",
   "metadata": {},
   "source": [
    "Phase 2"
   ]
  },
  {
   "cell_type": "code",
   "execution_count": 3,
   "metadata": {},
   "outputs": [],
   "source": [
    "y_2 = cluster1_phase2['Price']\n",
    "X_2 = cluster1_phase2.drop(columns=['Price'])"
   ]
  },
  {
   "cell_type": "code",
   "execution_count": 4,
   "metadata": {},
   "outputs": [],
   "source": [
    "# Ignorer les avertissements de non-convergence de scikit-learn\n",
    "warnings.filterwarnings(\"ignore\", category=ConvergenceWarning)"
   ]
  },
  {
   "cell_type": "markdown",
   "metadata": {},
   "source": [
    "Test 1: STEPWISE REGRESSION"
   ]
  },
  {
   "cell_type": "markdown",
   "metadata": {},
   "source": [
    "\n",
    "\n",
    "critère R2 - AIC - BIC - p-values: balance entre complexité et performance AIC et BIC -> performance et complexité, R2 performance"
   ]
  },
  {
   "cell_type": "markdown",
   "metadata": {},
   "source": [
    "HAC pour gérer l'hétéroscédasticité"
   ]
  },
  {
   "cell_type": "code",
   "execution_count": 5,
   "metadata": {},
   "outputs": [
    {
     "name": "stdout",
     "output_type": "stream",
     "text": [
      "                                 OLS Regression Results                                \n",
      "=======================================================================================\n",
      "Dep. Variable:                  Price   R-squared (uncentered):                   0.774\n",
      "Model:                            OLS   Adj. R-squared (uncentered):              0.621\n",
      "Method:                 Least Squares   F-statistic:                              19.33\n",
      "Date:                Fri, 28 Feb 2025   Prob (F-statistic):                    1.95e-13\n",
      "Time:                        11:38:04   Log-Likelihood:                          107.31\n",
      "No. Observations:                  57   AIC:                                     -168.6\n",
      "Df Residuals:                      34   BIC:                                     -121.6\n",
      "Df Model:                          23                                                  \n",
      "Covariance Type:                  HAC                                                  \n",
      "======================================================================================\n",
      "                         coef    std err          t      P>|t|      [0.025      0.975]\n",
      "--------------------------------------------------------------------------------------\n",
      "OutVolReg              0.0196      0.007      2.854      0.007       0.006       0.034\n",
      "TVolReg               -0.0156      0.007     -2.370      0.024      -0.029      -0.002\n",
      "WalletFin             -0.0224      0.007     -3.175      0.003      -0.037      -0.008\n",
      "Ngas_price_EU         -1.4105      0.142     -9.934      0.000      -1.699      -1.122\n",
      "IPI                    0.8158      0.403      2.027      0.051      -0.002       1.634\n",
      "InVolReg_lag1          0.0234      0.006      3.959      0.000       0.011       0.035\n",
      "InVolReg_lag2          0.0194      0.003      7.289      0.000       0.014       0.025\n",
      "InVolFin_lag2         -0.0036      0.002     -2.054      0.048      -0.007   -3.78e-05\n",
      "OutVolFin_lag1         0.0048      0.001      3.833      0.001       0.002       0.007\n",
      "OutVolFin_lag2        -0.0038      0.002     -2.287      0.029      -0.007      -0.000\n",
      "TVolFin_lag2           0.0048      0.002      2.210      0.034       0.000       0.009\n",
      "WalletFin_lag1        -0.0324      0.008     -4.038      0.000      -0.049      -0.016\n",
      "WalletFin_lag2        -0.0389      0.010     -3.888      0.000      -0.059      -0.019\n",
      "Price_lag1            -0.3028      0.104     -2.908      0.006      -0.514      -0.091\n",
      "Price_lag2             0.1929      0.061      3.179      0.003       0.070       0.316\n",
      "Coal_price_EU_lag1     0.3578      0.149      2.403      0.022       0.055       0.660\n",
      "Coal_price_EU_lag2     0.1666      0.101      1.655      0.107      -0.038       0.371\n",
      "Ngas_price_EU_lag1     0.2979      0.177      1.687      0.101      -0.061       0.657\n",
      "Ngas_price_EU_lag2    -0.5813      0.235     -2.471      0.019      -1.059      -0.103\n",
      "Oil_price_EU_lag1     -0.7968      0.174     -4.569      0.000      -1.151      -0.442\n",
      "CDD_lag2               0.0290      0.009      3.279      0.002       0.011       0.047\n",
      "ESI_lag1               1.3710      0.485      2.829      0.008       0.386       2.356\n",
      "ESI_lag2              -1.3773      0.485     -2.838      0.008      -2.364      -0.391\n",
      "==============================================================================\n",
      "Omnibus:                        4.898   Durbin-Watson:                   1.955\n",
      "Prob(Omnibus):                  0.086   Jarque-Bera (JB):                3.925\n",
      "Skew:                           0.503   Prob(JB):                        0.140\n",
      "Kurtosis:                       3.800   Cond. No.                     2.61e+03\n",
      "==============================================================================\n",
      "\n",
      "Notes:\n",
      "[1] R² is computed without centering (uncentered) since the model does not contain a constant.\n",
      "[2] Standard Errors are heteroscedasticity and autocorrelation robust (HAC) using 0 lags and without small sample correction\n",
      "[3] The condition number is large, 2.61e+03. This might indicate that there are\n",
      "strong multicollinearity or other numerical problems.\n"
     ]
    }
   ],
   "source": [
    "y_2 = cluster1_phase2['Price']\n",
    "X_2 = cluster1_phase2.drop(columns=['Price'])\n",
    "\n",
    "y_2 = cluster1_phase2['Price']\n",
    "model = sm.OLS(y_2, X_2).fit()\n",
    "robust_se_model = model.get_robustcov_results(cov_type='HAC', maxlags=0)\n",
    "\n",
    "stepwise_model(robust_se_model,X_2,y_2)\n",
    "\n"
   ]
  },
  {
   "cell_type": "markdown",
   "metadata": {},
   "source": [
    "Newey-West HAC"
   ]
  },
  {
   "cell_type": "markdown",
   "metadata": {},
   "source": [
    "HAC permet l'ajustement des erreurs standard pour prendre en compte la possibilité d'autocorrélation et d'hétéroscédasticité dans les résidus, en utilisant les erreurs standard robustes de Newey-West."
   ]
  },
  {
   "cell_type": "markdown",
   "metadata": {},
   "source": [
    "Test2: LASSO"
   ]
  },
  {
   "cell_type": "code",
   "execution_count": 6,
   "metadata": {},
   "outputs": [
    {
     "name": "stdout",
     "output_type": "stream",
     "text": [
      "Alpha optimal: 0.03045037527473941\n",
      "Intercept: -0.041542278251593956\n",
      "InVolReg : -0.0002078905251559886\n",
      "InVolFin : -0.0005169804829401383\n",
      "OutVolFin : 0.0007213375042292796\n",
      "InVolFin_lag2 : -0.0010710086318111067\n",
      "TVolFin_lag1 : 0.0037547359330835322\n"
     ]
    }
   ],
   "source": [
    "y_2 = cluster1_phase2['Price']\n",
    "X_2 = cluster1_phase2.drop(columns=['Price'])\n",
    "\n",
    "lasso_variables(X_2,y_2)\n"
   ]
  },
  {
   "cell_type": "markdown",
   "metadata": {},
   "source": [
    "Phase 3"
   ]
  },
  {
   "cell_type": "markdown",
   "metadata": {},
   "source": [
    "Test 1: STEPWISE REGRESSION"
   ]
  },
  {
   "cell_type": "code",
   "execution_count": null,
   "metadata": {},
   "outputs": [
    {
     "name": "stdout",
     "output_type": "stream",
     "text": [
      "                            OLS Regression Results                            \n",
      "==============================================================================\n",
      "Dep. Variable:                  Price   R-squared:                       0.526\n",
      "Model:                            OLS   Adj. R-squared:                  0.063\n",
      "Method:                 Least Squares   F-statistic:                       nan\n",
      "Date:                Fri, 28 Feb 2025   Prob (F-statistic):                nan\n",
      "Time:                        11:47:53   Log-Likelihood:                 131.38\n",
      "No. Observations:                  92   AIC:                            -170.8\n",
      "Df Residuals:                      46   BIC:                            -54.75\n",
      "Df Model:                          45                                         \n",
      "Covariance Type:                  HAC                                         \n",
      "======================================================================================\n",
      "                         coef    std err          t      P>|t|      [0.025      0.975]\n",
      "--------------------------------------------------------------------------------------\n",
      "InVolReg               0.0553      0.209      0.264      0.793      -0.366       0.476\n",
      "OutVolReg              0.0256      0.110      0.233      0.817      -0.196       0.247\n",
      "InVolFin            2514.4167   1.11e+07      0.000      1.000   -2.23e+07    2.24e+07\n",
      "OutVolFin           1650.0586        nan        nan        nan         nan         nan\n",
      "TVolFin            -3718.6448   1.28e+07     -0.000      1.000   -2.58e+07    2.58e+07\n",
      "TVolReg               -0.0710      0.063     -1.122      0.268      -0.198       0.056\n",
      "WalletReg             -0.0091      0.100     -0.091      0.928      -0.210       0.192\n",
      "WalletFin           5.996e+06   8.57e+09      0.001      0.999   -1.73e+10    1.73e+10\n",
      "Coal_price_EU         -0.5619      2.314     -0.243      0.809      -5.221       4.097\n",
      "Ngas_price_EU          0.5112      0.367      1.394      0.170      -0.227       1.249\n",
      "Oil_price_EU           0.3087      1.314      0.235      0.815      -2.336       2.953\n",
      "HDD                    0.0092      0.557      0.017      0.987      -1.112       1.130\n",
      "CDD                    0.0092      0.327      0.028      0.978      -0.649       0.668\n",
      "ESI                   -0.2419        nan        nan        nan         nan         nan\n",
      "IPI                    0.4876      4.702      0.104      0.918      -8.977       9.952\n",
      "InVolReg_lag1          0.0357      0.194      0.184      0.855      -0.354       0.425\n",
      "InVolReg_lag2          0.0388      0.054      0.712      0.480      -0.071       0.148\n",
      "OutVolReg_lag1         0.0055      0.042      0.132      0.895      -0.079       0.090\n",
      "OutVolReg_lag2         0.0024      0.094      0.026      0.980      -0.186       0.191\n",
      "InVolFin_lag1      -1980.4749   9.04e+06     -0.000      1.000   -1.82e+07    1.82e+07\n",
      "InVolFin_lag2         -0.0087      0.458     -0.019      0.985      -0.931       0.914\n",
      "OutVolFin_lag1         0.0151      4.295      0.004      0.997      -8.630       8.660\n",
      "OutVolFin_lag2         0.0089      0.141      0.063      0.950      -0.275       0.293\n",
      "TVolFin_lag1        3241.8117   1.01e+07      0.000      1.000   -2.04e+07    2.04e+07\n",
      "TVolFin_lag2           0.0126      3.678      0.003      0.997      -7.390       7.415\n",
      "TVolReg_lag1          -0.0332      0.051     -0.658      0.514      -0.135       0.068\n",
      "TVolReg_lag2          -0.0288      0.366     -0.079      0.938      -0.765       0.707\n",
      "WalletReg_lag1        -0.0154      0.068     -0.226      0.822      -0.153       0.122\n",
      "WalletReg_lag2        -0.0081      0.016     -0.515      0.609      -0.040       0.024\n",
      "WalletFin_lag1      -592.6656    1.5e+06     -0.000      1.000   -3.02e+06    3.02e+06\n",
      "WalletFin_lag2     -5.995e+06   2.36e+10     -0.000      1.000   -4.75e+10    4.75e+10\n",
      "Price_lag1            -0.0750      0.249     -0.302      0.764      -0.576       0.426\n",
      "Price_lag2            -0.2657      0.352     -0.756      0.454      -0.973       0.442\n",
      "Coal_price_EU_lag1    -0.0712      0.941     -0.076      0.940      -1.966       1.823\n",
      "Coal_price_EU_lag2     0.3862      3.880      0.100      0.921      -7.423       8.196\n",
      "Ngas_price_EU_lag1    -0.1858      0.347     -0.536      0.594      -0.883       0.512\n",
      "Ngas_price_EU_lag2     0.1904      0.551      0.345      0.731      -0.920       1.300\n",
      "Oil_price_EU_lag1     -0.0891      1.144     -0.078      0.938      -2.392       2.214\n",
      "Oil_price_EU_lag2      0.2812      0.938      0.300      0.766      -1.606       2.169\n",
      "HDD_lag1              -0.0045      0.468     -0.010      0.992      -0.946       0.937\n",
      "HDD_lag2              -0.0325      0.060     -0.542      0.590      -0.153       0.088\n",
      "CDD_lag1               0.0243      0.076      0.320      0.751      -0.129       0.177\n",
      "CDD_lag2              -0.0350      0.056     -0.625      0.535      -0.148       0.078\n",
      "ESI_lag1              -0.2425      3.193     -0.076      0.940      -6.670       6.185\n",
      "ESI_lag2              -0.4969      0.377     -1.317      0.194      -1.256       0.262\n",
      "IPI_lag1               0.5079      3.752      0.135      0.893      -7.044       8.060\n",
      "IPI_lag2               0.5672      0.837      0.677      0.502      -1.118       2.253\n",
      "==============================================================================\n",
      "Omnibus:                        6.191   Durbin-Watson:                   2.021\n",
      "Prob(Omnibus):                  0.045   Jarque-Bera (JB):                7.196\n",
      "Skew:                          -0.333   Prob(JB):                       0.0274\n",
      "Kurtosis:                       4.197   Cond. No.                     1.16e+16\n",
      "==============================================================================\n",
      "\n",
      "Notes:\n",
      "[1] Standard Errors are heteroscedasticity and autocorrelation robust (HAC) using 0 lags and without small sample correction\n",
      "[2] The smallest eigenvalue is 4.71e-28. This might indicate that there are\n",
      "strong multicollinearity problems or that the design matrix is singular.\n",
      "                            OLS Regression Results                            \n",
      "==============================================================================\n",
      "Dep. Variable:                  Price   R-squared:                       0.526\n",
      "Model:                            OLS   Adj. R-squared:                  0.063\n",
      "Method:                 Least Squares   F-statistic:                       nan\n",
      "Date:                Fri, 28 Feb 2025   Prob (F-statistic):                nan\n",
      "Time:                        11:47:53   Log-Likelihood:                 131.38\n",
      "No. Observations:                  92   AIC:                            -170.8\n",
      "Df Residuals:                      46   BIC:                            -54.75\n",
      "Df Model:                          45                                         \n",
      "Covariance Type:                  HAC                                         \n",
      "======================================================================================\n",
      "                         coef    std err          t      P>|t|      [0.025      0.975]\n",
      "--------------------------------------------------------------------------------------\n",
      "InVolReg               0.0553        nan        nan        nan         nan         nan\n",
      "OutVolReg              0.0256        nan        nan        nan         nan         nan\n",
      "InVolFin            4720.6240    5.5e+06      0.001      0.999   -1.11e+07    1.11e+07\n",
      "TVolFin            -4215.2534   1.52e+07     -0.000      1.000   -3.05e+07    3.05e+07\n",
      "TVolReg               -0.0710      0.065     -1.089      0.282      -0.202       0.060\n",
      "WalletReg             -0.0091        nan        nan        nan         nan         nan\n",
      "WalletFin          -2.516e+06        nan        nan        nan         nan         nan\n",
      "Coal_price_EU         -0.5619      2.369     -0.237      0.814      -5.330       4.206\n",
      "Ngas_price_EU          0.5112      0.408      1.252      0.217      -0.310       1.333\n",
      "Oil_price_EU           0.3087        nan        nan        nan         nan         nan\n",
      "HDD                    0.0092        nan        nan        nan         nan         nan\n",
      "CDD                    0.0092      0.092      0.100      0.921      -0.176       0.194\n",
      "ESI                   -0.2419      0.909     -0.266      0.791      -2.072       1.588\n",
      "IPI                    0.4876        nan        nan        nan         nan         nan\n",
      "InVolReg_lag1          0.0357      0.186      0.192      0.848      -0.338       0.409\n",
      "InVolReg_lag2          0.0388      0.093      0.416      0.679      -0.149       0.227\n",
      "OutVolReg_lag1         0.0055      0.077      0.072      0.943      -0.149       0.161\n",
      "OutVolReg_lag2         0.0024        nan        nan        nan         nan         nan\n",
      "InVolFin_lag1      -4177.8231        nan        nan        nan         nan         nan\n",
      "InVolFin_lag2         -0.0087        nan        nan        nan         nan         nan\n",
      "OutVolFin_lag1         0.0151      2.809      0.005      0.996      -5.640       5.670\n",
      "OutVolFin_lag2         0.0089        nan        nan        nan         nan         nan\n",
      "TVolFin_lag1        3730.5098   1.82e+07      0.000      1.000   -3.65e+07    3.65e+07\n",
      "TVolFin_lag2           0.0126      1.446      0.009      0.993      -2.899       2.924\n",
      "TVolReg_lag1          -0.0332      0.030     -1.121      0.268      -0.093       0.026\n",
      "TVolReg_lag2          -0.0288      0.295     -0.098      0.923      -0.623       0.565\n",
      "WalletReg_lag1        -0.0154      0.061     -0.254      0.801      -0.138       0.107\n",
      "WalletReg_lag2        -0.0081      0.016     -0.497      0.621      -0.041       0.025\n",
      "WalletFin_lag1      1.722e+07        nan        nan        nan         nan         nan\n",
      "WalletFin_lag2     -1.471e+07        nan        nan        nan         nan         nan\n",
      "Price_lag1            -0.0750      0.199     -0.377      0.708      -0.476       0.326\n",
      "Price_lag2            -0.2657      1.669     -0.159      0.874      -3.626       3.094\n",
      "Coal_price_EU_lag1    -0.0712      0.678     -0.105      0.917      -1.435       1.293\n",
      "Coal_price_EU_lag2     0.3862        nan        nan        nan         nan         nan\n",
      "Ngas_price_EU_lag1    -0.1858      0.529     -0.351      0.727      -1.251       0.879\n",
      "Ngas_price_EU_lag2     0.1904      1.714      0.111      0.912      -3.260       3.641\n",
      "Oil_price_EU_lag1     -0.0891      0.611     -0.146      0.885      -1.320       1.141\n",
      "Oil_price_EU_lag2      0.2812      0.621      0.453      0.653      -0.969       1.531\n",
      "HDD_lag1              -0.0045      0.398     -0.011      0.991      -0.805       0.796\n",
      "HDD_lag2              -0.0325      0.061     -0.536      0.595      -0.155       0.090\n",
      "CDD_lag1               0.0243        nan        nan        nan         nan         nan\n",
      "CDD_lag2              -0.0350        nan        nan        nan         nan         nan\n",
      "ESI_lag1              -0.2425        nan        nan        nan         nan         nan\n",
      "ESI_lag2              -0.4968        nan        nan        nan         nan         nan\n",
      "IPI_lag1               0.5079      3.969      0.128      0.899      -7.480       8.496\n",
      "IPI_lag2               0.5672      1.175      0.483      0.631      -1.797       2.932\n",
      "==============================================================================\n",
      "Omnibus:                        6.191   Durbin-Watson:                   2.021\n",
      "Prob(Omnibus):                  0.045   Jarque-Bera (JB):                7.196\n",
      "Skew:                          -0.333   Prob(JB):                       0.0274\n",
      "Kurtosis:                       4.197   Cond. No.                     5.45e+12\n",
      "==============================================================================\n",
      "\n",
      "Notes:\n",
      "[1] Standard Errors are heteroscedasticity and autocorrelation robust (HAC) using 0 lags and without small sample correction\n",
      "[2] The smallest eigenvalue is 2.13e-21. This might indicate that there are\n",
      "strong multicollinearity problems or that the design matrix is singular.\n"
     ]
    },
    {
     "name": "stderr",
     "output_type": "stream",
     "text": [
      "c:\\Users\\zoero\\OneDrive\\Bureau\\M2\\S1\\projet tutoré\\code projet tuteuré\\Banking-EU-ETS\\.venv\\Lib\\site-packages\\statsmodels\\regression\\linear_model.py:1884: RuntimeWarning: invalid value encountered in sqrt\n",
      "  return np.sqrt(np.diag(self.cov_params()))\n"
     ]
    }
   ],
   "source": [
    "y_3 = cluster1_phase3['Price']\n",
    "X_3 = cluster1_phase3.drop(columns=['Price','InVolFin','TVolFin','OutVolFin'])\n",
    "T = len(y_3)\n",
    "maxlags = int(4 * (T / 100)**(2/9)) \n",
    "model = sm.OLS(y_3, X_3).fit()\n",
    "robust_se_model = model.get_robustcov_results(cov_type='HAC', maxlags=0)\n",
    "print(robust_se_model.summary())\n",
    "stepwise_model(robust_se_model,X_3,y_3)"
   ]
  },
  {
   "cell_type": "markdown",
   "metadata": {},
   "source": [
    "Test 2: LASSO"
   ]
  },
  {
   "cell_type": "code",
   "execution_count": 8,
   "metadata": {},
   "outputs": [
    {
     "name": "stdout",
     "output_type": "stream",
     "text": [
      "Alpha optimal: 0.005032761360995224\n",
      "Intercept: 0.016842504943299325\n",
      "InVolReg : 0.004132528908464051\n",
      "InVolFin : 0.0018212765609586985\n",
      "OutVolFin : 0.013902301740582277\n",
      "TVolFin : 0.0028009827464203327\n",
      "WalletReg : -0.007585500758591423\n",
      "OutVolReg_lag1 : 0.00028121158800819803\n",
      "OutVolReg_lag2 : -0.00012571415598777147\n",
      "InVolFin_lag2 : -0.005965701256411987\n",
      "OutVolFin_lag1 : -0.0043829479115249275\n",
      "OutVolFin_lag2 : 0.001884634698156951\n",
      "WalletReg_lag1 : -0.0031167830567959904\n",
      "WalletReg_lag2 : -0.004513020212219695\n",
      "CDD_lag1 : 0.0035342011124407094\n",
      "CDD_lag2 : -0.001373493915446229\n"
     ]
    }
   ],
   "source": [
    "from sklearn.linear_model import LassoCV\n",
    "\n",
    "y_3 = cluster1_phase3['Price']\n",
    "X_3 = cluster1_phase3.drop(columns=['Price'])\n",
    "\n",
    "lasso_variables(X_3,y_3)"
   ]
  },
  {
   "cell_type": "markdown",
   "metadata": {},
   "source": [
    "Periode 1"
   ]
  },
  {
   "cell_type": "code",
   "execution_count": 13,
   "metadata": {},
   "outputs": [],
   "source": [
    "periode1 = pd.read_csv('../data_stationnaires/Cluster1_periode1.csv')\n",
    "periode1.drop(columns=['Unnamed: 0'], inplace = True)"
   ]
  },
  {
   "cell_type": "code",
   "execution_count": null,
   "metadata": {},
   "outputs": [],
   "source": []
  }
 ],
 "metadata": {
  "kernelspec": {
   "display_name": ".venv",
   "language": "python",
   "name": "python3"
  },
  "language_info": {
   "codemirror_mode": {
    "name": "ipython",
    "version": 3
   },
   "file_extension": ".py",
   "mimetype": "text/x-python",
   "name": "python",
   "nbconvert_exporter": "python",
   "pygments_lexer": "ipython3",
   "version": "3.11.0"
  }
 },
 "nbformat": 4,
 "nbformat_minor": 2
}
