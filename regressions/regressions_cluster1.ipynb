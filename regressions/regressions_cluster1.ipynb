{
 "cells": [
  {
   "cell_type": "code",
   "execution_count": 64,
   "metadata": {},
   "outputs": [],
   "source": [
    "import pandas as pd\n",
    "import statsmodels.api as sm\n",
    "from regressions_methods import stepwise_model,lasso_variables \n",
    "import warnings\n",
    "from sklearn.exceptions import ConvergenceWarning"
   ]
  },
  {
   "cell_type": "code",
   "execution_count": 65,
   "metadata": {},
   "outputs": [],
   "source": [
    "phase2 = pd.read_csv('../data_stationnaires/Cluster1_Phase_II.csv')\n",
    "phase3 = pd.read_csv('../data_stationnaires/Cluster1_Phase_III.csv')\n",
    "periode1 = pd.read_csv('../data_stationnaires/Cluster1_periode1.csv')\n",
    "periode2 = pd.read_csv('../data_stationnaires/Cluster1_periode2.csv')\n",
    "\n",
    "\n",
    "phase2.drop(columns=['Date','Unnamed: 0','Unnamed: 0.1'], inplace=True)\n",
    "phase3.drop(columns=['Date','Unnamed: 0','Unnamed: 0.1'], inplace=True)\n",
    "periode1.drop(columns=['Date','Unnamed: 0','Unnamed: 0.1'], inplace=True)\n",
    "periode2.drop(columns=['Date','Unnamed: 0','Unnamed: 0.1'], inplace=True)\n",
    "\n",
    "\n",
    "phase2.dropna(inplace=True)\n",
    "phase3.dropna(inplace=True)\n",
    "periode1.dropna(inplace=True)\n",
    "periode2.dropna(inplace=True)\n",
    "\n"
   ]
  },
  {
   "cell_type": "markdown",
   "metadata": {},
   "source": [
    "Phase 2"
   ]
  },
  {
   "cell_type": "code",
   "execution_count": 66,
   "metadata": {},
   "outputs": [],
   "source": [
    "y_2 = phase2['Price']\n",
    "X_2 = phase2.drop(columns=['Price'])"
   ]
  },
  {
   "cell_type": "code",
   "execution_count": 67,
   "metadata": {},
   "outputs": [],
   "source": [
    "# Ignorer les avertissements de non-convergence de scikit-learn\n",
    "warnings.filterwarnings(\"ignore\", category=ConvergenceWarning)"
   ]
  },
  {
   "cell_type": "markdown",
   "metadata": {},
   "source": [
    "Test 1: STEPWISE REGRESSION"
   ]
  },
  {
   "cell_type": "markdown",
   "metadata": {},
   "source": [
    "\n",
    "\n",
    "critère R2 - AIC - BIC - p-values: balance entre complexité et performance AIC et BIC -> performance et complexité, R2 performance"
   ]
  },
  {
   "cell_type": "markdown",
   "metadata": {},
   "source": [
    "HAC pour gérer l'hétéroscédasticité"
   ]
  },
  {
   "cell_type": "code",
   "execution_count": 68,
   "metadata": {},
   "outputs": [
    {
     "name": "stdout",
     "output_type": "stream",
     "text": [
      "                                 OLS Regression Results                                \n",
      "=======================================================================================\n",
      "Dep. Variable:                  Price   R-squared (uncentered):                   0.741\n",
      "Model:                            OLS   Adj. R-squared (uncentered):              0.567\n",
      "Method:                 Least Squares   F-statistic:                              19.46\n",
      "Date:                Fri, 28 Feb 2025   Prob (F-statistic):                    1.77e-13\n",
      "Time:                        13:44:07   Log-Likelihood:                          103.51\n",
      "No. Observations:                  57   AIC:                                     -161.0\n",
      "Df Residuals:                      34   BIC:                                     -114.0\n",
      "Df Model:                          23                                                  \n",
      "Covariance Type:                  HAC                                                  \n",
      "======================================================================================\n",
      "                         coef    std err          t      P>|t|      [0.025      0.975]\n",
      "--------------------------------------------------------------------------------------\n",
      "InVolReg              -0.0197      0.004     -4.589      0.000      -0.028      -0.011\n",
      "OutVolReg              0.0092      0.006      1.474      0.150      -0.003       0.022\n",
      "InVolFin              -0.0044      0.001     -4.709      0.000      -0.006      -0.002\n",
      "Coal_price_EU         -0.6687      0.160     -4.192      0.000      -0.993      -0.344\n",
      "Ngas_price_EU         -1.6362      0.200     -8.190      0.000      -2.042      -1.230\n",
      "Oil_price_EU           0.8275      0.142      5.828      0.000       0.539       1.116\n",
      "HDD                    0.0172      0.013      1.287      0.207      -0.010       0.044\n",
      "IPI                    0.5844      0.275      2.129      0.041       0.026       1.142\n",
      "InVolReg_lag2          0.0115      0.006      2.026      0.051   -3.48e-05       0.023\n",
      "OutVolReg_lag1         0.0248      0.004      6.202      0.000       0.017       0.033\n",
      "OutVolReg_lag2         0.0079      0.005      1.470      0.151      -0.003       0.019\n",
      "OutVolFin_lag1         0.0031      0.001      3.311      0.002       0.001       0.005\n",
      "WalletFin_lag1        -0.0163      0.009     -1.906      0.065      -0.034       0.001\n",
      "WalletFin_lag2        -0.0601      0.011     -5.236      0.000      -0.083      -0.037\n",
      "Price_lag1            -0.3308      0.089     -3.709      0.001      -0.512      -0.150\n",
      "Price_lag2             0.1610      0.090      1.798      0.081      -0.021       0.343\n",
      "Coal_price_EU_lag1     0.4563      0.163      2.796      0.008       0.125       0.788\n",
      "Coal_price_EU_lag2     0.4233      0.116      3.665      0.001       0.189       0.658\n",
      "Ngas_price_EU_lag1     0.2384      0.176      1.351      0.186      -0.120       0.597\n",
      "Oil_price_EU_lag1     -0.3164      0.177     -1.789      0.083      -0.676       0.043\n",
      "Oil_price_EU_lag2     -0.3254      0.180     -1.803      0.080      -0.692       0.041\n",
      "IPI_lag1               1.0407      0.348      2.991      0.005       0.334       1.748\n",
      "IPI_lag2               1.0119      0.374      2.706      0.011       0.252       1.772\n",
      "==============================================================================\n",
      "Omnibus:                        0.605   Durbin-Watson:                   1.944\n",
      "Prob(Omnibus):                  0.739   Jarque-Bera (JB):                0.733\n",
      "Skew:                           0.157   Prob(JB):                        0.693\n",
      "Kurtosis:                       2.542   Cond. No.                     1.16e+03\n",
      "==============================================================================\n",
      "\n",
      "Notes:\n",
      "[1] R² is computed without centering (uncentered) since the model does not contain a constant.\n",
      "[2] Standard Errors are heteroscedasticity and autocorrelation robust (HAC) using 0 lags and without small sample correction\n",
      "[3] The condition number is large, 1.16e+03. This might indicate that there are\n",
      "strong multicollinearity or other numerical problems.\n"
     ]
    }
   ],
   "source": [
    "y_2 = phase2['Price']\n",
    "X_2 = phase2.drop(columns=['Price'])\n",
    "\n",
    "y_2 = phase2['Price']\n",
    "model = sm.OLS(y_2, X_2).fit()\n",
    "robust_se_model = model.get_robustcov_results(cov_type='HAC', maxlags=0)\n",
    "\n",
    "stepwise_model(robust_se_model,X_2,y_2)\n",
    "\n"
   ]
  },
  {
   "cell_type": "markdown",
   "metadata": {},
   "source": [
    "Newey-West HAC"
   ]
  },
  {
   "cell_type": "markdown",
   "metadata": {},
   "source": [
    "HAC permet l'ajustement des erreurs standard pour prendre en compte la possibilité d'autocorrélation et d'hétéroscédasticité dans les résidus, en utilisant les erreurs standard robustes de Newey-West."
   ]
  },
  {
   "cell_type": "markdown",
   "metadata": {},
   "source": [
    "Test2: LASSO"
   ]
  },
  {
   "cell_type": "code",
   "execution_count": 69,
   "metadata": {},
   "outputs": [
    {
     "name": "stdout",
     "output_type": "stream",
     "text": [
      "Alpha optimal: 0.0852098997602766\n",
      "Intercept: -0.012847408026921785\n",
      "OutVolFin : 4.706024196892711e-19\n"
     ]
    }
   ],
   "source": [
    "y_2 = phase2['Price']\n",
    "X_2 = phase2.drop(columns=['Price'])\n",
    "\n",
    "lasso_variables(X_2,y_2)\n"
   ]
  },
  {
   "cell_type": "markdown",
   "metadata": {},
   "source": [
    "Phase 3"
   ]
  },
  {
   "cell_type": "markdown",
   "metadata": {},
   "source": [
    "Test 1: STEPWISE REGRESSION"
   ]
  },
  {
   "cell_type": "code",
   "execution_count": 70,
   "metadata": {},
   "outputs": [
    {
     "name": "stdout",
     "output_type": "stream",
     "text": [
      "                                 OLS Regression Results                                \n",
      "=======================================================================================\n",
      "Dep. Variable:                  Price   R-squared (uncentered):                   0.460\n",
      "Model:                            OLS   Adj. R-squared (uncentered):              0.329\n",
      "Method:                 Least Squares   F-statistic:                              24.94\n",
      "Date:                Fri, 28 Feb 2025   Prob (F-statistic):                    2.51e-24\n",
      "Time:                        13:44:07   Log-Likelihood:                          123.56\n",
      "No. Observations:                  92   AIC:                                     -211.1\n",
      "Df Residuals:                      74   BIC:                                     -165.7\n",
      "Df Model:                          18                                                  \n",
      "Covariance Type:                  HAC                                                  \n",
      "======================================================================================\n",
      "                         coef    std err          t      P>|t|      [0.025      0.975]\n",
      "--------------------------------------------------------------------------------------\n",
      "InVolReg               0.0075      0.004      1.819      0.073      -0.001       0.016\n",
      "TVolFin                0.0090      0.003      2.831      0.006       0.003       0.015\n",
      "WalletReg             -0.0113      0.002     -4.879      0.000      -0.016      -0.007\n",
      "Coal_price_EU         -0.3474      0.202     -1.716      0.090      -0.751       0.056\n",
      "Ngas_price_EU          0.4459      0.142      3.133      0.002       0.162       0.730\n",
      "Oil_price_EU           0.3066      0.156      1.959      0.054      -0.005       0.618\n",
      "InVolFin_lag1         -0.0189      0.004     -4.777      0.000      -0.027      -0.011\n",
      "OutVolFin_lag2         0.0089      0.002      4.128      0.000       0.005       0.013\n",
      "WalletReg_lag1        -0.0100      0.002     -4.156      0.000      -0.015      -0.005\n",
      "WalletReg_lag2        -0.0070      0.002     -3.870      0.000      -0.011      -0.003\n",
      "WalletFin_lag1       120.4844     16.619      7.250      0.000      87.371     153.598\n",
      "WalletFin_lag2      -120.4822     16.618     -7.250      0.000    -153.595     -87.370\n",
      "Price_lag2            -0.3058      0.096     -3.185      0.002      -0.497      -0.114\n",
      "Ngas_price_EU_lag1    -0.3227      0.182     -1.771      0.081      -0.686       0.040\n",
      "Ngas_price_EU_lag2     0.2802      0.184      1.523      0.132      -0.086       0.647\n",
      "Oil_price_EU_lag1     -0.2714      0.123     -2.199      0.031      -0.517      -0.025\n",
      "Oil_price_EU_lag2      0.3722      0.102      3.642      0.000       0.169       0.576\n",
      "IPI_lag1               0.4487      0.268      1.673      0.099      -0.086       0.983\n",
      "==============================================================================\n",
      "Omnibus:                        6.106   Durbin-Watson:                   2.118\n",
      "Prob(Omnibus):                  0.047   Jarque-Bera (JB):                7.696\n",
      "Skew:                          -0.280   Prob(JB):                       0.0213\n",
      "Kurtosis:                       4.301   Cond. No.                     1.67e+05\n",
      "==============================================================================\n",
      "\n",
      "Notes:\n",
      "[1] R² is computed without centering (uncentered) since the model does not contain a constant.\n",
      "[2] Standard Errors are heteroscedasticity and autocorrelation robust (HAC) using 0 lags and without small sample correction\n",
      "[3] The condition number is large, 1.67e+05. This might indicate that there are\n",
      "strong multicollinearity or other numerical problems.\n"
     ]
    }
   ],
   "source": [
    "y_3 = phase3['Price']\n",
    "X_3 = phase3.drop(columns=['Price'])\n",
    "model = sm.OLS(y_3, X_3).fit()\n",
    "robust_se_model = model.get_robustcov_results(cov_type='HAC', maxlags=0)\n",
    "stepwise_model(robust_se_model,X_3,y_3)"
   ]
  },
  {
   "cell_type": "markdown",
   "metadata": {},
   "source": [
    "Test 2: LASSO"
   ]
  },
  {
   "cell_type": "code",
   "execution_count": 71,
   "metadata": {},
   "outputs": [
    {
     "name": "stdout",
     "output_type": "stream",
     "text": [
      "Alpha optimal: 0.00728348439772507\n",
      "Intercept: 0.018726376241181918\n",
      "InVolReg : 0.0044873192557297005\n",
      "TVolFin : 0.010948826592985223\n",
      "WalletReg : -0.007019000797073654\n",
      "InVolFin_lag2 : -0.014550719852595352\n",
      "OutVolFin_lag2 : 0.004622256649989064\n",
      "WalletReg_lag1 : -0.002682219066299886\n",
      "WalletReg_lag2 : -0.003991119211480353\n",
      "CDD_lag1 : 5.7508004941906854e-05\n"
     ]
    }
   ],
   "source": [
    "y_3 = phase3['Price']\n",
    "X_3 = phase3.drop(columns=['Price'])\n",
    "lasso_variables(X_3,y_3)"
   ]
  },
  {
   "cell_type": "markdown",
   "metadata": {},
   "source": [
    "Periode 1"
   ]
  },
  {
   "cell_type": "code",
   "execution_count": 72,
   "metadata": {},
   "outputs": [
    {
     "name": "stdout",
     "output_type": "stream",
     "text": [
      "                                 OLS Regression Results                                \n",
      "=======================================================================================\n",
      "Dep. Variable:                  Price   R-squared (uncentered):                   0.629\n",
      "Model:                            OLS   Adj. R-squared (uncentered):              0.489\n",
      "Method:                 Least Squares   F-statistic:                              13.10\n",
      "Date:                Fri, 28 Feb 2025   Prob (F-statistic):                    3.84e-09\n",
      "Time:                        13:44:08   Log-Likelihood:                          71.494\n",
      "No. Observations:                  44   AIC:                                     -119.0\n",
      "Df Residuals:                      32   BIC:                                     -97.58\n",
      "Df Model:                          12                                                  \n",
      "Covariance Type:                  HAC                                                  \n",
      "======================================================================================\n",
      "                         coef    std err          t      P>|t|      [0.025      0.975]\n",
      "--------------------------------------------------------------------------------------\n",
      "WalletReg              0.0286      0.021      1.342      0.189      -0.015       0.072\n",
      "WalletFin             -0.0349      0.008     -4.526      0.000      -0.051      -0.019\n",
      "Ngas_price_EU         -0.7071      0.162     -4.378      0.000      -1.036      -0.378\n",
      "OutVolReg_lag1         0.0125      0.005      2.485      0.018       0.002       0.023\n",
      "OutVolReg_lag2         0.0185      0.004      4.390      0.000       0.010       0.027\n",
      "InVolFin_lag2         -0.0022      0.001     -1.742      0.091      -0.005       0.000\n",
      "Price_lag1            -0.4210      0.121     -3.472      0.002      -0.668      -0.174\n",
      "Coal_price_EU_lag2     0.2996      0.122      2.461      0.019       0.052       0.548\n",
      "Oil_price_EU_lag2      0.6133      0.150      4.078      0.000       0.307       0.920\n",
      "CDD_lag1               0.0179      0.011      1.585      0.123      -0.005       0.041\n",
      "ESI_lag2              -0.1197      0.088     -1.367      0.181      -0.298       0.059\n",
      "IPI_lag1              -1.1162      0.397     -2.813      0.008      -1.924      -0.308\n",
      "==============================================================================\n",
      "Omnibus:                        0.077   Durbin-Watson:                   2.160\n",
      "Prob(Omnibus):                  0.962   Jarque-Bera (JB):                0.275\n",
      "Skew:                          -0.046   Prob(JB):                        0.872\n",
      "Kurtosis:                       2.624   Cond. No.                     1.31e+03\n",
      "==============================================================================\n",
      "\n",
      "Notes:\n",
      "[1] R² is computed without centering (uncentered) since the model does not contain a constant.\n",
      "[2] Standard Errors are heteroscedasticity and autocorrelation robust (HAC) using 0 lags and without small sample correction\n",
      "[3] The condition number is large, 1.31e+03. This might indicate that there are\n",
      "strong multicollinearity or other numerical problems.\n"
     ]
    }
   ],
   "source": [
    "y = periode1['Price']\n",
    "X = periode1.drop(columns=['Price'])\n",
    "model = sm.OLS(y, X).fit()\n",
    "robust_se_model = model.get_robustcov_results(cov_type='HAC', maxlags=0)\n",
    "\n",
    "stepwise_model(robust_se_model,X,y)"
   ]
  },
  {
   "cell_type": "code",
   "execution_count": 73,
   "metadata": {},
   "outputs": [
    {
     "name": "stdout",
     "output_type": "stream",
     "text": [
      "Alpha optimal: 0.1095383835259164\n",
      "Intercept: -0.013871738435785135\n"
     ]
    }
   ],
   "source": [
    "y = periode1['Price']\n",
    "X = periode1.drop(columns=['Price'])\n",
    "lasso_variables(X,y)"
   ]
  },
  {
   "cell_type": "markdown",
   "metadata": {},
   "source": [
    "Période 2"
   ]
  },
  {
   "cell_type": "code",
   "execution_count": 74,
   "metadata": {},
   "outputs": [
    {
     "name": "stdout",
     "output_type": "stream",
     "text": [
      "                                 OLS Regression Results                                \n",
      "=======================================================================================\n",
      "Dep. Variable:                  Price   R-squared (uncentered):                   0.274\n",
      "Model:                            OLS   Adj. R-squared (uncentered):              0.153\n",
      "Method:                 Least Squares   F-statistic:                              4.485\n",
      "Date:                Fri, 28 Feb 2025   Prob (F-statistic):                    3.01e-06\n",
      "Time:                        13:44:08   Log-Likelihood:                          127.11\n",
      "No. Observations:                 105   AIC:                                     -224.2\n",
      "Df Residuals:                      90   BIC:                                     -184.4\n",
      "Df Model:                          15                                                  \n",
      "Covariance Type:                  HAC                                                  \n",
      "======================================================================================\n",
      "                         coef    std err          t      P>|t|      [0.025      0.975]\n",
      "--------------------------------------------------------------------------------------\n",
      "OutVolFin              0.0079      0.003      2.735      0.008       0.002       0.014\n",
      "Ngas_price_EU          0.1768      0.140      1.261      0.210      -0.102       0.455\n",
      "Oil_price_EU           0.2875      0.166      1.731      0.087      -0.042       0.617\n",
      "HDD                    0.0331      0.023      1.416      0.160      -0.013       0.080\n",
      "CDD                    0.0265      0.018      1.511      0.134      -0.008       0.061\n",
      "IPI                   -0.5191      0.309     -1.678      0.097      -1.134       0.096\n",
      "InVolReg_lag2          0.0056      0.005      1.176      0.243      -0.004       0.015\n",
      "OutVolFin_lag1        -0.0089      0.002     -3.710      0.000      -0.014      -0.004\n",
      "OutVolFin_lag2         0.0068      0.002      2.973      0.004       0.002       0.011\n",
      "WalletReg_lag2        -0.0025      0.002     -1.395      0.166      -0.006       0.001\n",
      "Price_lag2            -0.1052      0.100     -1.049      0.297      -0.304       0.094\n",
      "Coal_price_EU_lag2     0.3148      0.189      1.665      0.099      -0.061       0.690\n",
      "Ngas_price_EU_lag1    -0.2317      0.156     -1.486      0.141      -0.542       0.078\n",
      "HDD_lag2              -0.0416      0.024     -1.763      0.081      -0.089       0.005\n",
      "CDD_lag2              -0.0262      0.017     -1.531      0.129      -0.060       0.008\n",
      "==============================================================================\n",
      "Omnibus:                        3.288   Durbin-Watson:                   2.040\n",
      "Prob(Omnibus):                  0.193   Jarque-Bera (JB):                3.150\n",
      "Skew:                          -0.166   Prob(JB):                        0.207\n",
      "Kurtosis:                       3.781   Cond. No.                         466.\n",
      "==============================================================================\n",
      "\n",
      "Notes:\n",
      "[1] R² is computed without centering (uncentered) since the model does not contain a constant.\n",
      "[2] Standard Errors are heteroscedasticity and autocorrelation robust (HAC) using 0 lags and without small sample correction\n"
     ]
    }
   ],
   "source": [
    "y = periode2['Price']\n",
    "X = periode2.drop(columns=['Price'])\n",
    "model = sm.OLS(y, X).fit()\n",
    "robust_se_model = model.get_robustcov_results(cov_type='HAC', maxlags=0)\n",
    "\n",
    "stepwise_model(robust_se_model,X,y)"
   ]
  },
  {
   "cell_type": "code",
   "execution_count": 75,
   "metadata": {},
   "outputs": [
    {
     "name": "stdout",
     "output_type": "stream",
     "text": [
      "Alpha optimal: 0.01780447819274763\n",
      "Intercept: 0.019265857901676717\n",
      "OutVolFin : 0.00546062294517422\n",
      "InVolFin_lag2 : -0.0036888259063683013\n",
      "OutVolFin_lag1 : -0.002010338368517342\n",
      "OutVolFin_lag2 : 0.003055715663340568\n",
      "WalletReg_lag2 : -0.0025687534248350773\n"
     ]
    }
   ],
   "source": [
    "y = periode2['Price']\n",
    "X = periode2.drop(columns=['Price'])\n",
    "lasso_variables(X,y)"
   ]
  }
 ],
 "metadata": {
  "kernelspec": {
   "display_name": ".venv",
   "language": "python",
   "name": "python3"
  },
  "language_info": {
   "codemirror_mode": {
    "name": "ipython",
    "version": 3
   },
   "file_extension": ".py",
   "mimetype": "text/x-python",
   "name": "python",
   "nbconvert_exporter": "python",
   "pygments_lexer": "ipython3",
   "version": "3.11.0"
  }
 },
 "nbformat": 4,
 "nbformat_minor": 2
}
