{
 "cells": [
  {
   "cell_type": "code",
   "execution_count": 12,
   "metadata": {},
   "outputs": [],
   "source": [
    "import pandas as pd\n",
    "import statsmodels.api as sm\n",
    "from regressions_methods import stepwise_model,lasso_variables \n",
    "import warnings\n",
    "from sklearn.exceptions import ConvergenceWarning"
   ]
  },
  {
   "cell_type": "code",
   "execution_count": 13,
   "metadata": {},
   "outputs": [],
   "source": [
    "phase2 = pd.read_csv('../data_stationnaires/Cluster0_Phase_II.csv')\n",
    "phase3 = pd.read_csv('../data_stationnaires/Cluster0_Phase_III.csv')\n",
    "periode1 = pd.read_csv('../data_stationnaires/Cluster0_periode1.csv')\n",
    "periode2 = pd.read_csv('../data_stationnaires/Cluster0_periode2.csv')\n",
    "\n",
    "\n",
    "phase2.drop(columns=['Date','Unnamed: 0','Unnamed: 0.1'], inplace=True)\n",
    "phase3.drop(columns=['Date','Unnamed: 0','Unnamed: 0.1'], inplace=True)\n",
    "periode1.drop(columns=['Date','Unnamed: 0','Unnamed: 0.1'], inplace=True)\n",
    "periode2.drop(columns=['Date','Unnamed: 0','Unnamed: 0.1'], inplace=True)\n",
    "\n",
    "\n",
    "phase2.dropna(inplace=True)\n",
    "phase3.dropna(inplace=True)\n",
    "periode1.dropna(inplace=True)\n",
    "periode2.dropna(inplace=True)\n",
    "\n"
   ]
  },
  {
   "cell_type": "markdown",
   "metadata": {},
   "source": [
    "Phase 2"
   ]
  },
  {
   "cell_type": "code",
   "execution_count": 14,
   "metadata": {},
   "outputs": [],
   "source": [
    "y_2 = phase2['Price']\n",
    "X_2 = phase2.drop(columns=['Price'])"
   ]
  },
  {
   "cell_type": "code",
   "execution_count": 15,
   "metadata": {},
   "outputs": [],
   "source": [
    "# Ignorer les avertissements de non-convergence de scikit-learn\n",
    "warnings.filterwarnings(\"ignore\", category=ConvergenceWarning)"
   ]
  },
  {
   "cell_type": "markdown",
   "metadata": {},
   "source": [
    "Test 1: STEPWISE REGRESSION"
   ]
  },
  {
   "cell_type": "markdown",
   "metadata": {},
   "source": [
    "\n",
    "\n",
    "critère R2 - AIC - BIC - p-values: balance entre complexité et performance AIC et BIC -> performance et complexité, R2 performance"
   ]
  },
  {
   "cell_type": "markdown",
   "metadata": {},
   "source": [
    "HAC pour gérer l'hétéroscédasticité"
   ]
  },
  {
   "cell_type": "code",
   "execution_count": 16,
   "metadata": {},
   "outputs": [
    {
     "name": "stdout",
     "output_type": "stream",
     "text": [
      "                                 OLS Regression Results                                \n",
      "=======================================================================================\n",
      "Dep. Variable:                  Price   R-squared (uncentered):                   0.824\n",
      "Model:                            OLS   Adj. R-squared (uncentered):              0.710\n",
      "Method:                 Least Squares   F-statistic:                              41.21\n",
      "Date:                Fri, 28 Feb 2025   Prob (F-statistic):                    1.83e-18\n",
      "Time:                        13:49:50   Log-Likelihood:                          112.19\n",
      "No. Observations:                  56   AIC:                                     -180.4\n",
      "Df Residuals:                      34   BIC:                                     -135.8\n",
      "Df Model:                          22                                                  \n",
      "Covariance Type:                  HAC                                                  \n",
      "======================================================================================\n",
      "                         coef    std err          t      P>|t|      [0.025      0.975]\n",
      "--------------------------------------------------------------------------------------\n",
      "InVolReg               0.0059      0.004      1.644      0.109      -0.001       0.013\n",
      "InVolFin              -0.0027      0.001     -1.977      0.056      -0.005    7.64e-05\n",
      "WalletFin             -0.0640      0.015     -4.316      0.000      -0.094      -0.034\n",
      "Ngas_price_EU         -0.6010      0.100     -6.025      0.000      -0.804      -0.398\n",
      "Oil_price_EU           0.3148      0.092      3.421      0.002       0.128       0.502\n",
      "HDD                    0.0240      0.013      1.912      0.064      -0.002       0.049\n",
      "IPI                   -0.9052      0.301     -3.003      0.005      -1.518      -0.293\n",
      "InVolReg_lag1          0.0312      0.004      8.805      0.000       0.024       0.038\n",
      "InVolReg_lag2          0.0395      0.003     12.453      0.000       0.033       0.046\n",
      "InVolFin_lag1         -0.0085      0.002     -4.697      0.000      -0.012      -0.005\n",
      "InVolFin_lag2         -0.0075      0.001     -6.238      0.000      -0.010      -0.005\n",
      "OutVolFin_lag1        -0.0033      0.001     -2.690      0.011      -0.006      -0.001\n",
      "OutVolFin_lag2         0.0049      0.001      4.070      0.000       0.002       0.007\n",
      "WalletReg_lag2        -0.1014      0.019     -5.390      0.000      -0.140      -0.063\n",
      "WalletFin_lag2         0.0618      0.015      4.196      0.000       0.032       0.092\n",
      "Price_lag1            -0.3956      0.074     -5.340      0.000      -0.546      -0.245\n",
      "Price_lag2             0.2133      0.072      2.963      0.006       0.067       0.360\n",
      "Coal_price_EU_lag1     0.3008      0.121      2.478      0.018       0.054       0.548\n",
      "Oil_price_EU_lag2      0.3427      0.088      3.901      0.000       0.164       0.521\n",
      "CDD_lag2               0.0276      0.008      3.413      0.002       0.011       0.044\n",
      "IPI_lag1              -0.6089      0.282     -2.157      0.038      -1.182      -0.035\n",
      "IPI_lag2               0.5217      0.272      1.920      0.063      -0.031       1.074\n",
      "==============================================================================\n",
      "Omnibus:                        2.788   Durbin-Watson:                   1.691\n",
      "Prob(Omnibus):                  0.248   Jarque-Bera (JB):                1.881\n",
      "Skew:                          -0.315   Prob(JB):                        0.390\n",
      "Kurtosis:                       3.639   Cond. No.                     1.99e+03\n",
      "==============================================================================\n",
      "\n",
      "Notes:\n",
      "[1] R² is computed without centering (uncentered) since the model does not contain a constant.\n",
      "[2] Standard Errors are heteroscedasticity and autocorrelation robust (HAC) using 0 lags and without small sample correction\n",
      "[3] The condition number is large, 1.99e+03. This might indicate that there are\n",
      "strong multicollinearity or other numerical problems.\n"
     ]
    }
   ],
   "source": [
    "y_2 = phase2['Price']\n",
    "X_2 = phase2.drop(columns=['Price'])\n",
    "\n",
    "y_2 = phase2['Price']\n",
    "model = sm.OLS(y_2, X_2).fit()\n",
    "robust_se_model = model.get_robustcov_results(cov_type='HAC', maxlags=0)\n",
    "\n",
    "stepwise_model(robust_se_model,X_2,y_2)\n",
    "\n"
   ]
  },
  {
   "cell_type": "markdown",
   "metadata": {},
   "source": [
    "Newey-West HAC"
   ]
  },
  {
   "cell_type": "markdown",
   "metadata": {},
   "source": [
    "HAC permet l'ajustement des erreurs standard pour prendre en compte la possibilité d'autocorrélation et d'hétéroscédasticité dans les résidus, en utilisant les erreurs standard robustes de Newey-West."
   ]
  },
  {
   "cell_type": "markdown",
   "metadata": {},
   "source": [
    "Test2: LASSO"
   ]
  },
  {
   "cell_type": "code",
   "execution_count": 17,
   "metadata": {},
   "outputs": [
    {
     "name": "stdout",
     "output_type": "stream",
     "text": [
      "Alpha optimal: 0.006498251516270543\n",
      "Intercept: -0.016412996515000125\n",
      "InVolFin : -0.002432289930993524\n",
      "OutVolFin : -0.001414020177908647\n",
      "InVolReg_lag1 : 0.01772802444560873\n",
      "InVolReg_lag2 : 0.02139890353853304\n",
      "InVolFin_lag1 : -0.003742992771953839\n",
      "InVolFin_lag2 : -0.0035227380777625335\n",
      "OutVolFin_lag2 : 0.0015443765653381158\n",
      "CDD_lag2 : 0.014800956334105062\n"
     ]
    }
   ],
   "source": [
    "y_2 = phase2['Price']\n",
    "X_2 = phase2.drop(columns=['Price'])\n",
    "\n",
    "lasso_variables(X_2,y_2)\n"
   ]
  },
  {
   "cell_type": "markdown",
   "metadata": {},
   "source": [
    "Phase 3"
   ]
  },
  {
   "cell_type": "markdown",
   "metadata": {},
   "source": [
    "Test 1: STEPWISE REGRESSION"
   ]
  },
  {
   "cell_type": "code",
   "execution_count": 18,
   "metadata": {},
   "outputs": [
    {
     "name": "stdout",
     "output_type": "stream",
     "text": [
      "                                 OLS Regression Results                                \n",
      "=======================================================================================\n",
      "Dep. Variable:                  Price   R-squared (uncentered):                   0.386\n",
      "Model:                            OLS   Adj. R-squared (uncentered):              0.193\n",
      "Method:                 Least Squares   F-statistic:                              4.945\n",
      "Date:                Fri, 28 Feb 2025   Prob (F-statistic):                    1.50e-07\n",
      "Time:                        13:49:51   Log-Likelihood:                          117.64\n",
      "No. Observations:                  92   AIC:                                     -191.3\n",
      "Df Residuals:                      70   BIC:                                     -135.8\n",
      "Df Model:                          22                                                  \n",
      "Covariance Type:                  HAC                                                  \n",
      "======================================================================================\n",
      "                         coef    std err          t      P>|t|      [0.025      0.975]\n",
      "--------------------------------------------------------------------------------------\n",
      "InVolReg               0.0125      0.007      1.810      0.075      -0.001       0.026\n",
      "OutVolReg              0.0125      0.010      1.283      0.204      -0.007       0.032\n",
      "WalletReg             -0.0068      0.002     -2.906      0.005      -0.012      -0.002\n",
      "Coal_price_EU         -0.2389      0.169     -1.413      0.162      -0.576       0.098\n",
      "Ngas_price_EU          0.4123      0.149      2.774      0.007       0.116       0.709\n",
      "Oil_price_EU           0.2799      0.172      1.632      0.107      -0.062       0.622\n",
      "CDD                    0.0234      0.014      1.658      0.102      -0.005       0.052\n",
      "ESI                    0.3799      0.259      1.467      0.147      -0.137       0.896\n",
      "InVolReg_lag1         -0.0163      0.013     -1.247      0.217      -0.042       0.010\n",
      "InVolReg_lag2         -0.0219      0.016     -1.355      0.180      -0.054       0.010\n",
      "OutVolReg_lag1         0.0243      0.011      2.245      0.028       0.003       0.046\n",
      "OutVolReg_lag2         0.0160      0.010      1.680      0.097      -0.003       0.035\n",
      "OutVolFin_lag2         0.0074      0.005      1.486      0.142      -0.003       0.017\n",
      "TVolFin_lag1           0.0094      0.004      2.676      0.009       0.002       0.016\n",
      "WalletReg_lag2         0.0073      0.002      3.377      0.001       0.003       0.012\n",
      "Price_lag1            -0.1841      0.120     -1.536      0.129      -0.423       0.055\n",
      "Price_lag2            -0.1501      0.097     -1.552      0.125      -0.343       0.043\n",
      "Coal_price_EU_lag2     0.3314      0.150      2.209      0.030       0.032       0.631\n",
      "Oil_price_EU_lag1     -0.3656      0.148     -2.471      0.016      -0.661      -0.070\n",
      "Oil_price_EU_lag2      0.2843      0.127      2.246      0.028       0.032       0.537\n",
      "ESI_lag1               0.6375      0.209      3.051      0.003       0.221       1.054\n",
      "ESI_lag2              -0.2262      0.168     -1.347      0.182      -0.561       0.109\n",
      "==============================================================================\n",
      "Omnibus:                        3.139   Durbin-Watson:                   1.828\n",
      "Prob(Omnibus):                  0.208   Jarque-Bera (JB):                2.478\n",
      "Skew:                          -0.370   Prob(JB):                        0.290\n",
      "Kurtosis:                       3.316   Cond. No.                     1.34e+03\n",
      "==============================================================================\n",
      "\n",
      "Notes:\n",
      "[1] R² is computed without centering (uncentered) since the model does not contain a constant.\n",
      "[2] Standard Errors are heteroscedasticity and autocorrelation robust (HAC) using 0 lags and without small sample correction\n",
      "[3] The condition number is large, 1.34e+03. This might indicate that there are\n",
      "strong multicollinearity or other numerical problems.\n"
     ]
    }
   ],
   "source": [
    "y_3 = phase3['Price']\n",
    "X_3 = phase3.drop(columns=['Price'])\n",
    "T = len(y_3)\n",
    "maxlags = int(4 * (T / 100)**(2/9)) \n",
    "model = sm.OLS(y_3, X_3).fit()\n",
    "robust_se_model = model.get_robustcov_results(cov_type='HAC', maxlags=0)\n",
    "stepwise_model(robust_se_model,X_3,y_3)"
   ]
  },
  {
   "cell_type": "markdown",
   "metadata": {},
   "source": [
    "Test 2: LASSO"
   ]
  },
  {
   "cell_type": "code",
   "execution_count": 19,
   "metadata": {},
   "outputs": [
    {
     "name": "stdout",
     "output_type": "stream",
     "text": [
      "Alpha optimal: 0.019234368274540954\n",
      "Intercept: 0.016750642423768555\n"
     ]
    }
   ],
   "source": [
    "y_3 = phase3['Price']\n",
    "X_3 = phase3.drop(columns=['Price'])\n",
    "lasso_variables(X_3,y_3)"
   ]
  },
  {
   "cell_type": "markdown",
   "metadata": {},
   "source": [
    "Periode 1"
   ]
  },
  {
   "cell_type": "code",
   "execution_count": 20,
   "metadata": {},
   "outputs": [
    {
     "name": "stdout",
     "output_type": "stream",
     "text": [
      "                                 OLS Regression Results                                \n",
      "=======================================================================================\n",
      "Dep. Variable:                  Price   R-squared (uncentered):                   0.864\n",
      "Model:                            OLS   Adj. R-squared (uncentered):              0.756\n",
      "Method:                 Least Squares   F-statistic:                              54.74\n",
      "Date:                Fri, 28 Feb 2025   Prob (F-statistic):                    2.81e-15\n",
      "Time:                        13:49:51   Log-Likelihood:                          91.146\n",
      "No. Observations:                  43   AIC:                                     -144.3\n",
      "Df Residuals:                      24   BIC:                                     -110.8\n",
      "Df Model:                          19                                                  \n",
      "Covariance Type:                  HAC                                                  \n",
      "======================================================================================\n",
      "                         coef    std err          t      P>|t|      [0.025      0.975]\n",
      "--------------------------------------------------------------------------------------\n",
      "TVolReg                0.0193      0.004      5.473      0.000       0.012       0.027\n",
      "WalletReg             -0.1210      0.024     -5.123      0.000      -0.170      -0.072\n",
      "Ngas_price_EU         -0.2872      0.101     -2.849      0.009      -0.495      -0.079\n",
      "Oil_price_EU           0.2483      0.110      2.256      0.033       0.021       0.475\n",
      "InVolReg_lag1          0.0258      0.004      6.333      0.000       0.017       0.034\n",
      "InVolReg_lag2          0.0313      0.005      6.886      0.000       0.022       0.041\n",
      "InVolFin_lag2         -0.0045      0.001     -4.455      0.000      -0.007      -0.002\n",
      "OutVolFin_lag2         0.0059      0.001      5.600      0.000       0.004       0.008\n",
      "TVolFin_lag1          -0.0036      0.001     -2.403      0.024      -0.007      -0.001\n",
      "WalletReg_lag1        -0.1021      0.021     -4.754      0.000      -0.146      -0.058\n",
      "WalletReg_lag2        -0.0937      0.022     -4.350      0.000      -0.138      -0.049\n",
      "WalletFin_lag2        -0.0320      0.012     -2.717      0.012      -0.056      -0.008\n",
      "Price_lag1            -0.4113      0.078     -5.297      0.000      -0.572      -0.251\n",
      "Price_lag2             0.1406      0.060      2.342      0.028       0.017       0.264\n",
      "Ngas_price_EU_lag2    -0.2861      0.128     -2.236      0.035      -0.550      -0.022\n",
      "Oil_price_EU_lag2      0.7172      0.128      5.593      0.000       0.453       0.982\n",
      "CDD_lag2               0.0416      0.006      6.905      0.000       0.029       0.054\n",
      "ESI_lag2               0.0835      0.032      2.644      0.014       0.018       0.149\n",
      "IPI_lag1              -0.9787      0.212     -4.609      0.000      -1.417      -0.540\n",
      "==============================================================================\n",
      "Omnibus:                        4.467   Durbin-Watson:                   1.893\n",
      "Prob(Omnibus):                  0.107   Jarque-Bera (JB):                3.239\n",
      "Skew:                          -0.520   Prob(JB):                        0.198\n",
      "Kurtosis:                       3.851   Cond. No.                     1.32e+03\n",
      "==============================================================================\n",
      "\n",
      "Notes:\n",
      "[1] R² is computed without centering (uncentered) since the model does not contain a constant.\n",
      "[2] Standard Errors are heteroscedasticity and autocorrelation robust (HAC) using 0 lags and without small sample correction\n",
      "[3] The condition number is large, 1.32e+03. This might indicate that there are\n",
      "strong multicollinearity or other numerical problems.\n"
     ]
    }
   ],
   "source": [
    "y = periode1['Price']\n",
    "X = periode1.drop(columns=['Price'])\n",
    "T = len(y_3)\n",
    "maxlags = int(4 * (T / 100)**(2/9)) \n",
    "model = sm.OLS(y, X).fit()\n",
    "robust_se_model = model.get_robustcov_results(cov_type='HAC', maxlags=0)\n",
    "\n",
    "stepwise_model(robust_se_model,X,y)"
   ]
  },
  {
   "cell_type": "code",
   "execution_count": 21,
   "metadata": {},
   "outputs": [
    {
     "name": "stdout",
     "output_type": "stream",
     "text": [
      "Alpha optimal: 0.00011526570706462941\n",
      "Intercept: 0.2576696838897767\n",
      "TVolReg : 0.01359469531907455\n",
      "WalletReg : -0.09863365063465032\n",
      "Ngas_price_EU : -0.25615189071573247\n",
      "Oil_price_EU : 0.19891839062070268\n",
      "HDD : 0.0018593394541230176\n",
      "InVolReg_lag1 : 0.02741115518670148\n",
      "InVolReg_lag2 : 0.031604919401954486\n",
      "InVolFin_lag2 : -0.0033574996005022928\n",
      "OutVolFin_lag1 : -0.0011336920028217634\n",
      "OutVolFin_lag2 : 0.004407285012784157\n",
      "TVolFin_lag1 : -0.0030489847838171707\n",
      "TVolFin_lag2 : 0.0016245794300045293\n",
      "WalletReg_lag1 : -0.07411230035416351\n",
      "WalletReg_lag2 : -0.08130273267560781\n",
      "WalletFin_lag2 : -0.020145582571773187\n",
      "Price_lag1 : -0.31462428367238227\n",
      "Price_lag2 : 0.19168799512521234\n",
      "Coal_price_EU_lag2 : -0.05363859492767223\n",
      "Ngas_price_EU_lag2 : -0.07126577718963209\n",
      "Oil_price_EU_lag1 : 0.10622094475963667\n",
      "Oil_price_EU_lag2 : 0.5515097459435839\n",
      "HDD_lag1 : -0.0015024215667576734\n",
      "CDD_lag2 : 0.042443367007848995\n",
      "IPI_lag1 : -0.31570041605772714\n"
     ]
    }
   ],
   "source": [
    "lasso_variables(X,y)"
   ]
  }
 ],
 "metadata": {
  "kernelspec": {
   "display_name": ".venv",
   "language": "python",
   "name": "python3"
  },
  "language_info": {
   "codemirror_mode": {
    "name": "ipython",
    "version": 3
   },
   "file_extension": ".py",
   "mimetype": "text/x-python",
   "name": "python",
   "nbconvert_exporter": "python",
   "pygments_lexer": "ipython3",
   "version": "3.11.0"
  }
 },
 "nbformat": 4,
 "nbformat_minor": 2
}
