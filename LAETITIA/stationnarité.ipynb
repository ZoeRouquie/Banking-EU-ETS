{
 "cells": [
  {
   "cell_type": "markdown",
   "metadata": {},
   "source": [
    "CLUSTER 0\n"
   ]
  },
  {
   "cell_type": "code",
   "execution_count": 8,
   "metadata": {},
   "outputs": [],
   "source": [
    "import matplotlib.pyplot as plt\n",
    "import matplotlib.dates as mdates\n",
    "import pandas as pd\n",
    "\n",
    "phases = {\n",
    "    'Phase II': ['2008-01-01', '2012-12-01'],\n",
    "    'Phase III': ['2013-01-01', '2020-12-01']\n",
    "}\n",
    "\n",
    "\n",
    "Data=pd.read_csv(\"../combined_data/cluster0.csv\")\n",
    "Data= Data.drop(columns=[\"Unnamed: 0\",\"Time\",\"month\"])\n",
    "Data= Data.drop(columns=[\"Unnamed: 0.1\"])\n",
    "\n"
   ]
  },
  {
   "cell_type": "code",
   "execution_count": 9,
   "metadata": {},
   "outputs": [],
   "source": [
    "Data['Date']=pd.to_datetime(Data['Date'])"
   ]
  },
  {
   "cell_type": "code",
   "execution_count": 10,
   "metadata": {},
   "outputs": [],
   "source": [
    "# Créer des DataFrames séparés pour chaque phase\n",
    "phase_data = {}\n",
    "for phase, (start, end) in phases.items():\n",
    "    start_date = pd.to_datetime(start)\n",
    "    end_date = pd.to_datetime(end)\n",
    "    phase_data[phase] = Data[(Data['Date'] >= start_date) & (Data['Date'] <= end_date)]\n",
    "\n",
    "# Afficher les premières lignes de chaque DataFrame de phase\n",
    "for phase, df in phase_data.items():\n",
    "    # Utiliser exec pour créer dynamiquement des variables\n",
    "    exec(f\"{phase.replace(' ', '_')}_df = df\")"
   ]
  },
  {
   "cell_type": "code",
   "execution_count": 11,
   "metadata": {},
   "outputs": [],
   "source": [
    "from statsmodels.tsa.stattools import adfuller\n",
    "\n",
    "def test_stationarity(series, significance_level=0.05):\n",
    "    result = adfuller(series.dropna())\n",
    "    p_value = result[1]\n",
    "    return p_value   # True si stationnaire, False sinon\n"
   ]
  },
  {
   "cell_type": "code",
   "execution_count": 12,
   "metadata": {},
   "outputs": [],
   "source": [
    "import numpy as np\n",
    "\n",
    "def make_sationary(data):\n",
    "    # Calcul du décalage nécessaire pour rendre toutes les valeurs positives avant de prendre le logarithme\n",
    "    shift_per_col = data.drop(columns=['Date']).min().abs() + 1\n",
    "    data_stat = data.copy()\n",
    "\n",
    "    # Appliquer une transformation logarithmique et des différenciations d'ordre 1 et 2 si nécessaire\n",
    "    for col in data_stat.columns:\n",
    "        if col != 'Date':\n",
    "            data_stat[col] += shift_per_col[col]\n",
    "            data_stat[col] = np.log1p(data_stat[col])\n",
    "            p_value_after_log = test_stationarity(data_stat[col])  # Tester la stationnarité\n",
    "\n",
    "            if p_value_after_log < 0.05:\n",
    "                print(f\"✅ Stationnaire après transformation log pour {col}.\")\n",
    "            else:\n",
    "                # Appliquer une différenciation d'ordre 1\n",
    "                data_stat[col] = data_stat[col].diff()\n",
    "                p_value_after_diff1 = test_stationarity(data_stat[col])\n",
    "\n",
    "                if p_value_after_diff1 < 0.05:\n",
    "                    print(f\"📉✅ Différenciation d'ordre 1 appliquée à {col} et p-value après: {p_value_after_diff1}\")\n",
    "                else:\n",
    "                    # Appliquer une différenciation d'ordre 2\n",
    "                    data_stat[col] = data_stat[col].diff()\n",
    "                    p_value_after_diff2 = test_stationarity(data_stat[col])\n",
    "                    print(f\"📉📉 Différenciation d'ordre 2 appliquée à {col} et est stationnaire: {(p_value_after_diff2<0.05)}\")\n",
    "    return data_stat\n"
   ]
  },
  {
   "cell_type": "code",
   "execution_count": 13,
   "metadata": {},
   "outputs": [
    {
     "name": "stdout",
     "output_type": "stream",
     "text": [
      "📉✅ Différenciation d'ordre 1 appliquée à InVolReg et p-value après: 2.7264864614455285e-13\n",
      "📉✅ Différenciation d'ordre 1 appliquée à OutVolReg et p-value après: 5.5526596510415915e-27\n",
      "📉✅ Différenciation d'ordre 1 appliquée à InVolFin et p-value après: 5.089915845223691e-07\n",
      "✅ Stationnaire après transformation log pour OutVolFin.\n",
      "✅ Stationnaire après transformation log pour TVolFin.\n",
      "📉✅ Différenciation d'ordre 1 appliquée à TVolReg et p-value après: 0.0037453236012960143\n",
      "📉📉 Différenciation d'ordre 2 appliquée à WalletReg et est stationnaire: True\n",
      "✅ Stationnaire après transformation log pour WalletFin.\n",
      "📉✅ Différenciation d'ordre 1 appliquée à Price et p-value après: 3.5893556354725094e-13\n",
      "📉✅ Différenciation d'ordre 1 appliquée à Coal_price_EU et p-value après: 9.119073869067885e-11\n",
      "📉✅ Différenciation d'ordre 1 appliquée à Ngas_price_EU et p-value après: 0.020302345638764013\n",
      "📉✅ Différenciation d'ordre 1 appliquée à Oil_price_EU et p-value après: 8.50950180784112e-05\n",
      "📉✅ Différenciation d'ordre 1 appliquée à HDD et p-value après: 1.5390917832621949e-12\n",
      "📉✅ Différenciation d'ordre 1 appliquée à CDD et p-value après: 2.8329535355018033e-15\n",
      "✅ Stationnaire après transformation log pour ESI.\n",
      "📉✅ Différenciation d'ordre 1 appliquée à IPI et p-value après: 3.5906469724375774e-13\n"
     ]
    }
   ],
   "source": [
    "new_phase_II_df = make_sationary(Phase_II_df)\n"
   ]
  },
  {
   "cell_type": "code",
   "execution_count": 14,
   "metadata": {},
   "outputs": [
    {
     "name": "stdout",
     "output_type": "stream",
     "text": [
      "La série InVolReg est stationnaire\n",
      "La série OutVolReg est stationnaire\n",
      "La série InVolFin est stationnaire\n",
      "La série OutVolFin est stationnaire\n",
      "La série TVolFin est stationnaire\n",
      "La série TVolReg est stationnaire\n",
      "La série WalletReg est stationnaire\n",
      "La série WalletFin est stationnaire\n",
      "La série Price est stationnaire\n",
      "La série Coal_price_EU est stationnaire\n",
      "La série Ngas_price_EU est stationnaire\n",
      "La série Oil_price_EU est stationnaire\n",
      "La série HDD est stationnaire\n",
      "La série CDD est stationnaire\n",
      "La série ESI est stationnaire\n",
      "La série IPI est stationnaire\n"
     ]
    }
   ],
   "source": [
    "for col in new_phase_II_df.drop(columns=['Date']).columns:\n",
    "    p_value = test_stationarity(new_phase_II_df[col])\n",
    "    if p_value < 0.05:\n",
    "        print(f\"La série {col} est stationnaire\")\n",
    "    else:\n",
    "        print(f\"La série {col} n'est pas stationnaire (p-value >= {0.05}).\")\n",
    "new_phase_II_df.to_csv(\"../data_stationnaires/Cluster0_Phase_II.csv\")"
   ]
  },
  {
   "cell_type": "code",
   "execution_count": 15,
   "metadata": {},
   "outputs": [
    {
     "name": "stdout",
     "output_type": "stream",
     "text": [
      "📉✅ Différenciation d'ordre 1 appliquée à InVolReg et p-value après: 2.154175134406168e-07\n",
      "📉✅ Différenciation d'ordre 1 appliquée à OutVolReg et p-value après: 0.0009304495720639483\n",
      "✅ Stationnaire après transformation log pour InVolFin.\n",
      "✅ Stationnaire après transformation log pour OutVolFin.\n",
      "✅ Stationnaire après transformation log pour TVolFin.\n",
      "📉✅ Différenciation d'ordre 1 appliquée à TVolReg et p-value après: 0.0\n",
      "✅ Stationnaire après transformation log pour WalletReg.\n",
      "✅ Stationnaire après transformation log pour WalletFin.\n",
      "📉✅ Différenciation d'ordre 1 appliquée à Price et p-value après: 2.239638087951297e-19\n",
      "📉✅ Différenciation d'ordre 1 appliquée à Coal_price_EU et p-value après: 5.4025919128514003e-08\n",
      "📉✅ Différenciation d'ordre 1 appliquée à Ngas_price_EU et p-value après: 2.3164798783261532e-07\n",
      "📉✅ Différenciation d'ordre 1 appliquée à Oil_price_EU et p-value après: 2.3552065560241847e-09\n",
      "📉✅ Différenciation d'ordre 1 appliquée à HDD et p-value après: 7.940346335293576e-05\n",
      "📉✅ Différenciation d'ordre 1 appliquée à CDD et p-value après: 1.2784960866916302e-26\n",
      "📉📉 Différenciation d'ordre 2 appliquée à ESI et est stationnaire: True\n",
      "📉✅ Différenciation d'ordre 1 appliquée à IPI et p-value après: 1.2470297680672374e-12\n"
     ]
    },
    {
     "name": "stderr",
     "output_type": "stream",
     "text": [
      "c:\\Users\\zoero\\OneDrive\\Bureau\\M2\\S1\\projet tutoré\\code projet tuteuré\\Banking-EU-ETS\\.venv\\Lib\\site-packages\\statsmodels\\regression\\linear_model.py:955: RuntimeWarning: divide by zero encountered in log\n",
      "  llf = -nobs2*np.log(2*np.pi) - nobs2*np.log(ssr / nobs) - nobs2\n",
      "c:\\Users\\zoero\\OneDrive\\Bureau\\M2\\S1\\projet tutoré\\code projet tuteuré\\Banking-EU-ETS\\.venv\\Lib\\site-packages\\statsmodels\\regression\\linear_model.py:955: RuntimeWarning: divide by zero encountered in log\n",
      "  llf = -nobs2*np.log(2*np.pi) - nobs2*np.log(ssr / nobs) - nobs2\n",
      "c:\\Users\\zoero\\OneDrive\\Bureau\\M2\\S1\\projet tutoré\\code projet tuteuré\\Banking-EU-ETS\\.venv\\Lib\\site-packages\\statsmodels\\regression\\linear_model.py:955: RuntimeWarning: divide by zero encountered in log\n",
      "  llf = -nobs2*np.log(2*np.pi) - nobs2*np.log(ssr / nobs) - nobs2\n",
      "c:\\Users\\zoero\\OneDrive\\Bureau\\M2\\S1\\projet tutoré\\code projet tuteuré\\Banking-EU-ETS\\.venv\\Lib\\site-packages\\statsmodels\\regression\\linear_model.py:955: RuntimeWarning: divide by zero encountered in log\n",
      "  llf = -nobs2*np.log(2*np.pi) - nobs2*np.log(ssr / nobs) - nobs2\n"
     ]
    }
   ],
   "source": [
    "new_phase_III_df = make_sationary(Phase_III_df)"
   ]
  },
  {
   "cell_type": "code",
   "execution_count": 16,
   "metadata": {},
   "outputs": [
    {
     "name": "stderr",
     "output_type": "stream",
     "text": [
      "c:\\Users\\zoero\\OneDrive\\Bureau\\M2\\S1\\projet tutoré\\code projet tuteuré\\Banking-EU-ETS\\.venv\\Lib\\site-packages\\statsmodels\\regression\\linear_model.py:955: RuntimeWarning: divide by zero encountered in log\n",
      "  llf = -nobs2*np.log(2*np.pi) - nobs2*np.log(ssr / nobs) - nobs2\n"
     ]
    },
    {
     "name": "stdout",
     "output_type": "stream",
     "text": [
      "La série InVolReg est stationnaire\n",
      "La série OutVolReg est stationnaire\n",
      "La série InVolFin est stationnaire\n",
      "La série OutVolFin est stationnaire\n",
      "La série TVolFin est stationnaire\n",
      "La série TVolReg est stationnaire\n",
      "La série WalletReg est stationnaire\n",
      "La série WalletFin est stationnaire\n",
      "La série Price est stationnaire\n",
      "La série Coal_price_EU est stationnaire\n",
      "La série Ngas_price_EU est stationnaire\n",
      "La série Oil_price_EU est stationnaire\n"
     ]
    },
    {
     "name": "stdout",
     "output_type": "stream",
     "text": [
      "La série HDD est stationnaire\n",
      "La série CDD est stationnaire\n",
      "La série ESI est stationnaire\n",
      "La série IPI est stationnaire\n"
     ]
    },
    {
     "name": "stderr",
     "output_type": "stream",
     "text": [
      "c:\\Users\\zoero\\OneDrive\\Bureau\\M2\\S1\\projet tutoré\\code projet tuteuré\\Banking-EU-ETS\\.venv\\Lib\\site-packages\\statsmodels\\regression\\linear_model.py:955: RuntimeWarning: divide by zero encountered in log\n",
      "  llf = -nobs2*np.log(2*np.pi) - nobs2*np.log(ssr / nobs) - nobs2\n",
      "c:\\Users\\zoero\\OneDrive\\Bureau\\M2\\S1\\projet tutoré\\code projet tuteuré\\Banking-EU-ETS\\.venv\\Lib\\site-packages\\statsmodels\\regression\\linear_model.py:955: RuntimeWarning: divide by zero encountered in log\n",
      "  llf = -nobs2*np.log(2*np.pi) - nobs2*np.log(ssr / nobs) - nobs2\n",
      "c:\\Users\\zoero\\OneDrive\\Bureau\\M2\\S1\\projet tutoré\\code projet tuteuré\\Banking-EU-ETS\\.venv\\Lib\\site-packages\\statsmodels\\regression\\linear_model.py:955: RuntimeWarning: divide by zero encountered in log\n",
      "  llf = -nobs2*np.log(2*np.pi) - nobs2*np.log(ssr / nobs) - nobs2\n"
     ]
    }
   ],
   "source": [
    "for col in new_phase_III_df.drop(columns=['Date']).columns:\n",
    "    p_value = test_stationarity(new_phase_III_df[col])\n",
    "    if p_value < 0.05:\n",
    "        print(f\"La série {col} est stationnaire\")\n",
    "    else:\n",
    "        print(f\"La série {col} n'est pas stationnaire (p-value >= {0.05}).\")\n",
    "new_phase_III_df.to_csv(\"../data_stationnaires/Cluster0_Phase_III.csv\")"
   ]
  },
  {
   "cell_type": "markdown",
   "metadata": {},
   "source": [
    "CLUSTER 1"
   ]
  },
  {
   "cell_type": "code",
   "execution_count": 17,
   "metadata": {},
   "outputs": [],
   "source": [
    "Data1=pd.read_csv(\"../combined_data/cluster1.csv\")\n",
    "Data1= Data1.drop(columns=[\"Unnamed: 0\",\"Time\",\"month\"])\n",
    "Data1= Data1.drop(columns=[\"Unnamed: 0.1\"])\n",
    "Data1.head()\n",
    "\n",
    "Data1['Date']=pd.to_datetime(Data1['Date'])\n",
    "# Créer des DataFrames séparés pour chaque phase\n",
    "phase_data = {}\n",
    "for phase, (start, end) in phases.items():\n",
    "    start_date = pd.to_datetime(start)\n",
    "    end_date = pd.to_datetime(end)\n",
    "    phase_data[phase] = Data1[(Data1['Date'] >= start_date) & (Data1['Date'] <= end_date)]\n",
    "\n",
    "# Afficher les premières lignes de chaque DataFrame de phase\n",
    "for phase, df in phase_data.items():\n",
    "    # Utiliser exec pour créer dynamiquement des variables\n",
    "    exec(f\"{phase.replace(' ', '_')}_df = df\")"
   ]
  },
  {
   "cell_type": "code",
   "execution_count": 18,
   "metadata": {},
   "outputs": [
    {
     "name": "stdout",
     "output_type": "stream",
     "text": [
      "📉✅ Différenciation d'ordre 1 appliquée à InVolReg et p-value après: 0.04128189042936023\n",
      "📉✅ Différenciation d'ordre 1 appliquée à OutVolReg et p-value après: 0.00043657868871677834\n",
      "✅ Stationnaire après transformation log pour InVolFin.\n",
      "✅ Stationnaire après transformation log pour OutVolFin.\n",
      "✅ Stationnaire après transformation log pour TVolFin.\n",
      "📉✅ Différenciation d'ordre 1 appliquée à TVolReg et p-value après: 0.006038075664978875\n",
      "✅ Stationnaire après transformation log pour WalletReg.\n",
      "📉✅ Différenciation d'ordre 1 appliquée à WalletFin et p-value après: 4.308331537233137e-07\n",
      "📉✅ Différenciation d'ordre 1 appliquée à Price et p-value après: 3.5893556354725094e-13\n",
      "📉✅ Différenciation d'ordre 1 appliquée à Coal_price_EU et p-value après: 9.119073869067885e-11\n",
      "📉✅ Différenciation d'ordre 1 appliquée à Ngas_price_EU et p-value après: 0.020302345638764013\n",
      "📉✅ Différenciation d'ordre 1 appliquée à Oil_price_EU et p-value après: 8.50950180784112e-05\n",
      "📉✅ Différenciation d'ordre 1 appliquée à HDD et p-value après: 1.5390917832621949e-12\n",
      "📉✅ Différenciation d'ordre 1 appliquée à CDD et p-value après: 2.8329535355018033e-15\n",
      "✅ Stationnaire après transformation log pour ESI.\n",
      "📉✅ Différenciation d'ordre 1 appliquée à IPI et p-value après: 3.5906469724375774e-13\n",
      "La série InVolReg est stationnaire\n",
      "La série OutVolReg est stationnaire\n",
      "La série InVolFin est stationnaire\n",
      "La série OutVolFin est stationnaire\n",
      "La série TVolFin est stationnaire\n",
      "La série TVolReg est stationnaire\n",
      "La série WalletReg est stationnaire\n",
      "La série WalletFin est stationnaire\n",
      "La série Price est stationnaire\n",
      "La série Coal_price_EU est stationnaire\n",
      "La série Ngas_price_EU est stationnaire\n",
      "La série Oil_price_EU est stationnaire\n",
      "La série HDD est stationnaire\n",
      "La série CDD est stationnaire\n",
      "La série ESI est stationnaire\n",
      "La série IPI est stationnaire\n"
     ]
    }
   ],
   "source": [
    "newcluster1_phase_II_df = make_sationary(Phase_II_df)\n",
    "for col in newcluster1_phase_II_df.drop(columns=['Date']).columns:\n",
    "    p_value = test_stationarity(newcluster1_phase_II_df[col])\n",
    "    if p_value < 0.05:\n",
    "        print(f\"La série {col} est stationnaire\")\n",
    "    else:\n",
    "        print(f\"La série {col} n'est pas stationnaire (p-value >= {0.05}).\")\n",
    "newcluster1_phase_II_df.to_csv(\"../data_stationnaires/Cluster1_Phase_II.csv\")"
   ]
  },
  {
   "cell_type": "code",
   "execution_count": 19,
   "metadata": {},
   "outputs": [
    {
     "name": "stdout",
     "output_type": "stream",
     "text": [
      "📉✅ Différenciation d'ordre 1 appliquée à InVolReg et p-value après: 0.0\n",
      "📉✅ Différenciation d'ordre 1 appliquée à OutVolReg et p-value après: 1.694318306256425e-29\n",
      "✅ Stationnaire après transformation log pour InVolFin.\n",
      "📉✅ Différenciation d'ordre 1 appliquée à OutVolFin et p-value après: 9.088564042740936e-06\n",
      "✅ Stationnaire après transformation log pour TVolFin.\n",
      "📉✅ Différenciation d'ordre 1 appliquée à TVolReg et p-value après: 0.0\n",
      "📉✅ Différenciation d'ordre 1 appliquée à WalletReg et p-value après: 2.5551144882620998e-08\n",
      "✅ Stationnaire après transformation log pour WalletFin.\n",
      "📉✅ Différenciation d'ordre 1 appliquée à Price et p-value après: 2.239638087951297e-19\n",
      "📉✅ Différenciation d'ordre 1 appliquée à Coal_price_EU et p-value après: 5.4025919128514003e-08\n",
      "📉✅ Différenciation d'ordre 1 appliquée à Ngas_price_EU et p-value après: 2.3164798783261532e-07\n",
      "📉✅ Différenciation d'ordre 1 appliquée à Oil_price_EU et p-value après: 2.3552065560241847e-09\n",
      "📉✅ Différenciation d'ordre 1 appliquée à HDD et p-value après: 7.940346335293576e-05\n",
      "📉✅ Différenciation d'ordre 1 appliquée à CDD et p-value après: 1.2784960866916302e-26\n",
      "📉📉 Différenciation d'ordre 2 appliquée à ESI et est stationnaire: True\n",
      "📉✅ Différenciation d'ordre 1 appliquée à IPI et p-value après: 1.2470297680672374e-12\n",
      "La série InVolReg est stationnaire\n",
      "La série OutVolReg est stationnaire\n",
      "La série InVolFin est stationnaire\n",
      "La série OutVolFin est stationnaire\n",
      "La série TVolFin est stationnaire\n",
      "La série TVolReg est stationnaire\n",
      "La série WalletReg est stationnaire\n",
      "La série WalletFin est stationnaire\n",
      "La série Price est stationnaire\n",
      "La série Coal_price_EU est stationnaire\n",
      "La série Ngas_price_EU est stationnaire\n",
      "La série Oil_price_EU est stationnaire\n",
      "La série HDD est stationnaire\n",
      "La série CDD est stationnaire\n",
      "La série ESI est stationnaire\n",
      "La série IPI est stationnaire\n"
     ]
    }
   ],
   "source": [
    "newcluster1_phase_III_df = make_sationary(Phase_III_df)\n",
    "for col in newcluster1_phase_III_df.drop(columns=['Date']).columns:\n",
    "    p_value = test_stationarity(newcluster1_phase_III_df[col])\n",
    "    if p_value < 0.05:\n",
    "        print(f\"La série {col} est stationnaire\")\n",
    "    else:\n",
    "        print(f\"La série {col} n'est pas stationnaire (p-value >= {0.05}).\")\n",
    "newcluster1_phase_III_df.to_csv(\"../data_stationnaires/Cluster1_Phase_III.csv\")"
   ]
  }
 ],
 "metadata": {
  "kernelspec": {
   "display_name": ".venv",
   "language": "python",
   "name": "python3"
  },
  "language_info": {
   "codemirror_mode": {
    "name": "ipython",
    "version": 3
   },
   "file_extension": ".py",
   "mimetype": "text/x-python",
   "name": "python",
   "nbconvert_exporter": "python",
   "pygments_lexer": "ipython3",
   "version": "3.11.0"
  }
 },
 "nbformat": 4,
 "nbformat_minor": 2
}
