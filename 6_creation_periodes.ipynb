{
 "cells": [
  {
   "cell_type": "code",
   "execution_count": 37,
   "metadata": {},
   "outputs": [],
   "source": [
    "import pandas as pd"
   ]
  },
  {
   "cell_type": "code",
   "execution_count": 38,
   "metadata": {},
   "outputs": [],
   "source": [
    "cluster0_2 = pd.read_csv('data_stationnaires/Cluster0_Phase_II.csv')\n",
    "cluster0_3 = pd.read_csv('data_stationnaires/Cluster0_Phase_III.csv')\n",
    "cluster1_2 = pd.read_csv('data_stationnaires/Cluster1_Phase_II.csv')\n",
    "cluster1_3 = pd.read_csv('data_stationnaires/Cluster1_Phase_III.csv')\n"
   ]
  },
  {
   "cell_type": "code",
   "execution_count": 39,
   "metadata": {},
   "outputs": [],
   "source": [
    "cluster0 = pd.concat([cluster0_2,cluster0_3])\n",
    "cluster1 = pd.concat([cluster1_2,cluster1_3])\n",
    "\n",
    "cluster0.sort_values(by='Date',inplace=True)\n",
    "cluster1.sort_values(by='Date',inplace=True)\n",
    "\n",
    "cluster0.drop(columns=['Unnamed: 0'],inplace=True)\n",
    "cluster1.drop(columns=['Unnamed: 0'],inplace=True)"
   ]
  },
  {
   "cell_type": "code",
   "execution_count": 40,
   "metadata": {},
   "outputs": [],
   "source": [
    "breakpoint = '2011-12-01'\n",
    "cluster0_periode1 = cluster0[cluster0['Date'] < breakpoint].dropna().sort_values(by='Date')\n",
    "cluster0_periode2 = cluster0[cluster0['Date'] >= breakpoint].dropna().sort_values(by='Date')\n",
    "\n",
    "cluster1_periode1 = cluster1[cluster1['Date'] < breakpoint].dropna().sort_values(by='Date')\n",
    "cluster1_periode2 = cluster1[cluster1['Date'] >= breakpoint].dropna().sort_values(by='Date')"
   ]
  },
  {
   "cell_type": "code",
   "execution_count": 41,
   "metadata": {},
   "outputs": [],
   "source": [
    "cluster0_periode1.to_csv('data_stationnaires/Cluster0_periode1.csv')\n",
    "cluster0_periode2.to_csv('data_stationnaires/Cluster0_periode2.csv')\n",
    "\n",
    "cluster1_periode1.to_csv('data_stationnaires/Cluster1_periode1.csv')\n",
    "cluster1_periode2.to_csv('data_stationnaires/Cluster1_periode2.csv')"
   ]
  }
 ],
 "metadata": {
  "kernelspec": {
   "display_name": ".venv",
   "language": "python",
   "name": "python3"
  },
  "language_info": {
   "codemirror_mode": {
    "name": "ipython",
    "version": 3
   },
   "file_extension": ".py",
   "mimetype": "text/x-python",
   "name": "python",
   "nbconvert_exporter": "python",
   "pygments_lexer": "ipython3",
   "version": "3.11.0"
  }
 },
 "nbformat": 4,
 "nbformat_minor": 2
}
