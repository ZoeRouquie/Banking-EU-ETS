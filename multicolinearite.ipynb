{
 "cells": [
  {
   "cell_type": "code",
   "execution_count": 1,
   "metadata": {},
   "outputs": [],
   "source": [
    "import pandas as pd"
   ]
  },
  {
   "cell_type": "code",
   "execution_count": null,
   "metadata": {},
   "outputs": [],
   "source": [
    "cluster1_phase2 = pd.read_csv('data_stationnaires/Cluster1_Phase_II.csv')\n",
    "cluster1_phase3 = pd.read_csv('data_stationnaires/Cluster1_Phase_III.csv')\n",
    "cluster0_phase2 = pd.read_csv('data_stationnaires/Cluster0_Phase_II.csv')\n",
    "cluster0_phase3 = pd.read_csv('data_stationnaires/Cluster0_Phase_III.csv')\n",
    "cluster1_periode1 = pd.read_csv('data_stationnaires/Cluster1_periode1.csv')\n",
    "cluster1_periode2 = pd.read_csv('data_stationnaires/Cluster1_periode2.csv')\n",
    "cluster0_periode1 = pd.read_csv('data_stationnaires/Cluster0_periode1.csv')\n",
    "cluster0_periode2 = pd.read_csv('data_stationnaires/Cluster0_periode2.csv')"
   ]
  },
  {
   "cell_type": "code",
   "execution_count": 8,
   "metadata": {},
   "outputs": [
    {
     "name": "stdout",
     "output_type": "stream",
     "text": [
      "              Variable           VIF\n",
      "0                const  51198.400413\n",
      "1             InVolReg    318.548659\n",
      "2            OutVolReg    147.302332\n",
      "3             InVolFin     24.364520\n",
      "4            OutVolFin     17.828072\n",
      "5              TVolFin     27.830687\n",
      "6              TVolReg    678.191325\n",
      "7            WalletReg     78.472885\n",
      "8            WalletFin     51.196324\n",
      "9        Coal_price_EU     20.398235\n",
      "10       Ngas_price_EU     13.264349\n",
      "11        Oil_price_EU     24.372006\n",
      "12                 HDD     63.639973\n",
      "13                 CDD     90.039235\n",
      "14                 ESI    290.474466\n",
      "15                 IPI      8.162402\n",
      "16       InVolReg_lag1   1106.112597\n",
      "17       InVolReg_lag2    529.092358\n",
      "18      OutVolReg_lag1    348.088383\n",
      "19      OutVolReg_lag2    151.757190\n",
      "20       InVolFin_lag1     19.900147\n",
      "21       InVolFin_lag2     20.047941\n",
      "22      OutVolFin_lag1     19.468354\n",
      "23      OutVolFin_lag2     16.715529\n",
      "24        TVolFin_lag1     31.797252\n",
      "25        TVolFin_lag2     28.031750\n",
      "26        TVolReg_lag1   2285.909986\n",
      "27        TVolReg_lag2   1214.022707\n",
      "28      WalletReg_lag1    115.733814\n",
      "29      WalletReg_lag2    157.705182\n",
      "30      WalletFin_lag1     14.750947\n",
      "31      WalletFin_lag2     11.187932\n",
      "32          Price_lag1     10.243687\n",
      "33          Price_lag2     13.578152\n",
      "34  Coal_price_EU_lag1     13.948118\n",
      "35  Coal_price_EU_lag2     10.988345\n",
      "36  Ngas_price_EU_lag1     16.221262\n",
      "37  Ngas_price_EU_lag2     14.978373\n",
      "38   Oil_price_EU_lag1     17.430994\n",
      "39   Oil_price_EU_lag2     12.686756\n",
      "40            HDD_lag1     67.473704\n",
      "41            HDD_lag2     91.726268\n",
      "42            CDD_lag1     48.044684\n",
      "43            CDD_lag2     62.217003\n",
      "44            ESI_lag1    876.777912\n",
      "45            ESI_lag2    217.144381\n",
      "46            IPI_lag1     10.518700\n",
      "47            IPI_lag2      4.932148\n"
     ]
    }
   ],
   "source": [
    "from statsmodels.stats.outliers_influence import variance_inflation_factor\n",
    "import statsmodels.api as sm\n",
    "\n",
    "X = cluster1_phase2.drop(columns=['Price','Date','Unnamed: 0'])\n",
    "X = sm.add_constant(X) \n",
    "X.dropna(inplace=True)\n",
    "# Calcul du VIF pour chaque variable\n",
    "VIFs = pd.DataFrame()\n",
    "VIFs[\"Variable\"] = X.columns\n",
    "VIFs[\"VIF\"] = [variance_inflation_factor(X.values, i) for i in range(X.shape[1])]\n",
    "\n",
    "print(VIFs)"
   ]
  }
 ],
 "metadata": {
  "kernelspec": {
   "display_name": ".venv",
   "language": "python",
   "name": "python3"
  },
  "language_info": {
   "codemirror_mode": {
    "name": "ipython",
    "version": 3
   },
   "file_extension": ".py",
   "mimetype": "text/x-python",
   "name": "python",
   "nbconvert_exporter": "python",
   "pygments_lexer": "ipython3",
   "version": "3.11.0"
  }
 },
 "nbformat": 4,
 "nbformat_minor": 2
}
