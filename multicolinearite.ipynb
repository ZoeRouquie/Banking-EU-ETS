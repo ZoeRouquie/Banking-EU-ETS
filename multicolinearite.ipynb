{
 "cells": [
  {
   "cell_type": "code",
   "execution_count": 47,
   "metadata": {},
   "outputs": [],
   "source": [
    "import pandas as pd\n",
    "import warnings\n",
    "from sklearn.exceptions import ConvergenceWarning\n",
    "warnings.filterwarnings(\"ignore\", category=ConvergenceWarning)"
   ]
  },
  {
   "cell_type": "code",
   "execution_count": 48,
   "metadata": {},
   "outputs": [],
   "source": [
    "\n",
    "cluster1_phase2 = pd.read_csv('data_stationnaires/Cluster1_Phase_II.csv')\n",
    "cluster1_phase3 = pd.read_csv('data_stationnaires/Cluster1_Phase_III.csv')\n",
    "cluster0_phase2 = pd.read_csv('data_stationnaires/Cluster0_Phase_II.csv')\n",
    "cluster0_phase3 = pd.read_csv('data_stationnaires/Cluster0_Phase_III.csv')\n",
    "cluster1_periode1 = pd.read_csv('data_stationnaires/Cluster1_periode1.csv')\n",
    "cluster1_periode2 = pd.read_csv('data_stationnaires/Cluster1_periode2.csv')\n",
    "cluster0_periode1 = pd.read_csv('data_stationnaires/Cluster0_periode1.csv')\n",
    "cluster0_periode2 = pd.read_csv('data_stationnaires/Cluster0_periode2.csv')"
   ]
  },
  {
   "cell_type": "code",
   "execution_count": 49,
   "metadata": {},
   "outputs": [],
   "source": [
    "from statsmodels.stats.outliers_influence import variance_inflation_factor\n",
    "import statsmodels.api as sm\n",
    "\n",
    "\n",
    "def calculate_vifs(dataframe):\n",
    "    vifs = pd.DataFrame()\n",
    "    vifs[\"Variable\"] = dataframe.columns\n",
    "    vifs[\"VIF\"] = [variance_inflation_factor(dataframe.values, i) for i in range(dataframe.shape[1])]\n",
    "    return vifs\n",
    "\n",
    "def clean_data(X):\n",
    "    removed_vars = []\n",
    "\n",
    "    # Boucle jusqu'à ce que toutes les variables aient un VIF inférieur à 10\n",
    "    while True:\n",
    "        VIFs = calculate_vifs(X)\n",
    "        # Trouve la variable avec le VIF maximum qui n'est pas const\n",
    "        max_vif = VIFs[VIFs[\"Variable\"] != 'const'].max()\n",
    "        if max_vif[\"VIF\"] < 10:\n",
    "            break  # Sort de la boucle si toutes les variables ont un VIF < 10\n",
    "        variable_to_remove = VIFs[VIFs[\"VIF\"] == max_vif[\"VIF\"]][\"Variable\"].values[0]\n",
    "        X.drop(columns=[variable_to_remove], inplace=True)\n",
    "        removed_vars.append(variable_to_remove)\n",
    "        \n",
    "    print(\"Variables removed:\", removed_vars)\n",
    "    return removed_vars\n",
    "\n"
   ]
  },
  {
   "cell_type": "code",
   "execution_count": 50,
   "metadata": {},
   "outputs": [
    {
     "name": "stderr",
     "output_type": "stream",
     "text": [
      "c:\\Users\\zoero\\OneDrive\\Bureau\\M2\\S1\\projet tutoré\\code projet tuteuré\\Banking-EU-ETS\\.venv\\Lib\\site-packages\\statsmodels\\regression\\linear_model.py:1782: RuntimeWarning: divide by zero encountered in scalar divide\n",
      "  return 1 - self.ssr/self.centered_tss\n",
      "c:\\Users\\zoero\\OneDrive\\Bureau\\M2\\S1\\projet tutoré\\code projet tuteuré\\Banking-EU-ETS\\.venv\\Lib\\site-packages\\statsmodels\\stats\\outliers_influence.py:197: RuntimeWarning: divide by zero encountered in scalar divide\n",
      "  vif = 1. / (1. - r_squared_i)\n",
      "c:\\Users\\zoero\\OneDrive\\Bureau\\M2\\S1\\projet tutoré\\code projet tuteuré\\Banking-EU-ETS\\.venv\\Lib\\site-packages\\statsmodels\\regression\\linear_model.py:1782: RuntimeWarning: divide by zero encountered in scalar divide\n",
      "  return 1 - self.ssr/self.centered_tss\n",
      "c:\\Users\\zoero\\OneDrive\\Bureau\\M2\\S1\\projet tutoré\\code projet tuteuré\\Banking-EU-ETS\\.venv\\Lib\\site-packages\\statsmodels\\stats\\outliers_influence.py:197: RuntimeWarning: divide by zero encountered in scalar divide\n",
      "  vif = 1. / (1. - r_squared_i)\n"
     ]
    },
    {
     "name": "stdout",
     "output_type": "stream",
     "text": [
      "Variables removed: ['InVolFin', 'OutVolFin', 'OutVolFin_lag1', 'TVolFin_lag1', 'TVolReg_lag2', 'TVolReg_lag1', 'TVolReg', 'HDD_lag1', 'InVolReg_lag1', 'ESI_lag2']\n"
     ]
    },
    {
     "data": {
      "text/plain": [
       "(94, 40)"
      ]
     },
     "execution_count": 50,
     "metadata": {},
     "output_type": "execute_result"
    }
   ],
   "source": [
    "X = cluster1_phase3.drop(columns=['Price', 'Date', 'Unnamed: 0'])\n",
    "X = sm.add_constant(X)\n",
    "X.dropna(inplace=True)\n",
    "removed_vars = clean_data(X)\n",
    "cluster1_phase3.drop(columns=removed_vars, inplace=True) \n",
    "cluster1_phase3.shape\n"
   ]
  },
  {
   "cell_type": "code",
   "execution_count": 51,
   "metadata": {},
   "outputs": [
    {
     "name": "stdout",
     "output_type": "stream",
     "text": [
      "Variables removed: ['TVolReg_lag1', 'ESI_lag1', 'TVolReg', 'TVolReg_lag2', 'WalletReg_lag2', 'CDD', 'ESI', 'WalletReg', 'HDD_lag2', 'CDD_lag1', 'TVolFin', 'TVolFin_lag1', 'InVolReg_lag1', 'TVolFin_lag2']\n"
     ]
    },
    {
     "data": {
      "text/plain": [
       "(59, 36)"
      ]
     },
     "execution_count": 51,
     "metadata": {},
     "output_type": "execute_result"
    }
   ],
   "source": [
    "X = cluster1_phase2.drop(columns=['Price', 'Date', 'Unnamed: 0'])\n",
    "X = sm.add_constant(X)\n",
    "X.dropna(inplace=True)\n",
    "removed_vars = clean_data(X)\n",
    "cluster1_phase2.drop(columns=removed_vars, inplace=True) \n",
    "cluster1_phase2.shape"
   ]
  },
  {
   "cell_type": "code",
   "execution_count": 52,
   "metadata": {},
   "outputs": [
    {
     "name": "stderr",
     "output_type": "stream",
     "text": [
      "c:\\Users\\zoero\\OneDrive\\Bureau\\M2\\S1\\projet tutoré\\code projet tuteuré\\Banking-EU-ETS\\.venv\\Lib\\site-packages\\statsmodels\\regression\\linear_model.py:1782: RuntimeWarning: divide by zero encountered in scalar divide\n",
      "  return 1 - self.ssr/self.centered_tss\n",
      "c:\\Users\\zoero\\OneDrive\\Bureau\\M2\\S1\\projet tutoré\\code projet tuteuré\\Banking-EU-ETS\\.venv\\Lib\\site-packages\\statsmodels\\stats\\outliers_influence.py:197: RuntimeWarning: divide by zero encountered in scalar divide\n",
      "  vif = 1. / (1. - r_squared_i)\n",
      "c:\\Users\\zoero\\OneDrive\\Bureau\\M2\\S1\\projet tutoré\\code projet tuteuré\\Banking-EU-ETS\\.venv\\Lib\\site-packages\\statsmodels\\regression\\linear_model.py:1782: RuntimeWarning: divide by zero encountered in scalar divide\n",
      "  return 1 - self.ssr/self.centered_tss\n",
      "c:\\Users\\zoero\\OneDrive\\Bureau\\M2\\S1\\projet tutoré\\code projet tuteuré\\Banking-EU-ETS\\.venv\\Lib\\site-packages\\statsmodels\\stats\\outliers_influence.py:197: RuntimeWarning: divide by zero encountered in scalar divide\n",
      "  vif = 1. / (1. - r_squared_i)\n",
      "c:\\Users\\zoero\\OneDrive\\Bureau\\M2\\S1\\projet tutoré\\code projet tuteuré\\Banking-EU-ETS\\.venv\\Lib\\site-packages\\statsmodels\\regression\\linear_model.py:1782: RuntimeWarning: divide by zero encountered in scalar divide\n",
      "  return 1 - self.ssr/self.centered_tss\n",
      "c:\\Users\\zoero\\OneDrive\\Bureau\\M2\\S1\\projet tutoré\\code projet tuteuré\\Banking-EU-ETS\\.venv\\Lib\\site-packages\\statsmodels\\stats\\outliers_influence.py:197: RuntimeWarning: divide by zero encountered in scalar divide\n",
      "  vif = 1. / (1. - r_squared_i)\n",
      "c:\\Users\\zoero\\OneDrive\\Bureau\\M2\\S1\\projet tutoré\\code projet tuteuré\\Banking-EU-ETS\\.venv\\Lib\\site-packages\\statsmodels\\regression\\linear_model.py:1782: RuntimeWarning: divide by zero encountered in scalar divide\n",
      "  return 1 - self.ssr/self.centered_tss\n",
      "c:\\Users\\zoero\\OneDrive\\Bureau\\M2\\S1\\projet tutoré\\code projet tuteuré\\Banking-EU-ETS\\.venv\\Lib\\site-packages\\statsmodels\\stats\\outliers_influence.py:197: RuntimeWarning: divide by zero encountered in scalar divide\n",
      "  vif = 1. / (1. - r_squared_i)\n"
     ]
    },
    {
     "name": "stdout",
     "output_type": "stream",
     "text": [
      "Variables removed: ['InVolFin', 'OutVolFin', 'InVolFin_lag1', 'InVolFin_lag2', 'OutVolFin_lag1', 'WalletFin_lag1', 'TVolReg_lag1', 'TVolReg_lag2', 'TVolFin_lag2', 'TVolReg', 'WalletFin_lag2', 'HDD_lag1']\n"
     ]
    },
    {
     "data": {
      "text/plain": [
       "(94, 38)"
      ]
     },
     "execution_count": 52,
     "metadata": {},
     "output_type": "execute_result"
    }
   ],
   "source": [
    "X = cluster0_phase3.drop(columns=['Price', 'Date', 'Unnamed: 0'])\n",
    "X = sm.add_constant(X)\n",
    "X.dropna(inplace=True)\n",
    "removed_vars = clean_data(X)\n",
    "cluster0_phase3.drop(columns=removed_vars, inplace=True) \n",
    "cluster0_phase3.shape"
   ]
  },
  {
   "cell_type": "code",
   "execution_count": 53,
   "metadata": {},
   "outputs": [
    {
     "name": "stdout",
     "output_type": "stream",
     "text": [
      "Variables removed: ['ESI_lag1', 'TVolReg_lag1', 'TVolReg', 'TVolReg_lag2', 'WalletFin_lag1', 'WalletReg_lag1', 'CDD', 'HDD_lag2', 'ESI', 'CDD_lag1', 'OutVolReg_lag2', 'TVolFin_lag2', 'TVolFin', 'TVolFin_lag1', 'OutVolReg']\n"
     ]
    },
    {
     "data": {
      "text/plain": [
       "(58, 35)"
      ]
     },
     "execution_count": 53,
     "metadata": {},
     "output_type": "execute_result"
    }
   ],
   "source": [
    "X = cluster0_phase2.drop(columns=['Price', 'Date', 'Unnamed: 0'])\n",
    "X = sm.add_constant(X)\n",
    "X.dropna(inplace=True)\n",
    "removed_vars = clean_data(X)\n",
    "cluster0_phase2.drop(columns=removed_vars, inplace=True) \n",
    "cluster0_phase2.shape"
   ]
  },
  {
   "cell_type": "code",
   "execution_count": 54,
   "metadata": {},
   "outputs": [
    {
     "name": "stderr",
     "output_type": "stream",
     "text": [
      "c:\\Users\\zoero\\OneDrive\\Bureau\\M2\\S1\\projet tutoré\\code projet tuteuré\\Banking-EU-ETS\\.venv\\Lib\\site-packages\\statsmodels\\regression\\linear_model.py:1782: RuntimeWarning: divide by zero encountered in scalar divide\n",
      "  return 1 - self.ssr/self.centered_tss\n",
      "c:\\Users\\zoero\\OneDrive\\Bureau\\M2\\S1\\projet tutoré\\code projet tuteuré\\Banking-EU-ETS\\.venv\\Lib\\site-packages\\statsmodels\\stats\\outliers_influence.py:197: RuntimeWarning: divide by zero encountered in scalar divide\n",
      "  vif = 1. / (1. - r_squared_i)\n",
      "c:\\Users\\zoero\\OneDrive\\Bureau\\M2\\S1\\projet tutoré\\code projet tuteuré\\Banking-EU-ETS\\.venv\\Lib\\site-packages\\statsmodels\\regression\\linear_model.py:1782: RuntimeWarning: divide by zero encountered in scalar divide\n",
      "  return 1 - self.ssr/self.centered_tss\n",
      "c:\\Users\\zoero\\OneDrive\\Bureau\\M2\\S1\\projet tutoré\\code projet tuteuré\\Banking-EU-ETS\\.venv\\Lib\\site-packages\\statsmodels\\stats\\outliers_influence.py:197: RuntimeWarning: divide by zero encountered in scalar divide\n",
      "  vif = 1. / (1. - r_squared_i)\n",
      "c:\\Users\\zoero\\OneDrive\\Bureau\\M2\\S1\\projet tutoré\\code projet tuteuré\\Banking-EU-ETS\\.venv\\Lib\\site-packages\\statsmodels\\regression\\linear_model.py:1782: RuntimeWarning: divide by zero encountered in scalar divide\n",
      "  return 1 - self.ssr/self.centered_tss\n",
      "c:\\Users\\zoero\\OneDrive\\Bureau\\M2\\S1\\projet tutoré\\code projet tuteuré\\Banking-EU-ETS\\.venv\\Lib\\site-packages\\statsmodels\\stats\\outliers_influence.py:197: RuntimeWarning: divide by zero encountered in scalar divide\n",
      "  vif = 1. / (1. - r_squared_i)\n",
      "c:\\Users\\zoero\\OneDrive\\Bureau\\M2\\S1\\projet tutoré\\code projet tuteuré\\Banking-EU-ETS\\.venv\\Lib\\site-packages\\statsmodels\\regression\\linear_model.py:1782: RuntimeWarning: divide by zero encountered in scalar divide\n",
      "  return 1 - self.ssr/self.centered_tss\n",
      "c:\\Users\\zoero\\OneDrive\\Bureau\\M2\\S1\\projet tutoré\\code projet tuteuré\\Banking-EU-ETS\\.venv\\Lib\\site-packages\\statsmodels\\stats\\outliers_influence.py:197: RuntimeWarning: divide by zero encountered in scalar divide\n",
      "  vif = 1. / (1. - r_squared_i)\n",
      "c:\\Users\\zoero\\OneDrive\\Bureau\\M2\\S1\\projet tutoré\\code projet tuteuré\\Banking-EU-ETS\\.venv\\Lib\\site-packages\\statsmodels\\regression\\linear_model.py:1782: RuntimeWarning: divide by zero encountered in scalar divide\n",
      "  return 1 - self.ssr/self.centered_tss\n",
      "c:\\Users\\zoero\\OneDrive\\Bureau\\M2\\S1\\projet tutoré\\code projet tuteuré\\Banking-EU-ETS\\.venv\\Lib\\site-packages\\statsmodels\\stats\\outliers_influence.py:197: RuntimeWarning: divide by zero encountered in scalar divide\n",
      "  vif = 1. / (1. - r_squared_i)\n"
     ]
    },
    {
     "name": "stdout",
     "output_type": "stream",
     "text": [
      "Variables removed: ['InVolReg', 'OutVolReg', 'InVolFin', 'OutVolFin', 'TVolFin', 'ESI_lag1', 'TVolReg_lag1', 'TVolReg_lag2', 'WalletFin_lag1', 'CDD', 'InVolFin_lag1', 'OutVolReg_lag2', 'OutVolReg_lag1', 'ESI', 'HDD_lag2', 'WalletFin', 'CDD_lag1']\n"
     ]
    },
    {
     "data": {
      "text/plain": [
       "(43, 33)"
      ]
     },
     "execution_count": 54,
     "metadata": {},
     "output_type": "execute_result"
    }
   ],
   "source": [
    "X = cluster0_periode1.drop(columns=['Price', 'Date', 'Unnamed: 0'])\n",
    "X = sm.add_constant(X)\n",
    "X.dropna(inplace=True)\n",
    "removed_vars = clean_data(X)\n",
    "cluster0_periode1.drop(columns=removed_vars, inplace=True) \n",
    "cluster0_periode1.shape"
   ]
  },
  {
   "cell_type": "code",
   "execution_count": 55,
   "metadata": {},
   "outputs": [
    {
     "name": "stdout",
     "output_type": "stream",
     "text": [
      "Variables removed: ['TVolFin_lag1', 'ESI_lag2', 'TVolFin', 'ESI', 'TVolReg_lag2', 'ESI_lag1', 'TVolReg_lag1', 'TVolFin_lag2', 'TVolReg', 'WalletReg_lag1', 'WalletFin_lag1', 'WalletReg', 'WalletReg_lag2', 'HDD_lag1']\n"
     ]
    },
    {
     "data": {
      "text/plain": [
       "(105, 36)"
      ]
     },
     "execution_count": 55,
     "metadata": {},
     "output_type": "execute_result"
    }
   ],
   "source": [
    "X = cluster0_periode2.drop(columns=['Price', 'Date', 'Unnamed: 0'])\n",
    "X = sm.add_constant(X)\n",
    "X.dropna(inplace=True)\n",
    "removed_vars = clean_data(X)\n",
    "cluster0_periode2.drop(columns=removed_vars, inplace=True) \n",
    "cluster0_periode2.shape"
   ]
  },
  {
   "cell_type": "code",
   "execution_count": 56,
   "metadata": {},
   "outputs": [
    {
     "name": "stderr",
     "output_type": "stream",
     "text": [
      "c:\\Users\\zoero\\OneDrive\\Bureau\\M2\\S1\\projet tutoré\\code projet tuteuré\\Banking-EU-ETS\\.venv\\Lib\\site-packages\\statsmodels\\regression\\linear_model.py:1782: RuntimeWarning: divide by zero encountered in scalar divide\n",
      "  return 1 - self.ssr/self.centered_tss\n",
      "c:\\Users\\zoero\\OneDrive\\Bureau\\M2\\S1\\projet tutoré\\code projet tuteuré\\Banking-EU-ETS\\.venv\\Lib\\site-packages\\statsmodels\\stats\\outliers_influence.py:197: RuntimeWarning: divide by zero encountered in scalar divide\n",
      "  vif = 1. / (1. - r_squared_i)\n",
      "c:\\Users\\zoero\\OneDrive\\Bureau\\M2\\S1\\projet tutoré\\code projet tuteuré\\Banking-EU-ETS\\.venv\\Lib\\site-packages\\statsmodels\\regression\\linear_model.py:1782: RuntimeWarning: divide by zero encountered in scalar divide\n",
      "  return 1 - self.ssr/self.centered_tss\n",
      "c:\\Users\\zoero\\OneDrive\\Bureau\\M2\\S1\\projet tutoré\\code projet tuteuré\\Banking-EU-ETS\\.venv\\Lib\\site-packages\\statsmodels\\stats\\outliers_influence.py:197: RuntimeWarning: divide by zero encountered in scalar divide\n",
      "  vif = 1. / (1. - r_squared_i)\n",
      "c:\\Users\\zoero\\OneDrive\\Bureau\\M2\\S1\\projet tutoré\\code projet tuteuré\\Banking-EU-ETS\\.venv\\Lib\\site-packages\\statsmodels\\regression\\linear_model.py:1782: RuntimeWarning: divide by zero encountered in scalar divide\n",
      "  return 1 - self.ssr/self.centered_tss\n",
      "c:\\Users\\zoero\\OneDrive\\Bureau\\M2\\S1\\projet tutoré\\code projet tuteuré\\Banking-EU-ETS\\.venv\\Lib\\site-packages\\statsmodels\\stats\\outliers_influence.py:197: RuntimeWarning: divide by zero encountered in scalar divide\n",
      "  vif = 1. / (1. - r_squared_i)\n",
      "c:\\Users\\zoero\\OneDrive\\Bureau\\M2\\S1\\projet tutoré\\code projet tuteuré\\Banking-EU-ETS\\.venv\\Lib\\site-packages\\statsmodels\\regression\\linear_model.py:1782: RuntimeWarning: divide by zero encountered in scalar divide\n",
      "  return 1 - self.ssr/self.centered_tss\n",
      "c:\\Users\\zoero\\OneDrive\\Bureau\\M2\\S1\\projet tutoré\\code projet tuteuré\\Banking-EU-ETS\\.venv\\Lib\\site-packages\\statsmodels\\stats\\outliers_influence.py:197: RuntimeWarning: divide by zero encountered in scalar divide\n",
      "  vif = 1. / (1. - r_squared_i)\n"
     ]
    },
    {
     "name": "stdout",
     "output_type": "stream",
     "text": [
      "Variables removed: ['InVolReg', 'OutVolReg', 'InVolFin', 'OutVolFin', 'ESI_lag1', 'TVolReg_lag1', 'TVolReg_lag2', 'ESI', 'WalletReg_lag2', 'HDD_lag2', 'HDD_lag1', 'CDD', 'TVolFin_lag1', 'WalletReg_lag1', 'Oil_price_EU', 'InVolReg_lag2', 'TVolFin_lag2', 'Oil_price_EU_lag1', 'InVolReg_lag1', 'WalletFin_lag2']\n"
     ]
    },
    {
     "data": {
      "text/plain": [
       "(44, 30)"
      ]
     },
     "execution_count": 56,
     "metadata": {},
     "output_type": "execute_result"
    }
   ],
   "source": [
    "X = cluster1_periode1.drop(columns=['Price', 'Date', 'Unnamed: 0'])\n",
    "X = sm.add_constant(X)\n",
    "X.dropna(inplace=True)\n",
    "removed_vars = clean_data(X)\n",
    "cluster1_periode1.drop(columns=removed_vars, inplace=True) \n",
    "cluster1_periode1.shape"
   ]
  },
  {
   "cell_type": "code",
   "execution_count": 57,
   "metadata": {},
   "outputs": [
    {
     "name": "stdout",
     "output_type": "stream",
     "text": [
      "Variables removed: ['ESI_lag2', 'ESI_lag1', 'ESI', 'WalletFin_lag1', 'WalletFin_lag2', 'TVolReg_lag2', 'WalletFin', 'TVolReg_lag1', 'TVolReg', 'TVolFin', 'TVolFin_lag1', 'WalletReg', 'TVolFin_lag2', 'HDD_lag1']\n"
     ]
    },
    {
     "data": {
      "text/plain": [
       "(105, 36)"
      ]
     },
     "execution_count": 57,
     "metadata": {},
     "output_type": "execute_result"
    }
   ],
   "source": [
    "X = cluster1_periode2.drop(columns=['Price', 'Date', 'Unnamed: 0'])\n",
    "X = sm.add_constant(X)\n",
    "X.dropna(inplace=True)\n",
    "removed_vars = clean_data(X)\n",
    "cluster1_periode2.drop(columns=removed_vars, inplace=True) \n",
    "cluster1_periode2.shape"
   ]
  },
  {
   "cell_type": "code",
   "execution_count": 58,
   "metadata": {},
   "outputs": [],
   "source": [
    "cluster1_phase2.to_csv('data_stationnaires/Cluster1_Phase_II.csv')\n",
    "cluster1_phase3.to_csv('data_stationnaires/Cluster1_Phase_III.csv')\n",
    "cluster0_phase2.to_csv('data_stationnaires/Cluster0_Phase_II.csv')\n",
    "cluster0_phase3.to_csv('data_stationnaires/Cluster0_Phase_III.csv')\n",
    "cluster1_periode1.to_csv('data_stationnaires/Cluster1_periode1.csv')\n",
    "cluster1_periode2.to_csv('data_stationnaires/Cluster1_periode2.csv')\n",
    "cluster0_periode1.to_csv('data_stationnaires/Cluster0_periode1.csv')\n",
    "cluster0_periode2.to_csv('data_stationnaires/Cluster0_periode2.csv')"
   ]
  }
 ],
 "metadata": {
  "kernelspec": {
   "display_name": ".venv",
   "language": "python",
   "name": "python3"
  },
  "language_info": {
   "codemirror_mode": {
    "name": "ipython",
    "version": 3
   },
   "file_extension": ".py",
   "mimetype": "text/x-python",
   "name": "python",
   "nbconvert_exporter": "python",
   "pygments_lexer": "ipython3",
   "version": "3.11.0"
  }
 },
 "nbformat": 4,
 "nbformat_minor": 2
}
